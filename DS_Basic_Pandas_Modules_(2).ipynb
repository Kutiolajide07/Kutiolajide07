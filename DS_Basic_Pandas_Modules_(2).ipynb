{
  "cells": [
    {
      "cell_type": "markdown",
      "metadata": {
        "id": "view-in-github",
        "colab_type": "text"
      },
      "source": [
        "<a href=\"https://colab.research.google.com/github/Kutiolajide07/Kutiolajide07/blob/main/DS_Basic_Pandas_Modules_(2).ipynb\" target=\"_parent\"><img src=\"https://colab.research.google.com/assets/colab-badge.svg\" alt=\"Open In Colab\"/></a>"
      ]
    },
    {
      "cell_type": "markdown",
      "id": "23f4cced-8e5c-49f5-a521-540a6416cffe",
      "metadata": {
        "id": "23f4cced-8e5c-49f5-a521-540a6416cffe"
      },
      "source": [
        "# Basic Data Science Packages"
      ]
    },
    {
      "cell_type": "markdown",
      "id": "dc75043b-4283-49d1-9236-d5bad13fdcea",
      "metadata": {
        "id": "dc75043b-4283-49d1-9236-d5bad13fdcea"
      },
      "source": [
        "1. Numpy\n",
        "2. Pandas\n",
        "3. Matplotlib"
      ]
    },
    {
      "cell_type": "markdown",
      "id": "2fd9025c-7d1f-481c-a79f-38dcafb562a8",
      "metadata": {
        "id": "2fd9025c-7d1f-481c-a79f-38dcafb562a8"
      },
      "source": [
        "## Numpy\n",
        "\n",
        "Three major features;\n",
        "\n",
        "1. Mathematical functions (`sin`, `log`, `floor`)\n",
        "2. Random submodule (useful for random sampling)\n",
        "3. N-dimensional array (ndarray)\n",
        "\n",
        "A Numpy array is similar to the n-dimensional matrix in mathematics\n",
        "\n",
        "$$\\begin{bmatrix}\n",
        "    x_{11} & x_{12} & x_{13} & \\dots  & x_{1n} \\\\\n",
        "    x_{21} & x_{22} & x_{23} & \\dots  & x_{2n} \\\\\n",
        "    \\vdots & \\vdots & \\vdots & \\ddots & \\vdots \\\\\n",
        "    x_{d1} & x_{d2} & x_{d3} & \\dots  & x_{dn}\n",
        "\\end{bmatrix}$$\n",
        "\n",
        "A Numpy array could be  1-dimensional e.g [1, 2, 10, ...], 2-dimensional (as in the matrix above), or many dimensions."
      ]
    },
    {
      "cell_type": "markdown",
      "id": "d499a4b2-17cf-4666-9ba1-39bd8b901409",
      "metadata": {
        "id": "d499a4b2-17cf-4666-9ba1-39bd8b901409"
      },
      "source": [
        "## Installing Packages in Python\n",
        "\n",
        "1. pip: it installs any package in any python environment\n",
        "2. conda: it installs any python package in conda environment"
      ]
    },
    {
      "cell_type": "markdown",
      "id": "d6904ee0-4288-4045-b7ce-d6c671836220",
      "metadata": {
        "id": "d6904ee0-4288-4045-b7ce-d6c671836220"
      },
      "source": [
        "```\n",
        "!pip install package_name\n",
        "```"
      ]
    },
    {
      "cell_type": "code",
      "execution_count": 1,
      "id": "e457b8c3-be03-4377-8018-fa03fcf4b50f",
      "metadata": {
        "id": "e457b8c3-be03-4377-8018-fa03fcf4b50f"
      },
      "outputs": [],
      "source": [
        "import numpy as np"
      ]
    },
    {
      "cell_type": "code",
      "execution_count": 2,
      "id": "dc7d530d-8071-46b7-8967-7513fb964126",
      "metadata": {
        "id": "dc7d530d-8071-46b7-8967-7513fb964126"
      },
      "outputs": [],
      "source": [
        "try:\n",
        "    import numpy as np\n",
        "except:\n",
        "    !pip install numpy\n",
        "    import numpy as np"
      ]
    },
    {
      "cell_type": "code",
      "execution_count": 3,
      "id": "09dc852b-fa0f-4188-a797-b160c0fd5d94",
      "metadata": {
        "colab": {
          "base_uri": "https://localhost:8080/"
        },
        "id": "09dc852b-fa0f-4188-a797-b160c0fd5d94",
        "outputId": "88fe2052-4032-4bd0-9443-80f9236d8fff"
      },
      "outputs": [
        {
          "output_type": "execute_result",
          "data": {
            "text/plain": [
              "[[1, 2, 3], [4, 5, 6], [7, 8, 9]]"
            ]
          },
          "metadata": {},
          "execution_count": 3
        }
      ],
      "source": [
        "list_of_lists = [list(range(1,4)), list(range(4,7)), list(range(7,10))]\n",
        "list_of_lists"
      ]
    },
    {
      "cell_type": "code",
      "execution_count": 4,
      "id": "3bff2046-0424-4a0e-8021-4d874b4b5edb",
      "metadata": {
        "colab": {
          "base_uri": "https://localhost:8080/"
        },
        "id": "3bff2046-0424-4a0e-8021-4d874b4b5edb",
        "outputId": "375a0330-3d55-4c39-aa09-29d8aa0bf558"
      },
      "outputs": [
        {
          "output_type": "stream",
          "name": "stdout",
          "text": [
            "[[1 2 3]\n",
            " [4 5 6]\n",
            " [7 8 9]]\n"
          ]
        }
      ],
      "source": [
        "an_array=np.array(list_of_lists)\n",
        "print(an_array)"
      ]
    },
    {
      "cell_type": "code",
      "execution_count": 5,
      "id": "062defcb-e5d9-4338-b901-b9a23041b622",
      "metadata": {
        "colab": {
          "base_uri": "https://localhost:8080/"
        },
        "id": "062defcb-e5d9-4338-b901-b9a23041b622",
        "outputId": "20fc7eed-d99b-49da-8b9e-c9940a21f621"
      },
      "outputs": [
        {
          "output_type": "stream",
          "name": "stdout",
          "text": [
            "(3, 3)\n",
            "int64\n"
          ]
        }
      ],
      "source": [
        "print(an_array.shape)\n",
        "print(an_array.dtype)"
      ]
    },
    {
      "cell_type": "code",
      "execution_count": 6,
      "id": "b75bf6f4-08e7-4f07-bb3f-027efb9d3b93",
      "metadata": {
        "colab": {
          "base_uri": "https://localhost:8080/"
        },
        "id": "b75bf6f4-08e7-4f07-bb3f-027efb9d3b93",
        "outputId": "94e4181f-6acb-478e-a50e-09cf03eac098"
      },
      "outputs": [
        {
          "output_type": "execute_result",
          "data": {
            "text/plain": [
              "0.8939966636005579"
            ]
          },
          "metadata": {},
          "execution_count": 6
        }
      ],
      "source": [
        "np.sin(90)"
      ]
    },
    {
      "cell_type": "code",
      "execution_count": 7,
      "id": "d513f033-ab9a-4859-894a-0697ed94cfd5",
      "metadata": {
        "colab": {
          "base_uri": "https://localhost:8080/"
        },
        "id": "d513f033-ab9a-4859-894a-0697ed94cfd5",
        "outputId": "9bc87b15-7958-4eb7-f041-cd204d255c8d"
      },
      "outputs": [
        {
          "output_type": "execute_result",
          "data": {
            "text/plain": [
              "2.4849066497880004"
            ]
          },
          "metadata": {},
          "execution_count": 7
        }
      ],
      "source": [
        "np.log(12)"
      ]
    },
    {
      "cell_type": "markdown",
      "id": "5029ae1b-f0e6-47fe-9752-bb23f660466e",
      "metadata": {
        "id": "5029ae1b-f0e6-47fe-9752-bb23f660466e"
      },
      "source": [
        "### Pre-defined arrays in Numpy"
      ]
    },
    {
      "cell_type": "code",
      "execution_count": 8,
      "id": "f87c1d0a-8f94-4142-8cff-edc7b7603c60",
      "metadata": {
        "id": "f87c1d0a-8f94-4142-8cff-edc7b7603c60"
      },
      "outputs": [],
      "source": [
        "#np.linspace?"
      ]
    },
    {
      "cell_type": "code",
      "execution_count": 9,
      "id": "7f5f018e-68f5-4a28-8d00-8bfaa2775556",
      "metadata": {
        "colab": {
          "base_uri": "https://localhost:8080/"
        },
        "id": "7f5f018e-68f5-4a28-8d00-8bfaa2775556",
        "outputId": "3ff1c2f3-55b2-4dff-dabf-db89d94b110c"
      },
      "outputs": [
        {
          "output_type": "execute_result",
          "data": {
            "text/plain": [
              "array([ 1.        ,  1.39130435,  1.7826087 ,  2.17391304,  2.56521739,\n",
              "        2.95652174,  3.34782609,  3.73913043,  4.13043478,  4.52173913,\n",
              "        4.91304348,  5.30434783,  5.69565217,  6.08695652,  6.47826087,\n",
              "        6.86956522,  7.26086957,  7.65217391,  8.04347826,  8.43478261,\n",
              "        8.82608696,  9.2173913 ,  9.60869565, 10.        ])"
            ]
          },
          "metadata": {},
          "execution_count": 9
        }
      ],
      "source": [
        "x=np.linspace(start=1, stop=10, num=24)\n",
        "x"
      ]
    },
    {
      "cell_type": "code",
      "execution_count": 10,
      "id": "9ee6a065-6fcc-4b54-a72d-3c0f42d58298",
      "metadata": {
        "colab": {
          "base_uri": "https://localhost:8080/"
        },
        "id": "9ee6a065-6fcc-4b54-a72d-3c0f42d58298",
        "outputId": "d682ea8b-89a9-43af-dc8f-6fc5f0ebc857"
      },
      "outputs": [
        {
          "output_type": "stream",
          "name": "stdout",
          "text": [
            "shape: (24,)\n",
            "size: 24\n",
            "size: float64\n",
            "Number of dimensions: 1\n",
            "itemsize: 8 bytes\n",
            "nbytes: 192 bytes\n"
          ]
        }
      ],
      "source": [
        "print('shape: {}'.format(x.shape))\n",
        "print('size: {}'.format(x.size))\n",
        "print('size: {}'.format(x.dtype))\n",
        "print('Number of dimensions: {}'.format(x.ndim))\n",
        "print('itemsize: {} bytes'.format(x.itemsize))\n",
        "print('nbytes: {} bytes'.format(x.nbytes))"
      ]
    },
    {
      "cell_type": "code",
      "execution_count": 11,
      "id": "678c41f0-4fa6-4680-acf3-f2e50ba267b0",
      "metadata": {
        "colab": {
          "base_uri": "https://localhost:8080/"
        },
        "id": "678c41f0-4fa6-4680-acf3-f2e50ba267b0",
        "outputId": "e3b697fc-d260-4733-8c33-0c06f3766866"
      },
      "outputs": [
        {
          "output_type": "execute_result",
          "data": {
            "text/plain": [
              "array([1. , 1.5, 2. , 2.5, 3. , 3.5, 4. , 4.5])"
            ]
          },
          "metadata": {},
          "execution_count": 11
        }
      ],
      "source": [
        "np.arange(1, 5, 0.5)"
      ]
    },
    {
      "cell_type": "code",
      "execution_count": 12,
      "id": "d0653f21-eab9-4f9c-a68c-56655ece2719",
      "metadata": {
        "colab": {
          "base_uri": "https://localhost:8080/"
        },
        "id": "d0653f21-eab9-4f9c-a68c-56655ece2719",
        "outputId": "a0c1a8d2-91ae-4c50-d6c3-d714686a196f"
      },
      "outputs": [
        {
          "output_type": "execute_result",
          "data": {
            "text/plain": [
              "array([1.e+01, 1.e+02, 1.e+03, 1.e+04, 1.e+05, 1.e+06, 1.e+07, 1.e+08,\n",
              "       1.e+09, 1.e+10])"
            ]
          },
          "metadata": {},
          "execution_count": 12
        }
      ],
      "source": [
        "np.logspace(1, 10, 10)"
      ]
    },
    {
      "cell_type": "code",
      "execution_count": 13,
      "id": "8228b378-08b4-4a42-aa64-fb8043e25e31",
      "metadata": {
        "colab": {
          "base_uri": "https://localhost:8080/"
        },
        "id": "8228b378-08b4-4a42-aa64-fb8043e25e31",
        "outputId": "85a0b4bc-10eb-4be7-b29f-1eeb415fd514"
      },
      "outputs": [
        {
          "output_type": "execute_result",
          "data": {
            "text/plain": [
              "array([0., 0., 0., 0., 0., 0., 0., 0., 0., 0., 0., 0., 0., 0., 0., 0., 0.,\n",
              "       0., 0., 0.])"
            ]
          },
          "metadata": {},
          "execution_count": 13
        }
      ],
      "source": [
        "np.zeros(20)"
      ]
    },
    {
      "cell_type": "code",
      "execution_count": 14,
      "id": "badc1353-3386-4e18-bf23-9ffb3aa36a4c",
      "metadata": {
        "colab": {
          "base_uri": "https://localhost:8080/"
        },
        "id": "badc1353-3386-4e18-bf23-9ffb3aa36a4c",
        "outputId": "1b94236a-9859-447a-a69b-1285d944402a"
      },
      "outputs": [
        {
          "output_type": "execute_result",
          "data": {
            "text/plain": [
              "array([[0., 0., 0., 0., 0.],\n",
              "       [0., 0., 0., 0., 0.],\n",
              "       [0., 0., 0., 0., 0.],\n",
              "       [0., 0., 0., 0., 0.],\n",
              "       [0., 0., 0., 0., 0.]])"
            ]
          },
          "metadata": {},
          "execution_count": 14
        }
      ],
      "source": [
        "np.zeros((5,5))"
      ]
    },
    {
      "cell_type": "code",
      "execution_count": 15,
      "id": "68a9d5da-fec7-49c1-a107-1b1902407522",
      "metadata": {
        "colab": {
          "base_uri": "https://localhost:8080/"
        },
        "id": "68a9d5da-fec7-49c1-a107-1b1902407522",
        "outputId": "d3f58825-ca05-4ad2-b149-c28a5c828c05"
      },
      "outputs": [
        {
          "output_type": "execute_result",
          "data": {
            "text/plain": [
              "array([[1., 1., 1., 1., 1.],\n",
              "       [1., 1., 1., 1., 1.],\n",
              "       [1., 1., 1., 1., 1.],\n",
              "       [1., 1., 1., 1., 1.],\n",
              "       [1., 1., 1., 1., 1.]])"
            ]
          },
          "metadata": {},
          "execution_count": 15
        }
      ],
      "source": [
        "np.ones((5,5))"
      ]
    },
    {
      "cell_type": "code",
      "execution_count": 16,
      "id": "a3317510-52ac-408a-94e5-72aa1c8f6fda",
      "metadata": {
        "colab": {
          "base_uri": "https://localhost:8080/"
        },
        "id": "a3317510-52ac-408a-94e5-72aa1c8f6fda",
        "outputId": "4f524eee-7bd4-47f9-e24c-9028dca81024"
      },
      "outputs": [
        {
          "output_type": "execute_result",
          "data": {
            "text/plain": [
              "array([[1., 0., 0., 0., 0.],\n",
              "       [0., 1., 0., 0., 0.],\n",
              "       [0., 0., 1., 0., 0.],\n",
              "       [0., 0., 0., 1., 0.],\n",
              "       [0., 0., 0., 0., 1.]])"
            ]
          },
          "metadata": {},
          "execution_count": 16
        }
      ],
      "source": [
        "np.eye(5)"
      ]
    },
    {
      "cell_type": "code",
      "execution_count": 17,
      "id": "00cba7e5-c54f-418b-91eb-980b5834722e",
      "metadata": {
        "colab": {
          "base_uri": "https://localhost:8080/"
        },
        "id": "00cba7e5-c54f-418b-91eb-980b5834722e",
        "outputId": "2670408d-daa8-4426-fc23-2935bef38870"
      },
      "outputs": [
        {
          "output_type": "execute_result",
          "data": {
            "text/plain": [
              "array([[ 6,  9,  0,  0],\n",
              "       [13, 14,  7, 12],\n",
              "       [11,  3, 12,  8],\n",
              "       [11,  2,  8,  2]])"
            ]
          },
          "metadata": {},
          "execution_count": 17
        }
      ],
      "source": [
        "two_dimension= np.random.randint(16, size=(4,4))\n",
        "two_dimension"
      ]
    },
    {
      "cell_type": "code",
      "execution_count": 18,
      "id": "3ae532cc-b289-4bf6-a13e-982e36125d27",
      "metadata": {
        "colab": {
          "base_uri": "https://localhost:8080/"
        },
        "id": "3ae532cc-b289-4bf6-a13e-982e36125d27",
        "outputId": "dddba941-9995-4f10-ff70-0d7f1c1bc2ec"
      },
      "outputs": [
        {
          "output_type": "stream",
          "name": "stdout",
          "text": [
            "shape: (4, 4)\n",
            "size: 16\n",
            "data type: int64\n",
            "Number of dimensions: 2\n",
            "itemsize: 8 bytes\n",
            "nbytes: 128 bytes\n"
          ]
        }
      ],
      "source": [
        "print('shape: {}'.format(two_dimension.shape))\n",
        "print('size: {}'.format(two_dimension.size))\n",
        "print('data type: {}'.format(two_dimension.dtype))\n",
        "print('Number of dimensions: {}'.format(two_dimension.ndim))\n",
        "print('itemsize: {} bytes'.format(two_dimension.itemsize))\n",
        "print('nbytes: {} bytes'.format(two_dimension.nbytes))"
      ]
    },
    {
      "cell_type": "code",
      "execution_count": 19,
      "id": "bd7e0013-204d-4ffa-bd78-782314a62e51",
      "metadata": {
        "id": "bd7e0013-204d-4ffa-bd78-782314a62e51"
      },
      "outputs": [],
      "source": [
        "# [1,2,3] / 2"
      ]
    },
    {
      "cell_type": "markdown",
      "id": "c48928ff-fe1e-4c91-8879-93639dbf8146",
      "metadata": {
        "id": "c48928ff-fe1e-4c91-8879-93639dbf8146"
      },
      "source": [
        "## Mathematical Operations in Arrays"
      ]
    },
    {
      "cell_type": "markdown",
      "id": "6bf24835-861c-4207-9465-8064fffebd74",
      "metadata": {
        "id": "6bf24835-861c-4207-9465-8064fffebd74"
      },
      "source": [
        "### Using List"
      ]
    },
    {
      "cell_type": "code",
      "execution_count": 20,
      "id": "218b0ecf-074b-46d2-a257-fda8f7e93d41",
      "metadata": {
        "colab": {
          "base_uri": "https://localhost:8080/"
        },
        "id": "218b0ecf-074b-46d2-a257-fda8f7e93d41",
        "outputId": "20de5ca5-48e9-445c-d3a8-9cc814a2cfad"
      },
      "outputs": [
        {
          "output_type": "stream",
          "name": "stdout",
          "text": [
            "Operation not possible for lists\n",
            "[1, 2, 3, 4, 5, 1, 2, 3, 4, 5, 1, 2, 3, 4, 5, 1, 2, 3, 4, 5, 1, 2, 3, 4, 5]\n",
            "Operation not possible for lists\n"
          ]
        }
      ],
      "source": [
        "a=[1,2,3,4,5]\n",
        "try:\n",
        "    print(a+5)\n",
        "except:\n",
        "    print('Operation not possible for lists')\n",
        "\n",
        "try:\n",
        "    print(a*5)\n",
        "except:\n",
        "    print('Operation not possible for lists')\n",
        "\n",
        "try:\n",
        "    print(a/5)\n",
        "except:\n",
        "    print('Operation not possible for lists')"
      ]
    },
    {
      "cell_type": "markdown",
      "id": "b188a497-464e-4257-82f8-7d79316e4846",
      "metadata": {
        "id": "b188a497-464e-4257-82f8-7d79316e4846"
      },
      "source": [
        "### Using Array"
      ]
    },
    {
      "cell_type": "code",
      "execution_count": 21,
      "id": "73c635dd-e73f-48b7-b701-67629d945a21",
      "metadata": {
        "colab": {
          "base_uri": "https://localhost:8080/"
        },
        "id": "73c635dd-e73f-48b7-b701-67629d945a21",
        "outputId": "e6cec37a-f582-46fc-f3ba-49abfb16db24"
      },
      "outputs": [
        {
          "output_type": "stream",
          "name": "stdout",
          "text": [
            "[ 6  7  8  9 10]\n",
            "[ 5 10 15 20 25]\n",
            "[0.2 0.4 0.6 0.8 1. ]\n"
          ]
        }
      ],
      "source": [
        "a=np.array([1,2,3,4,5])\n",
        "print(a+5)\n",
        "print(a*5)\n",
        "print(a/5)"
      ]
    },
    {
      "cell_type": "code",
      "execution_count": 22,
      "id": "980f0891-e80f-40d1-bf34-1363a9d9efe8",
      "metadata": {
        "colab": {
          "base_uri": "https://localhost:8080/"
        },
        "id": "980f0891-e80f-40d1-bf34-1363a9d9efe8",
        "outputId": "e00ec125-2438-4344-f5eb-14286359ed6b"
      },
      "outputs": [
        {
          "output_type": "execute_result",
          "data": {
            "text/plain": [
              "[6, 7, 8, 9, 10]"
            ]
          },
          "metadata": {},
          "execution_count": 22
        }
      ],
      "source": [
        "new_list=[]\n",
        "for j in [1,2,3,4,5]:\n",
        "    new_list.append(j+5)\n",
        "new_list    "
      ]
    },
    {
      "cell_type": "code",
      "execution_count": 23,
      "id": "e12f49cc-efb5-40a2-a776-ee22edce3e66",
      "metadata": {
        "id": "e12f49cc-efb5-40a2-a776-ee22edce3e66"
      },
      "outputs": [],
      "source": [
        "# int(1,2,3,4,5) + 5\n",
        "#[ 6  7  8  9 10]"
      ]
    },
    {
      "cell_type": "code",
      "execution_count": 24,
      "id": "5b63c9b6-06c6-4e25-a964-c2bc271c9652",
      "metadata": {
        "colab": {
          "base_uri": "https://localhost:8080/"
        },
        "id": "5b63c9b6-06c6-4e25-a964-c2bc271c9652",
        "outputId": "ca8063c6-99b5-4c3b-8cd8-1a914ce8783e"
      },
      "outputs": [
        {
          "output_type": "stream",
          "name": "stdout",
          "text": [
            "[[1. 1. 1.]\n",
            " [1. 1. 1.]\n",
            " [1. 1. 1.]]\n",
            "\n",
            "[[7. 7. 7.]\n",
            " [7. 7. 7.]\n",
            " [7. 7. 7.]]\n"
          ]
        }
      ],
      "source": [
        "z=np.ones((3,3))\n",
        "print(z)\n",
        "print('')\n",
        "print(z+6)"
      ]
    },
    {
      "cell_type": "code",
      "execution_count": 25,
      "id": "615ebd60-9e5a-4ea2-a91e-f588b8f03879",
      "metadata": {
        "colab": {
          "base_uri": "https://localhost:8080/"
        },
        "id": "615ebd60-9e5a-4ea2-a91e-f588b8f03879",
        "outputId": "57ea1b29-227e-44b1-bf6d-43cc614f47ff"
      },
      "outputs": [
        {
          "output_type": "stream",
          "name": "stdout",
          "text": [
            "[ 2  4  6  8 10]\n",
            "[ 1  4  9 16 25]\n",
            "[1. 1. 1. 1. 1.]\n"
          ]
        }
      ],
      "source": [
        "a=np.array([1,2,3,4,5])\n",
        "print(a+a)\n",
        "print(a*a)\n",
        "print(a/a)"
      ]
    },
    {
      "cell_type": "code",
      "execution_count": 26,
      "id": "af6a96a9-9dee-45af-8787-8835ff0fdd8d",
      "metadata": {
        "colab": {
          "base_uri": "https://localhost:8080/"
        },
        "id": "af6a96a9-9dee-45af-8787-8835ff0fdd8d",
        "outputId": "883031bd-ff5c-4acd-e932-bc4f064fd4a5"
      },
      "outputs": [
        {
          "output_type": "stream",
          "name": "stdout",
          "text": [
            "[[2. 2. 2.]\n",
            " [2. 2. 2.]\n",
            " [2. 2. 2.]]\n",
            "\n",
            "[[1. 1. 1.]\n",
            " [1. 1. 1.]\n",
            " [1. 1. 1.]]\n",
            "\n",
            "[[1. 1. 1.]\n",
            " [1. 1. 1.]\n",
            " [1. 1. 1.]]\n"
          ]
        }
      ],
      "source": [
        "z=np.ones((3,3))\n",
        "print(z+z)\n",
        "print()\n",
        "print(z*z)\n",
        "print()\n",
        "print(z/z)"
      ]
    },
    {
      "cell_type": "markdown",
      "id": "232872b3-1bcb-44d9-8da2-0b4861cd9c86",
      "metadata": {
        "id": "232872b3-1bcb-44d9-8da2-0b4861cd9c86"
      },
      "source": [
        "## Matrix Multiplication"
      ]
    },
    {
      "cell_type": "code",
      "execution_count": 27,
      "id": "1ff2e5ab-aa96-4ce8-879b-c0374eb866da",
      "metadata": {
        "id": "1ff2e5ab-aa96-4ce8-879b-c0374eb866da"
      },
      "outputs": [],
      "source": [
        "mat1=np.ones((3,3))*12\n",
        "mat2=np.ones((3,3))*5"
      ]
    },
    {
      "cell_type": "code",
      "execution_count": 28,
      "id": "e331e60c-c482-4aa0-b6dd-057d21a0f655",
      "metadata": {
        "colab": {
          "base_uri": "https://localhost:8080/"
        },
        "id": "e331e60c-c482-4aa0-b6dd-057d21a0f655",
        "outputId": "803c857d-0381-42ca-9f97-816cc34c15e3"
      },
      "outputs": [
        {
          "output_type": "execute_result",
          "data": {
            "text/plain": [
              "array([[12., 12., 12.],\n",
              "       [12., 12., 12.],\n",
              "       [12., 12., 12.]])"
            ]
          },
          "metadata": {},
          "execution_count": 28
        }
      ],
      "source": [
        "mat1"
      ]
    },
    {
      "cell_type": "code",
      "execution_count": 29,
      "id": "4594e667-97f3-48d7-b5cb-6731937ef11c",
      "metadata": {
        "colab": {
          "base_uri": "https://localhost:8080/"
        },
        "id": "4594e667-97f3-48d7-b5cb-6731937ef11c",
        "outputId": "f51ac130-e3e7-4e75-839b-676c26abf94b"
      },
      "outputs": [
        {
          "output_type": "execute_result",
          "data": {
            "text/plain": [
              "array([[5., 5., 5.],\n",
              "       [5., 5., 5.],\n",
              "       [5., 5., 5.]])"
            ]
          },
          "metadata": {},
          "execution_count": 29
        }
      ],
      "source": [
        "mat2"
      ]
    },
    {
      "cell_type": "code",
      "execution_count": 30,
      "id": "ba1be7d2-540d-46b1-be31-af53b7ef9000",
      "metadata": {
        "colab": {
          "base_uri": "https://localhost:8080/"
        },
        "id": "ba1be7d2-540d-46b1-be31-af53b7ef9000",
        "outputId": "bac56343-3f4c-44c1-c65f-50104de24acb"
      },
      "outputs": [
        {
          "output_type": "execute_result",
          "data": {
            "text/plain": [
              "array([[60., 60., 60.],\n",
              "       [60., 60., 60.],\n",
              "       [60., 60., 60.]])"
            ]
          },
          "metadata": {},
          "execution_count": 30
        }
      ],
      "source": [
        "mat1*mat2  ## elementwise multiplication"
      ]
    },
    {
      "cell_type": "code",
      "execution_count": 31,
      "id": "9048a16c-bd99-4cce-9f6e-5794c2bc5a5a",
      "metadata": {
        "colab": {
          "base_uri": "https://localhost:8080/"
        },
        "id": "9048a16c-bd99-4cce-9f6e-5794c2bc5a5a",
        "outputId": "b7d2688a-58e9-4ac5-8bc9-56d5359ebd35"
      },
      "outputs": [
        {
          "output_type": "execute_result",
          "data": {
            "text/plain": [
              "array([[180., 180., 180.],\n",
              "       [180., 180., 180.],\n",
              "       [180., 180., 180.]])"
            ]
          },
          "metadata": {},
          "execution_count": 31
        }
      ],
      "source": [
        "mat1@mat2  ## matrix multiplication"
      ]
    },
    {
      "cell_type": "markdown",
      "id": "57a94f69-7ffa-4b27-9ed4-1ae3f912f9c2",
      "metadata": {
        "id": "57a94f69-7ffa-4b27-9ed4-1ae3f912f9c2"
      },
      "source": [
        "## Forming a three-dimensional arrays"
      ]
    },
    {
      "cell_type": "code",
      "execution_count": 32,
      "id": "830e906a-2f8c-4305-8b38-ae3748deee0c",
      "metadata": {
        "colab": {
          "base_uri": "https://localhost:8080/"
        },
        "id": "830e906a-2f8c-4305-8b38-ae3748deee0c",
        "outputId": "9033f51a-a78a-4b01-8f15-8453abe2bf20"
      },
      "outputs": [
        {
          "output_type": "execute_result",
          "data": {
            "text/plain": [
              "array([[[13,  7,  1],\n",
              "        [14, 15, 14],\n",
              "        [13, 13,  4],\n",
              "        [ 8,  8,  9]],\n",
              "\n",
              "       [[ 1, 12,  9],\n",
              "        [ 6,  5,  2],\n",
              "        [ 4, 10,  0],\n",
              "        [ 6,  1,  0]],\n",
              "\n",
              "       [[ 9,  4,  9],\n",
              "        [11,  1,  8],\n",
              "        [11, 15,  4],\n",
              "        [14,  8, 12]],\n",
              "\n",
              "       [[ 5,  5,  6],\n",
              "        [ 8, 12, 14],\n",
              "        [ 1, 10, 14],\n",
              "        [ 7, 14,  0]],\n",
              "\n",
              "       [[ 0, 14,  4],\n",
              "        [ 1,  2,  0],\n",
              "        [12,  8, 13],\n",
              "        [ 3,  1,  0]]])"
            ]
          },
          "metadata": {},
          "execution_count": 32
        }
      ],
      "source": [
        "three_dimension= np.random.randint(16, size=(5,4,3))\n",
        "three_dimension"
      ]
    },
    {
      "cell_type": "markdown",
      "id": "21d18261-cb2f-4aef-86ea-1015d52f753d",
      "metadata": {
        "id": "21d18261-cb2f-4aef-86ea-1015d52f753d"
      },
      "source": [
        "## Array Indexing"
      ]
    },
    {
      "cell_type": "markdown",
      "id": "04699c8f-39a4-4807-975a-9c6cc843658c",
      "metadata": {
        "id": "04699c8f-39a4-4807-975a-9c6cc843658c"
      },
      "source": [
        "### One Dimension"
      ]
    },
    {
      "cell_type": "code",
      "execution_count": 33,
      "id": "b489c614-4691-468f-aee0-25985a727fe8",
      "metadata": {
        "id": "b489c614-4691-468f-aee0-25985a727fe8"
      },
      "outputs": [],
      "source": [
        "x=np.array([2,3,5,8,9])"
      ]
    },
    {
      "cell_type": "code",
      "execution_count": 34,
      "id": "806c251a-eb35-47c4-93d8-681ff71bcb1e",
      "metadata": {
        "colab": {
          "base_uri": "https://localhost:8080/"
        },
        "id": "806c251a-eb35-47c4-93d8-681ff71bcb1e",
        "outputId": "72017335-bcfd-4b32-b9f2-51e55368303e"
      },
      "outputs": [
        {
          "output_type": "execute_result",
          "data": {
            "text/plain": [
              "2"
            ]
          },
          "metadata": {},
          "execution_count": 34
        }
      ],
      "source": [
        "x[0]"
      ]
    },
    {
      "cell_type": "code",
      "execution_count": 35,
      "id": "cbcb0d35-346b-43b0-9518-4161bca900c3",
      "metadata": {
        "id": "cbcb0d35-346b-43b0-9518-4161bca900c3"
      },
      "outputs": [],
      "source": [
        "# x[9]"
      ]
    },
    {
      "cell_type": "code",
      "execution_count": 36,
      "id": "7f24aa1a-a67e-4b93-8efa-74bc48a8cfd5",
      "metadata": {
        "colab": {
          "base_uri": "https://localhost:8080/"
        },
        "id": "7f24aa1a-a67e-4b93-8efa-74bc48a8cfd5",
        "outputId": "9ceb1b3d-2391-439f-aee2-646cdfd448b8"
      },
      "outputs": [
        {
          "output_type": "execute_result",
          "data": {
            "text/plain": [
              "9"
            ]
          },
          "metadata": {},
          "execution_count": 36
        }
      ],
      "source": [
        "x[4]"
      ]
    },
    {
      "cell_type": "code",
      "execution_count": 37,
      "id": "eb8519cc-cbff-4094-a4a4-c0e1b863db17",
      "metadata": {
        "colab": {
          "base_uri": "https://localhost:8080/"
        },
        "id": "eb8519cc-cbff-4094-a4a4-c0e1b863db17",
        "outputId": "6c9ba285-6813-453d-dd6a-0f600242447e"
      },
      "outputs": [
        {
          "output_type": "execute_result",
          "data": {
            "text/plain": [
              "9"
            ]
          },
          "metadata": {},
          "execution_count": 37
        }
      ],
      "source": [
        "x[-1]"
      ]
    },
    {
      "cell_type": "markdown",
      "id": "b2ca1e21-b0bb-4945-9e12-2d43eddb385b",
      "metadata": {
        "id": "b2ca1e21-b0bb-4945-9e12-2d43eddb385b"
      },
      "source": [
        "### Two Dimensions"
      ]
    },
    {
      "cell_type": "markdown",
      "id": "d4d9f627-2bd3-493d-9788-607a0a653a00",
      "metadata": {
        "id": "d4d9f627-2bd3-493d-9788-607a0a653a00"
      },
      "source": [
        "$$\\begin{bmatrix}\n",
        "    x_{0,0} & x_{0,1} & x_{0,2} & \\dots  & x_{0,n-1} \\\\\n",
        "    x_{1,0} & x_{1,1} & x_{1,2} & \\dots  & x_{1,n-1} \\\\\n",
        "    \\vdots & \\vdots & \\vdots & \\ddots & \\vdots \\\\\n",
        "    x_{d-1,0} & x_{d-1,1} & x_{d-1,2} & \\dots  & x_{d-1,n-1}\n",
        "\\end{bmatrix}$$"
      ]
    },
    {
      "cell_type": "code",
      "execution_count": 38,
      "id": "aa83c453-2e76-4336-8261-794c60e56f15",
      "metadata": {
        "colab": {
          "base_uri": "https://localhost:8080/"
        },
        "id": "aa83c453-2e76-4336-8261-794c60e56f15",
        "outputId": "11a9d8c2-86a1-42b7-8cbe-e146640c7518"
      },
      "outputs": [
        {
          "output_type": "execute_result",
          "data": {
            "text/plain": [
              "array([[ 6,  9,  0,  0],\n",
              "       [13, 14,  7, 12],\n",
              "       [11,  3, 12,  8],\n",
              "       [11,  2,  8,  2]])"
            ]
          },
          "metadata": {},
          "execution_count": 38
        }
      ],
      "source": [
        "two_dimension"
      ]
    },
    {
      "cell_type": "code",
      "execution_count": 39,
      "id": "5e887672-eda5-4ec9-a796-e6ae08f87c8a",
      "metadata": {
        "colab": {
          "base_uri": "https://localhost:8080/"
        },
        "id": "5e887672-eda5-4ec9-a796-e6ae08f87c8a",
        "outputId": "1632fef2-5ad0-48cd-9a1c-e0975123ba67"
      },
      "outputs": [
        {
          "output_type": "execute_result",
          "data": {
            "text/plain": [
              "6"
            ]
          },
          "metadata": {},
          "execution_count": 39
        }
      ],
      "source": [
        "two_dimension[0,0]"
      ]
    },
    {
      "cell_type": "code",
      "execution_count": 40,
      "id": "4ea94b5e-f650-4afb-ba81-ede7a9813f1f",
      "metadata": {
        "colab": {
          "base_uri": "https://localhost:8080/"
        },
        "id": "4ea94b5e-f650-4afb-ba81-ede7a9813f1f",
        "outputId": "a264cb7c-62f0-4092-eb44-64868f02149a"
      },
      "outputs": [
        {
          "output_type": "execute_result",
          "data": {
            "text/plain": [
              "14"
            ]
          },
          "metadata": {},
          "execution_count": 40
        }
      ],
      "source": [
        "two_dimension[1,1]"
      ]
    },
    {
      "cell_type": "code",
      "execution_count": 41,
      "id": "ce874a0f-35da-4fce-b00c-41219fc50841",
      "metadata": {
        "colab": {
          "base_uri": "https://localhost:8080/"
        },
        "id": "ce874a0f-35da-4fce-b00c-41219fc50841",
        "outputId": "ffa13b02-e858-40c9-f4aa-cc80237bca80"
      },
      "outputs": [
        {
          "output_type": "execute_result",
          "data": {
            "text/plain": [
              "13"
            ]
          },
          "metadata": {},
          "execution_count": 41
        }
      ],
      "source": [
        "two_dimension[1,0]"
      ]
    },
    {
      "cell_type": "code",
      "execution_count": 42,
      "id": "43ea4367-b814-4d35-b7d8-092bcde6dcb1",
      "metadata": {
        "colab": {
          "base_uri": "https://localhost:8080/"
        },
        "id": "43ea4367-b814-4d35-b7d8-092bcde6dcb1",
        "outputId": "51b574dc-0ac8-4b0a-b607-e5832e6ae7c9"
      },
      "outputs": [
        {
          "output_type": "execute_result",
          "data": {
            "text/plain": [
              "3"
            ]
          },
          "metadata": {},
          "execution_count": 42
        }
      ],
      "source": [
        "two_dimension[2,1]"
      ]
    },
    {
      "cell_type": "code",
      "execution_count": 43,
      "id": "47f0b76e-4c86-4bf5-b224-d89a06df8ed9",
      "metadata": {
        "colab": {
          "base_uri": "https://localhost:8080/"
        },
        "id": "47f0b76e-4c86-4bf5-b224-d89a06df8ed9",
        "outputId": "5ac4860e-68e0-4180-e9ca-ff9334954878"
      },
      "outputs": [
        {
          "output_type": "execute_result",
          "data": {
            "text/plain": [
              "array([[128,   9,   0,   0],\n",
              "       [ 13,  14,   7,  12],\n",
              "       [ 11,   3,  12,   8],\n",
              "       [ 11,   2,   8,   2]])"
            ]
          },
          "metadata": {},
          "execution_count": 43
        }
      ],
      "source": [
        "two_dimension[0,0] = 128\n",
        "two_dimension"
      ]
    },
    {
      "cell_type": "code",
      "execution_count": 44,
      "id": "68c3a55e-501d-40b5-b5b3-67ae7127c629",
      "metadata": {
        "colab": {
          "base_uri": "https://localhost:8080/"
        },
        "id": "68c3a55e-501d-40b5-b5b3-67ae7127c629",
        "outputId": "16bd2c78-e701-4889-98af-6de785001ad9"
      },
      "outputs": [
        {
          "output_type": "execute_result",
          "data": {
            "text/plain": [
              "array([[128,   9,   0,   0],\n",
              "       [  3,  14,   7,  12],\n",
              "       [ 11,   3,  12,   8],\n",
              "       [ 11,   2,   8,   2]])"
            ]
          },
          "metadata": {},
          "execution_count": 44
        }
      ],
      "source": [
        "two_dimension[1,0] = 3.83\n",
        "two_dimension"
      ]
    },
    {
      "cell_type": "code",
      "execution_count": 45,
      "id": "f05afa59-c319-4f80-b3fa-9a646b333f0e",
      "metadata": {
        "colab": {
          "base_uri": "https://localhost:8080/"
        },
        "id": "f05afa59-c319-4f80-b3fa-9a646b333f0e",
        "outputId": "0210e518-72b8-4232-9eaa-65cea345172b"
      },
      "outputs": [
        {
          "output_type": "execute_result",
          "data": {
            "text/plain": [
              "4.0"
            ]
          },
          "metadata": {},
          "execution_count": 45
        }
      ],
      "source": [
        "np.round(3.89)"
      ]
    },
    {
      "cell_type": "code",
      "execution_count": 46,
      "id": "d89b46c3-8c8c-48a3-a25b-f5bdbc75a1d5",
      "metadata": {
        "colab": {
          "base_uri": "https://localhost:8080/"
        },
        "id": "d89b46c3-8c8c-48a3-a25b-f5bdbc75a1d5",
        "outputId": "e9a26037-50f8-4ea1-bf8a-313a84e34394"
      },
      "outputs": [
        {
          "output_type": "execute_result",
          "data": {
            "text/plain": [
              "4.0"
            ]
          },
          "metadata": {},
          "execution_count": 46
        }
      ],
      "source": [
        "np.ceil(3.11)"
      ]
    },
    {
      "cell_type": "code",
      "execution_count": 47,
      "id": "d73860ef-2d1c-4f9b-a8b7-fe1d077dbffb",
      "metadata": {
        "colab": {
          "base_uri": "https://localhost:8080/"
        },
        "id": "d73860ef-2d1c-4f9b-a8b7-fe1d077dbffb",
        "outputId": "689b823d-9d14-4e48-9aa9-12feda9ebafc"
      },
      "outputs": [
        {
          "output_type": "execute_result",
          "data": {
            "text/plain": [
              "3.0"
            ]
          },
          "metadata": {},
          "execution_count": 47
        }
      ],
      "source": [
        "np.floor(3.89)"
      ]
    },
    {
      "cell_type": "markdown",
      "id": "9bfa577a-77a2-470c-a99f-43ce2854bc0c",
      "metadata": {
        "id": "9bfa577a-77a2-470c-a99f-43ce2854bc0c"
      },
      "source": [
        "## Array Slicing\n",
        "\n",
        "In python, slice notation is given by (`:`)"
      ]
    },
    {
      "cell_type": "markdown",
      "id": "3401315f-290b-4ae7-9a26-d305a82d6439",
      "metadata": {
        "id": "3401315f-290b-4ae7-9a26-d305a82d6439"
      },
      "source": [
        "### One dimension"
      ]
    },
    {
      "cell_type": "code",
      "execution_count": 48,
      "id": "a72b6753-2ed3-4293-abce-71fcaa9650dc",
      "metadata": {
        "colab": {
          "base_uri": "https://localhost:8080/"
        },
        "id": "a72b6753-2ed3-4293-abce-71fcaa9650dc",
        "outputId": "7cb3e96b-c41b-4948-b8ef-810849b22237"
      },
      "outputs": [
        {
          "output_type": "execute_result",
          "data": {
            "text/plain": [
              "array([2, 3, 5, 8, 9])"
            ]
          },
          "metadata": {},
          "execution_count": 48
        }
      ],
      "source": [
        "x"
      ]
    },
    {
      "cell_type": "code",
      "execution_count": 49,
      "id": "0e7eee48-a56b-4097-8bc6-76982e32ddf8",
      "metadata": {
        "colab": {
          "base_uri": "https://localhost:8080/"
        },
        "id": "0e7eee48-a56b-4097-8bc6-76982e32ddf8",
        "outputId": "4f954eaa-5790-4581-a1d4-1660c26ff1f5"
      },
      "outputs": [
        {
          "output_type": "execute_result",
          "data": {
            "text/plain": [
              "array([2, 3, 5])"
            ]
          },
          "metadata": {},
          "execution_count": 49
        }
      ],
      "source": [
        "x[:3]  ## first three elements"
      ]
    },
    {
      "cell_type": "code",
      "execution_count": 50,
      "id": "cbd987d9-e4b2-4fd9-b7bf-ab71c0209f58",
      "metadata": {
        "colab": {
          "base_uri": "https://localhost:8080/"
        },
        "id": "cbd987d9-e4b2-4fd9-b7bf-ab71c0209f58",
        "outputId": "6934da45-07b2-46b8-8b02-669e05e79bae"
      },
      "outputs": [
        {
          "output_type": "execute_result",
          "data": {
            "text/plain": [
              "array([8, 9])"
            ]
          },
          "metadata": {},
          "execution_count": 50
        }
      ],
      "source": [
        "x[3:] ## elements after index 3"
      ]
    },
    {
      "cell_type": "code",
      "execution_count": 51,
      "id": "79a7b669-7ceb-4b16-9789-6c5df153914c",
      "metadata": {
        "colab": {
          "base_uri": "https://localhost:8080/"
        },
        "id": "79a7b669-7ceb-4b16-9789-6c5df153914c",
        "outputId": "b7fb98f3-d1f7-47fd-f8b8-a46d0cebdf05"
      },
      "outputs": [
        {
          "output_type": "execute_result",
          "data": {
            "text/plain": [
              "array([5, 8])"
            ]
          },
          "metadata": {},
          "execution_count": 51
        }
      ],
      "source": [
        "x[2:4] "
      ]
    },
    {
      "cell_type": "code",
      "execution_count": 52,
      "id": "5e503dbc-9e64-4a0f-a6c3-2371ce77ce9b",
      "metadata": {
        "colab": {
          "base_uri": "https://localhost:8080/"
        },
        "id": "5e503dbc-9e64-4a0f-a6c3-2371ce77ce9b",
        "outputId": "a9770876-464b-4b1f-ad74-7d07f70cd473"
      },
      "outputs": [
        {
          "output_type": "execute_result",
          "data": {
            "text/plain": [
              "array([2, 5, 9])"
            ]
          },
          "metadata": {},
          "execution_count": 52
        }
      ],
      "source": [
        "x[::2]"
      ]
    },
    {
      "cell_type": "code",
      "execution_count": 53,
      "id": "6b250656-7fe8-45d8-96d6-bb2bb5707412",
      "metadata": {
        "colab": {
          "base_uri": "https://localhost:8080/"
        },
        "id": "6b250656-7fe8-45d8-96d6-bb2bb5707412",
        "outputId": "7f4516d6-57a7-4bc9-9bca-fe5d3111c29a"
      },
      "outputs": [
        {
          "output_type": "execute_result",
          "data": {
            "text/plain": [
              "array([9, 8, 5, 3, 2])"
            ]
          },
          "metadata": {},
          "execution_count": 53
        }
      ],
      "source": [
        "x[::-1]"
      ]
    },
    {
      "cell_type": "code",
      "execution_count": 54,
      "id": "3528d8e9-b936-4e0a-9cc8-afc813369f64",
      "metadata": {
        "colab": {
          "base_uri": "https://localhost:8080/"
        },
        "id": "3528d8e9-b936-4e0a-9cc8-afc813369f64",
        "outputId": "58c35b5f-ba86-43f1-bf28-4d15c25103c1"
      },
      "outputs": [
        {
          "output_type": "execute_result",
          "data": {
            "text/plain": [
              "array([3, 8])"
            ]
          },
          "metadata": {},
          "execution_count": 54
        }
      ],
      "source": [
        "x[1::2] ## every other element starting from index 1"
      ]
    },
    {
      "cell_type": "code",
      "execution_count": 55,
      "id": "e226b213-4ce4-46c6-b2cd-0fc08718575a",
      "metadata": {
        "colab": {
          "base_uri": "https://localhost:8080/",
          "height": 36
        },
        "id": "e226b213-4ce4-46c6-b2cd-0fc08718575a",
        "outputId": "1c170b36-1e79-47d1-dd9a-a47b911facc3"
      },
      "outputs": [
        {
          "output_type": "execute_result",
          "data": {
            "text/plain": [
              "'nohtyP'"
            ],
            "application/vnd.google.colaboratory.intrinsic+json": {
              "type": "string"
            }
          },
          "metadata": {},
          "execution_count": 55
        }
      ],
      "source": [
        "'Python'[::-1]"
      ]
    },
    {
      "cell_type": "markdown",
      "id": "09765aef-3089-4790-a18c-403abde12cb6",
      "metadata": {
        "id": "09765aef-3089-4790-a18c-403abde12cb6"
      },
      "source": [
        "### Multi-dimensional slicing"
      ]
    },
    {
      "cell_type": "code",
      "execution_count": 56,
      "id": "220510dc-a6bd-43c0-8b96-1b7e60657d0c",
      "metadata": {
        "colab": {
          "base_uri": "https://localhost:8080/"
        },
        "id": "220510dc-a6bd-43c0-8b96-1b7e60657d0c",
        "outputId": "fa33ba25-7d0b-4007-fccc-f98169ccc145"
      },
      "outputs": [
        {
          "output_type": "execute_result",
          "data": {
            "text/plain": [
              "array([[128,   9,   0,   0],\n",
              "       [  3,  14,   7,  12],\n",
              "       [ 11,   3,  12,   8],\n",
              "       [ 11,   2,   8,   2]])"
            ]
          },
          "metadata": {},
          "execution_count": 56
        }
      ],
      "source": [
        "two_dimension"
      ]
    },
    {
      "cell_type": "code",
      "execution_count": 57,
      "id": "6686a82f-a828-47a7-a3ed-cf9444578c0a",
      "metadata": {
        "colab": {
          "base_uri": "https://localhost:8080/"
        },
        "id": "6686a82f-a828-47a7-a3ed-cf9444578c0a",
        "outputId": "a6af4575-969d-4a21-d2be-e6bf5dad6c09"
      },
      "outputs": [
        {
          "output_type": "execute_result",
          "data": {
            "text/plain": [
              "array([[128,   9,   0],\n",
              "       [  3,  14,   7]])"
            ]
          },
          "metadata": {},
          "execution_count": 57
        }
      ],
      "source": [
        "two_dimension[:2, :3]"
      ]
    },
    {
      "cell_type": "code",
      "execution_count": 58,
      "id": "77ddfc49-7d0c-44f4-8dd0-df7510f2e540",
      "metadata": {
        "colab": {
          "base_uri": "https://localhost:8080/"
        },
        "id": "77ddfc49-7d0c-44f4-8dd0-df7510f2e540",
        "outputId": "21721e0e-79c9-495e-8fe5-4828d3e4197f"
      },
      "outputs": [
        {
          "output_type": "execute_result",
          "data": {
            "text/plain": [
              "array([[128,   9,   0],\n",
              "       [  3,  14,   7]])"
            ]
          },
          "metadata": {},
          "execution_count": 58
        }
      ],
      "source": [
        "two_dimension[:2, :3]"
      ]
    },
    {
      "cell_type": "markdown",
      "id": "40ccc31e-9429-4b6b-928e-74c57e4d3f49",
      "metadata": {
        "id": "40ccc31e-9429-4b6b-928e-74c57e4d3f49"
      },
      "source": [
        "### Creating a copy of an array"
      ]
    },
    {
      "cell_type": "code",
      "execution_count": 59,
      "id": "128aad5d-e47c-46a7-8d18-f1fe2c2721bb",
      "metadata": {
        "colab": {
          "base_uri": "https://localhost:8080/"
        },
        "id": "128aad5d-e47c-46a7-8d18-f1fe2c2721bb",
        "outputId": "b838e982-53dc-471c-835a-a81a418c023e"
      },
      "outputs": [
        {
          "output_type": "execute_result",
          "data": {
            "text/plain": [
              "array([[128,   9,   0,   0],\n",
              "       [  3,  14,   7,  12],\n",
              "       [ 11,   3,  12,   8],\n",
              "       [ 11,   2,   8,   2]])"
            ]
          },
          "metadata": {},
          "execution_count": 59
        }
      ],
      "source": [
        "two_dimension.copy()"
      ]
    },
    {
      "cell_type": "markdown",
      "id": "9991a4e6-cfb5-4408-8ab0-740aa5468d85",
      "metadata": {
        "id": "9991a4e6-cfb5-4408-8ab0-740aa5468d85"
      },
      "source": [
        "## Reshaping Arrays"
      ]
    },
    {
      "cell_type": "code",
      "execution_count": 60,
      "id": "6a912348-645c-464e-a8e7-b5f772966756",
      "metadata": {
        "colab": {
          "base_uri": "https://localhost:8080/"
        },
        "id": "6a912348-645c-464e-a8e7-b5f772966756",
        "outputId": "67624019-11de-4127-fde3-c65cf61ebc3f"
      },
      "outputs": [
        {
          "output_type": "execute_result",
          "data": {
            "text/plain": [
              "array([[128,   9,   0,   0,   3,  14,   7,  12],\n",
              "       [ 11,   3,  12,   8,  11,   2,   8,   2]])"
            ]
          },
          "metadata": {},
          "execution_count": 60
        }
      ],
      "source": [
        "two_dimension.reshape(2,8)"
      ]
    },
    {
      "cell_type": "markdown",
      "id": "28df0237-3b85-4e7c-b189-d03c044d0cc6",
      "metadata": {
        "id": "28df0237-3b85-4e7c-b189-d03c044d0cc6"
      },
      "source": [
        "## Matplotlib\n",
        "\n",
        "\n",
        "### Types of variables\n",
        "\n",
        "1. Quantitative \n",
        "2. Qualitative\n",
        "\n",
        "### Levels of Measurement\n",
        "\n",
        "1. Qualitative\n",
        "- Nominal\n",
        "- Ordinal\n",
        "\n",
        "2. Quantitative\n",
        "- Interval\n",
        "- Ratio"
      ]
    },
    {
      "cell_type": "markdown",
      "id": "916390cb-54d0-4a64-8c35-fc30db8b1d78",
      "metadata": {
        "id": "916390cb-54d0-4a64-8c35-fc30db8b1d78"
      },
      "source": [
        "## Visualization\n",
        "\n",
        "1. One-variable graphs\n",
        "2. Two-variable graphs\n",
        "3. Multi-variable graphs"
      ]
    },
    {
      "cell_type": "markdown",
      "id": "c1a101a8-9ca1-4a0a-8a4d-96ddb7274e1e",
      "metadata": {
        "id": "c1a101a8-9ca1-4a0a-8a4d-96ddb7274e1e"
      },
      "source": [
        "## One-variable graph\n",
        "\n",
        "### Quantitative\n",
        "1. Histogram\n",
        "2. Boxplot\n",
        "3. Time series graph/line graph\n",
        "\n",
        "### Qualitative\n",
        "1. Bar Chart\n",
        "2. Pie Chart"
      ]
    },
    {
      "cell_type": "code",
      "execution_count": 61,
      "id": "881b79e6-cb2b-4051-b503-25f55865b276",
      "metadata": {
        "id": "881b79e6-cb2b-4051-b503-25f55865b276"
      },
      "outputs": [],
      "source": [
        "import matplotlib.pyplot as plt"
      ]
    },
    {
      "cell_type": "markdown",
      "id": "e1085c43-27ff-4ba2-9f88-ff3349ce0efb",
      "metadata": {
        "id": "e1085c43-27ff-4ba2-9f88-ff3349ce0efb"
      },
      "source": [
        "### Histogram"
      ]
    },
    {
      "cell_type": "code",
      "execution_count": 62,
      "id": "6ce62d38-854c-4229-a015-6c43850485d3",
      "metadata": {
        "colab": {
          "base_uri": "https://localhost:8080/",
          "height": 302
        },
        "id": "6ce62d38-854c-4229-a015-6c43850485d3",
        "outputId": "517e4e30-40a7-4c56-d23f-39ba68eaadf6"
      },
      "outputs": [
        {
          "output_type": "display_data",
          "data": {
            "text/plain": [
              "<Figure size 432x288 with 1 Axes>"
            ],
            "image/png": "[encoded data removed]"
          },
          "metadata": {
            "needs_background": "light"
          }
        }
      ],
      "source": [
        "age= np.random.normal(0,1,50)\n",
        "plt.hist(age, edgecolor='black', color='yellow', linewidth=2, bins=15)\n",
        "plt.xlabel('Age', fontsize=15)\n",
        "plt.ylabel('Frequency', fontsize=15)\n",
        "plt.title('Histogram of Age', fontsize=15)\n",
        "plt.savefig('hist.png')\n",
        "plt.show()"
      ]
    },
    {
      "cell_type": "markdown",
      "id": "a8392a74-4be9-4f54-bc2e-69f868558b96",
      "metadata": {
        "id": "a8392a74-4be9-4f54-bc2e-69f868558b96"
      },
      "source": [
        "### Bar Chart"
      ]
    },
    {
      "cell_type": "code",
      "execution_count": 63,
      "id": "71837e34-d6e6-46ff-baf8-f60928c74c1c",
      "metadata": {
        "colab": {
          "base_uri": "https://localhost:8080/",
          "height": 302
        },
        "id": "71837e34-d6e6-46ff-baf8-f60928c74c1c",
        "outputId": "1f5ecd9f-5d0a-4567-e65a-9daaf523d922"
      },
      "outputs": [
        {
          "output_type": "display_data",
          "data": {
            "text/plain": [
              "<Figure size 432x288 with 1 Axes>"
            ],
            "image/png": "[encoded data removed]"
          },
          "metadata": {
            "needs_background": "light"
          }
        }
      ],
      "source": [
        "languages=['C', 'C++', 'Java', 'R', 'Python']\n",
        "num_of_occ=[23, 17, 35, 29, 50]\n",
        "\n",
        "plt.bar(languages, num_of_occ, edgecolor='black',)\n",
        "plt.xlabel('Programming Language', fontsize=15)\n",
        "plt.ylabel('Frequency', fontsize=15)\n",
        "plt.title('Bar Chart of Programming Languages', fontsize=15)\n",
        "plt.show()"
      ]
    },
    {
      "cell_type": "markdown",
      "id": "4cd9de78-c8e2-4869-876c-f782227a39e2",
      "metadata": {
        "id": "4cd9de78-c8e2-4869-876c-f782227a39e2"
      },
      "source": [
        "# June 16\n",
        "\n",
        "## Pie Chart"
      ]
    },
    {
      "cell_type": "code",
      "execution_count": 64,
      "id": "cb8d0126-c041-4bb0-8218-68273fb1d182",
      "metadata": {
        "colab": {
          "base_uri": "https://localhost:8080/",
          "height": 248
        },
        "id": "cb8d0126-c041-4bb0-8218-68273fb1d182",
        "outputId": "2a5b8c3c-031a-4842-d3aa-c116675b5bd9"
      },
      "outputs": [
        {
          "output_type": "display_data",
          "data": {
            "text/plain": [
              "<Figure size 432x288 with 1 Axes>"
            ],
            "image/png": "[encoded data removed]"
          },
          "metadata": {}
        }
      ],
      "source": [
        "plt.pie(num_of_occ, labels=languages, autopct='%.2f%%')\n",
        "plt.savefig('piechart.png')\n",
        "plt.show()"
      ]
    },
    {
      "cell_type": "markdown",
      "id": "f6b4bbc7-6c79-460f-aa9a-5c1d2336cd56",
      "metadata": {
        "id": "f6b4bbc7-6c79-460f-aa9a-5c1d2336cd56"
      },
      "source": [
        "## Boxplot"
      ]
    },
    {
      "cell_type": "code",
      "execution_count": 65,
      "id": "a770498b-ea9b-4262-843f-5c458031ac30",
      "metadata": {
        "colab": {
          "base_uri": "https://localhost:8080/",
          "height": 266
        },
        "id": "a770498b-ea9b-4262-843f-5c458031ac30",
        "outputId": "1812cb12-8656-49d4-a4c8-f487246e95bd"
      },
      "outputs": [
        {
          "output_type": "display_data",
          "data": {
            "text/plain": [
              "<Figure size 432x288 with 1 Axes>"
            ],
            "image/png": "[encoded data removed]"
          },
          "metadata": {
            "needs_background": "light"
          }
        }
      ],
      "source": [
        "plt.boxplot(age)\n",
        "plt.show()"
      ]
    },
    {
      "cell_type": "markdown",
      "id": "8dc80767-c554-4c2b-8d7e-2b9b4e89e0c9",
      "metadata": {
        "id": "8dc80767-c554-4c2b-8d7e-2b9b4e89e0c9"
      },
      "source": [
        "## Line Chart"
      ]
    },
    {
      "cell_type": "code",
      "execution_count": 66,
      "id": "23860e49-ead4-457f-8940-9a01fc51fa82",
      "metadata": {
        "colab": {
          "base_uri": "https://localhost:8080/",
          "height": 265
        },
        "id": "23860e49-ead4-457f-8940-9a01fc51fa82",
        "outputId": "c6038160-83f7-4ed6-e014-baf1b9a1b354"
      },
      "outputs": [
        {
          "output_type": "display_data",
          "data": {
            "text/plain": [
              "<Figure size 432x288 with 1 Axes>"
            ],
            "image/png": "[encoded data removed]"
          },
          "metadata": {
            "needs_background": "light"
          }
        }
      ],
      "source": [
        "x=np.linspace(0,3,20)\n",
        "plt.plot(np.sin(x))\n",
        "plt.show()"
      ]
    },
    {
      "cell_type": "code",
      "execution_count": 67,
      "id": "f639112b-11a1-47ed-9d17-1b14a7dbbb77",
      "metadata": {
        "colab": {
          "base_uri": "https://localhost:8080/",
          "height": 265
        },
        "id": "f639112b-11a1-47ed-9d17-1b14a7dbbb77",
        "outputId": "67b15c02-3444-4817-cefe-c6a54b229bd8"
      },
      "outputs": [
        {
          "output_type": "display_data",
          "data": {
            "text/plain": [
              "<Figure size 432x288 with 1 Axes>"
            ],
            "image/png": "[encoded data removed]"
          },
          "metadata": {
            "needs_background": "light"
          }
        }
      ],
      "source": [
        "\"\"\"\n",
        "Symbols: -, -., >, <, ^, *, 1\n",
        "\"\"\"\n",
        "\n",
        "\n",
        "plt.plot(np.sin(x), marker='*')\n",
        "plt.show()"
      ]
    },
    {
      "cell_type": "code",
      "execution_count": 68,
      "id": "e1738b5e-cb35-419b-9772-3f8fe8e0e515",
      "metadata": {
        "colab": {
          "base_uri": "https://localhost:8080/",
          "height": 265
        },
        "id": "e1738b5e-cb35-419b-9772-3f8fe8e0e515",
        "outputId": "d8ad9743-0823-4876-82d3-ded33681437a"
      },
      "outputs": [
        {
          "output_type": "display_data",
          "data": {
            "text/plain": [
              "<Figure size 432x288 with 1 Axes>"
            ],
            "image/png": "[encoded data removed]"
          },
          "metadata": {
            "needs_background": "light"
          }
        }
      ],
      "source": [
        "plt.plot(np.sin(x), 'r*')\n",
        "plt.show()"
      ]
    },
    {
      "cell_type": "code",
      "execution_count": 69,
      "id": "399d6a3a-027a-4fae-bafb-4cab543a93cd",
      "metadata": {
        "colab": {
          "base_uri": "https://localhost:8080/",
          "height": 265
        },
        "id": "399d6a3a-027a-4fae-bafb-4cab543a93cd",
        "outputId": "eece34c5-8865-48f3-9a6d-de49dafbbc3a"
      },
      "outputs": [
        {
          "output_type": "display_data",
          "data": {
            "text/plain": [
              "<Figure size 432x288 with 1 Axes>"
            ],
            "image/png": "[encoded data removed]"
          },
          "metadata": {
            "needs_background": "light"
          }
        }
      ],
      "source": [
        "plt.plot(np.sin(x), 'r*')\n",
        "plt.plot(-np.sin(x), 'g--')\n",
        "plt.plot(np.cos(x), 'bo')\n",
        "plt.show()"
      ]
    },
    {
      "cell_type": "code",
      "execution_count": 70,
      "id": "cd5287a9-3e16-4be2-ab3e-9cd7ef04bb91",
      "metadata": {
        "colab": {
          "base_uri": "https://localhost:8080/",
          "height": 265
        },
        "id": "cd5287a9-3e16-4be2-ab3e-9cd7ef04bb91",
        "outputId": "5e74514c-0beb-4b9d-834f-2db89fea2341"
      },
      "outputs": [
        {
          "output_type": "display_data",
          "data": {
            "text/plain": [
              "<Figure size 432x288 with 1 Axes>"
            ],
            "image/png": "[encoded data removed]"
          },
          "metadata": {
            "needs_background": "light"
          }
        }
      ],
      "source": [
        "plt.plot(np.sin(x), 'r*')\n",
        "plt.plot(-np.sin(x), 'g--')\n",
        "plt.plot(np.cos(x), 'bo')\n",
        "plt.legend(labels=('x1', 'x2', 'x3'), loc='best')\n",
        "plt.show()"
      ]
    },
    {
      "cell_type": "code",
      "execution_count": 71,
      "id": "48573a50-dd48-4fef-859e-d687abf82906",
      "metadata": {
        "colab": {
          "base_uri": "https://localhost:8080/",
          "height": 265
        },
        "id": "48573a50-dd48-4fef-859e-d687abf82906",
        "outputId": "f1668fa3-8aa1-4706-b7a1-2b7248c22cac"
      },
      "outputs": [
        {
          "output_type": "display_data",
          "data": {
            "text/plain": [
              "<Figure size 432x288 with 1 Axes>"
            ],
            "image/png": "[encoded data removed]"
          },
          "metadata": {
            "needs_background": "light"
          }
        }
      ],
      "source": [
        "plt.plot(np.sin(x), 'r*', label='x1')\n",
        "plt.plot(-np.sin(x), 'g--', label='x2')\n",
        "plt.plot(np.cos(x), 'bo', label='x3')\n",
        "plt.legend(loc='best')\n",
        "plt.show()"
      ]
    },
    {
      "cell_type": "markdown",
      "id": "d847c8c9-d2da-43d2-b187-2926c0b33e7e",
      "metadata": {
        "id": "d847c8c9-d2da-43d2-b187-2926c0b33e7e"
      },
      "source": [
        "### Legend Locations\n",
        "\n",
        "- best\n",
        "- upper right\n",
        "- upper left\n",
        "- lower left\n",
        "- lower right\n",
        "- right\n",
        "- center left\n",
        "- center right\n",
        "- lower center\n",
        "- upper center\n",
        "- center"
      ]
    },
    {
      "cell_type": "code",
      "execution_count": 72,
      "id": "ccf6de99-6111-4c7e-a409-cd95cccdb52d",
      "metadata": {
        "colab": {
          "base_uri": "https://localhost:8080/",
          "height": 483
        },
        "id": "ccf6de99-6111-4c7e-a409-cd95cccdb52d",
        "outputId": "665771a5-27a0-4664-90f7-21067f4a0b75"
      },
      "outputs": [
        {
          "output_type": "display_data",
          "data": {
            "text/plain": [
              "<Figure size 720x576 with 1 Axes>"
            ],
            "image/png": "[encoded data removed]"
          },
          "metadata": {
            "needs_background": "light"
          }
        }
      ],
      "source": [
        "plt.figure(figsize=(10, 8)) ## defaults to 6, 4\n",
        "plt.plot(np.sin(x), 'r*', label='x1')\n",
        "plt.plot(-np.sin(x), 'g--', label='x2')\n",
        "plt.plot(np.cos(x), 'bo', label='x3')\n",
        "plt.legend(loc='best')\n",
        "plt.ylim(-0.75, 0.75)\n",
        "plt.xlim(2.5, 10)\n",
        "plt.grid()\n",
        "plt.show()"
      ]
    },
    {
      "cell_type": "markdown",
      "id": "1da34694-5193-48f2-836e-cbf0666166a8",
      "metadata": {
        "id": "1da34694-5193-48f2-836e-cbf0666166a8"
      },
      "source": [
        "### Plotting side by side"
      ]
    },
    {
      "cell_type": "code",
      "execution_count": 73,
      "id": "5d552bee-63af-4d34-b9bd-11f917f2d07a",
      "metadata": {
        "colab": {
          "base_uri": "https://localhost:8080/",
          "height": 269
        },
        "id": "5d552bee-63af-4d34-b9bd-11f917f2d07a",
        "outputId": "909ef34a-2884-4a61-a28f-cbbcd8c043b2"
      },
      "outputs": [
        {
          "output_type": "display_data",
          "data": {
            "text/plain": [
              "<Figure size 432x288 with 4 Axes>"
            ],
            "image/png": "[encoded data removed]"
          },
          "metadata": {
            "needs_background": "light"
          }
        }
      ],
      "source": [
        "x1,x2,x3,x4=np.sin(x),-np.sin(x),np.cos(x),-np.cos(x)\n",
        "label=['x1', 'x2', 'x3', 'x4']\n",
        "## Turn x1, x2, x3, x4 into a two-dimensional array\n",
        "## write a for loop\n",
        "\n",
        "for plot in range(1,5):\n",
        "    plt.subplot(2, 2, plot)\n",
        "    #plt.plot(label=label[plot])\n",
        "    ...\n",
        "    "
      ]
    },
    {
      "cell_type": "code",
      "execution_count": 74,
      "id": "524e8b07-2728-43ce-9beb-06838c1b514c",
      "metadata": {
        "colab": {
          "base_uri": "https://localhost:8080/",
          "height": 437
        },
        "id": "524e8b07-2728-43ce-9beb-06838c1b514c",
        "outputId": "1ec0fd8e-7cf3-4240-a6b8-33eacd724748"
      },
      "outputs": [
        {
          "output_type": "display_data",
          "data": {
            "text/plain": [
              "<Figure size 1080x432 with 4 Axes>"
            ],
            "image/png": "[encoded data removed]"
          },
          "metadata": {
            "needs_background": "light"
          }
        }
      ],
      "source": [
        "plt.figure(figsize=(15, 6))\n",
        "plt.subplot(2, 2, 1)\n",
        "plt.plot(np.sin(x), 'r*', label='x1')\n",
        "plt.legend(loc='best')\n",
        "plt.ylim(-0.75, 0.75)\n",
        "plt.xlim(2.5, 10)\n",
        "plt.grid()\n",
        "\n",
        "plt.subplot(2, 2, 2)\n",
        "plt.plot(np.cos(x), 'bo', label='x3')\n",
        "plt.legend(loc='best')\n",
        "plt.ylim(-0.75, 0.75)\n",
        "plt.xlim(2.5, 10)\n",
        "plt.grid()\n",
        "\n",
        "plt.subplot(2, 2, 3)\n",
        "plt.plot(-np.sin(x), 'g--', label='x2')\n",
        "plt.legend(loc='best')\n",
        "plt.ylim(-0.75, 0.75)\n",
        "plt.xlim(2.5, 10)\n",
        "plt.grid()\n",
        "\n",
        "plt.subplot(2, 2, 4)\n",
        "plt.plot(-np.cos(x), 'r*', label='x4')\n",
        "plt.legend(loc='best')\n",
        "plt.ylim(-0.75, 0.75)\n",
        "plt.xlim(2.5, 10)\n",
        "plt.grid()\n",
        "\n",
        "plt.tight_layout()"
      ]
    },
    {
      "cell_type": "markdown",
      "id": "5fd2c522-0d4c-420d-aadf-2810721f026a",
      "metadata": {
        "tags": [],
        "id": "5fd2c522-0d4c-420d-aadf-2810721f026a"
      },
      "source": [
        "## Two Variable Graphs\n",
        "\n",
        "* one qualitative and one quantitative variable (boxplot, bar chart)\n",
        "* two qualitative variables (Bar chart)\n",
        "* two quantitative variables (scatter plot)"
      ]
    },
    {
      "cell_type": "code",
      "execution_count": 75,
      "id": "5256692a-0c80-4704-8ffb-89dddbfa8f4a",
      "metadata": {
        "colab": {
          "base_uri": "https://localhost:8080/",
          "height": 265
        },
        "id": "5256692a-0c80-4704-8ffb-89dddbfa8f4a",
        "outputId": "45916224-8117-469b-e257-94dff9de6937"
      },
      "outputs": [
        {
          "output_type": "display_data",
          "data": {
            "text/plain": [
              "<Figure size 432x288 with 1 Axes>"
            ],
            "image/png": "[encoded data removed]"
          },
          "metadata": {
            "needs_background": "light"
          }
        }
      ],
      "source": [
        "## two quantitative variables\n",
        "\n",
        "plt.scatter(np.sin(x), -np.cos(x))\n",
        "plt.show()"
      ]
    },
    {
      "cell_type": "code",
      "execution_count": 76,
      "id": "fa287353-5201-427f-a3d8-9ac2da7f40c7",
      "metadata": {
        "colab": {
          "base_uri": "https://localhost:8080/",
          "height": 265
        },
        "id": "fa287353-5201-427f-a3d8-9ac2da7f40c7",
        "outputId": "b041268a-d1c7-4b46-df10-886da35c21e8"
      },
      "outputs": [
        {
          "output_type": "display_data",
          "data": {
            "text/plain": [
              "<Figure size 432x288 with 1 Axes>"
            ],
            "image/png": "[encoded data removed]"
          },
          "metadata": {
            "needs_background": "light"
          }
        }
      ],
      "source": [
        "## one quantitative, one qualitataive\n",
        "# Boxplot\n",
        "\n",
        "x1,x2,x3=np.sin(x), -np.sin(x), -np.cos(x)\n",
        "\n",
        "data=[x1,x2,x3]\n",
        "plt.boxplot(data)\n",
        "plt.show()"
      ]
    },
    {
      "cell_type": "code",
      "execution_count": 77,
      "id": "1477abee-98bc-4764-8217-15aea7046f6e",
      "metadata": {
        "colab": {
          "base_uri": "https://localhost:8080/",
          "height": 265
        },
        "id": "1477abee-98bc-4764-8217-15aea7046f6e",
        "outputId": "6507154f-d6ea-4f63-db76-1239507c54f7"
      },
      "outputs": [
        {
          "output_type": "display_data",
          "data": {
            "text/plain": [
              "<Figure size 432x288 with 1 Axes>"
            ],
            "image/png": "[encoded data removed]"
          },
          "metadata": {
            "needs_background": "light"
          }
        }
      ],
      "source": [
        "## two qualitative variables\n",
        "\n",
        "data =[\n",
        "    [30, 25, 50],\n",
        "    [40, 23, 51]\n",
        "]\n",
        "\n",
        "X = np.arange(3)\n",
        "plt.bar(X + 0.00, data[0], color='magenta', width=0.3)\n",
        "plt.bar(X + 0.25, data[1], color='blue', width=0.3)\n",
        "plt.legend(labels=['DS', 'CS'])\n",
        "plt.show()"
      ]
    },
    {
      "cell_type": "markdown",
      "id": "a5fe91bc-d2b9-44d6-a969-c3070cdfc73f",
      "metadata": {
        "id": "a5fe91bc-d2b9-44d6-a969-c3070cdfc73f"
      },
      "source": [
        "## Pandas (July 17)\n",
        "\n"
      ]
    },
    {
      "cell_type": "code",
      "execution_count": 78,
      "id": "7b2b4250-98cc-4d9b-b1e3-b344ccfbddec",
      "metadata": {
        "id": "7b2b4250-98cc-4d9b-b1e3-b344ccfbddec"
      },
      "outputs": [],
      "source": [
        "import numpy as np\n",
        "import pandas as pd"
      ]
    },
    {
      "cell_type": "code",
      "execution_count": 79,
      "id": "409498a9-4c54-49e7-98c8-26a724b0a0b8",
      "metadata": {
        "id": "409498a9-4c54-49e7-98c8-26a724b0a0b8"
      },
      "outputs": [],
      "source": [
        "x=np.linspace(0,3,20)\n",
        "x1,x2,x3,x4=np.sin(x),-np.sin(x),np.cos(x),-np.cos(x)"
      ]
    },
    {
      "cell_type": "code",
      "execution_count": 80,
      "id": "4b664e9f-b72e-4b8f-b5da-f7261d93f2e3",
      "metadata": {
        "colab": {
          "base_uri": "https://localhost:8080/",
          "height": 206
        },
        "id": "4b664e9f-b72e-4b8f-b5da-f7261d93f2e3",
        "outputId": "2a4bb3e2-702c-48a5-c602-7f37fd8dc038"
      },
      "outputs": [
        {
          "output_type": "execute_result",
          "data": {
            "text/plain": [
              "         x1        x2        x3        x4\n",
              "0  0.000000 -0.000000  1.000000 -1.000000\n",
              "1  0.157239 -0.157239  0.987561 -0.987561\n",
              "2  0.310567 -0.310567  0.950551 -0.950551\n",
              "3  0.456168 -0.456168  0.889894 -0.889894\n",
              "4  0.590420 -0.590420  0.807096 -0.807096"
            ],
            "text/html": [
              "\n",
              "  <div id=\"df-a20c4090-9457-4c00-938a-478f30ea8cba\">\n",
              "    <div class=\"colab-df-container\">\n",
              "      <div>\n",
              "<style scoped>\n",
              "    .dataframe tbody tr th:only-of-type {\n",
              "        vertical-align: middle;\n",
              "    }\n",
              "\n",
              "    .dataframe tbody tr th {\n",
              "        vertical-align: top;\n",
              "    }\n",
              "\n",
              "    .dataframe thead th {\n",
              "        text-align: right;\n",
              "    }\n",
              "</style>\n",
              "<table border=\"1\" class=\"dataframe\">\n",
              "  <thead>\n",
              "    <tr style=\"text-align: right;\">\n",
              "      <th></th>\n",
              "      <th>x1</th>\n",
              "      <th>x2</th>\n",
              "      <th>x3</th>\n",
              "      <th>x4</th>\n",
              "    </tr>\n",
              "  </thead>\n",
              "  <tbody>\n",
              "    <tr>\n",
              "      <th>0</th>\n",
              "      <td>0.000000</td>\n",
              "      <td>-0.000000</td>\n",
              "      <td>1.000000</td>\n",
              "      <td>-1.000000</td>\n",
              "    </tr>\n",
              "    <tr>\n",
              "      <th>1</th>\n",
              "      <td>0.157239</td>\n",
              "      <td>-0.157239</td>\n",
              "      <td>0.987561</td>\n",
              "      <td>-0.987561</td>\n",
              "    </tr>\n",
              "    <tr>\n",
              "      <th>2</th>\n",
              "      <td>0.310567</td>\n",
              "      <td>-0.310567</td>\n",
              "      <td>0.950551</td>\n",
              "      <td>-0.950551</td>\n",
              "    </tr>\n",
              "    <tr>\n",
              "      <th>3</th>\n",
              "      <td>0.456168</td>\n",
              "      <td>-0.456168</td>\n",
              "      <td>0.889894</td>\n",
              "      <td>-0.889894</td>\n",
              "    </tr>\n",
              "    <tr>\n",
              "      <th>4</th>\n",
              "      <td>0.590420</td>\n",
              "      <td>-0.590420</td>\n",
              "      <td>0.807096</td>\n",
              "      <td>-0.807096</td>\n",
              "    </tr>\n",
              "  </tbody>\n",
              "</table>\n",
              "</div>\n",
              "      <button class=\"colab-df-convert\" onclick=\"convertToInteractive('df-a20c4090-9457-4c00-938a-478f30ea8cba')\"\n",
              "              title=\"Convert this dataframe to an interactive table.\"\n",
              "              style=\"display:none;\">\n",
              "        \n",
              "  <svg xmlns=\"http://www.w3.org/2000/svg\" height=\"24px\"viewBox=\"0 0 24 24\"\n",
              "       width=\"24px\">\n",
              "    <path d=\"M0 0h24v24H0V0z\" fill=\"none\"/>\n",
              "    <path d=\"M18.56 5.44l.94 2.06.94-2.06 2.06-.94-2.06-.94-.94-2.06-.94 2.06-2.06.94zm-11 1L8.5 8.5l.94-2.06 2.06-.94-2.06-.94L8.5 2.5l-.94 2.06-2.06.94zm10 10l.94 2.06.94-2.06 2.06-.94-2.06-.94-.94-2.06-.94 2.06-2.06.94z\"/><path d=\"M17.41 7.96l-1.37-1.37c-.4-.4-.92-.59-1.43-.59-.52 0-1.04.2-1.43.59L10.3 9.45l-7.72 7.72c-.78.78-.78 2.05 0 2.83L4 21.41c.39.39.9.59 1.41.59.51 0 1.02-.2 1.41-.59l7.78-7.78 2.81-2.81c.8-.78.8-2.07 0-2.86zM5.41 20L4 18.59l7.72-7.72 1.47 1.35L5.41 20z\"/>\n",
              "  </svg>\n",
              "      </button>\n",
              "      \n",
              "  <style>\n",
              "    .colab-df-container {\n",
              "      display:flex;\n",
              "      flex-wrap:wrap;\n",
              "      gap: 12px;\n",
              "    }\n",
              "\n",
              "    .colab-df-convert {\n",
              "      background-color: #E8F0FE;\n",
              "      border: none;\n",
              "      border-radius: 50%;\n",
              "      cursor: pointer;\n",
              "      display: none;\n",
              "      fill: #1967D2;\n",
              "      height: 32px;\n",
              "      padding: 0 0 0 0;\n",
              "      width: 32px;\n",
              "    }\n",
              "\n",
              "    .colab-df-convert:hover {\n",
              "      background-color: #E2EBFA;\n",
              "      box-shadow: 0px 1px 2px rgba(60, 64, 67, 0.3), 0px 1px 3px 1px rgba(60, 64, 67, 0.15);\n",
              "      fill: #174EA6;\n",
              "    }\n",
              "\n",
              "    [theme=dark] .colab-df-convert {\n",
              "      background-color: #3B4455;\n",
              "      fill: #D2E3FC;\n",
              "    }\n",
              "\n",
              "    [theme=dark] .colab-df-convert:hover {\n",
              "      background-color: #434B5C;\n",
              "      box-shadow: 0px 1px 3px 1px rgba(0, 0, 0, 0.15);\n",
              "      filter: drop-shadow(0px 1px 2px rgba(0, 0, 0, 0.3));\n",
              "      fill: #FFFFFF;\n",
              "    }\n",
              "  </style>\n",
              "\n",
              "      <script>\n",
              "        const buttonEl =\n",
              "          document.querySelector('#df-a20c4090-9457-4c00-938a-478f30ea8cba button.colab-df-convert');\n",
              "        buttonEl.style.display =\n",
              "          google.colab.kernel.accessAllowed ? 'block' : 'none';\n",
              "\n",
              "        async function convertToInteractive(key) {\n",
              "          const element = document.querySelector('#df-a20c4090-9457-4c00-938a-478f30ea8cba');\n",
              "          const dataTable =\n",
              "            await google.colab.kernel.invokeFunction('convertToInteractive',\n",
              "                                                     [key], {});\n",
              "          if (!dataTable) return;\n",
              "\n",
              "          const docLinkHtml = 'Like what you see? Visit the ' +\n",
              "            '<a target=\"_blank\" href=https://colab.research.google.com/notebooks/data_table.ipynb>data table notebook</a>'\n",
              "            + ' to learn more about interactive tables.';\n",
              "          element.innerHTML = '';\n",
              "          dataTable['output_type'] = 'display_data';\n",
              "          await google.colab.output.renderOutput(dataTable, element);\n",
              "          const docLink = document.createElement('div');\n",
              "          docLink.innerHTML = docLinkHtml;\n",
              "          element.appendChild(docLink);\n",
              "        }\n",
              "      </script>\n",
              "    </div>\n",
              "  </div>\n",
              "  "
            ]
          },
          "metadata": {},
          "execution_count": 80
        }
      ],
      "source": [
        "df=pd.DataFrame({\n",
        "    'x1': x1,\n",
        "    'x2': x2,\n",
        "    'x3': x3,\n",
        "    'x4': x4\n",
        "})\n",
        "\n",
        "df.head()"
      ]
    },
    {
      "cell_type": "code",
      "execution_count": 81,
      "id": "ca66b1a1-959e-422a-a7c7-7edd90a6c9f7",
      "metadata": {
        "colab": {
          "base_uri": "https://localhost:8080/"
        },
        "id": "ca66b1a1-959e-422a-a7c7-7edd90a6c9f7",
        "outputId": "457317d2-f281-4f36-cb68-3befd237549d"
      },
      "outputs": [
        {
          "output_type": "execute_result",
          "data": {
            "text/plain": [
              "0     0.000000\n",
              "1     0.157239\n",
              "2     0.310567\n",
              "3     0.456168\n",
              "4     0.590420\n",
              "5     0.709983\n",
              "6     0.811882\n",
              "7     0.893582\n",
              "8     0.953051\n",
              "9     0.988809\n",
              "10    0.999967\n",
              "11    0.986246\n",
              "12    0.947988\n",
              "13    0.886146\n",
              "14    0.802257\n",
              "15    0.698409\n",
              "16    0.577185\n",
              "17    0.441601\n",
              "18    0.295030\n",
              "19    0.141120\n",
              "Name: x1, dtype: float64"
            ]
          },
          "metadata": {},
          "execution_count": 81
        }
      ],
      "source": [
        "df['x1']"
      ]
    },
    {
      "cell_type": "code",
      "execution_count": 82,
      "id": "d79ceae9-2c71-4e70-b34c-b69e56a05abb",
      "metadata": {
        "colab": {
          "base_uri": "https://localhost:8080/"
        },
        "id": "d79ceae9-2c71-4e70-b34c-b69e56a05abb",
        "outputId": "bde9a043-323a-4579-8c47-8146960ab6b0"
      },
      "outputs": [
        {
          "output_type": "execute_result",
          "data": {
            "text/plain": [
              "0.632382540887418"
            ]
          },
          "metadata": {},
          "execution_count": 82
        }
      ],
      "source": [
        "df['x1'].mean()"
      ]
    },
    {
      "cell_type": "code",
      "execution_count": 83,
      "id": "0f93e79a-9e71-4b3e-8902-740171fcfe11",
      "metadata": {
        "id": "0f93e79a-9e71-4b3e-8902-740171fcfe11"
      },
      "outputs": [],
      "source": [
        "df['x1'][10] = 255"
      ]
    },
    {
      "cell_type": "code",
      "source": [
        "df['x1'][20]=255"
      ],
      "metadata": {
        "id": "bSYl5De6rTDp"
      },
      "id": "bSYl5De6rTDp",
      "execution_count": 84,
      "outputs": []
    },
    {
      "cell_type": "code",
      "execution_count": 85,
      "id": "a49cb083-82b3-46c0-afd0-0b8168f570dd",
      "metadata": {
        "colab": {
          "base_uri": "https://localhost:8080/"
        },
        "id": "a49cb083-82b3-46c0-afd0-0b8168f570dd",
        "outputId": "6fe6ae42-94d5-46b6-ef67-d417b8e465ba"
      },
      "outputs": [
        {
          "output_type": "execute_result",
          "data": {
            "text/plain": [
              "0       0.000000\n",
              "1       0.157239\n",
              "2       0.310567\n",
              "3       0.456168\n",
              "4       0.590420\n",
              "5       0.709983\n",
              "6       0.811882\n",
              "7       0.893582\n",
              "8       0.953051\n",
              "9       0.988809\n",
              "10    255.000000\n",
              "11      0.986246\n",
              "12      0.947988\n",
              "13      0.886146\n",
              "14      0.802257\n",
              "15      0.698409\n",
              "16      0.577185\n",
              "17      0.441601\n",
              "18      0.295030\n",
              "19      0.141120\n",
              "Name: x1, dtype: float64"
            ]
          },
          "metadata": {},
          "execution_count": 85
        }
      ],
      "source": [
        "df['x1']"
      ]
    },
    {
      "cell_type": "code",
      "execution_count": 86,
      "id": "50c7b628-11ab-4dbf-8d71-34a2923ce943",
      "metadata": {
        "colab": {
          "base_uri": "https://localhost:8080/",
          "height": 394
        },
        "id": "50c7b628-11ab-4dbf-8d71-34a2923ce943",
        "outputId": "7249a6f3-f930-4d58-b0c0-3f9c6ba9761d"
      },
      "outputs": [
        {
          "output_type": "execute_result",
          "data": {
            "text/plain": [
              "            x1        x2        x3        x4\n",
              "0     0.000000 -0.000000  1.000000 -1.000000\n",
              "1     0.157239 -0.157239  0.987561 -0.987561\n",
              "2     0.310567 -0.310567  0.950551 -0.950551\n",
              "3     0.456168 -0.456168  0.889894 -0.889894\n",
              "4     0.590420 -0.590420  0.807096 -0.807096\n",
              "5     0.709983 -0.709983  0.704219 -0.704219\n",
              "6     0.811882 -0.811882  0.583822 -0.583822\n",
              "7     0.893582 -0.893582  0.448899 -0.448899\n",
              "8     0.953051 -0.953051  0.302809 -0.302809\n",
              "9     0.988809 -0.988809  0.149185 -0.149185\n",
              "10  255.000000 -0.999967 -0.008151  0.008151"
            ],
            "text/html": [
              "\n",
              "  <div id=\"df-1e180257-1748-4458-8015-42fb9a886388\">\n",
              "    <div class=\"colab-df-container\">\n",
              "      <div>\n",
              "<style scoped>\n",
              "    .dataframe tbody tr th:only-of-type {\n",
              "        vertical-align: middle;\n",
              "    }\n",
              "\n",
              "    .dataframe tbody tr th {\n",
              "        vertical-align: top;\n",
              "    }\n",
              "\n",
              "    .dataframe thead th {\n",
              "        text-align: right;\n",
              "    }\n",
              "</style>\n",
              "<table border=\"1\" class=\"dataframe\">\n",
              "  <thead>\n",
              "    <tr style=\"text-align: right;\">\n",
              "      <th></th>\n",
              "      <th>x1</th>\n",
              "      <th>x2</th>\n",
              "      <th>x3</th>\n",
              "      <th>x4</th>\n",
              "    </tr>\n",
              "  </thead>\n",
              "  <tbody>\n",
              "    <tr>\n",
              "      <th>0</th>\n",
              "      <td>0.000000</td>\n",
              "      <td>-0.000000</td>\n",
              "      <td>1.000000</td>\n",
              "      <td>-1.000000</td>\n",
              "    </tr>\n",
              "    <tr>\n",
              "      <th>1</th>\n",
              "      <td>0.157239</td>\n",
              "      <td>-0.157239</td>\n",
              "      <td>0.987561</td>\n",
              "      <td>-0.987561</td>\n",
              "    </tr>\n",
              "    <tr>\n",
              "      <th>2</th>\n",
              "      <td>0.310567</td>\n",
              "      <td>-0.310567</td>\n",
              "      <td>0.950551</td>\n",
              "      <td>-0.950551</td>\n",
              "    </tr>\n",
              "    <tr>\n",
              "      <th>3</th>\n",
              "      <td>0.456168</td>\n",
              "      <td>-0.456168</td>\n",
              "      <td>0.889894</td>\n",
              "      <td>-0.889894</td>\n",
              "    </tr>\n",
              "    <tr>\n",
              "      <th>4</th>\n",
              "      <td>0.590420</td>\n",
              "      <td>-0.590420</td>\n",
              "      <td>0.807096</td>\n",
              "      <td>-0.807096</td>\n",
              "    </tr>\n",
              "    <tr>\n",
              "      <th>5</th>\n",
              "      <td>0.709983</td>\n",
              "      <td>-0.709983</td>\n",
              "      <td>0.704219</td>\n",
              "      <td>-0.704219</td>\n",
              "    </tr>\n",
              "    <tr>\n",
              "      <th>6</th>\n",
              "      <td>0.811882</td>\n",
              "      <td>-0.811882</td>\n",
              "      <td>0.583822</td>\n",
              "      <td>-0.583822</td>\n",
              "    </tr>\n",
              "    <tr>\n",
              "      <th>7</th>\n",
              "      <td>0.893582</td>\n",
              "      <td>-0.893582</td>\n",
              "      <td>0.448899</td>\n",
              "      <td>-0.448899</td>\n",
              "    </tr>\n",
              "    <tr>\n",
              "      <th>8</th>\n",
              "      <td>0.953051</td>\n",
              "      <td>-0.953051</td>\n",
              "      <td>0.302809</td>\n",
              "      <td>-0.302809</td>\n",
              "    </tr>\n",
              "    <tr>\n",
              "      <th>9</th>\n",
              "      <td>0.988809</td>\n",
              "      <td>-0.988809</td>\n",
              "      <td>0.149185</td>\n",
              "      <td>-0.149185</td>\n",
              "    </tr>\n",
              "    <tr>\n",
              "      <th>10</th>\n",
              "      <td>255.000000</td>\n",
              "      <td>-0.999967</td>\n",
              "      <td>-0.008151</td>\n",
              "      <td>0.008151</td>\n",
              "    </tr>\n",
              "  </tbody>\n",
              "</table>\n",
              "</div>\n",
              "      <button class=\"colab-df-convert\" onclick=\"convertToInteractive('df-1e180257-1748-4458-8015-42fb9a886388')\"\n",
              "              title=\"Convert this dataframe to an interactive table.\"\n",
              "              style=\"display:none;\">\n",
              "        \n",
              "  <svg xmlns=\"http://www.w3.org/2000/svg\" height=\"24px\"viewBox=\"0 0 24 24\"\n",
              "       width=\"24px\">\n",
              "    <path d=\"M0 0h24v24H0V0z\" fill=\"none\"/>\n",
              "    <path d=\"M18.56 5.44l.94 2.06.94-2.06 2.06-.94-2.06-.94-.94-2.06-.94 2.06-2.06.94zm-11 1L8.5 8.5l.94-2.06 2.06-.94-2.06-.94L8.5 2.5l-.94 2.06-2.06.94zm10 10l.94 2.06.94-2.06 2.06-.94-2.06-.94-.94-2.06-.94 2.06-2.06.94z\"/><path d=\"M17.41 7.96l-1.37-1.37c-.4-.4-.92-.59-1.43-.59-.52 0-1.04.2-1.43.59L10.3 9.45l-7.72 7.72c-.78.78-.78 2.05 0 2.83L4 21.41c.39.39.9.59 1.41.59.51 0 1.02-.2 1.41-.59l7.78-7.78 2.81-2.81c.8-.78.8-2.07 0-2.86zM5.41 20L4 18.59l7.72-7.72 1.47 1.35L5.41 20z\"/>\n",
              "  </svg>\n",
              "      </button>\n",
              "      \n",
              "  <style>\n",
              "    .colab-df-container {\n",
              "      display:flex;\n",
              "      flex-wrap:wrap;\n",
              "      gap: 12px;\n",
              "    }\n",
              "\n",
              "    .colab-df-convert {\n",
              "      background-color: #E8F0FE;\n",
              "      border: none;\n",
              "      border-radius: 50%;\n",
              "      cursor: pointer;\n",
              "      display: none;\n",
              "      fill: #1967D2;\n",
              "      height: 32px;\n",
              "      padding: 0 0 0 0;\n",
              "      width: 32px;\n",
              "    }\n",
              "\n",
              "    .colab-df-convert:hover {\n",
              "      background-color: #E2EBFA;\n",
              "      box-shadow: 0px 1px 2px rgba(60, 64, 67, 0.3), 0px 1px 3px 1px rgba(60, 64, 67, 0.15);\n",
              "      fill: #174EA6;\n",
              "    }\n",
              "\n",
              "    [theme=dark] .colab-df-convert {\n",
              "      background-color: #3B4455;\n",
              "      fill: #D2E3FC;\n",
              "    }\n",
              "\n",
              "    [theme=dark] .colab-df-convert:hover {\n",
              "      background-color: #434B5C;\n",
              "      box-shadow: 0px 1px 3px 1px rgba(0, 0, 0, 0.15);\n",
              "      filter: drop-shadow(0px 1px 2px rgba(0, 0, 0, 0.3));\n",
              "      fill: #FFFFFF;\n",
              "    }\n",
              "  </style>\n",
              "\n",
              "      <script>\n",
              "        const buttonEl =\n",
              "          document.querySelector('#df-1e180257-1748-4458-8015-42fb9a886388 button.colab-df-convert');\n",
              "        buttonEl.style.display =\n",
              "          google.colab.kernel.accessAllowed ? 'block' : 'none';\n",
              "\n",
              "        async function convertToInteractive(key) {\n",
              "          const element = document.querySelector('#df-1e180257-1748-4458-8015-42fb9a886388');\n",
              "          const dataTable =\n",
              "            await google.colab.kernel.invokeFunction('convertToInteractive',\n",
              "                                                     [key], {});\n",
              "          if (!dataTable) return;\n",
              "\n",
              "          const docLinkHtml = 'Like what you see? Visit the ' +\n",
              "            '<a target=\"_blank\" href=https://colab.research.google.com/notebooks/data_table.ipynb>data table notebook</a>'\n",
              "            + ' to learn more about interactive tables.';\n",
              "          element.innerHTML = '';\n",
              "          dataTable['output_type'] = 'display_data';\n",
              "          await google.colab.output.renderOutput(dataTable, element);\n",
              "          const docLink = document.createElement('div');\n",
              "          docLink.innerHTML = docLinkHtml;\n",
              "          element.appendChild(docLink);\n",
              "        }\n",
              "      </script>\n",
              "    </div>\n",
              "  </div>\n",
              "  "
            ]
          },
          "metadata": {},
          "execution_count": 86
        }
      ],
      "source": [
        "df.head(11)"
      ]
    },
    {
      "cell_type": "code",
      "execution_count": 87,
      "id": "eea31e3d-d956-473e-bd0e-31ddd5ef6d3e",
      "metadata": {
        "colab": {
          "base_uri": "https://localhost:8080/"
        },
        "id": "eea31e3d-d956-473e-bd0e-31ddd5ef6d3e",
        "outputId": "381f003c-145b-46a6-9147-dc606e35bc2b"
      },
      "outputs": [
        {
          "output_type": "execute_result",
          "data": {
            "text/plain": [
              "x1    255.000000\n",
              "x2     -0.999967\n",
              "x3     -0.008151\n",
              "x4      0.008151\n",
              "Name: 10, dtype: float64"
            ]
          },
          "metadata": {},
          "execution_count": 87
        }
      ],
      "source": [
        "df.loc[10]"
      ]
    },
    {
      "cell_type": "code",
      "execution_count": 88,
      "id": "d3ab29c6-1bf1-4dd1-a72b-223c556efa6e",
      "metadata": {
        "colab": {
          "base_uri": "https://localhost:8080/",
          "height": 143
        },
        "id": "d3ab29c6-1bf1-4dd1-a72b-223c556efa6e",
        "outputId": "c34632ca-1680-434e-f289-f68afb67a752"
      },
      "outputs": [
        {
          "output_type": "execute_result",
          "data": {
            "text/plain": [
              "        Accuracy  Precision\n",
              "model1       100         98\n",
              "model2        98         97\n",
              "model3        86         78"
            ],
            "text/html": [
              "\n",
              "  <div id=\"df-7c19673a-e22f-44b2-8435-d3e65cb16dbb\">\n",
              "    <div class=\"colab-df-container\">\n",
              "      <div>\n",
              "<style scoped>\n",
              "    .dataframe tbody tr th:only-of-type {\n",
              "        vertical-align: middle;\n",
              "    }\n",
              "\n",
              "    .dataframe tbody tr th {\n",
              "        vertical-align: top;\n",
              "    }\n",
              "\n",
              "    .dataframe thead th {\n",
              "        text-align: right;\n",
              "    }\n",
              "</style>\n",
              "<table border=\"1\" class=\"dataframe\">\n",
              "  <thead>\n",
              "    <tr style=\"text-align: right;\">\n",
              "      <th></th>\n",
              "      <th>Accuracy</th>\n",
              "      <th>Precision</th>\n",
              "    </tr>\n",
              "  </thead>\n",
              "  <tbody>\n",
              "    <tr>\n",
              "      <th>model1</th>\n",
              "      <td>100</td>\n",
              "      <td>98</td>\n",
              "    </tr>\n",
              "    <tr>\n",
              "      <th>model2</th>\n",
              "      <td>98</td>\n",
              "      <td>97</td>\n",
              "    </tr>\n",
              "    <tr>\n",
              "      <th>model3</th>\n",
              "      <td>86</td>\n",
              "      <td>78</td>\n",
              "    </tr>\n",
              "  </tbody>\n",
              "</table>\n",
              "</div>\n",
              "      <button class=\"colab-df-convert\" onclick=\"convertToInteractive('df-7c19673a-e22f-44b2-8435-d3e65cb16dbb')\"\n",
              "              title=\"Convert this dataframe to an interactive table.\"\n",
              "              style=\"display:none;\">\n",
              "        \n",
              "  <svg xmlns=\"http://www.w3.org/2000/svg\" height=\"24px\"viewBox=\"0 0 24 24\"\n",
              "       width=\"24px\">\n",
              "    <path d=\"M0 0h24v24H0V0z\" fill=\"none\"/>\n",
              "    <path d=\"M18.56 5.44l.94 2.06.94-2.06 2.06-.94-2.06-.94-.94-2.06-.94 2.06-2.06.94zm-11 1L8.5 8.5l.94-2.06 2.06-.94-2.06-.94L8.5 2.5l-.94 2.06-2.06.94zm10 10l.94 2.06.94-2.06 2.06-.94-2.06-.94-.94-2.06-.94 2.06-2.06.94z\"/><path d=\"M17.41 7.96l-1.37-1.37c-.4-.4-.92-.59-1.43-.59-.52 0-1.04.2-1.43.59L10.3 9.45l-7.72 7.72c-.78.78-.78 2.05 0 2.83L4 21.41c.39.39.9.59 1.41.59.51 0 1.02-.2 1.41-.59l7.78-7.78 2.81-2.81c.8-.78.8-2.07 0-2.86zM5.41 20L4 18.59l7.72-7.72 1.47 1.35L5.41 20z\"/>\n",
              "  </svg>\n",
              "      </button>\n",
              "      \n",
              "  <style>\n",
              "    .colab-df-container {\n",
              "      display:flex;\n",
              "      flex-wrap:wrap;\n",
              "      gap: 12px;\n",
              "    }\n",
              "\n",
              "    .colab-df-convert {\n",
              "      background-color: #E8F0FE;\n",
              "      border: none;\n",
              "      border-radius: 50%;\n",
              "      cursor: pointer;\n",
              "      display: none;\n",
              "      fill: #1967D2;\n",
              "      height: 32px;\n",
              "      padding: 0 0 0 0;\n",
              "      width: 32px;\n",
              "    }\n",
              "\n",
              "    .colab-df-convert:hover {\n",
              "      background-color: #E2EBFA;\n",
              "      box-shadow: 0px 1px 2px rgba(60, 64, 67, 0.3), 0px 1px 3px 1px rgba(60, 64, 67, 0.15);\n",
              "      fill: #174EA6;\n",
              "    }\n",
              "\n",
              "    [theme=dark] .colab-df-convert {\n",
              "      background-color: #3B4455;\n",
              "      fill: #D2E3FC;\n",
              "    }\n",
              "\n",
              "    [theme=dark] .colab-df-convert:hover {\n",
              "      background-color: #434B5C;\n",
              "      box-shadow: 0px 1px 3px 1px rgba(0, 0, 0, 0.15);\n",
              "      filter: drop-shadow(0px 1px 2px rgba(0, 0, 0, 0.3));\n",
              "      fill: #FFFFFF;\n",
              "    }\n",
              "  </style>\n",
              "\n",
              "      <script>\n",
              "        const buttonEl =\n",
              "          document.querySelector('#df-7c19673a-e22f-44b2-8435-d3e65cb16dbb button.colab-df-convert');\n",
              "        buttonEl.style.display =\n",
              "          google.colab.kernel.accessAllowed ? 'block' : 'none';\n",
              "\n",
              "        async function convertToInteractive(key) {\n",
              "          const element = document.querySelector('#df-7c19673a-e22f-44b2-8435-d3e65cb16dbb');\n",
              "          const dataTable =\n",
              "            await google.colab.kernel.invokeFunction('convertToInteractive',\n",
              "                                                     [key], {});\n",
              "          if (!dataTable) return;\n",
              "\n",
              "          const docLinkHtml = 'Like what you see? Visit the ' +\n",
              "            '<a target=\"_blank\" href=https://colab.research.google.com/notebooks/data_table.ipynb>data table notebook</a>'\n",
              "            + ' to learn more about interactive tables.';\n",
              "          element.innerHTML = '';\n",
              "          dataTable['output_type'] = 'display_data';\n",
              "          await google.colab.output.renderOutput(dataTable, element);\n",
              "          const docLink = document.createElement('div');\n",
              "          docLink.innerHTML = docLinkHtml;\n",
              "          element.appendChild(docLink);\n",
              "        }\n",
              "      </script>\n",
              "    </div>\n",
              "  </div>\n",
              "  "
            ]
          },
          "metadata": {},
          "execution_count": 88
        }
      ],
      "source": [
        "df2 = pd.DataFrame({\n",
        "    'Accuracy': [100, 98, 86],\n",
        "    'Precision': [98, 97, 78]\n",
        "}, index=['model1', 'model2', 'model3'])\n",
        "df2"
      ]
    },
    {
      "cell_type": "code",
      "execution_count": 89,
      "id": "10829414-334a-4c0c-a561-d42f06db1f38",
      "metadata": {
        "colab": {
          "base_uri": "https://localhost:8080/"
        },
        "id": "10829414-334a-4c0c-a561-d42f06db1f38",
        "outputId": "581c5642-442d-4e65-c8eb-fbcb1a3d9489"
      },
      "outputs": [
        {
          "output_type": "execute_result",
          "data": {
            "text/plain": [
              "Accuracy     86\n",
              "Precision    78\n",
              "Name: model3, dtype: int64"
            ]
          },
          "metadata": {},
          "execution_count": 89
        }
      ],
      "source": [
        "df2.loc['model3']"
      ]
    },
    {
      "cell_type": "code",
      "execution_count": 90,
      "id": "f236c8f5-17ff-4a18-aa9d-9cffd3c5dfae",
      "metadata": {
        "colab": {
          "base_uri": "https://localhost:8080/",
          "height": 112
        },
        "id": "f236c8f5-17ff-4a18-aa9d-9cffd3c5dfae",
        "outputId": "007a85ab-72e5-41c6-91e6-50cd0651ce41"
      },
      "outputs": [
        {
          "output_type": "execute_result",
          "data": {
            "text/plain": [
              "        Accuracy  Precision\n",
              "model1       100         98\n",
              "model3        86         78"
            ],
            "text/html": [
              "\n",
              "  <div id=\"df-a70db26c-0a01-4f1d-b83c-79f65a24ab2b\">\n",
              "    <div class=\"colab-df-container\">\n",
              "      <div>\n",
              "<style scoped>\n",
              "    .dataframe tbody tr th:only-of-type {\n",
              "        vertical-align: middle;\n",
              "    }\n",
              "\n",
              "    .dataframe tbody tr th {\n",
              "        vertical-align: top;\n",
              "    }\n",
              "\n",
              "    .dataframe thead th {\n",
              "        text-align: right;\n",
              "    }\n",
              "</style>\n",
              "<table border=\"1\" class=\"dataframe\">\n",
              "  <thead>\n",
              "    <tr style=\"text-align: right;\">\n",
              "      <th></th>\n",
              "      <th>Accuracy</th>\n",
              "      <th>Precision</th>\n",
              "    </tr>\n",
              "  </thead>\n",
              "  <tbody>\n",
              "    <tr>\n",
              "      <th>model1</th>\n",
              "      <td>100</td>\n",
              "      <td>98</td>\n",
              "    </tr>\n",
              "    <tr>\n",
              "      <th>model3</th>\n",
              "      <td>86</td>\n",
              "      <td>78</td>\n",
              "    </tr>\n",
              "  </tbody>\n",
              "</table>\n",
              "</div>\n",
              "      <button class=\"colab-df-convert\" onclick=\"convertToInteractive('df-a70db26c-0a01-4f1d-b83c-79f65a24ab2b')\"\n",
              "              title=\"Convert this dataframe to an interactive table.\"\n",
              "              style=\"display:none;\">\n",
              "        \n",
              "  <svg xmlns=\"http://www.w3.org/2000/svg\" height=\"24px\"viewBox=\"0 0 24 24\"\n",
              "       width=\"24px\">\n",
              "    <path d=\"M0 0h24v24H0V0z\" fill=\"none\"/>\n",
              "    <path d=\"M18.56 5.44l.94 2.06.94-2.06 2.06-.94-2.06-.94-.94-2.06-.94 2.06-2.06.94zm-11 1L8.5 8.5l.94-2.06 2.06-.94-2.06-.94L8.5 2.5l-.94 2.06-2.06.94zm10 10l.94 2.06.94-2.06 2.06-.94-2.06-.94-.94-2.06-.94 2.06-2.06.94z\"/><path d=\"M17.41 7.96l-1.37-1.37c-.4-.4-.92-.59-1.43-.59-.52 0-1.04.2-1.43.59L10.3 9.45l-7.72 7.72c-.78.78-.78 2.05 0 2.83L4 21.41c.39.39.9.59 1.41.59.51 0 1.02-.2 1.41-.59l7.78-7.78 2.81-2.81c.8-.78.8-2.07 0-2.86zM5.41 20L4 18.59l7.72-7.72 1.47 1.35L5.41 20z\"/>\n",
              "  </svg>\n",
              "      </button>\n",
              "      \n",
              "  <style>\n",
              "    .colab-df-container {\n",
              "      display:flex;\n",
              "      flex-wrap:wrap;\n",
              "      gap: 12px;\n",
              "    }\n",
              "\n",
              "    .colab-df-convert {\n",
              "      background-color: #E8F0FE;\n",
              "      border: none;\n",
              "      border-radius: 50%;\n",
              "      cursor: pointer;\n",
              "      display: none;\n",
              "      fill: #1967D2;\n",
              "      height: 32px;\n",
              "      padding: 0 0 0 0;\n",
              "      width: 32px;\n",
              "    }\n",
              "\n",
              "    .colab-df-convert:hover {\n",
              "      background-color: #E2EBFA;\n",
              "      box-shadow: 0px 1px 2px rgba(60, 64, 67, 0.3), 0px 1px 3px 1px rgba(60, 64, 67, 0.15);\n",
              "      fill: #174EA6;\n",
              "    }\n",
              "\n",
              "    [theme=dark] .colab-df-convert {\n",
              "      background-color: #3B4455;\n",
              "      fill: #D2E3FC;\n",
              "    }\n",
              "\n",
              "    [theme=dark] .colab-df-convert:hover {\n",
              "      background-color: #434B5C;\n",
              "      box-shadow: 0px 1px 3px 1px rgba(0, 0, 0, 0.15);\n",
              "      filter: drop-shadow(0px 1px 2px rgba(0, 0, 0, 0.3));\n",
              "      fill: #FFFFFF;\n",
              "    }\n",
              "  </style>\n",
              "\n",
              "      <script>\n",
              "        const buttonEl =\n",
              "          document.querySelector('#df-a70db26c-0a01-4f1d-b83c-79f65a24ab2b button.colab-df-convert');\n",
              "        buttonEl.style.display =\n",
              "          google.colab.kernel.accessAllowed ? 'block' : 'none';\n",
              "\n",
              "        async function convertToInteractive(key) {\n",
              "          const element = document.querySelector('#df-a70db26c-0a01-4f1d-b83c-79f65a24ab2b');\n",
              "          const dataTable =\n",
              "            await google.colab.kernel.invokeFunction('convertToInteractive',\n",
              "                                                     [key], {});\n",
              "          if (!dataTable) return;\n",
              "\n",
              "          const docLinkHtml = 'Like what you see? Visit the ' +\n",
              "            '<a target=\"_blank\" href=https://colab.research.google.com/notebooks/data_table.ipynb>data table notebook</a>'\n",
              "            + ' to learn more about interactive tables.';\n",
              "          element.innerHTML = '';\n",
              "          dataTable['output_type'] = 'display_data';\n",
              "          await google.colab.output.renderOutput(dataTable, element);\n",
              "          const docLink = document.createElement('div');\n",
              "          docLink.innerHTML = docLinkHtml;\n",
              "          element.appendChild(docLink);\n",
              "        }\n",
              "      </script>\n",
              "    </div>\n",
              "  </div>\n",
              "  "
            ]
          },
          "metadata": {},
          "execution_count": 90
        }
      ],
      "source": [
        "df2.loc[['model1', 'model3']]"
      ]
    },
    {
      "cell_type": "code",
      "execution_count": 91,
      "id": "0dc88dfb-3dc4-4b36-b94d-6ebc220e9b72",
      "metadata": {
        "id": "0dc88dfb-3dc4-4b36-b94d-6ebc220e9b72"
      },
      "outputs": [],
      "source": [
        "#df2.loc[]"
      ]
    },
    {
      "cell_type": "code",
      "execution_count": 92,
      "id": "e7795198-a8e3-4d6a-b46c-aa9ca73af625",
      "metadata": {
        "colab": {
          "base_uri": "https://localhost:8080/",
          "height": 143
        },
        "id": "e7795198-a8e3-4d6a-b46c-aa9ca73af625",
        "outputId": "3c0fc155-0516-466d-9b96-9ada7b1acbf0"
      },
      "outputs": [
        {
          "output_type": "execute_result",
          "data": {
            "text/plain": [
              "        Accuracy  Precision\n",
              "model1       100         98\n",
              "model2        98         97\n",
              "model3        86         78"
            ],
            "text/html": [
              "\n",
              "  <div id=\"df-057598c6-85d7-46c5-9ba1-0e0fc2db7c89\">\n",
              "    <div class=\"colab-df-container\">\n",
              "      <div>\n",
              "<style scoped>\n",
              "    .dataframe tbody tr th:only-of-type {\n",
              "        vertical-align: middle;\n",
              "    }\n",
              "\n",
              "    .dataframe tbody tr th {\n",
              "        vertical-align: top;\n",
              "    }\n",
              "\n",
              "    .dataframe thead th {\n",
              "        text-align: right;\n",
              "    }\n",
              "</style>\n",
              "<table border=\"1\" class=\"dataframe\">\n",
              "  <thead>\n",
              "    <tr style=\"text-align: right;\">\n",
              "      <th></th>\n",
              "      <th>Accuracy</th>\n",
              "      <th>Precision</th>\n",
              "    </tr>\n",
              "  </thead>\n",
              "  <tbody>\n",
              "    <tr>\n",
              "      <th>model1</th>\n",
              "      <td>100</td>\n",
              "      <td>98</td>\n",
              "    </tr>\n",
              "    <tr>\n",
              "      <th>model2</th>\n",
              "      <td>98</td>\n",
              "      <td>97</td>\n",
              "    </tr>\n",
              "    <tr>\n",
              "      <th>model3</th>\n",
              "      <td>86</td>\n",
              "      <td>78</td>\n",
              "    </tr>\n",
              "  </tbody>\n",
              "</table>\n",
              "</div>\n",
              "      <button class=\"colab-df-convert\" onclick=\"convertToInteractive('df-057598c6-85d7-46c5-9ba1-0e0fc2db7c89')\"\n",
              "              title=\"Convert this dataframe to an interactive table.\"\n",
              "              style=\"display:none;\">\n",
              "        \n",
              "  <svg xmlns=\"http://www.w3.org/2000/svg\" height=\"24px\"viewBox=\"0 0 24 24\"\n",
              "       width=\"24px\">\n",
              "    <path d=\"M0 0h24v24H0V0z\" fill=\"none\"/>\n",
              "    <path d=\"M18.56 5.44l.94 2.06.94-2.06 2.06-.94-2.06-.94-.94-2.06-.94 2.06-2.06.94zm-11 1L8.5 8.5l.94-2.06 2.06-.94-2.06-.94L8.5 2.5l-.94 2.06-2.06.94zm10 10l.94 2.06.94-2.06 2.06-.94-2.06-.94-.94-2.06-.94 2.06-2.06.94z\"/><path d=\"M17.41 7.96l-1.37-1.37c-.4-.4-.92-.59-1.43-.59-.52 0-1.04.2-1.43.59L10.3 9.45l-7.72 7.72c-.78.78-.78 2.05 0 2.83L4 21.41c.39.39.9.59 1.41.59.51 0 1.02-.2 1.41-.59l7.78-7.78 2.81-2.81c.8-.78.8-2.07 0-2.86zM5.41 20L4 18.59l7.72-7.72 1.47 1.35L5.41 20z\"/>\n",
              "  </svg>\n",
              "      </button>\n",
              "      \n",
              "  <style>\n",
              "    .colab-df-container {\n",
              "      display:flex;\n",
              "      flex-wrap:wrap;\n",
              "      gap: 12px;\n",
              "    }\n",
              "\n",
              "    .colab-df-convert {\n",
              "      background-color: #E8F0FE;\n",
              "      border: none;\n",
              "      border-radius: 50%;\n",
              "      cursor: pointer;\n",
              "      display: none;\n",
              "      fill: #1967D2;\n",
              "      height: 32px;\n",
              "      padding: 0 0 0 0;\n",
              "      width: 32px;\n",
              "    }\n",
              "\n",
              "    .colab-df-convert:hover {\n",
              "      background-color: #E2EBFA;\n",
              "      box-shadow: 0px 1px 2px rgba(60, 64, 67, 0.3), 0px 1px 3px 1px rgba(60, 64, 67, 0.15);\n",
              "      fill: #174EA6;\n",
              "    }\n",
              "\n",
              "    [theme=dark] .colab-df-convert {\n",
              "      background-color: #3B4455;\n",
              "      fill: #D2E3FC;\n",
              "    }\n",
              "\n",
              "    [theme=dark] .colab-df-convert:hover {\n",
              "      background-color: #434B5C;\n",
              "      box-shadow: 0px 1px 3px 1px rgba(0, 0, 0, 0.15);\n",
              "      filter: drop-shadow(0px 1px 2px rgba(0, 0, 0, 0.3));\n",
              "      fill: #FFFFFF;\n",
              "    }\n",
              "  </style>\n",
              "\n",
              "      <script>\n",
              "        const buttonEl =\n",
              "          document.querySelector('#df-057598c6-85d7-46c5-9ba1-0e0fc2db7c89 button.colab-df-convert');\n",
              "        buttonEl.style.display =\n",
              "          google.colab.kernel.accessAllowed ? 'block' : 'none';\n",
              "\n",
              "        async function convertToInteractive(key) {\n",
              "          const element = document.querySelector('#df-057598c6-85d7-46c5-9ba1-0e0fc2db7c89');\n",
              "          const dataTable =\n",
              "            await google.colab.kernel.invokeFunction('convertToInteractive',\n",
              "                                                     [key], {});\n",
              "          if (!dataTable) return;\n",
              "\n",
              "          const docLinkHtml = 'Like what you see? Visit the ' +\n",
              "            '<a target=\"_blank\" href=https://colab.research.google.com/notebooks/data_table.ipynb>data table notebook</a>'\n",
              "            + ' to learn more about interactive tables.';\n",
              "          element.innerHTML = '';\n",
              "          dataTable['output_type'] = 'display_data';\n",
              "          await google.colab.output.renderOutput(dataTable, element);\n",
              "          const docLink = document.createElement('div');\n",
              "          docLink.innerHTML = docLinkHtml;\n",
              "          element.appendChild(docLink);\n",
              "        }\n",
              "      </script>\n",
              "    </div>\n",
              "  </div>\n",
              "  "
            ]
          },
          "metadata": {},
          "execution_count": 92
        }
      ],
      "source": [
        "df2.loc[:,:]"
      ]
    },
    {
      "cell_type": "code",
      "execution_count": 93,
      "id": "caa1c202-9e61-4ccb-a313-f9570ebcb0de",
      "metadata": {
        "colab": {
          "base_uri": "https://localhost:8080/",
          "height": 143
        },
        "id": "caa1c202-9e61-4ccb-a313-f9570ebcb0de",
        "outputId": "6b8a36f6-7729-4bf9-8866-79a1134f24e9"
      },
      "outputs": [
        {
          "output_type": "execute_result",
          "data": {
            "text/plain": [
              "        Accuracy  Precision\n",
              "model1       100         98\n",
              "model2        98         97\n",
              "model3        86         78"
            ],
            "text/html": [
              "\n",
              "  <div id=\"df-0c5bccac-b190-4fd2-ac88-e8edc05ad6b5\">\n",
              "    <div class=\"colab-df-container\">\n",
              "      <div>\n",
              "<style scoped>\n",
              "    .dataframe tbody tr th:only-of-type {\n",
              "        vertical-align: middle;\n",
              "    }\n",
              "\n",
              "    .dataframe tbody tr th {\n",
              "        vertical-align: top;\n",
              "    }\n",
              "\n",
              "    .dataframe thead th {\n",
              "        text-align: right;\n",
              "    }\n",
              "</style>\n",
              "<table border=\"1\" class=\"dataframe\">\n",
              "  <thead>\n",
              "    <tr style=\"text-align: right;\">\n",
              "      <th></th>\n",
              "      <th>Accuracy</th>\n",
              "      <th>Precision</th>\n",
              "    </tr>\n",
              "  </thead>\n",
              "  <tbody>\n",
              "    <tr>\n",
              "      <th>model1</th>\n",
              "      <td>100</td>\n",
              "      <td>98</td>\n",
              "    </tr>\n",
              "    <tr>\n",
              "      <th>model2</th>\n",
              "      <td>98</td>\n",
              "      <td>97</td>\n",
              "    </tr>\n",
              "    <tr>\n",
              "      <th>model3</th>\n",
              "      <td>86</td>\n",
              "      <td>78</td>\n",
              "    </tr>\n",
              "  </tbody>\n",
              "</table>\n",
              "</div>\n",
              "      <button class=\"colab-df-convert\" onclick=\"convertToInteractive('df-0c5bccac-b190-4fd2-ac88-e8edc05ad6b5')\"\n",
              "              title=\"Convert this dataframe to an interactive table.\"\n",
              "              style=\"display:none;\">\n",
              "        \n",
              "  <svg xmlns=\"http://www.w3.org/2000/svg\" height=\"24px\"viewBox=\"0 0 24 24\"\n",
              "       width=\"24px\">\n",
              "    <path d=\"M0 0h24v24H0V0z\" fill=\"none\"/>\n",
              "    <path d=\"M18.56 5.44l.94 2.06.94-2.06 2.06-.94-2.06-.94-.94-2.06-.94 2.06-2.06.94zm-11 1L8.5 8.5l.94-2.06 2.06-.94-2.06-.94L8.5 2.5l-.94 2.06-2.06.94zm10 10l.94 2.06.94-2.06 2.06-.94-2.06-.94-.94-2.06-.94 2.06-2.06.94z\"/><path d=\"M17.41 7.96l-1.37-1.37c-.4-.4-.92-.59-1.43-.59-.52 0-1.04.2-1.43.59L10.3 9.45l-7.72 7.72c-.78.78-.78 2.05 0 2.83L4 21.41c.39.39.9.59 1.41.59.51 0 1.02-.2 1.41-.59l7.78-7.78 2.81-2.81c.8-.78.8-2.07 0-2.86zM5.41 20L4 18.59l7.72-7.72 1.47 1.35L5.41 20z\"/>\n",
              "  </svg>\n",
              "      </button>\n",
              "      \n",
              "  <style>\n",
              "    .colab-df-container {\n",
              "      display:flex;\n",
              "      flex-wrap:wrap;\n",
              "      gap: 12px;\n",
              "    }\n",
              "\n",
              "    .colab-df-convert {\n",
              "      background-color: #E8F0FE;\n",
              "      border: none;\n",
              "      border-radius: 50%;\n",
              "      cursor: pointer;\n",
              "      display: none;\n",
              "      fill: #1967D2;\n",
              "      height: 32px;\n",
              "      padding: 0 0 0 0;\n",
              "      width: 32px;\n",
              "    }\n",
              "\n",
              "    .colab-df-convert:hover {\n",
              "      background-color: #E2EBFA;\n",
              "      box-shadow: 0px 1px 2px rgba(60, 64, 67, 0.3), 0px 1px 3px 1px rgba(60, 64, 67, 0.15);\n",
              "      fill: #174EA6;\n",
              "    }\n",
              "\n",
              "    [theme=dark] .colab-df-convert {\n",
              "      background-color: #3B4455;\n",
              "      fill: #D2E3FC;\n",
              "    }\n",
              "\n",
              "    [theme=dark] .colab-df-convert:hover {\n",
              "      background-color: #434B5C;\n",
              "      box-shadow: 0px 1px 3px 1px rgba(0, 0, 0, 0.15);\n",
              "      filter: drop-shadow(0px 1px 2px rgba(0, 0, 0, 0.3));\n",
              "      fill: #FFFFFF;\n",
              "    }\n",
              "  </style>\n",
              "\n",
              "      <script>\n",
              "        const buttonEl =\n",
              "          document.querySelector('#df-0c5bccac-b190-4fd2-ac88-e8edc05ad6b5 button.colab-df-convert');\n",
              "        buttonEl.style.display =\n",
              "          google.colab.kernel.accessAllowed ? 'block' : 'none';\n",
              "\n",
              "        async function convertToInteractive(key) {\n",
              "          const element = document.querySelector('#df-0c5bccac-b190-4fd2-ac88-e8edc05ad6b5');\n",
              "          const dataTable =\n",
              "            await google.colab.kernel.invokeFunction('convertToInteractive',\n",
              "                                                     [key], {});\n",
              "          if (!dataTable) return;\n",
              "\n",
              "          const docLinkHtml = 'Like what you see? Visit the ' +\n",
              "            '<a target=\"_blank\" href=https://colab.research.google.com/notebooks/data_table.ipynb>data table notebook</a>'\n",
              "            + ' to learn more about interactive tables.';\n",
              "          element.innerHTML = '';\n",
              "          dataTable['output_type'] = 'display_data';\n",
              "          await google.colab.output.renderOutput(dataTable, element);\n",
              "          const docLink = document.createElement('div');\n",
              "          docLink.innerHTML = docLinkHtml;\n",
              "          element.appendChild(docLink);\n",
              "        }\n",
              "      </script>\n",
              "    </div>\n",
              "  </div>\n",
              "  "
            ]
          },
          "metadata": {},
          "execution_count": 93
        }
      ],
      "source": [
        "df2.loc[:, ]"
      ]
    },
    {
      "cell_type": "code",
      "execution_count": 94,
      "id": "d8adad51-f649-49d6-a29b-5539d61e81c3",
      "metadata": {
        "colab": {
          "base_uri": "https://localhost:8080/"
        },
        "id": "d8adad51-f649-49d6-a29b-5539d61e81c3",
        "outputId": "089f8b14-7519-4501-c3f3-170570fa646a"
      },
      "outputs": [
        {
          "output_type": "execute_result",
          "data": {
            "text/plain": [
              "model1    100\n",
              "model3     86\n",
              "Name: Accuracy, dtype: int64"
            ]
          },
          "metadata": {},
          "execution_count": 94
        }
      ],
      "source": [
        "df2.loc[['model1', 'model3'], 'Accuracy']"
      ]
    },
    {
      "cell_type": "code",
      "source": [
        "df2"
      ],
      "metadata": {
        "colab": {
          "base_uri": "https://localhost:8080/",
          "height": 143
        },
        "id": "GVcU3szxNWX4",
        "outputId": "370d0249-e92f-4ba0-f039-d8312493d883"
      },
      "id": "GVcU3szxNWX4",
      "execution_count": 95,
      "outputs": [
        {
          "output_type": "execute_result",
          "data": {
            "text/plain": [
              "        Accuracy  Precision\n",
              "model1       100         98\n",
              "model2        98         97\n",
              "model3        86         78"
            ],
            "text/html": [
              "\n",
              "  <div id=\"df-8a80dc69-5eea-4fd4-aa16-dfff2ee10f6a\">\n",
              "    <div class=\"colab-df-container\">\n",
              "      <div>\n",
              "<style scoped>\n",
              "    .dataframe tbody tr th:only-of-type {\n",
              "        vertical-align: middle;\n",
              "    }\n",
              "\n",
              "    .dataframe tbody tr th {\n",
              "        vertical-align: top;\n",
              "    }\n",
              "\n",
              "    .dataframe thead th {\n",
              "        text-align: right;\n",
              "    }\n",
              "</style>\n",
              "<table border=\"1\" class=\"dataframe\">\n",
              "  <thead>\n",
              "    <tr style=\"text-align: right;\">\n",
              "      <th></th>\n",
              "      <th>Accuracy</th>\n",
              "      <th>Precision</th>\n",
              "    </tr>\n",
              "  </thead>\n",
              "  <tbody>\n",
              "    <tr>\n",
              "      <th>model1</th>\n",
              "      <td>100</td>\n",
              "      <td>98</td>\n",
              "    </tr>\n",
              "    <tr>\n",
              "      <th>model2</th>\n",
              "      <td>98</td>\n",
              "      <td>97</td>\n",
              "    </tr>\n",
              "    <tr>\n",
              "      <th>model3</th>\n",
              "      <td>86</td>\n",
              "      <td>78</td>\n",
              "    </tr>\n",
              "  </tbody>\n",
              "</table>\n",
              "</div>\n",
              "      <button class=\"colab-df-convert\" onclick=\"convertToInteractive('df-8a80dc69-5eea-4fd4-aa16-dfff2ee10f6a')\"\n",
              "              title=\"Convert this dataframe to an interactive table.\"\n",
              "              style=\"display:none;\">\n",
              "        \n",
              "  <svg xmlns=\"http://www.w3.org/2000/svg\" height=\"24px\"viewBox=\"0 0 24 24\"\n",
              "       width=\"24px\">\n",
              "    <path d=\"M0 0h24v24H0V0z\" fill=\"none\"/>\n",
              "    <path d=\"M18.56 5.44l.94 2.06.94-2.06 2.06-.94-2.06-.94-.94-2.06-.94 2.06-2.06.94zm-11 1L8.5 8.5l.94-2.06 2.06-.94-2.06-.94L8.5 2.5l-.94 2.06-2.06.94zm10 10l.94 2.06.94-2.06 2.06-.94-2.06-.94-.94-2.06-.94 2.06-2.06.94z\"/><path d=\"M17.41 7.96l-1.37-1.37c-.4-.4-.92-.59-1.43-.59-.52 0-1.04.2-1.43.59L10.3 9.45l-7.72 7.72c-.78.78-.78 2.05 0 2.83L4 21.41c.39.39.9.59 1.41.59.51 0 1.02-.2 1.41-.59l7.78-7.78 2.81-2.81c.8-.78.8-2.07 0-2.86zM5.41 20L4 18.59l7.72-7.72 1.47 1.35L5.41 20z\"/>\n",
              "  </svg>\n",
              "      </button>\n",
              "      \n",
              "  <style>\n",
              "    .colab-df-container {\n",
              "      display:flex;\n",
              "      flex-wrap:wrap;\n",
              "      gap: 12px;\n",
              "    }\n",
              "\n",
              "    .colab-df-convert {\n",
              "      background-color: #E8F0FE;\n",
              "      border: none;\n",
              "      border-radius: 50%;\n",
              "      cursor: pointer;\n",
              "      display: none;\n",
              "      fill: #1967D2;\n",
              "      height: 32px;\n",
              "      padding: 0 0 0 0;\n",
              "      width: 32px;\n",
              "    }\n",
              "\n",
              "    .colab-df-convert:hover {\n",
              "      background-color: #E2EBFA;\n",
              "      box-shadow: 0px 1px 2px rgba(60, 64, 67, 0.3), 0px 1px 3px 1px rgba(60, 64, 67, 0.15);\n",
              "      fill: #174EA6;\n",
              "    }\n",
              "\n",
              "    [theme=dark] .colab-df-convert {\n",
              "      background-color: #3B4455;\n",
              "      fill: #D2E3FC;\n",
              "    }\n",
              "\n",
              "    [theme=dark] .colab-df-convert:hover {\n",
              "      background-color: #434B5C;\n",
              "      box-shadow: 0px 1px 3px 1px rgba(0, 0, 0, 0.15);\n",
              "      filter: drop-shadow(0px 1px 2px rgba(0, 0, 0, 0.3));\n",
              "      fill: #FFFFFF;\n",
              "    }\n",
              "  </style>\n",
              "\n",
              "      <script>\n",
              "        const buttonEl =\n",
              "          document.querySelector('#df-8a80dc69-5eea-4fd4-aa16-dfff2ee10f6a button.colab-df-convert');\n",
              "        buttonEl.style.display =\n",
              "          google.colab.kernel.accessAllowed ? 'block' : 'none';\n",
              "\n",
              "        async function convertToInteractive(key) {\n",
              "          const element = document.querySelector('#df-8a80dc69-5eea-4fd4-aa16-dfff2ee10f6a');\n",
              "          const dataTable =\n",
              "            await google.colab.kernel.invokeFunction('convertToInteractive',\n",
              "                                                     [key], {});\n",
              "          if (!dataTable) return;\n",
              "\n",
              "          const docLinkHtml = 'Like what you see? Visit the ' +\n",
              "            '<a target=\"_blank\" href=https://colab.research.google.com/notebooks/data_table.ipynb>data table notebook</a>'\n",
              "            + ' to learn more about interactive tables.';\n",
              "          element.innerHTML = '';\n",
              "          dataTable['output_type'] = 'display_data';\n",
              "          await google.colab.output.renderOutput(dataTable, element);\n",
              "          const docLink = document.createElement('div');\n",
              "          docLink.innerHTML = docLinkHtml;\n",
              "          element.appendChild(docLink);\n",
              "        }\n",
              "      </script>\n",
              "    </div>\n",
              "  </div>\n",
              "  "
            ]
          },
          "metadata": {},
          "execution_count": 95
        }
      ]
    },
    {
      "cell_type": "code",
      "execution_count": 96,
      "id": "7440ac58-5f12-4663-802f-04335d64978b",
      "metadata": {
        "colab": {
          "base_uri": "https://localhost:8080/",
          "height": 206
        },
        "id": "7440ac58-5f12-4663-802f-04335d64978b",
        "outputId": "858f0ef5-40ac-42d8-9e2f-974f89208518"
      },
      "outputs": [
        {
          "output_type": "execute_result",
          "data": {
            "text/plain": [
              "         x1        x2        x3        x4\n",
              "0  0.000000 -0.000000  1.000000 -1.000000\n",
              "1  0.157239 -0.157239  0.987561 -0.987561\n",
              "2  0.310567 -0.310567  0.950551 -0.950551\n",
              "3  0.456168 -0.456168  0.889894 -0.889894\n",
              "4  0.590420 -0.590420  0.807096 -0.807096"
            ],
            "text/html": [
              "\n",
              "  <div id=\"df-969cd344-c198-437a-a81a-b460b188f11b\">\n",
              "    <div class=\"colab-df-container\">\n",
              "      <div>\n",
              "<style scoped>\n",
              "    .dataframe tbody tr th:only-of-type {\n",
              "        vertical-align: middle;\n",
              "    }\n",
              "\n",
              "    .dataframe tbody tr th {\n",
              "        vertical-align: top;\n",
              "    }\n",
              "\n",
              "    .dataframe thead th {\n",
              "        text-align: right;\n",
              "    }\n",
              "</style>\n",
              "<table border=\"1\" class=\"dataframe\">\n",
              "  <thead>\n",
              "    <tr style=\"text-align: right;\">\n",
              "      <th></th>\n",
              "      <th>x1</th>\n",
              "      <th>x2</th>\n",
              "      <th>x3</th>\n",
              "      <th>x4</th>\n",
              "    </tr>\n",
              "  </thead>\n",
              "  <tbody>\n",
              "    <tr>\n",
              "      <th>0</th>\n",
              "      <td>0.000000</td>\n",
              "      <td>-0.000000</td>\n",
              "      <td>1.000000</td>\n",
              "      <td>-1.000000</td>\n",
              "    </tr>\n",
              "    <tr>\n",
              "      <th>1</th>\n",
              "      <td>0.157239</td>\n",
              "      <td>-0.157239</td>\n",
              "      <td>0.987561</td>\n",
              "      <td>-0.987561</td>\n",
              "    </tr>\n",
              "    <tr>\n",
              "      <th>2</th>\n",
              "      <td>0.310567</td>\n",
              "      <td>-0.310567</td>\n",
              "      <td>0.950551</td>\n",
              "      <td>-0.950551</td>\n",
              "    </tr>\n",
              "    <tr>\n",
              "      <th>3</th>\n",
              "      <td>0.456168</td>\n",
              "      <td>-0.456168</td>\n",
              "      <td>0.889894</td>\n",
              "      <td>-0.889894</td>\n",
              "    </tr>\n",
              "    <tr>\n",
              "      <th>4</th>\n",
              "      <td>0.590420</td>\n",
              "      <td>-0.590420</td>\n",
              "      <td>0.807096</td>\n",
              "      <td>-0.807096</td>\n",
              "    </tr>\n",
              "  </tbody>\n",
              "</table>\n",
              "</div>\n",
              "      <button class=\"colab-df-convert\" onclick=\"convertToInteractive('df-969cd344-c198-437a-a81a-b460b188f11b')\"\n",
              "              title=\"Convert this dataframe to an interactive table.\"\n",
              "              style=\"display:none;\">\n",
              "        \n",
              "  <svg xmlns=\"http://www.w3.org/2000/svg\" height=\"24px\"viewBox=\"0 0 24 24\"\n",
              "       width=\"24px\">\n",
              "    <path d=\"M0 0h24v24H0V0z\" fill=\"none\"/>\n",
              "    <path d=\"M18.56 5.44l.94 2.06.94-2.06 2.06-.94-2.06-.94-.94-2.06-.94 2.06-2.06.94zm-11 1L8.5 8.5l.94-2.06 2.06-.94-2.06-.94L8.5 2.5l-.94 2.06-2.06.94zm10 10l.94 2.06.94-2.06 2.06-.94-2.06-.94-.94-2.06-.94 2.06-2.06.94z\"/><path d=\"M17.41 7.96l-1.37-1.37c-.4-.4-.92-.59-1.43-.59-.52 0-1.04.2-1.43.59L10.3 9.45l-7.72 7.72c-.78.78-.78 2.05 0 2.83L4 21.41c.39.39.9.59 1.41.59.51 0 1.02-.2 1.41-.59l7.78-7.78 2.81-2.81c.8-.78.8-2.07 0-2.86zM5.41 20L4 18.59l7.72-7.72 1.47 1.35L5.41 20z\"/>\n",
              "  </svg>\n",
              "      </button>\n",
              "      \n",
              "  <style>\n",
              "    .colab-df-container {\n",
              "      display:flex;\n",
              "      flex-wrap:wrap;\n",
              "      gap: 12px;\n",
              "    }\n",
              "\n",
              "    .colab-df-convert {\n",
              "      background-color: #E8F0FE;\n",
              "      border: none;\n",
              "      border-radius: 50%;\n",
              "      cursor: pointer;\n",
              "      display: none;\n",
              "      fill: #1967D2;\n",
              "      height: 32px;\n",
              "      padding: 0 0 0 0;\n",
              "      width: 32px;\n",
              "    }\n",
              "\n",
              "    .colab-df-convert:hover {\n",
              "      background-color: #E2EBFA;\n",
              "      box-shadow: 0px 1px 2px rgba(60, 64, 67, 0.3), 0px 1px 3px 1px rgba(60, 64, 67, 0.15);\n",
              "      fill: #174EA6;\n",
              "    }\n",
              "\n",
              "    [theme=dark] .colab-df-convert {\n",
              "      background-color: #3B4455;\n",
              "      fill: #D2E3FC;\n",
              "    }\n",
              "\n",
              "    [theme=dark] .colab-df-convert:hover {\n",
              "      background-color: #434B5C;\n",
              "      box-shadow: 0px 1px 3px 1px rgba(0, 0, 0, 0.15);\n",
              "      filter: drop-shadow(0px 1px 2px rgba(0, 0, 0, 0.3));\n",
              "      fill: #FFFFFF;\n",
              "    }\n",
              "  </style>\n",
              "\n",
              "      <script>\n",
              "        const buttonEl =\n",
              "          document.querySelector('#df-969cd344-c198-437a-a81a-b460b188f11b button.colab-df-convert');\n",
              "        buttonEl.style.display =\n",
              "          google.colab.kernel.accessAllowed ? 'block' : 'none';\n",
              "\n",
              "        async function convertToInteractive(key) {\n",
              "          const element = document.querySelector('#df-969cd344-c198-437a-a81a-b460b188f11b');\n",
              "          const dataTable =\n",
              "            await google.colab.kernel.invokeFunction('convertToInteractive',\n",
              "                                                     [key], {});\n",
              "          if (!dataTable) return;\n",
              "\n",
              "          const docLinkHtml = 'Like what you see? Visit the ' +\n",
              "            '<a target=\"_blank\" href=https://colab.research.google.com/notebooks/data_table.ipynb>data table notebook</a>'\n",
              "            + ' to learn more about interactive tables.';\n",
              "          element.innerHTML = '';\n",
              "          dataTable['output_type'] = 'display_data';\n",
              "          await google.colab.output.renderOutput(dataTable, element);\n",
              "          const docLink = document.createElement('div');\n",
              "          docLink.innerHTML = docLinkHtml;\n",
              "          element.appendChild(docLink);\n",
              "        }\n",
              "      </script>\n",
              "    </div>\n",
              "  </div>\n",
              "  "
            ]
          },
          "metadata": {},
          "execution_count": 96
        }
      ],
      "source": [
        "df.iloc[:5]"
      ]
    },
    {
      "cell_type": "code",
      "execution_count": 97,
      "id": "19849177-c400-45ad-a3a5-4a74d5372d1a",
      "metadata": {
        "colab": {
          "base_uri": "https://localhost:8080/",
          "height": 143
        },
        "id": "19849177-c400-45ad-a3a5-4a74d5372d1a",
        "outputId": "6d2371c4-256d-4933-c985-f3bea11db8dd"
      },
      "outputs": [
        {
          "output_type": "execute_result",
          "data": {
            "text/plain": [
              "         x1        x2        x3\n",
              "2  0.310567 -0.310567  0.950551\n",
              "3  0.456168 -0.456168  0.889894\n",
              "4  0.590420 -0.590420  0.807096"
            ],
            "text/html": [
              "\n",
              "  <div id=\"df-950f2215-90d8-4ee2-8910-90ccab9fc795\">\n",
              "    <div class=\"colab-df-container\">\n",
              "      <div>\n",
              "<style scoped>\n",
              "    .dataframe tbody tr th:only-of-type {\n",
              "        vertical-align: middle;\n",
              "    }\n",
              "\n",
              "    .dataframe tbody tr th {\n",
              "        vertical-align: top;\n",
              "    }\n",
              "\n",
              "    .dataframe thead th {\n",
              "        text-align: right;\n",
              "    }\n",
              "</style>\n",
              "<table border=\"1\" class=\"dataframe\">\n",
              "  <thead>\n",
              "    <tr style=\"text-align: right;\">\n",
              "      <th></th>\n",
              "      <th>x1</th>\n",
              "      <th>x2</th>\n",
              "      <th>x3</th>\n",
              "    </tr>\n",
              "  </thead>\n",
              "  <tbody>\n",
              "    <tr>\n",
              "      <th>2</th>\n",
              "      <td>0.310567</td>\n",
              "      <td>-0.310567</td>\n",
              "      <td>0.950551</td>\n",
              "    </tr>\n",
              "    <tr>\n",
              "      <th>3</th>\n",
              "      <td>0.456168</td>\n",
              "      <td>-0.456168</td>\n",
              "      <td>0.889894</td>\n",
              "    </tr>\n",
              "    <tr>\n",
              "      <th>4</th>\n",
              "      <td>0.590420</td>\n",
              "      <td>-0.590420</td>\n",
              "      <td>0.807096</td>\n",
              "    </tr>\n",
              "  </tbody>\n",
              "</table>\n",
              "</div>\n",
              "      <button class=\"colab-df-convert\" onclick=\"convertToInteractive('df-950f2215-90d8-4ee2-8910-90ccab9fc795')\"\n",
              "              title=\"Convert this dataframe to an interactive table.\"\n",
              "              style=\"display:none;\">\n",
              "        \n",
              "  <svg xmlns=\"http://www.w3.org/2000/svg\" height=\"24px\"viewBox=\"0 0 24 24\"\n",
              "       width=\"24px\">\n",
              "    <path d=\"M0 0h24v24H0V0z\" fill=\"none\"/>\n",
              "    <path d=\"M18.56 5.44l.94 2.06.94-2.06 2.06-.94-2.06-.94-.94-2.06-.94 2.06-2.06.94zm-11 1L8.5 8.5l.94-2.06 2.06-.94-2.06-.94L8.5 2.5l-.94 2.06-2.06.94zm10 10l.94 2.06.94-2.06 2.06-.94-2.06-.94-.94-2.06-.94 2.06-2.06.94z\"/><path d=\"M17.41 7.96l-1.37-1.37c-.4-.4-.92-.59-1.43-.59-.52 0-1.04.2-1.43.59L10.3 9.45l-7.72 7.72c-.78.78-.78 2.05 0 2.83L4 21.41c.39.39.9.59 1.41.59.51 0 1.02-.2 1.41-.59l7.78-7.78 2.81-2.81c.8-.78.8-2.07 0-2.86zM5.41 20L4 18.59l7.72-7.72 1.47 1.35L5.41 20z\"/>\n",
              "  </svg>\n",
              "      </button>\n",
              "      \n",
              "  <style>\n",
              "    .colab-df-container {\n",
              "      display:flex;\n",
              "      flex-wrap:wrap;\n",
              "      gap: 12px;\n",
              "    }\n",
              "\n",
              "    .colab-df-convert {\n",
              "      background-color: #E8F0FE;\n",
              "      border: none;\n",
              "      border-radius: 50%;\n",
              "      cursor: pointer;\n",
              "      display: none;\n",
              "      fill: #1967D2;\n",
              "      height: 32px;\n",
              "      padding: 0 0 0 0;\n",
              "      width: 32px;\n",
              "    }\n",
              "\n",
              "    .colab-df-convert:hover {\n",
              "      background-color: #E2EBFA;\n",
              "      box-shadow: 0px 1px 2px rgba(60, 64, 67, 0.3), 0px 1px 3px 1px rgba(60, 64, 67, 0.15);\n",
              "      fill: #174EA6;\n",
              "    }\n",
              "\n",
              "    [theme=dark] .colab-df-convert {\n",
              "      background-color: #3B4455;\n",
              "      fill: #D2E3FC;\n",
              "    }\n",
              "\n",
              "    [theme=dark] .colab-df-convert:hover {\n",
              "      background-color: #434B5C;\n",
              "      box-shadow: 0px 1px 3px 1px rgba(0, 0, 0, 0.15);\n",
              "      filter: drop-shadow(0px 1px 2px rgba(0, 0, 0, 0.3));\n",
              "      fill: #FFFFFF;\n",
              "    }\n",
              "  </style>\n",
              "\n",
              "      <script>\n",
              "        const buttonEl =\n",
              "          document.querySelector('#df-950f2215-90d8-4ee2-8910-90ccab9fc795 button.colab-df-convert');\n",
              "        buttonEl.style.display =\n",
              "          google.colab.kernel.accessAllowed ? 'block' : 'none';\n",
              "\n",
              "        async function convertToInteractive(key) {\n",
              "          const element = document.querySelector('#df-950f2215-90d8-4ee2-8910-90ccab9fc795');\n",
              "          const dataTable =\n",
              "            await google.colab.kernel.invokeFunction('convertToInteractive',\n",
              "                                                     [key], {});\n",
              "          if (!dataTable) return;\n",
              "\n",
              "          const docLinkHtml = 'Like what you see? Visit the ' +\n",
              "            '<a target=\"_blank\" href=https://colab.research.google.com/notebooks/data_table.ipynb>data table notebook</a>'\n",
              "            + ' to learn more about interactive tables.';\n",
              "          element.innerHTML = '';\n",
              "          dataTable['output_type'] = 'display_data';\n",
              "          await google.colab.output.renderOutput(dataTable, element);\n",
              "          const docLink = document.createElement('div');\n",
              "          docLink.innerHTML = docLinkHtml;\n",
              "          element.appendChild(docLink);\n",
              "        }\n",
              "      </script>\n",
              "    </div>\n",
              "  </div>\n",
              "  "
            ]
          },
          "metadata": {},
          "execution_count": 97
        }
      ],
      "source": [
        "df.iloc[2:5, 0:3] ## position-based indexing"
      ]
    },
    {
      "cell_type": "code",
      "execution_count": 98,
      "id": "328c82ea-6178-4a5c-9dfe-fda4fe0a8c7c",
      "metadata": {
        "id": "328c82ea-6178-4a5c-9dfe-fda4fe0a8c7c"
      },
      "outputs": [],
      "source": [
        "#df2.iloc[['model1', 'model3']]"
      ]
    },
    {
      "cell_type": "code",
      "execution_count": 99,
      "id": "0328075d-3476-410d-a537-9a089e76d961",
      "metadata": {
        "colab": {
          "base_uri": "https://localhost:8080/",
          "height": 206
        },
        "id": "0328075d-3476-410d-a537-9a089e76d961",
        "outputId": "dbb2d9fa-43f9-402e-f9b3-e06c854434e8"
      },
      "outputs": [
        {
          "output_type": "execute_result",
          "data": {
            "text/plain": [
              "         x1        x2        x3        x4\n",
              "0  0.000000 -0.000000  1.000000 -1.000000\n",
              "1  0.157239 -0.157239  0.987561 -0.987561\n",
              "2  0.310567 -0.310567  0.950551 -0.950551\n",
              "3  0.456168 -0.456168  0.889894 -0.889894\n",
              "4  0.590420 -0.590420  0.807096 -0.807096"
            ],
            "text/html": [
              "\n",
              "  <div id=\"df-99efdca5-e35d-4f63-83f8-5684441794ce\">\n",
              "    <div class=\"colab-df-container\">\n",
              "      <div>\n",
              "<style scoped>\n",
              "    .dataframe tbody tr th:only-of-type {\n",
              "        vertical-align: middle;\n",
              "    }\n",
              "\n",
              "    .dataframe tbody tr th {\n",
              "        vertical-align: top;\n",
              "    }\n",
              "\n",
              "    .dataframe thead th {\n",
              "        text-align: right;\n",
              "    }\n",
              "</style>\n",
              "<table border=\"1\" class=\"dataframe\">\n",
              "  <thead>\n",
              "    <tr style=\"text-align: right;\">\n",
              "      <th></th>\n",
              "      <th>x1</th>\n",
              "      <th>x2</th>\n",
              "      <th>x3</th>\n",
              "      <th>x4</th>\n",
              "    </tr>\n",
              "  </thead>\n",
              "  <tbody>\n",
              "    <tr>\n",
              "      <th>0</th>\n",
              "      <td>0.000000</td>\n",
              "      <td>-0.000000</td>\n",
              "      <td>1.000000</td>\n",
              "      <td>-1.000000</td>\n",
              "    </tr>\n",
              "    <tr>\n",
              "      <th>1</th>\n",
              "      <td>0.157239</td>\n",
              "      <td>-0.157239</td>\n",
              "      <td>0.987561</td>\n",
              "      <td>-0.987561</td>\n",
              "    </tr>\n",
              "    <tr>\n",
              "      <th>2</th>\n",
              "      <td>0.310567</td>\n",
              "      <td>-0.310567</td>\n",
              "      <td>0.950551</td>\n",
              "      <td>-0.950551</td>\n",
              "    </tr>\n",
              "    <tr>\n",
              "      <th>3</th>\n",
              "      <td>0.456168</td>\n",
              "      <td>-0.456168</td>\n",
              "      <td>0.889894</td>\n",
              "      <td>-0.889894</td>\n",
              "    </tr>\n",
              "    <tr>\n",
              "      <th>4</th>\n",
              "      <td>0.590420</td>\n",
              "      <td>-0.590420</td>\n",
              "      <td>0.807096</td>\n",
              "      <td>-0.807096</td>\n",
              "    </tr>\n",
              "  </tbody>\n",
              "</table>\n",
              "</div>\n",
              "      <button class=\"colab-df-convert\" onclick=\"convertToInteractive('df-99efdca5-e35d-4f63-83f8-5684441794ce')\"\n",
              "              title=\"Convert this dataframe to an interactive table.\"\n",
              "              style=\"display:none;\">\n",
              "        \n",
              "  <svg xmlns=\"http://www.w3.org/2000/svg\" height=\"24px\"viewBox=\"0 0 24 24\"\n",
              "       width=\"24px\">\n",
              "    <path d=\"M0 0h24v24H0V0z\" fill=\"none\"/>\n",
              "    <path d=\"M18.56 5.44l.94 2.06.94-2.06 2.06-.94-2.06-.94-.94-2.06-.94 2.06-2.06.94zm-11 1L8.5 8.5l.94-2.06 2.06-.94-2.06-.94L8.5 2.5l-.94 2.06-2.06.94zm10 10l.94 2.06.94-2.06 2.06-.94-2.06-.94-.94-2.06-.94 2.06-2.06.94z\"/><path d=\"M17.41 7.96l-1.37-1.37c-.4-.4-.92-.59-1.43-.59-.52 0-1.04.2-1.43.59L10.3 9.45l-7.72 7.72c-.78.78-.78 2.05 0 2.83L4 21.41c.39.39.9.59 1.41.59.51 0 1.02-.2 1.41-.59l7.78-7.78 2.81-2.81c.8-.78.8-2.07 0-2.86zM5.41 20L4 18.59l7.72-7.72 1.47 1.35L5.41 20z\"/>\n",
              "  </svg>\n",
              "      </button>\n",
              "      \n",
              "  <style>\n",
              "    .colab-df-container {\n",
              "      display:flex;\n",
              "      flex-wrap:wrap;\n",
              "      gap: 12px;\n",
              "    }\n",
              "\n",
              "    .colab-df-convert {\n",
              "      background-color: #E8F0FE;\n",
              "      border: none;\n",
              "      border-radius: 50%;\n",
              "      cursor: pointer;\n",
              "      display: none;\n",
              "      fill: #1967D2;\n",
              "      height: 32px;\n",
              "      padding: 0 0 0 0;\n",
              "      width: 32px;\n",
              "    }\n",
              "\n",
              "    .colab-df-convert:hover {\n",
              "      background-color: #E2EBFA;\n",
              "      box-shadow: 0px 1px 2px rgba(60, 64, 67, 0.3), 0px 1px 3px 1px rgba(60, 64, 67, 0.15);\n",
              "      fill: #174EA6;\n",
              "    }\n",
              "\n",
              "    [theme=dark] .colab-df-convert {\n",
              "      background-color: #3B4455;\n",
              "      fill: #D2E3FC;\n",
              "    }\n",
              "\n",
              "    [theme=dark] .colab-df-convert:hover {\n",
              "      background-color: #434B5C;\n",
              "      box-shadow: 0px 1px 3px 1px rgba(0, 0, 0, 0.15);\n",
              "      filter: drop-shadow(0px 1px 2px rgba(0, 0, 0, 0.3));\n",
              "      fill: #FFFFFF;\n",
              "    }\n",
              "  </style>\n",
              "\n",
              "      <script>\n",
              "        const buttonEl =\n",
              "          document.querySelector('#df-99efdca5-e35d-4f63-83f8-5684441794ce button.colab-df-convert');\n",
              "        buttonEl.style.display =\n",
              "          google.colab.kernel.accessAllowed ? 'block' : 'none';\n",
              "\n",
              "        async function convertToInteractive(key) {\n",
              "          const element = document.querySelector('#df-99efdca5-e35d-4f63-83f8-5684441794ce');\n",
              "          const dataTable =\n",
              "            await google.colab.kernel.invokeFunction('convertToInteractive',\n",
              "                                                     [key], {});\n",
              "          if (!dataTable) return;\n",
              "\n",
              "          const docLinkHtml = 'Like what you see? Visit the ' +\n",
              "            '<a target=\"_blank\" href=https://colab.research.google.com/notebooks/data_table.ipynb>data table notebook</a>'\n",
              "            + ' to learn more about interactive tables.';\n",
              "          element.innerHTML = '';\n",
              "          dataTable['output_type'] = 'display_data';\n",
              "          await google.colab.output.renderOutput(dataTable, element);\n",
              "          const docLink = document.createElement('div');\n",
              "          docLink.innerHTML = docLinkHtml;\n",
              "          element.appendChild(docLink);\n",
              "        }\n",
              "      </script>\n",
              "    </div>\n",
              "  </div>\n",
              "  "
            ]
          },
          "metadata": {},
          "execution_count": 99
        }
      ],
      "source": [
        "df.head(5) ## the first five observations"
      ]
    },
    {
      "cell_type": "code",
      "execution_count": 100,
      "id": "a858a503-70eb-4cc8-9199-149e88d2ee25",
      "metadata": {
        "colab": {
          "base_uri": "https://localhost:8080/",
          "height": 206
        },
        "id": "a858a503-70eb-4cc8-9199-149e88d2ee25",
        "outputId": "b83b75a7-7bb7-4999-8e06-c93c03fc717c"
      },
      "outputs": [
        {
          "output_type": "execute_result",
          "data": {
            "text/plain": [
              "          x1        x2        x3        x4\n",
              "15  0.698409 -0.698409 -0.715699  0.715699\n",
              "16  0.577185 -0.577185 -0.816614  0.816614\n",
              "17  0.441601 -0.441601 -0.897212  0.897212\n",
              "18  0.295030 -0.295030 -0.955488  0.955488\n",
              "19  0.141120 -0.141120 -0.989992  0.989992"
            ],
            "text/html": [
              "\n",
              "  <div id=\"df-d80e0cb9-0cfa-46c8-8e35-66936f85ec98\">\n",
              "    <div class=\"colab-df-container\">\n",
              "      <div>\n",
              "<style scoped>\n",
              "    .dataframe tbody tr th:only-of-type {\n",
              "        vertical-align: middle;\n",
              "    }\n",
              "\n",
              "    .dataframe tbody tr th {\n",
              "        vertical-align: top;\n",
              "    }\n",
              "\n",
              "    .dataframe thead th {\n",
              "        text-align: right;\n",
              "    }\n",
              "</style>\n",
              "<table border=\"1\" class=\"dataframe\">\n",
              "  <thead>\n",
              "    <tr style=\"text-align: right;\">\n",
              "      <th></th>\n",
              "      <th>x1</th>\n",
              "      <th>x2</th>\n",
              "      <th>x3</th>\n",
              "      <th>x4</th>\n",
              "    </tr>\n",
              "  </thead>\n",
              "  <tbody>\n",
              "    <tr>\n",
              "      <th>15</th>\n",
              "      <td>0.698409</td>\n",
              "      <td>-0.698409</td>\n",
              "      <td>-0.715699</td>\n",
              "      <td>0.715699</td>\n",
              "    </tr>\n",
              "    <tr>\n",
              "      <th>16</th>\n",
              "      <td>0.577185</td>\n",
              "      <td>-0.577185</td>\n",
              "      <td>-0.816614</td>\n",
              "      <td>0.816614</td>\n",
              "    </tr>\n",
              "    <tr>\n",
              "      <th>17</th>\n",
              "      <td>0.441601</td>\n",
              "      <td>-0.441601</td>\n",
              "      <td>-0.897212</td>\n",
              "      <td>0.897212</td>\n",
              "    </tr>\n",
              "    <tr>\n",
              "      <th>18</th>\n",
              "      <td>0.295030</td>\n",
              "      <td>-0.295030</td>\n",
              "      <td>-0.955488</td>\n",
              "      <td>0.955488</td>\n",
              "    </tr>\n",
              "    <tr>\n",
              "      <th>19</th>\n",
              "      <td>0.141120</td>\n",
              "      <td>-0.141120</td>\n",
              "      <td>-0.989992</td>\n",
              "      <td>0.989992</td>\n",
              "    </tr>\n",
              "  </tbody>\n",
              "</table>\n",
              "</div>\n",
              "      <button class=\"colab-df-convert\" onclick=\"convertToInteractive('df-d80e0cb9-0cfa-46c8-8e35-66936f85ec98')\"\n",
              "              title=\"Convert this dataframe to an interactive table.\"\n",
              "              style=\"display:none;\">\n",
              "        \n",
              "  <svg xmlns=\"http://www.w3.org/2000/svg\" height=\"24px\"viewBox=\"0 0 24 24\"\n",
              "       width=\"24px\">\n",
              "    <path d=\"M0 0h24v24H0V0z\" fill=\"none\"/>\n",
              "    <path d=\"M18.56 5.44l.94 2.06.94-2.06 2.06-.94-2.06-.94-.94-2.06-.94 2.06-2.06.94zm-11 1L8.5 8.5l.94-2.06 2.06-.94-2.06-.94L8.5 2.5l-.94 2.06-2.06.94zm10 10l.94 2.06.94-2.06 2.06-.94-2.06-.94-.94-2.06-.94 2.06-2.06.94z\"/><path d=\"M17.41 7.96l-1.37-1.37c-.4-.4-.92-.59-1.43-.59-.52 0-1.04.2-1.43.59L10.3 9.45l-7.72 7.72c-.78.78-.78 2.05 0 2.83L4 21.41c.39.39.9.59 1.41.59.51 0 1.02-.2 1.41-.59l7.78-7.78 2.81-2.81c.8-.78.8-2.07 0-2.86zM5.41 20L4 18.59l7.72-7.72 1.47 1.35L5.41 20z\"/>\n",
              "  </svg>\n",
              "      </button>\n",
              "      \n",
              "  <style>\n",
              "    .colab-df-container {\n",
              "      display:flex;\n",
              "      flex-wrap:wrap;\n",
              "      gap: 12px;\n",
              "    }\n",
              "\n",
              "    .colab-df-convert {\n",
              "      background-color: #E8F0FE;\n",
              "      border: none;\n",
              "      border-radius: 50%;\n",
              "      cursor: pointer;\n",
              "      display: none;\n",
              "      fill: #1967D2;\n",
              "      height: 32px;\n",
              "      padding: 0 0 0 0;\n",
              "      width: 32px;\n",
              "    }\n",
              "\n",
              "    .colab-df-convert:hover {\n",
              "      background-color: #E2EBFA;\n",
              "      box-shadow: 0px 1px 2px rgba(60, 64, 67, 0.3), 0px 1px 3px 1px rgba(60, 64, 67, 0.15);\n",
              "      fill: #174EA6;\n",
              "    }\n",
              "\n",
              "    [theme=dark] .colab-df-convert {\n",
              "      background-color: #3B4455;\n",
              "      fill: #D2E3FC;\n",
              "    }\n",
              "\n",
              "    [theme=dark] .colab-df-convert:hover {\n",
              "      background-color: #434B5C;\n",
              "      box-shadow: 0px 1px 3px 1px rgba(0, 0, 0, 0.15);\n",
              "      filter: drop-shadow(0px 1px 2px rgba(0, 0, 0, 0.3));\n",
              "      fill: #FFFFFF;\n",
              "    }\n",
              "  </style>\n",
              "\n",
              "      <script>\n",
              "        const buttonEl =\n",
              "          document.querySelector('#df-d80e0cb9-0cfa-46c8-8e35-66936f85ec98 button.colab-df-convert');\n",
              "        buttonEl.style.display =\n",
              "          google.colab.kernel.accessAllowed ? 'block' : 'none';\n",
              "\n",
              "        async function convertToInteractive(key) {\n",
              "          const element = document.querySelector('#df-d80e0cb9-0cfa-46c8-8e35-66936f85ec98');\n",
              "          const dataTable =\n",
              "            await google.colab.kernel.invokeFunction('convertToInteractive',\n",
              "                                                     [key], {});\n",
              "          if (!dataTable) return;\n",
              "\n",
              "          const docLinkHtml = 'Like what you see? Visit the ' +\n",
              "            '<a target=\"_blank\" href=https://colab.research.google.com/notebooks/data_table.ipynb>data table notebook</a>'\n",
              "            + ' to learn more about interactive tables.';\n",
              "          element.innerHTML = '';\n",
              "          dataTable['output_type'] = 'display_data';\n",
              "          await google.colab.output.renderOutput(dataTable, element);\n",
              "          const docLink = document.createElement('div');\n",
              "          docLink.innerHTML = docLinkHtml;\n",
              "          element.appendChild(docLink);\n",
              "        }\n",
              "      </script>\n",
              "    </div>\n",
              "  </div>\n",
              "  "
            ]
          },
          "metadata": {},
          "execution_count": 100
        }
      ],
      "source": [
        "df.tail(5) ## the last five observations"
      ]
    },
    {
      "cell_type": "code",
      "execution_count": 101,
      "id": "1f4acff1-fc1d-4d31-af39-2ac6880a972e",
      "metadata": {
        "colab": {
          "base_uri": "https://localhost:8080/",
          "height": 143
        },
        "id": "1f4acff1-fc1d-4d31-af39-2ac6880a972e",
        "outputId": "461fb80a-6c33-4d72-e9ae-30c766f9b7ff"
      },
      "outputs": [
        {
          "output_type": "execute_result",
          "data": {
            "text/plain": [
              "        Accuracy  Precision  Recall\n",
              "model1       100         98      88\n",
              "model2        98         97      77\n",
              "model3        86         78      99"
            ],
            "text/html": [
              "\n",
              "  <div id=\"df-96bbab61-40ca-422b-aadf-eab02f3a9fa6\">\n",
              "    <div class=\"colab-df-container\">\n",
              "      <div>\n",
              "<style scoped>\n",
              "    .dataframe tbody tr th:only-of-type {\n",
              "        vertical-align: middle;\n",
              "    }\n",
              "\n",
              "    .dataframe tbody tr th {\n",
              "        vertical-align: top;\n",
              "    }\n",
              "\n",
              "    .dataframe thead th {\n",
              "        text-align: right;\n",
              "    }\n",
              "</style>\n",
              "<table border=\"1\" class=\"dataframe\">\n",
              "  <thead>\n",
              "    <tr style=\"text-align: right;\">\n",
              "      <th></th>\n",
              "      <th>Accuracy</th>\n",
              "      <th>Precision</th>\n",
              "      <th>Recall</th>\n",
              "    </tr>\n",
              "  </thead>\n",
              "  <tbody>\n",
              "    <tr>\n",
              "      <th>model1</th>\n",
              "      <td>100</td>\n",
              "      <td>98</td>\n",
              "      <td>88</td>\n",
              "    </tr>\n",
              "    <tr>\n",
              "      <th>model2</th>\n",
              "      <td>98</td>\n",
              "      <td>97</td>\n",
              "      <td>77</td>\n",
              "    </tr>\n",
              "    <tr>\n",
              "      <th>model3</th>\n",
              "      <td>86</td>\n",
              "      <td>78</td>\n",
              "      <td>99</td>\n",
              "    </tr>\n",
              "  </tbody>\n",
              "</table>\n",
              "</div>\n",
              "      <button class=\"colab-df-convert\" onclick=\"convertToInteractive('df-96bbab61-40ca-422b-aadf-eab02f3a9fa6')\"\n",
              "              title=\"Convert this dataframe to an interactive table.\"\n",
              "              style=\"display:none;\">\n",
              "        \n",
              "  <svg xmlns=\"http://www.w3.org/2000/svg\" height=\"24px\"viewBox=\"0 0 24 24\"\n",
              "       width=\"24px\">\n",
              "    <path d=\"M0 0h24v24H0V0z\" fill=\"none\"/>\n",
              "    <path d=\"M18.56 5.44l.94 2.06.94-2.06 2.06-.94-2.06-.94-.94-2.06-.94 2.06-2.06.94zm-11 1L8.5 8.5l.94-2.06 2.06-.94-2.06-.94L8.5 2.5l-.94 2.06-2.06.94zm10 10l.94 2.06.94-2.06 2.06-.94-2.06-.94-.94-2.06-.94 2.06-2.06.94z\"/><path d=\"M17.41 7.96l-1.37-1.37c-.4-.4-.92-.59-1.43-.59-.52 0-1.04.2-1.43.59L10.3 9.45l-7.72 7.72c-.78.78-.78 2.05 0 2.83L4 21.41c.39.39.9.59 1.41.59.51 0 1.02-.2 1.41-.59l7.78-7.78 2.81-2.81c.8-.78.8-2.07 0-2.86zM5.41 20L4 18.59l7.72-7.72 1.47 1.35L5.41 20z\"/>\n",
              "  </svg>\n",
              "      </button>\n",
              "      \n",
              "  <style>\n",
              "    .colab-df-container {\n",
              "      display:flex;\n",
              "      flex-wrap:wrap;\n",
              "      gap: 12px;\n",
              "    }\n",
              "\n",
              "    .colab-df-convert {\n",
              "      background-color: #E8F0FE;\n",
              "      border: none;\n",
              "      border-radius: 50%;\n",
              "      cursor: pointer;\n",
              "      display: none;\n",
              "      fill: #1967D2;\n",
              "      height: 32px;\n",
              "      padding: 0 0 0 0;\n",
              "      width: 32px;\n",
              "    }\n",
              "\n",
              "    .colab-df-convert:hover {\n",
              "      background-color: #E2EBFA;\n",
              "      box-shadow: 0px 1px 2px rgba(60, 64, 67, 0.3), 0px 1px 3px 1px rgba(60, 64, 67, 0.15);\n",
              "      fill: #174EA6;\n",
              "    }\n",
              "\n",
              "    [theme=dark] .colab-df-convert {\n",
              "      background-color: #3B4455;\n",
              "      fill: #D2E3FC;\n",
              "    }\n",
              "\n",
              "    [theme=dark] .colab-df-convert:hover {\n",
              "      background-color: #434B5C;\n",
              "      box-shadow: 0px 1px 3px 1px rgba(0, 0, 0, 0.15);\n",
              "      filter: drop-shadow(0px 1px 2px rgba(0, 0, 0, 0.3));\n",
              "      fill: #FFFFFF;\n",
              "    }\n",
              "  </style>\n",
              "\n",
              "      <script>\n",
              "        const buttonEl =\n",
              "          document.querySelector('#df-96bbab61-40ca-422b-aadf-eab02f3a9fa6 button.colab-df-convert');\n",
              "        buttonEl.style.display =\n",
              "          google.colab.kernel.accessAllowed ? 'block' : 'none';\n",
              "\n",
              "        async function convertToInteractive(key) {\n",
              "          const element = document.querySelector('#df-96bbab61-40ca-422b-aadf-eab02f3a9fa6');\n",
              "          const dataTable =\n",
              "            await google.colab.kernel.invokeFunction('convertToInteractive',\n",
              "                                                     [key], {});\n",
              "          if (!dataTable) return;\n",
              "\n",
              "          const docLinkHtml = 'Like what you see? Visit the ' +\n",
              "            '<a target=\"_blank\" href=https://colab.research.google.com/notebooks/data_table.ipynb>data table notebook</a>'\n",
              "            + ' to learn more about interactive tables.';\n",
              "          element.innerHTML = '';\n",
              "          dataTable['output_type'] = 'display_data';\n",
              "          await google.colab.output.renderOutput(dataTable, element);\n",
              "          const docLink = document.createElement('div');\n",
              "          docLink.innerHTML = docLinkHtml;\n",
              "          element.appendChild(docLink);\n",
              "        }\n",
              "      </script>\n",
              "    </div>\n",
              "  </div>\n",
              "  "
            ]
          },
          "metadata": {},
          "execution_count": 101
        }
      ],
      "source": [
        "df2['Recall']=[88, 77, 99] ## Adding new columns\n",
        "\n",
        "df2"
      ]
    },
    {
      "cell_type": "code",
      "execution_count": 102,
      "id": "4a28824a-1542-4ff4-a0df-26fb0d488b6a",
      "metadata": {
        "id": "4a28824a-1542-4ff4-a0df-26fb0d488b6a"
      },
      "outputs": [],
      "source": [
        "df2['Accuracy']['model2']=75"
      ]
    },
    {
      "cell_type": "code",
      "execution_count": 103,
      "id": "6e01f350-2e9d-4eb8-ac24-16107d7d62b3",
      "metadata": {
        "colab": {
          "base_uri": "https://localhost:8080/",
          "height": 143
        },
        "id": "6e01f350-2e9d-4eb8-ac24-16107d7d62b3",
        "outputId": "c035b443-4d9a-40b3-e8ef-b12971ba5d72"
      },
      "outputs": [
        {
          "output_type": "execute_result",
          "data": {
            "text/plain": [
              "        Accuracy  Precision  Recall\n",
              "model1       100         98      88\n",
              "model2        75         97      77\n",
              "model3        86         78      99"
            ],
            "text/html": [
              "\n",
              "  <div id=\"df-d6d8ed88-003e-4428-a287-a78997291a9d\">\n",
              "    <div class=\"colab-df-container\">\n",
              "      <div>\n",
              "<style scoped>\n",
              "    .dataframe tbody tr th:only-of-type {\n",
              "        vertical-align: middle;\n",
              "    }\n",
              "\n",
              "    .dataframe tbody tr th {\n",
              "        vertical-align: top;\n",
              "    }\n",
              "\n",
              "    .dataframe thead th {\n",
              "        text-align: right;\n",
              "    }\n",
              "</style>\n",
              "<table border=\"1\" class=\"dataframe\">\n",
              "  <thead>\n",
              "    <tr style=\"text-align: right;\">\n",
              "      <th></th>\n",
              "      <th>Accuracy</th>\n",
              "      <th>Precision</th>\n",
              "      <th>Recall</th>\n",
              "    </tr>\n",
              "  </thead>\n",
              "  <tbody>\n",
              "    <tr>\n",
              "      <th>model1</th>\n",
              "      <td>100</td>\n",
              "      <td>98</td>\n",
              "      <td>88</td>\n",
              "    </tr>\n",
              "    <tr>\n",
              "      <th>model2</th>\n",
              "      <td>75</td>\n",
              "      <td>97</td>\n",
              "      <td>77</td>\n",
              "    </tr>\n",
              "    <tr>\n",
              "      <th>model3</th>\n",
              "      <td>86</td>\n",
              "      <td>78</td>\n",
              "      <td>99</td>\n",
              "    </tr>\n",
              "  </tbody>\n",
              "</table>\n",
              "</div>\n",
              "      <button class=\"colab-df-convert\" onclick=\"convertToInteractive('df-d6d8ed88-003e-4428-a287-a78997291a9d')\"\n",
              "              title=\"Convert this dataframe to an interactive table.\"\n",
              "              style=\"display:none;\">\n",
              "        \n",
              "  <svg xmlns=\"http://www.w3.org/2000/svg\" height=\"24px\"viewBox=\"0 0 24 24\"\n",
              "       width=\"24px\">\n",
              "    <path d=\"M0 0h24v24H0V0z\" fill=\"none\"/>\n",
              "    <path d=\"M18.56 5.44l.94 2.06.94-2.06 2.06-.94-2.06-.94-.94-2.06-.94 2.06-2.06.94zm-11 1L8.5 8.5l.94-2.06 2.06-.94-2.06-.94L8.5 2.5l-.94 2.06-2.06.94zm10 10l.94 2.06.94-2.06 2.06-.94-2.06-.94-.94-2.06-.94 2.06-2.06.94z\"/><path d=\"M17.41 7.96l-1.37-1.37c-.4-.4-.92-.59-1.43-.59-.52 0-1.04.2-1.43.59L10.3 9.45l-7.72 7.72c-.78.78-.78 2.05 0 2.83L4 21.41c.39.39.9.59 1.41.59.51 0 1.02-.2 1.41-.59l7.78-7.78 2.81-2.81c.8-.78.8-2.07 0-2.86zM5.41 20L4 18.59l7.72-7.72 1.47 1.35L5.41 20z\"/>\n",
              "  </svg>\n",
              "      </button>\n",
              "      \n",
              "  <style>\n",
              "    .colab-df-container {\n",
              "      display:flex;\n",
              "      flex-wrap:wrap;\n",
              "      gap: 12px;\n",
              "    }\n",
              "\n",
              "    .colab-df-convert {\n",
              "      background-color: #E8F0FE;\n",
              "      border: none;\n",
              "      border-radius: 50%;\n",
              "      cursor: pointer;\n",
              "      display: none;\n",
              "      fill: #1967D2;\n",
              "      height: 32px;\n",
              "      padding: 0 0 0 0;\n",
              "      width: 32px;\n",
              "    }\n",
              "\n",
              "    .colab-df-convert:hover {\n",
              "      background-color: #E2EBFA;\n",
              "      box-shadow: 0px 1px 2px rgba(60, 64, 67, 0.3), 0px 1px 3px 1px rgba(60, 64, 67, 0.15);\n",
              "      fill: #174EA6;\n",
              "    }\n",
              "\n",
              "    [theme=dark] .colab-df-convert {\n",
              "      background-color: #3B4455;\n",
              "      fill: #D2E3FC;\n",
              "    }\n",
              "\n",
              "    [theme=dark] .colab-df-convert:hover {\n",
              "      background-color: #434B5C;\n",
              "      box-shadow: 0px 1px 3px 1px rgba(0, 0, 0, 0.15);\n",
              "      filter: drop-shadow(0px 1px 2px rgba(0, 0, 0, 0.3));\n",
              "      fill: #FFFFFF;\n",
              "    }\n",
              "  </style>\n",
              "\n",
              "      <script>\n",
              "        const buttonEl =\n",
              "          document.querySelector('#df-d6d8ed88-003e-4428-a287-a78997291a9d button.colab-df-convert');\n",
              "        buttonEl.style.display =\n",
              "          google.colab.kernel.accessAllowed ? 'block' : 'none';\n",
              "\n",
              "        async function convertToInteractive(key) {\n",
              "          const element = document.querySelector('#df-d6d8ed88-003e-4428-a287-a78997291a9d');\n",
              "          const dataTable =\n",
              "            await google.colab.kernel.invokeFunction('convertToInteractive',\n",
              "                                                     [key], {});\n",
              "          if (!dataTable) return;\n",
              "\n",
              "          const docLinkHtml = 'Like what you see? Visit the ' +\n",
              "            '<a target=\"_blank\" href=https://colab.research.google.com/notebooks/data_table.ipynb>data table notebook</a>'\n",
              "            + ' to learn more about interactive tables.';\n",
              "          element.innerHTML = '';\n",
              "          dataTable['output_type'] = 'display_data';\n",
              "          await google.colab.output.renderOutput(dataTable, element);\n",
              "          const docLink = document.createElement('div');\n",
              "          docLink.innerHTML = docLinkHtml;\n",
              "          element.appendChild(docLink);\n",
              "        }\n",
              "      </script>\n",
              "    </div>\n",
              "  </div>\n",
              "  "
            ]
          },
          "metadata": {},
          "execution_count": 103
        }
      ],
      "source": [
        "df2"
      ]
    },
    {
      "cell_type": "code",
      "execution_count": 104,
      "id": "64bf45e7-60c6-402a-96ca-76144dcb7050",
      "metadata": {
        "colab": {
          "base_uri": "https://localhost:8080/",
          "height": 175
        },
        "id": "64bf45e7-60c6-402a-96ca-76144dcb7050",
        "outputId": "a857196b-c61e-4a9a-e51d-d2ec2974adb3"
      },
      "outputs": [
        {
          "output_type": "execute_result",
          "data": {
            "text/plain": [
              "        Accuracy  Precision  Recall\n",
              "model1       100         98      88\n",
              "model2        75         97      77\n",
              "model3        86         78      99\n",
              "model4        91         89      98"
            ],
            "text/html": [
              "\n",
              "  <div id=\"df-a908cf85-bcf2-41a0-a466-1e3d41985f22\">\n",
              "    <div class=\"colab-df-container\">\n",
              "      <div>\n",
              "<style scoped>\n",
              "    .dataframe tbody tr th:only-of-type {\n",
              "        vertical-align: middle;\n",
              "    }\n",
              "\n",
              "    .dataframe tbody tr th {\n",
              "        vertical-align: top;\n",
              "    }\n",
              "\n",
              "    .dataframe thead th {\n",
              "        text-align: right;\n",
              "    }\n",
              "</style>\n",
              "<table border=\"1\" class=\"dataframe\">\n",
              "  <thead>\n",
              "    <tr style=\"text-align: right;\">\n",
              "      <th></th>\n",
              "      <th>Accuracy</th>\n",
              "      <th>Precision</th>\n",
              "      <th>Recall</th>\n",
              "    </tr>\n",
              "  </thead>\n",
              "  <tbody>\n",
              "    <tr>\n",
              "      <th>model1</th>\n",
              "      <td>100</td>\n",
              "      <td>98</td>\n",
              "      <td>88</td>\n",
              "    </tr>\n",
              "    <tr>\n",
              "      <th>model2</th>\n",
              "      <td>75</td>\n",
              "      <td>97</td>\n",
              "      <td>77</td>\n",
              "    </tr>\n",
              "    <tr>\n",
              "      <th>model3</th>\n",
              "      <td>86</td>\n",
              "      <td>78</td>\n",
              "      <td>99</td>\n",
              "    </tr>\n",
              "    <tr>\n",
              "      <th>model4</th>\n",
              "      <td>91</td>\n",
              "      <td>89</td>\n",
              "      <td>98</td>\n",
              "    </tr>\n",
              "  </tbody>\n",
              "</table>\n",
              "</div>\n",
              "      <button class=\"colab-df-convert\" onclick=\"convertToInteractive('df-a908cf85-bcf2-41a0-a466-1e3d41985f22')\"\n",
              "              title=\"Convert this dataframe to an interactive table.\"\n",
              "              style=\"display:none;\">\n",
              "        \n",
              "  <svg xmlns=\"http://www.w3.org/2000/svg\" height=\"24px\"viewBox=\"0 0 24 24\"\n",
              "       width=\"24px\">\n",
              "    <path d=\"M0 0h24v24H0V0z\" fill=\"none\"/>\n",
              "    <path d=\"M18.56 5.44l.94 2.06.94-2.06 2.06-.94-2.06-.94-.94-2.06-.94 2.06-2.06.94zm-11 1L8.5 8.5l.94-2.06 2.06-.94-2.06-.94L8.5 2.5l-.94 2.06-2.06.94zm10 10l.94 2.06.94-2.06 2.06-.94-2.06-.94-.94-2.06-.94 2.06-2.06.94z\"/><path d=\"M17.41 7.96l-1.37-1.37c-.4-.4-.92-.59-1.43-.59-.52 0-1.04.2-1.43.59L10.3 9.45l-7.72 7.72c-.78.78-.78 2.05 0 2.83L4 21.41c.39.39.9.59 1.41.59.51 0 1.02-.2 1.41-.59l7.78-7.78 2.81-2.81c.8-.78.8-2.07 0-2.86zM5.41 20L4 18.59l7.72-7.72 1.47 1.35L5.41 20z\"/>\n",
              "  </svg>\n",
              "      </button>\n",
              "      \n",
              "  <style>\n",
              "    .colab-df-container {\n",
              "      display:flex;\n",
              "      flex-wrap:wrap;\n",
              "      gap: 12px;\n",
              "    }\n",
              "\n",
              "    .colab-df-convert {\n",
              "      background-color: #E8F0FE;\n",
              "      border: none;\n",
              "      border-radius: 50%;\n",
              "      cursor: pointer;\n",
              "      display: none;\n",
              "      fill: #1967D2;\n",
              "      height: 32px;\n",
              "      padding: 0 0 0 0;\n",
              "      width: 32px;\n",
              "    }\n",
              "\n",
              "    .colab-df-convert:hover {\n",
              "      background-color: #E2EBFA;\n",
              "      box-shadow: 0px 1px 2px rgba(60, 64, 67, 0.3), 0px 1px 3px 1px rgba(60, 64, 67, 0.15);\n",
              "      fill: #174EA6;\n",
              "    }\n",
              "\n",
              "    [theme=dark] .colab-df-convert {\n",
              "      background-color: #3B4455;\n",
              "      fill: #D2E3FC;\n",
              "    }\n",
              "\n",
              "    [theme=dark] .colab-df-convert:hover {\n",
              "      background-color: #434B5C;\n",
              "      box-shadow: 0px 1px 3px 1px rgba(0, 0, 0, 0.15);\n",
              "      filter: drop-shadow(0px 1px 2px rgba(0, 0, 0, 0.3));\n",
              "      fill: #FFFFFF;\n",
              "    }\n",
              "  </style>\n",
              "\n",
              "      <script>\n",
              "        const buttonEl =\n",
              "          document.querySelector('#df-a908cf85-bcf2-41a0-a466-1e3d41985f22 button.colab-df-convert');\n",
              "        buttonEl.style.display =\n",
              "          google.colab.kernel.accessAllowed ? 'block' : 'none';\n",
              "\n",
              "        async function convertToInteractive(key) {\n",
              "          const element = document.querySelector('#df-a908cf85-bcf2-41a0-a466-1e3d41985f22');\n",
              "          const dataTable =\n",
              "            await google.colab.kernel.invokeFunction('convertToInteractive',\n",
              "                                                     [key], {});\n",
              "          if (!dataTable) return;\n",
              "\n",
              "          const docLinkHtml = 'Like what you see? Visit the ' +\n",
              "            '<a target=\"_blank\" href=https://colab.research.google.com/notebooks/data_table.ipynb>data table notebook</a>'\n",
              "            + ' to learn more about interactive tables.';\n",
              "          element.innerHTML = '';\n",
              "          dataTable['output_type'] = 'display_data';\n",
              "          await google.colab.output.renderOutput(dataTable, element);\n",
              "          const docLink = document.createElement('div');\n",
              "          docLink.innerHTML = docLinkHtml;\n",
              "          element.appendChild(docLink);\n",
              "        }\n",
              "      </script>\n",
              "    </div>\n",
              "  </div>\n",
              "  "
            ]
          },
          "metadata": {},
          "execution_count": 104
        }
      ],
      "source": [
        "## add new row\n",
        "df2.loc['model4'] = {'Accuracy': 91,\n",
        "                     'Precision': 89,\n",
        "                     'Recall':98\n",
        "                    }\n",
        "df2"
      ]
    },
    {
      "cell_type": "code",
      "execution_count": 105,
      "id": "fa637dbf-6e7c-47eb-8b00-4c5b2886b8da",
      "metadata": {
        "colab": {
          "base_uri": "https://localhost:8080/"
        },
        "id": "fa637dbf-6e7c-47eb-8b00-4c5b2886b8da",
        "outputId": "54c0b2a4-1bf0-4223-da37-214f325a2f43"
      },
      "outputs": [
        {
          "output_type": "execute_result",
          "data": {
            "text/plain": [
              "[1, 2, 3, 4]"
            ]
          },
          "metadata": {},
          "execution_count": 105
        }
      ],
      "source": [
        "[1,2] + [3,4]"
      ]
    },
    {
      "cell_type": "code",
      "execution_count": 106,
      "id": "c50aab8c-e517-4379-83d2-ffff977c2af2",
      "metadata": {
        "colab": {
          "base_uri": "https://localhost:8080/",
          "height": 175
        },
        "id": "c50aab8c-e517-4379-83d2-ffff977c2af2",
        "outputId": "d5a31c7e-d599-40d0-fe2e-4a49bcee2dd0"
      },
      "outputs": [
        {
          "output_type": "execute_result",
          "data": {
            "text/plain": [
              "        Precision  Recall\n",
              "model1         98      88\n",
              "model2         97      77\n",
              "model3         78      99\n",
              "model4         89      98"
            ],
            "text/html": [
              "\n",
              "  <div id=\"df-6f23392d-3cc5-4087-9ae7-a9a73badfa2a\">\n",
              "    <div class=\"colab-df-container\">\n",
              "      <div>\n",
              "<style scoped>\n",
              "    .dataframe tbody tr th:only-of-type {\n",
              "        vertical-align: middle;\n",
              "    }\n",
              "\n",
              "    .dataframe tbody tr th {\n",
              "        vertical-align: top;\n",
              "    }\n",
              "\n",
              "    .dataframe thead th {\n",
              "        text-align: right;\n",
              "    }\n",
              "</style>\n",
              "<table border=\"1\" class=\"dataframe\">\n",
              "  <thead>\n",
              "    <tr style=\"text-align: right;\">\n",
              "      <th></th>\n",
              "      <th>Precision</th>\n",
              "      <th>Recall</th>\n",
              "    </tr>\n",
              "  </thead>\n",
              "  <tbody>\n",
              "    <tr>\n",
              "      <th>model1</th>\n",
              "      <td>98</td>\n",
              "      <td>88</td>\n",
              "    </tr>\n",
              "    <tr>\n",
              "      <th>model2</th>\n",
              "      <td>97</td>\n",
              "      <td>77</td>\n",
              "    </tr>\n",
              "    <tr>\n",
              "      <th>model3</th>\n",
              "      <td>78</td>\n",
              "      <td>99</td>\n",
              "    </tr>\n",
              "    <tr>\n",
              "      <th>model4</th>\n",
              "      <td>89</td>\n",
              "      <td>98</td>\n",
              "    </tr>\n",
              "  </tbody>\n",
              "</table>\n",
              "</div>\n",
              "      <button class=\"colab-df-convert\" onclick=\"convertToInteractive('df-6f23392d-3cc5-4087-9ae7-a9a73badfa2a')\"\n",
              "              title=\"Convert this dataframe to an interactive table.\"\n",
              "              style=\"display:none;\">\n",
              "        \n",
              "  <svg xmlns=\"http://www.w3.org/2000/svg\" height=\"24px\"viewBox=\"0 0 24 24\"\n",
              "       width=\"24px\">\n",
              "    <path d=\"M0 0h24v24H0V0z\" fill=\"none\"/>\n",
              "    <path d=\"M18.56 5.44l.94 2.06.94-2.06 2.06-.94-2.06-.94-.94-2.06-.94 2.06-2.06.94zm-11 1L8.5 8.5l.94-2.06 2.06-.94-2.06-.94L8.5 2.5l-.94 2.06-2.06.94zm10 10l.94 2.06.94-2.06 2.06-.94-2.06-.94-.94-2.06-.94 2.06-2.06.94z\"/><path d=\"M17.41 7.96l-1.37-1.37c-.4-.4-.92-.59-1.43-.59-.52 0-1.04.2-1.43.59L10.3 9.45l-7.72 7.72c-.78.78-.78 2.05 0 2.83L4 21.41c.39.39.9.59 1.41.59.51 0 1.02-.2 1.41-.59l7.78-7.78 2.81-2.81c.8-.78.8-2.07 0-2.86zM5.41 20L4 18.59l7.72-7.72 1.47 1.35L5.41 20z\"/>\n",
              "  </svg>\n",
              "      </button>\n",
              "      \n",
              "  <style>\n",
              "    .colab-df-container {\n",
              "      display:flex;\n",
              "      flex-wrap:wrap;\n",
              "      gap: 12px;\n",
              "    }\n",
              "\n",
              "    .colab-df-convert {\n",
              "      background-color: #E8F0FE;\n",
              "      border: none;\n",
              "      border-radius: 50%;\n",
              "      cursor: pointer;\n",
              "      display: none;\n",
              "      fill: #1967D2;\n",
              "      height: 32px;\n",
              "      padding: 0 0 0 0;\n",
              "      width: 32px;\n",
              "    }\n",
              "\n",
              "    .colab-df-convert:hover {\n",
              "      background-color: #E2EBFA;\n",
              "      box-shadow: 0px 1px 2px rgba(60, 64, 67, 0.3), 0px 1px 3px 1px rgba(60, 64, 67, 0.15);\n",
              "      fill: #174EA6;\n",
              "    }\n",
              "\n",
              "    [theme=dark] .colab-df-convert {\n",
              "      background-color: #3B4455;\n",
              "      fill: #D2E3FC;\n",
              "    }\n",
              "\n",
              "    [theme=dark] .colab-df-convert:hover {\n",
              "      background-color: #434B5C;\n",
              "      box-shadow: 0px 1px 3px 1px rgba(0, 0, 0, 0.15);\n",
              "      filter: drop-shadow(0px 1px 2px rgba(0, 0, 0, 0.3));\n",
              "      fill: #FFFFFF;\n",
              "    }\n",
              "  </style>\n",
              "\n",
              "      <script>\n",
              "        const buttonEl =\n",
              "          document.querySelector('#df-6f23392d-3cc5-4087-9ae7-a9a73badfa2a button.colab-df-convert');\n",
              "        buttonEl.style.display =\n",
              "          google.colab.kernel.accessAllowed ? 'block' : 'none';\n",
              "\n",
              "        async function convertToInteractive(key) {\n",
              "          const element = document.querySelector('#df-6f23392d-3cc5-4087-9ae7-a9a73badfa2a');\n",
              "          const dataTable =\n",
              "            await google.colab.kernel.invokeFunction('convertToInteractive',\n",
              "                                                     [key], {});\n",
              "          if (!dataTable) return;\n",
              "\n",
              "          const docLinkHtml = 'Like what you see? Visit the ' +\n",
              "            '<a target=\"_blank\" href=https://colab.research.google.com/notebooks/data_table.ipynb>data table notebook</a>'\n",
              "            + ' to learn more about interactive tables.';\n",
              "          element.innerHTML = '';\n",
              "          dataTable['output_type'] = 'display_data';\n",
              "          await google.colab.output.renderOutput(dataTable, element);\n",
              "          const docLink = document.createElement('div');\n",
              "          docLink.innerHTML = docLinkHtml;\n",
              "          element.appendChild(docLink);\n",
              "        }\n",
              "      </script>\n",
              "    </div>\n",
              "  </div>\n",
              "  "
            ]
          },
          "metadata": {},
          "execution_count": 106
        }
      ],
      "source": [
        "df2.drop('Accuracy', axis=1) #axis=1 (columns), axis=0(rows)"
      ]
    },
    {
      "cell_type": "code",
      "execution_count": 107,
      "id": "fb310a37-264a-4b87-ba0a-bde1eb141609",
      "metadata": {
        "colab": {
          "base_uri": "https://localhost:8080/",
          "height": 175
        },
        "id": "fb310a37-264a-4b87-ba0a-bde1eb141609",
        "outputId": "6212e37a-4645-4988-87a2-7fac5370280b"
      },
      "outputs": [
        {
          "output_type": "execute_result",
          "data": {
            "text/plain": [
              "        Accuracy  Precision  Recall\n",
              "model1       100         98      88\n",
              "model2        75         97      77\n",
              "model3        86         78      99\n",
              "model4        91         89      98"
            ],
            "text/html": [
              "\n",
              "  <div id=\"df-474137fe-a09b-4059-b23e-134897ce67af\">\n",
              "    <div class=\"colab-df-container\">\n",
              "      <div>\n",
              "<style scoped>\n",
              "    .dataframe tbody tr th:only-of-type {\n",
              "        vertical-align: middle;\n",
              "    }\n",
              "\n",
              "    .dataframe tbody tr th {\n",
              "        vertical-align: top;\n",
              "    }\n",
              "\n",
              "    .dataframe thead th {\n",
              "        text-align: right;\n",
              "    }\n",
              "</style>\n",
              "<table border=\"1\" class=\"dataframe\">\n",
              "  <thead>\n",
              "    <tr style=\"text-align: right;\">\n",
              "      <th></th>\n",
              "      <th>Accuracy</th>\n",
              "      <th>Precision</th>\n",
              "      <th>Recall</th>\n",
              "    </tr>\n",
              "  </thead>\n",
              "  <tbody>\n",
              "    <tr>\n",
              "      <th>model1</th>\n",
              "      <td>100</td>\n",
              "      <td>98</td>\n",
              "      <td>88</td>\n",
              "    </tr>\n",
              "    <tr>\n",
              "      <th>model2</th>\n",
              "      <td>75</td>\n",
              "      <td>97</td>\n",
              "      <td>77</td>\n",
              "    </tr>\n",
              "    <tr>\n",
              "      <th>model3</th>\n",
              "      <td>86</td>\n",
              "      <td>78</td>\n",
              "      <td>99</td>\n",
              "    </tr>\n",
              "    <tr>\n",
              "      <th>model4</th>\n",
              "      <td>91</td>\n",
              "      <td>89</td>\n",
              "      <td>98</td>\n",
              "    </tr>\n",
              "  </tbody>\n",
              "</table>\n",
              "</div>\n",
              "      <button class=\"colab-df-convert\" onclick=\"convertToInteractive('df-474137fe-a09b-4059-b23e-134897ce67af')\"\n",
              "              title=\"Convert this dataframe to an interactive table.\"\n",
              "              style=\"display:none;\">\n",
              "        \n",
              "  <svg xmlns=\"http://www.w3.org/2000/svg\" height=\"24px\"viewBox=\"0 0 24 24\"\n",
              "       width=\"24px\">\n",
              "    <path d=\"M0 0h24v24H0V0z\" fill=\"none\"/>\n",
              "    <path d=\"M18.56 5.44l.94 2.06.94-2.06 2.06-.94-2.06-.94-.94-2.06-.94 2.06-2.06.94zm-11 1L8.5 8.5l.94-2.06 2.06-.94-2.06-.94L8.5 2.5l-.94 2.06-2.06.94zm10 10l.94 2.06.94-2.06 2.06-.94-2.06-.94-.94-2.06-.94 2.06-2.06.94z\"/><path d=\"M17.41 7.96l-1.37-1.37c-.4-.4-.92-.59-1.43-.59-.52 0-1.04.2-1.43.59L10.3 9.45l-7.72 7.72c-.78.78-.78 2.05 0 2.83L4 21.41c.39.39.9.59 1.41.59.51 0 1.02-.2 1.41-.59l7.78-7.78 2.81-2.81c.8-.78.8-2.07 0-2.86zM5.41 20L4 18.59l7.72-7.72 1.47 1.35L5.41 20z\"/>\n",
              "  </svg>\n",
              "      </button>\n",
              "      \n",
              "  <style>\n",
              "    .colab-df-container {\n",
              "      display:flex;\n",
              "      flex-wrap:wrap;\n",
              "      gap: 12px;\n",
              "    }\n",
              "\n",
              "    .colab-df-convert {\n",
              "      background-color: #E8F0FE;\n",
              "      border: none;\n",
              "      border-radius: 50%;\n",
              "      cursor: pointer;\n",
              "      display: none;\n",
              "      fill: #1967D2;\n",
              "      height: 32px;\n",
              "      padding: 0 0 0 0;\n",
              "      width: 32px;\n",
              "    }\n",
              "\n",
              "    .colab-df-convert:hover {\n",
              "      background-color: #E2EBFA;\n",
              "      box-shadow: 0px 1px 2px rgba(60, 64, 67, 0.3), 0px 1px 3px 1px rgba(60, 64, 67, 0.15);\n",
              "      fill: #174EA6;\n",
              "    }\n",
              "\n",
              "    [theme=dark] .colab-df-convert {\n",
              "      background-color: #3B4455;\n",
              "      fill: #D2E3FC;\n",
              "    }\n",
              "\n",
              "    [theme=dark] .colab-df-convert:hover {\n",
              "      background-color: #434B5C;\n",
              "      box-shadow: 0px 1px 3px 1px rgba(0, 0, 0, 0.15);\n",
              "      filter: drop-shadow(0px 1px 2px rgba(0, 0, 0, 0.3));\n",
              "      fill: #FFFFFF;\n",
              "    }\n",
              "  </style>\n",
              "\n",
              "      <script>\n",
              "        const buttonEl =\n",
              "          document.querySelector('#df-474137fe-a09b-4059-b23e-134897ce67af button.colab-df-convert');\n",
              "        buttonEl.style.display =\n",
              "          google.colab.kernel.accessAllowed ? 'block' : 'none';\n",
              "\n",
              "        async function convertToInteractive(key) {\n",
              "          const element = document.querySelector('#df-474137fe-a09b-4059-b23e-134897ce67af');\n",
              "          const dataTable =\n",
              "            await google.colab.kernel.invokeFunction('convertToInteractive',\n",
              "                                                     [key], {});\n",
              "          if (!dataTable) return;\n",
              "\n",
              "          const docLinkHtml = 'Like what you see? Visit the ' +\n",
              "            '<a target=\"_blank\" href=https://colab.research.google.com/notebooks/data_table.ipynb>data table notebook</a>'\n",
              "            + ' to learn more about interactive tables.';\n",
              "          element.innerHTML = '';\n",
              "          dataTable['output_type'] = 'display_data';\n",
              "          await google.colab.output.renderOutput(dataTable, element);\n",
              "          const docLink = document.createElement('div');\n",
              "          docLink.innerHTML = docLinkHtml;\n",
              "          element.appendChild(docLink);\n",
              "        }\n",
              "      </script>\n",
              "    </div>\n",
              "  </div>\n",
              "  "
            ]
          },
          "metadata": {},
          "execution_count": 107
        }
      ],
      "source": [
        "df2"
      ]
    },
    {
      "cell_type": "code",
      "execution_count": 108,
      "id": "76330693-7878-4816-8bdf-e893ce026cf5",
      "metadata": {
        "id": "76330693-7878-4816-8bdf-e893ce026cf5"
      },
      "outputs": [],
      "source": [
        "df2.drop('Accuracy', axis=1, inplace=True) #axis=1 (columns), axis=0(rows)"
      ]
    },
    {
      "cell_type": "code",
      "execution_count": 109,
      "id": "909245ef-f220-4522-99d3-9a59ea388ff4",
      "metadata": {
        "colab": {
          "base_uri": "https://localhost:8080/",
          "height": 175
        },
        "id": "909245ef-f220-4522-99d3-9a59ea388ff4",
        "outputId": "b061cd76-3281-45a9-bdd8-0b3ad2b9a337"
      },
      "outputs": [
        {
          "output_type": "execute_result",
          "data": {
            "text/plain": [
              "        Precision  Recall\n",
              "model1         98      88\n",
              "model2         97      77\n",
              "model3         78      99\n",
              "model4         89      98"
            ],
            "text/html": [
              "\n",
              "  <div id=\"df-044ac820-fd3e-4efd-b385-10d2e332443b\">\n",
              "    <div class=\"colab-df-container\">\n",
              "      <div>\n",
              "<style scoped>\n",
              "    .dataframe tbody tr th:only-of-type {\n",
              "        vertical-align: middle;\n",
              "    }\n",
              "\n",
              "    .dataframe tbody tr th {\n",
              "        vertical-align: top;\n",
              "    }\n",
              "\n",
              "    .dataframe thead th {\n",
              "        text-align: right;\n",
              "    }\n",
              "</style>\n",
              "<table border=\"1\" class=\"dataframe\">\n",
              "  <thead>\n",
              "    <tr style=\"text-align: right;\">\n",
              "      <th></th>\n",
              "      <th>Precision</th>\n",
              "      <th>Recall</th>\n",
              "    </tr>\n",
              "  </thead>\n",
              "  <tbody>\n",
              "    <tr>\n",
              "      <th>model1</th>\n",
              "      <td>98</td>\n",
              "      <td>88</td>\n",
              "    </tr>\n",
              "    <tr>\n",
              "      <th>model2</th>\n",
              "      <td>97</td>\n",
              "      <td>77</td>\n",
              "    </tr>\n",
              "    <tr>\n",
              "      <th>model3</th>\n",
              "      <td>78</td>\n",
              "      <td>99</td>\n",
              "    </tr>\n",
              "    <tr>\n",
              "      <th>model4</th>\n",
              "      <td>89</td>\n",
              "      <td>98</td>\n",
              "    </tr>\n",
              "  </tbody>\n",
              "</table>\n",
              "</div>\n",
              "      <button class=\"colab-df-convert\" onclick=\"convertToInteractive('df-044ac820-fd3e-4efd-b385-10d2e332443b')\"\n",
              "              title=\"Convert this dataframe to an interactive table.\"\n",
              "              style=\"display:none;\">\n",
              "        \n",
              "  <svg xmlns=\"http://www.w3.org/2000/svg\" height=\"24px\"viewBox=\"0 0 24 24\"\n",
              "       width=\"24px\">\n",
              "    <path d=\"M0 0h24v24H0V0z\" fill=\"none\"/>\n",
              "    <path d=\"M18.56 5.44l.94 2.06.94-2.06 2.06-.94-2.06-.94-.94-2.06-.94 2.06-2.06.94zm-11 1L8.5 8.5l.94-2.06 2.06-.94-2.06-.94L8.5 2.5l-.94 2.06-2.06.94zm10 10l.94 2.06.94-2.06 2.06-.94-2.06-.94-.94-2.06-.94 2.06-2.06.94z\"/><path d=\"M17.41 7.96l-1.37-1.37c-.4-.4-.92-.59-1.43-.59-.52 0-1.04.2-1.43.59L10.3 9.45l-7.72 7.72c-.78.78-.78 2.05 0 2.83L4 21.41c.39.39.9.59 1.41.59.51 0 1.02-.2 1.41-.59l7.78-7.78 2.81-2.81c.8-.78.8-2.07 0-2.86zM5.41 20L4 18.59l7.72-7.72 1.47 1.35L5.41 20z\"/>\n",
              "  </svg>\n",
              "      </button>\n",
              "      \n",
              "  <style>\n",
              "    .colab-df-container {\n",
              "      display:flex;\n",
              "      flex-wrap:wrap;\n",
              "      gap: 12px;\n",
              "    }\n",
              "\n",
              "    .colab-df-convert {\n",
              "      background-color: #E8F0FE;\n",
              "      border: none;\n",
              "      border-radius: 50%;\n",
              "      cursor: pointer;\n",
              "      display: none;\n",
              "      fill: #1967D2;\n",
              "      height: 32px;\n",
              "      padding: 0 0 0 0;\n",
              "      width: 32px;\n",
              "    }\n",
              "\n",
              "    .colab-df-convert:hover {\n",
              "      background-color: #E2EBFA;\n",
              "      box-shadow: 0px 1px 2px rgba(60, 64, 67, 0.3), 0px 1px 3px 1px rgba(60, 64, 67, 0.15);\n",
              "      fill: #174EA6;\n",
              "    }\n",
              "\n",
              "    [theme=dark] .colab-df-convert {\n",
              "      background-color: #3B4455;\n",
              "      fill: #D2E3FC;\n",
              "    }\n",
              "\n",
              "    [theme=dark] .colab-df-convert:hover {\n",
              "      background-color: #434B5C;\n",
              "      box-shadow: 0px 1px 3px 1px rgba(0, 0, 0, 0.15);\n",
              "      filter: drop-shadow(0px 1px 2px rgba(0, 0, 0, 0.3));\n",
              "      fill: #FFFFFF;\n",
              "    }\n",
              "  </style>\n",
              "\n",
              "      <script>\n",
              "        const buttonEl =\n",
              "          document.querySelector('#df-044ac820-fd3e-4efd-b385-10d2e332443b button.colab-df-convert');\n",
              "        buttonEl.style.display =\n",
              "          google.colab.kernel.accessAllowed ? 'block' : 'none';\n",
              "\n",
              "        async function convertToInteractive(key) {\n",
              "          const element = document.querySelector('#df-044ac820-fd3e-4efd-b385-10d2e332443b');\n",
              "          const dataTable =\n",
              "            await google.colab.kernel.invokeFunction('convertToInteractive',\n",
              "                                                     [key], {});\n",
              "          if (!dataTable) return;\n",
              "\n",
              "          const docLinkHtml = 'Like what you see? Visit the ' +\n",
              "            '<a target=\"_blank\" href=https://colab.research.google.com/notebooks/data_table.ipynb>data table notebook</a>'\n",
              "            + ' to learn more about interactive tables.';\n",
              "          element.innerHTML = '';\n",
              "          dataTable['output_type'] = 'display_data';\n",
              "          await google.colab.output.renderOutput(dataTable, element);\n",
              "          const docLink = document.createElement('div');\n",
              "          docLink.innerHTML = docLinkHtml;\n",
              "          element.appendChild(docLink);\n",
              "        }\n",
              "      </script>\n",
              "    </div>\n",
              "  </div>\n",
              "  "
            ]
          },
          "metadata": {},
          "execution_count": 109
        }
      ],
      "source": [
        "df2"
      ]
    },
    {
      "cell_type": "code",
      "execution_count": 110,
      "id": "643d0822-067c-4934-ba08-2ea7ab1d0976",
      "metadata": {
        "id": "643d0822-067c-4934-ba08-2ea7ab1d0976"
      },
      "outputs": [],
      "source": [
        "\n",
        "# ids_to_select=['model1', 'model4']\n",
        "# cols_to_select=['Accuracy', 'Precision']\n",
        "# new_df=df2.loc[ids_to_select, cols_to_select]\n",
        "# new_df\n",
        "# +/"
      ]
    },
    {
      "cell_type": "code",
      "execution_count": 111,
      "id": "799030ec-ddd6-47de-be37-f9e839daa1f5",
      "metadata": {
        "id": "799030ec-ddd6-47de-be37-f9e839daa1f5"
      },
      "outputs": [],
      "source": [
        "# sub_df2=df2.loc[['model1', 'model4'], ['Accuracy', 'Recall']]\n",
        "# sub_df2"
      ]
    },
    {
      "cell_type": "code",
      "execution_count": 111,
      "id": "2662eee9-2e94-4a4f-9a84-acda91fc819e",
      "metadata": {
        "id": "2662eee9-2e94-4a4f-9a84-acda91fc819e"
      },
      "outputs": [],
      "source": [
        ""
      ]
    },
    {
      "cell_type": "code",
      "execution_count": 112,
      "id": "7064e2f1-5fe5-4ec3-b019-6015eea5dfef",
      "metadata": {
        "id": "7064e2f1-5fe5-4ec3-b019-6015eea5dfef"
      },
      "outputs": [],
      "source": [
        "character_dict={\n",
        "    'Skin Color': ['black', 'white', 'pink'],\n",
        "    'Hair Color': ['black', 'grey', 'blonde']\n",
        "}"
      ]
    },
    {
      "cell_type": "code",
      "execution_count": 113,
      "id": "2c74bd7c-10d7-4662-a014-4af6be15583f",
      "metadata": {
        "colab": {
          "base_uri": "https://localhost:8080/",
          "height": 143
        },
        "id": "2c74bd7c-10d7-4662-a014-4af6be15583f",
        "outputId": "b9b45997-a8e5-476b-954d-a373cd27d84f"
      },
      "outputs": [
        {
          "output_type": "execute_result",
          "data": {
            "text/plain": [
              "  Skin Color Hair Color\n",
              "0      black      black\n",
              "1      white       grey\n",
              "2       pink     blonde"
            ],
            "text/html": [
              "\n",
              "  <div id=\"df-1ee2cda4-c779-4b8e-999c-e90281753863\">\n",
              "    <div class=\"colab-df-container\">\n",
              "      <div>\n",
              "<style scoped>\n",
              "    .dataframe tbody tr th:only-of-type {\n",
              "        vertical-align: middle;\n",
              "    }\n",
              "\n",
              "    .dataframe tbody tr th {\n",
              "        vertical-align: top;\n",
              "    }\n",
              "\n",
              "    .dataframe thead th {\n",
              "        text-align: right;\n",
              "    }\n",
              "</style>\n",
              "<table border=\"1\" class=\"dataframe\">\n",
              "  <thead>\n",
              "    <tr style=\"text-align: right;\">\n",
              "      <th></th>\n",
              "      <th>Skin Color</th>\n",
              "      <th>Hair Color</th>\n",
              "    </tr>\n",
              "  </thead>\n",
              "  <tbody>\n",
              "    <tr>\n",
              "      <th>0</th>\n",
              "      <td>black</td>\n",
              "      <td>black</td>\n",
              "    </tr>\n",
              "    <tr>\n",
              "      <th>1</th>\n",
              "      <td>white</td>\n",
              "      <td>grey</td>\n",
              "    </tr>\n",
              "    <tr>\n",
              "      <th>2</th>\n",
              "      <td>pink</td>\n",
              "      <td>blonde</td>\n",
              "    </tr>\n",
              "  </tbody>\n",
              "</table>\n",
              "</div>\n",
              "      <button class=\"colab-df-convert\" onclick=\"convertToInteractive('df-1ee2cda4-c779-4b8e-999c-e90281753863')\"\n",
              "              title=\"Convert this dataframe to an interactive table.\"\n",
              "              style=\"display:none;\">\n",
              "        \n",
              "  <svg xmlns=\"http://www.w3.org/2000/svg\" height=\"24px\"viewBox=\"0 0 24 24\"\n",
              "       width=\"24px\">\n",
              "    <path d=\"M0 0h24v24H0V0z\" fill=\"none\"/>\n",
              "    <path d=\"M18.56 5.44l.94 2.06.94-2.06 2.06-.94-2.06-.94-.94-2.06-.94 2.06-2.06.94zm-11 1L8.5 8.5l.94-2.06 2.06-.94-2.06-.94L8.5 2.5l-.94 2.06-2.06.94zm10 10l.94 2.06.94-2.06 2.06-.94-2.06-.94-.94-2.06-.94 2.06-2.06.94z\"/><path d=\"M17.41 7.96l-1.37-1.37c-.4-.4-.92-.59-1.43-.59-.52 0-1.04.2-1.43.59L10.3 9.45l-7.72 7.72c-.78.78-.78 2.05 0 2.83L4 21.41c.39.39.9.59 1.41.59.51 0 1.02-.2 1.41-.59l7.78-7.78 2.81-2.81c.8-.78.8-2.07 0-2.86zM5.41 20L4 18.59l7.72-7.72 1.47 1.35L5.41 20z\"/>\n",
              "  </svg>\n",
              "      </button>\n",
              "      \n",
              "  <style>\n",
              "    .colab-df-container {\n",
              "      display:flex;\n",
              "      flex-wrap:wrap;\n",
              "      gap: 12px;\n",
              "    }\n",
              "\n",
              "    .colab-df-convert {\n",
              "      background-color: #E8F0FE;\n",
              "      border: none;\n",
              "      border-radius: 50%;\n",
              "      cursor: pointer;\n",
              "      display: none;\n",
              "      fill: #1967D2;\n",
              "      height: 32px;\n",
              "      padding: 0 0 0 0;\n",
              "      width: 32px;\n",
              "    }\n",
              "\n",
              "    .colab-df-convert:hover {\n",
              "      background-color: #E2EBFA;\n",
              "      box-shadow: 0px 1px 2px rgba(60, 64, 67, 0.3), 0px 1px 3px 1px rgba(60, 64, 67, 0.15);\n",
              "      fill: #174EA6;\n",
              "    }\n",
              "\n",
              "    [theme=dark] .colab-df-convert {\n",
              "      background-color: #3B4455;\n",
              "      fill: #D2E3FC;\n",
              "    }\n",
              "\n",
              "    [theme=dark] .colab-df-convert:hover {\n",
              "      background-color: #434B5C;\n",
              "      box-shadow: 0px 1px 3px 1px rgba(0, 0, 0, 0.15);\n",
              "      filter: drop-shadow(0px 1px 2px rgba(0, 0, 0, 0.3));\n",
              "      fill: #FFFFFF;\n",
              "    }\n",
              "  </style>\n",
              "\n",
              "      <script>\n",
              "        const buttonEl =\n",
              "          document.querySelector('#df-1ee2cda4-c779-4b8e-999c-e90281753863 button.colab-df-convert');\n",
              "        buttonEl.style.display =\n",
              "          google.colab.kernel.accessAllowed ? 'block' : 'none';\n",
              "\n",
              "        async function convertToInteractive(key) {\n",
              "          const element = document.querySelector('#df-1ee2cda4-c779-4b8e-999c-e90281753863');\n",
              "          const dataTable =\n",
              "            await google.colab.kernel.invokeFunction('convertToInteractive',\n",
              "                                                     [key], {});\n",
              "          if (!dataTable) return;\n",
              "\n",
              "          const docLinkHtml = 'Like what you see? Visit the ' +\n",
              "            '<a target=\"_blank\" href=https://colab.research.google.com/notebooks/data_table.ipynb>data table notebook</a>'\n",
              "            + ' to learn more about interactive tables.';\n",
              "          element.innerHTML = '';\n",
              "          dataTable['output_type'] = 'display_data';\n",
              "          await google.colab.output.renderOutput(dataTable, element);\n",
              "          const docLink = document.createElement('div');\n",
              "          docLink.innerHTML = docLinkHtml;\n",
              "          element.appendChild(docLink);\n",
              "        }\n",
              "      </script>\n",
              "    </div>\n",
              "  </div>\n",
              "  "
            ]
          },
          "metadata": {},
          "execution_count": 113
        }
      ],
      "source": [
        "sample_df=pd.DataFrame(data=character_dict)\n",
        "sample_df"
      ]
    },
    {
      "cell_type": "code",
      "execution_count": 114,
      "id": "111204cc-04ac-4af1-bc5d-5aee1f3321f4",
      "metadata": {
        "colab": {
          "base_uri": "https://localhost:8080/",
          "height": 143
        },
        "id": "111204cc-04ac-4af1-bc5d-5aee1f3321f4",
        "outputId": "99cde46b-ed7a-4288-b04c-f55dbf0f1d6e"
      },
      "outputs": [
        {
          "output_type": "execute_result",
          "data": {
            "text/plain": [
              "        Skin Color Hair Color\n",
              "Dylan        black      black\n",
              "Jesicca      white       grey\n",
              "Alice         pink     blonde"
            ],
            "text/html": [
              "\n",
              "  <div id=\"df-7ca0781a-d6a9-42e0-9f54-b9cbf908994f\">\n",
              "    <div class=\"colab-df-container\">\n",
              "      <div>\n",
              "<style scoped>\n",
              "    .dataframe tbody tr th:only-of-type {\n",
              "        vertical-align: middle;\n",
              "    }\n",
              "\n",
              "    .dataframe tbody tr th {\n",
              "        vertical-align: top;\n",
              "    }\n",
              "\n",
              "    .dataframe thead th {\n",
              "        text-align: right;\n",
              "    }\n",
              "</style>\n",
              "<table border=\"1\" class=\"dataframe\">\n",
              "  <thead>\n",
              "    <tr style=\"text-align: right;\">\n",
              "      <th></th>\n",
              "      <th>Skin Color</th>\n",
              "      <th>Hair Color</th>\n",
              "    </tr>\n",
              "  </thead>\n",
              "  <tbody>\n",
              "    <tr>\n",
              "      <th>Dylan</th>\n",
              "      <td>black</td>\n",
              "      <td>black</td>\n",
              "    </tr>\n",
              "    <tr>\n",
              "      <th>Jesicca</th>\n",
              "      <td>white</td>\n",
              "      <td>grey</td>\n",
              "    </tr>\n",
              "    <tr>\n",
              "      <th>Alice</th>\n",
              "      <td>pink</td>\n",
              "      <td>blonde</td>\n",
              "    </tr>\n",
              "  </tbody>\n",
              "</table>\n",
              "</div>\n",
              "      <button class=\"colab-df-convert\" onclick=\"convertToInteractive('df-7ca0781a-d6a9-42e0-9f54-b9cbf908994f')\"\n",
              "              title=\"Convert this dataframe to an interactive table.\"\n",
              "              style=\"display:none;\">\n",
              "        \n",
              "  <svg xmlns=\"http://www.w3.org/2000/svg\" height=\"24px\"viewBox=\"0 0 24 24\"\n",
              "       width=\"24px\">\n",
              "    <path d=\"M0 0h24v24H0V0z\" fill=\"none\"/>\n",
              "    <path d=\"M18.56 5.44l.94 2.06.94-2.06 2.06-.94-2.06-.94-.94-2.06-.94 2.06-2.06.94zm-11 1L8.5 8.5l.94-2.06 2.06-.94-2.06-.94L8.5 2.5l-.94 2.06-2.06.94zm10 10l.94 2.06.94-2.06 2.06-.94-2.06-.94-.94-2.06-.94 2.06-2.06.94z\"/><path d=\"M17.41 7.96l-1.37-1.37c-.4-.4-.92-.59-1.43-.59-.52 0-1.04.2-1.43.59L10.3 9.45l-7.72 7.72c-.78.78-.78 2.05 0 2.83L4 21.41c.39.39.9.59 1.41.59.51 0 1.02-.2 1.41-.59l7.78-7.78 2.81-2.81c.8-.78.8-2.07 0-2.86zM5.41 20L4 18.59l7.72-7.72 1.47 1.35L5.41 20z\"/>\n",
              "  </svg>\n",
              "      </button>\n",
              "      \n",
              "  <style>\n",
              "    .colab-df-container {\n",
              "      display:flex;\n",
              "      flex-wrap:wrap;\n",
              "      gap: 12px;\n",
              "    }\n",
              "\n",
              "    .colab-df-convert {\n",
              "      background-color: #E8F0FE;\n",
              "      border: none;\n",
              "      border-radius: 50%;\n",
              "      cursor: pointer;\n",
              "      display: none;\n",
              "      fill: #1967D2;\n",
              "      height: 32px;\n",
              "      padding: 0 0 0 0;\n",
              "      width: 32px;\n",
              "    }\n",
              "\n",
              "    .colab-df-convert:hover {\n",
              "      background-color: #E2EBFA;\n",
              "      box-shadow: 0px 1px 2px rgba(60, 64, 67, 0.3), 0px 1px 3px 1px rgba(60, 64, 67, 0.15);\n",
              "      fill: #174EA6;\n",
              "    }\n",
              "\n",
              "    [theme=dark] .colab-df-convert {\n",
              "      background-color: #3B4455;\n",
              "      fill: #D2E3FC;\n",
              "    }\n",
              "\n",
              "    [theme=dark] .colab-df-convert:hover {\n",
              "      background-color: #434B5C;\n",
              "      box-shadow: 0px 1px 3px 1px rgba(0, 0, 0, 0.15);\n",
              "      filter: drop-shadow(0px 1px 2px rgba(0, 0, 0, 0.3));\n",
              "      fill: #FFFFFF;\n",
              "    }\n",
              "  </style>\n",
              "\n",
              "      <script>\n",
              "        const buttonEl =\n",
              "          document.querySelector('#df-7ca0781a-d6a9-42e0-9f54-b9cbf908994f button.colab-df-convert');\n",
              "        buttonEl.style.display =\n",
              "          google.colab.kernel.accessAllowed ? 'block' : 'none';\n",
              "\n",
              "        async function convertToInteractive(key) {\n",
              "          const element = document.querySelector('#df-7ca0781a-d6a9-42e0-9f54-b9cbf908994f');\n",
              "          const dataTable =\n",
              "            await google.colab.kernel.invokeFunction('convertToInteractive',\n",
              "                                                     [key], {});\n",
              "          if (!dataTable) return;\n",
              "\n",
              "          const docLinkHtml = 'Like what you see? Visit the ' +\n",
              "            '<a target=\"_blank\" href=https://colab.research.google.com/notebooks/data_table.ipynb>data table notebook</a>'\n",
              "            + ' to learn more about interactive tables.';\n",
              "          element.innerHTML = '';\n",
              "          dataTable['output_type'] = 'display_data';\n",
              "          await google.colab.output.renderOutput(dataTable, element);\n",
              "          const docLink = document.createElement('div');\n",
              "          docLink.innerHTML = docLinkHtml;\n",
              "          element.appendChild(docLink);\n",
              "        }\n",
              "      </script>\n",
              "    </div>\n",
              "  </div>\n",
              "  "
            ]
          },
          "metadata": {},
          "execution_count": 114
        }
      ],
      "source": [
        "sample_df=pd.DataFrame(data=character_dict, index=['Dylan', 'Jesicca', 'Alice'])\n",
        "sample_df"
      ]
    },
    {
      "cell_type": "code",
      "execution_count": 115,
      "id": "929be858-bdd6-46db-b9f2-1c0c5014f165",
      "metadata": {
        "colab": {
          "base_uri": "https://localhost:8080/"
        },
        "id": "929be858-bdd6-46db-b9f2-1c0c5014f165",
        "outputId": "11ca58c2-3e8c-467a-fd5d-568b550afd63"
      },
      "outputs": [
        {
          "output_type": "execute_result",
          "data": {
            "text/plain": [
              "Skin Color    black\n",
              "Hair Color    black\n",
              "Name: Dylan, dtype: object"
            ]
          },
          "metadata": {},
          "execution_count": 115
        }
      ],
      "source": [
        "sample_df.loc['Dylan']"
      ]
    },
    {
      "cell_type": "code",
      "execution_count": 116,
      "id": "3a4c0a36-d5b3-41f4-ac62-c027d0753527",
      "metadata": {
        "colab": {
          "base_uri": "https://localhost:8080/",
          "height": 143
        },
        "id": "3a4c0a36-d5b3-41f4-ac62-c027d0753527",
        "outputId": "d681b0f9-9ade-4f59-c5ae-742617304beb"
      },
      "outputs": [
        {
          "output_type": "execute_result",
          "data": {
            "text/plain": [
              "        Skin Color\n",
              "Dylan        black\n",
              "Jesicca      white\n",
              "Alice         pink"
            ],
            "text/html": [
              "\n",
              "  <div id=\"df-4a4aafd8-4825-4628-8bcb-584fbeee6b6d\">\n",
              "    <div class=\"colab-df-container\">\n",
              "      <div>\n",
              "<style scoped>\n",
              "    .dataframe tbody tr th:only-of-type {\n",
              "        vertical-align: middle;\n",
              "    }\n",
              "\n",
              "    .dataframe tbody tr th {\n",
              "        vertical-align: top;\n",
              "    }\n",
              "\n",
              "    .dataframe thead th {\n",
              "        text-align: right;\n",
              "    }\n",
              "</style>\n",
              "<table border=\"1\" class=\"dataframe\">\n",
              "  <thead>\n",
              "    <tr style=\"text-align: right;\">\n",
              "      <th></th>\n",
              "      <th>Skin Color</th>\n",
              "    </tr>\n",
              "  </thead>\n",
              "  <tbody>\n",
              "    <tr>\n",
              "      <th>Dylan</th>\n",
              "      <td>black</td>\n",
              "    </tr>\n",
              "    <tr>\n",
              "      <th>Jesicca</th>\n",
              "      <td>white</td>\n",
              "    </tr>\n",
              "    <tr>\n",
              "      <th>Alice</th>\n",
              "      <td>pink</td>\n",
              "    </tr>\n",
              "  </tbody>\n",
              "</table>\n",
              "</div>\n",
              "      <button class=\"colab-df-convert\" onclick=\"convertToInteractive('df-4a4aafd8-4825-4628-8bcb-584fbeee6b6d')\"\n",
              "              title=\"Convert this dataframe to an interactive table.\"\n",
              "              style=\"display:none;\">\n",
              "        \n",
              "  <svg xmlns=\"http://www.w3.org/2000/svg\" height=\"24px\"viewBox=\"0 0 24 24\"\n",
              "       width=\"24px\">\n",
              "    <path d=\"M0 0h24v24H0V0z\" fill=\"none\"/>\n",
              "    <path d=\"M18.56 5.44l.94 2.06.94-2.06 2.06-.94-2.06-.94-.94-2.06-.94 2.06-2.06.94zm-11 1L8.5 8.5l.94-2.06 2.06-.94-2.06-.94L8.5 2.5l-.94 2.06-2.06.94zm10 10l.94 2.06.94-2.06 2.06-.94-2.06-.94-.94-2.06-.94 2.06-2.06.94z\"/><path d=\"M17.41 7.96l-1.37-1.37c-.4-.4-.92-.59-1.43-.59-.52 0-1.04.2-1.43.59L10.3 9.45l-7.72 7.72c-.78.78-.78 2.05 0 2.83L4 21.41c.39.39.9.59 1.41.59.51 0 1.02-.2 1.41-.59l7.78-7.78 2.81-2.81c.8-.78.8-2.07 0-2.86zM5.41 20L4 18.59l7.72-7.72 1.47 1.35L5.41 20z\"/>\n",
              "  </svg>\n",
              "      </button>\n",
              "      \n",
              "  <style>\n",
              "    .colab-df-container {\n",
              "      display:flex;\n",
              "      flex-wrap:wrap;\n",
              "      gap: 12px;\n",
              "    }\n",
              "\n",
              "    .colab-df-convert {\n",
              "      background-color: #E8F0FE;\n",
              "      border: none;\n",
              "      border-radius: 50%;\n",
              "      cursor: pointer;\n",
              "      display: none;\n",
              "      fill: #1967D2;\n",
              "      height: 32px;\n",
              "      padding: 0 0 0 0;\n",
              "      width: 32px;\n",
              "    }\n",
              "\n",
              "    .colab-df-convert:hover {\n",
              "      background-color: #E2EBFA;\n",
              "      box-shadow: 0px 1px 2px rgba(60, 64, 67, 0.3), 0px 1px 3px 1px rgba(60, 64, 67, 0.15);\n",
              "      fill: #174EA6;\n",
              "    }\n",
              "\n",
              "    [theme=dark] .colab-df-convert {\n",
              "      background-color: #3B4455;\n",
              "      fill: #D2E3FC;\n",
              "    }\n",
              "\n",
              "    [theme=dark] .colab-df-convert:hover {\n",
              "      background-color: #434B5C;\n",
              "      box-shadow: 0px 1px 3px 1px rgba(0, 0, 0, 0.15);\n",
              "      filter: drop-shadow(0px 1px 2px rgba(0, 0, 0, 0.3));\n",
              "      fill: #FFFFFF;\n",
              "    }\n",
              "  </style>\n",
              "\n",
              "      <script>\n",
              "        const buttonEl =\n",
              "          document.querySelector('#df-4a4aafd8-4825-4628-8bcb-584fbeee6b6d button.colab-df-convert');\n",
              "        buttonEl.style.display =\n",
              "          google.colab.kernel.accessAllowed ? 'block' : 'none';\n",
              "\n",
              "        async function convertToInteractive(key) {\n",
              "          const element = document.querySelector('#df-4a4aafd8-4825-4628-8bcb-584fbeee6b6d');\n",
              "          const dataTable =\n",
              "            await google.colab.kernel.invokeFunction('convertToInteractive',\n",
              "                                                     [key], {});\n",
              "          if (!dataTable) return;\n",
              "\n",
              "          const docLinkHtml = 'Like what you see? Visit the ' +\n",
              "            '<a target=\"_blank\" href=https://colab.research.google.com/notebooks/data_table.ipynb>data table notebook</a>'\n",
              "            + ' to learn more about interactive tables.';\n",
              "          element.innerHTML = '';\n",
              "          dataTable['output_type'] = 'display_data';\n",
              "          await google.colab.output.renderOutput(dataTable, element);\n",
              "          const docLink = document.createElement('div');\n",
              "          docLink.innerHTML = docLinkHtml;\n",
              "          element.appendChild(docLink);\n",
              "        }\n",
              "      </script>\n",
              "    </div>\n",
              "  </div>\n",
              "  "
            ]
          },
          "metadata": {},
          "execution_count": 116
        }
      ],
      "source": [
        "sample_df=pd.DataFrame(data=character_dict, index=['Dylan', 'Jesicca', 'Alice'], columns=['Skin Color'])\n",
        "sample_df"
      ]
    },
    {
      "cell_type": "code",
      "execution_count": 117,
      "id": "5ac20664-ee3e-4f71-ac08-5beee15bff4a",
      "metadata": {
        "colab": {
          "base_uri": "https://localhost:8080/",
          "height": 143
        },
        "id": "5ac20664-ee3e-4f71-ac08-5beee15bff4a",
        "outputId": "8d2d2f4e-20cb-4a2e-fec4-cbcac8e8fba3"
      },
      "outputs": [
        {
          "output_type": "execute_result",
          "data": {
            "text/plain": [
              "        Skin Color\n",
              "Dylan        black\n",
              "Jesicca      white\n",
              "Alice         pink"
            ],
            "text/html": [
              "\n",
              "  <div id=\"df-c45b9ee3-820c-49c9-aa14-b23e5185fcd1\">\n",
              "    <div class=\"colab-df-container\">\n",
              "      <div>\n",
              "<style scoped>\n",
              "    .dataframe tbody tr th:only-of-type {\n",
              "        vertical-align: middle;\n",
              "    }\n",
              "\n",
              "    .dataframe tbody tr th {\n",
              "        vertical-align: top;\n",
              "    }\n",
              "\n",
              "    .dataframe thead th {\n",
              "        text-align: right;\n",
              "    }\n",
              "</style>\n",
              "<table border=\"1\" class=\"dataframe\">\n",
              "  <thead>\n",
              "    <tr style=\"text-align: right;\">\n",
              "      <th></th>\n",
              "      <th>Skin Color</th>\n",
              "    </tr>\n",
              "  </thead>\n",
              "  <tbody>\n",
              "    <tr>\n",
              "      <th>Dylan</th>\n",
              "      <td>black</td>\n",
              "    </tr>\n",
              "    <tr>\n",
              "      <th>Jesicca</th>\n",
              "      <td>white</td>\n",
              "    </tr>\n",
              "    <tr>\n",
              "      <th>Alice</th>\n",
              "      <td>pink</td>\n",
              "    </tr>\n",
              "  </tbody>\n",
              "</table>\n",
              "</div>\n",
              "      <button class=\"colab-df-convert\" onclick=\"convertToInteractive('df-c45b9ee3-820c-49c9-aa14-b23e5185fcd1')\"\n",
              "              title=\"Convert this dataframe to an interactive table.\"\n",
              "              style=\"display:none;\">\n",
              "        \n",
              "  <svg xmlns=\"http://www.w3.org/2000/svg\" height=\"24px\"viewBox=\"0 0 24 24\"\n",
              "       width=\"24px\">\n",
              "    <path d=\"M0 0h24v24H0V0z\" fill=\"none\"/>\n",
              "    <path d=\"M18.56 5.44l.94 2.06.94-2.06 2.06-.94-2.06-.94-.94-2.06-.94 2.06-2.06.94zm-11 1L8.5 8.5l.94-2.06 2.06-.94-2.06-.94L8.5 2.5l-.94 2.06-2.06.94zm10 10l.94 2.06.94-2.06 2.06-.94-2.06-.94-.94-2.06-.94 2.06-2.06.94z\"/><path d=\"M17.41 7.96l-1.37-1.37c-.4-.4-.92-.59-1.43-.59-.52 0-1.04.2-1.43.59L10.3 9.45l-7.72 7.72c-.78.78-.78 2.05 0 2.83L4 21.41c.39.39.9.59 1.41.59.51 0 1.02-.2 1.41-.59l7.78-7.78 2.81-2.81c.8-.78.8-2.07 0-2.86zM5.41 20L4 18.59l7.72-7.72 1.47 1.35L5.41 20z\"/>\n",
              "  </svg>\n",
              "      </button>\n",
              "      \n",
              "  <style>\n",
              "    .colab-df-container {\n",
              "      display:flex;\n",
              "      flex-wrap:wrap;\n",
              "      gap: 12px;\n",
              "    }\n",
              "\n",
              "    .colab-df-convert {\n",
              "      background-color: #E8F0FE;\n",
              "      border: none;\n",
              "      border-radius: 50%;\n",
              "      cursor: pointer;\n",
              "      display: none;\n",
              "      fill: #1967D2;\n",
              "      height: 32px;\n",
              "      padding: 0 0 0 0;\n",
              "      width: 32px;\n",
              "    }\n",
              "\n",
              "    .colab-df-convert:hover {\n",
              "      background-color: #E2EBFA;\n",
              "      box-shadow: 0px 1px 2px rgba(60, 64, 67, 0.3), 0px 1px 3px 1px rgba(60, 64, 67, 0.15);\n",
              "      fill: #174EA6;\n",
              "    }\n",
              "\n",
              "    [theme=dark] .colab-df-convert {\n",
              "      background-color: #3B4455;\n",
              "      fill: #D2E3FC;\n",
              "    }\n",
              "\n",
              "    [theme=dark] .colab-df-convert:hover {\n",
              "      background-color: #434B5C;\n",
              "      box-shadow: 0px 1px 3px 1px rgba(0, 0, 0, 0.15);\n",
              "      filter: drop-shadow(0px 1px 2px rgba(0, 0, 0, 0.3));\n",
              "      fill: #FFFFFF;\n",
              "    }\n",
              "  </style>\n",
              "\n",
              "      <script>\n",
              "        const buttonEl =\n",
              "          document.querySelector('#df-c45b9ee3-820c-49c9-aa14-b23e5185fcd1 button.colab-df-convert');\n",
              "        buttonEl.style.display =\n",
              "          google.colab.kernel.accessAllowed ? 'block' : 'none';\n",
              "\n",
              "        async function convertToInteractive(key) {\n",
              "          const element = document.querySelector('#df-c45b9ee3-820c-49c9-aa14-b23e5185fcd1');\n",
              "          const dataTable =\n",
              "            await google.colab.kernel.invokeFunction('convertToInteractive',\n",
              "                                                     [key], {});\n",
              "          if (!dataTable) return;\n",
              "\n",
              "          const docLinkHtml = 'Like what you see? Visit the ' +\n",
              "            '<a target=\"_blank\" href=https://colab.research.google.com/notebooks/data_table.ipynb>data table notebook</a>'\n",
              "            + ' to learn more about interactive tables.';\n",
              "          element.innerHTML = '';\n",
              "          dataTable['output_type'] = 'display_data';\n",
              "          await google.colab.output.renderOutput(dataTable, element);\n",
              "          const docLink = document.createElement('div');\n",
              "          docLink.innerHTML = docLinkHtml;\n",
              "          element.appendChild(docLink);\n",
              "        }\n",
              "      </script>\n",
              "    </div>\n",
              "  </div>\n",
              "  "
            ]
          },
          "metadata": {},
          "execution_count": 117
        }
      ],
      "source": [
        "sample_df=pd.DataFrame(character_dict, ['Dylan', 'Jesicca', 'Alice'], ['Skin Color'])\n",
        "sample_df"
      ]
    },
    {
      "cell_type": "code",
      "execution_count": 118,
      "id": "56197e97-4ce3-4d73-98bc-7c8eeaed08ac",
      "metadata": {
        "id": "56197e97-4ce3-4d73-98bc-7c8eeaed08ac"
      },
      "outputs": [],
      "source": [
        "# sample_df=pd.DataFrame(['Dylan', 'Jesicca', 'Alice'], character_dict, ['Skin Color'])\n",
        "# sample_df"
      ]
    },
    {
      "cell_type": "markdown",
      "id": "60892523-bfa9-4bb4-b1ae-9ae59876a33f",
      "metadata": {
        "id": "60892523-bfa9-4bb4-b1ae-9ae59876a33f"
      },
      "source": [
        "## Task 1\n",
        "\n",
        "Assume the yelp.json file is unzipped. How will you open the unzipped file in Python?"
      ]
    },
    {
      "cell_type": "code",
      "source": [
        "import pandas as pd"
      ],
      "metadata": {
        "id": "CZ5Ocj-kjqgy"
      },
      "id": "CZ5Ocj-kjqgy",
      "execution_count": 119,
      "outputs": []
    },
    {
      "cell_type": "code",
      "execution_count": 120,
      "id": "dd8d7ce0-9634-426a-a187-01164159222f",
      "metadata": {
        "colab": {
          "base_uri": "https://localhost:8080/"
        },
        "id": "dd8d7ce0-9634-426a-a187-01164159222f",
        "outputId": "0af0723c-b023-4747-9510-b1005ab48bdd"
      },
      "outputs": [
        {
          "output_type": "stream",
          "name": "stdout",
          "text": [
            "Module Installing...\n",
            "Looking in indexes: https://pypi.org/simple, https://us-python.pkg.dev/colab-wheels/public/simple/\n",
            "Collecting simplejson\n",
            "  Downloading simplejson-3.17.6-cp37-cp37m-manylinux_2_5_x86_64.manylinux1_x86_64.manylinux_2_12_x86_64.manylinux2010_x86_64.whl (130 kB)\n",
            "\u001b[K     |████████████████████████████████| 130 kB 4.2 MB/s \n",
            "\u001b[?25hInstalling collected packages: simplejson\n",
            "Successfully installed simplejson-3.17.6\n"
          ]
        }
      ],
      "source": [
        "import gzip\n",
        "\n",
        "try:\n",
        "    import simplejson as json\n",
        "except ModuleNotFoundError:\n",
        "    print('Module Installing...')\n",
        "    !pip install simplejson "
      ]
    },
    {
      "cell_type": "code",
      "execution_count": 120,
      "id": "5bb30bb3-94ed-4379-8ea4-50711a22a364",
      "metadata": {
        "id": "5bb30bb3-94ed-4379-8ea4-50711a22a364"
      },
      "outputs": [],
      "source": [
        ""
      ]
    },
    {
      "cell_type": "code",
      "execution_count": 121,
      "id": "c4f7f867-f02c-4936-a977-da3708461893",
      "metadata": {
        "colab": {
          "base_uri": "https://localhost:8080/",
          "height": 36
        },
        "id": "c4f7f867-f02c-4936-a977-da3708461893",
        "outputId": "4a704973-d39e-40a1-f7a6-2128316af155"
      },
      "outputs": [
        {
          "output_type": "execute_result",
          "data": {
            "text/plain": [
              "'/content'"
            ],
            "application/vnd.google.colaboratory.intrinsic+json": {
              "type": "string"
            }
          },
          "metadata": {},
          "execution_count": 121
        }
      ],
      "source": [
        "pwd"
      ]
    },
    {
      "cell_type": "code",
      "execution_count": 122,
      "id": "e3cac299-9498-45e9-9ec9-f172ac503fab",
      "metadata": {
        "id": "e3cac299-9498-45e9-9ec9-f172ac503fab"
      },
      "outputs": [],
      "source": [
        "#data=pd.read_json('./data/yelp.json', lines=True)\n",
        "#data.head()"
      ]
    },
    {
      "cell_type": "code",
      "source": [
        "data=pd.read_json('/content/yelp.json.gz', lines=True)\n",
        "data.head()"
      ],
      "metadata": {
        "colab": {
          "base_uri": "https://localhost:8080/",
          "height": 337
        },
        "id": "Nn7vlJip0Sek",
        "outputId": "60ba90b7-709f-481c-8b99-475b9da8f916"
      },
      "id": "Nn7vlJip0Sek",
      "execution_count": 125,
      "outputs": [
        {
          "output_type": "execute_result",
          "data": {
            "text/plain": [
              "              business_id                                       full_address  \\\n",
              "0  vcNAWiLM4dR7D2nwwJ7nCA  4840 E Indian School Rd\\nSte 101\\nPhoenix, AZ ...   \n",
              "1  JwUE5GmEO-sH1FuwJgKBlQ            6162 US Highway 51\\nDe Forest, WI 53532   \n",
              "2  uGykseHzyS5xAMWoN6YUqA                505 W North St\\nDe Forest, WI 53532   \n",
              "3  LRKJF43s9-3jG9Lgx4zODg              4910 County Rd V\\nDe Forest, WI 53532   \n",
              "4  RgDg-k9S5YD_BaxMckifkg                 631 S Main St\\nDe Forest, WI 53532   \n",
              "\n",
              "                                               hours  open  \\\n",
              "0  {'Tuesday': {'close': '17:00', 'open': '08:00'...  True   \n",
              "1                                                 {}  True   \n",
              "2  {'Monday': {'close': '22:00', 'open': '06:00'}...  True   \n",
              "3  {'Monday': {'close': '22:00', 'open': '10:30'}...  True   \n",
              "4  {'Monday': {'close': '22:00', 'open': '11:00'}...  True   \n",
              "\n",
              "                                          categories       city  review_count  \\\n",
              "0                        [Doctors, Health & Medical]    Phoenix             7   \n",
              "1                                      [Restaurants]  De Forest            26   \n",
              "2              [American (Traditional), Restaurants]  De Forest            16   \n",
              "3  [Food, Ice Cream & Frozen Yogurt, Fast Food, R...  De Forest             7   \n",
              "4                             [Chinese, Restaurants]  De Forest             3   \n",
              "\n",
              "                          name neighborhoods   longitude state  stars  \\\n",
              "0            Eric Goldberg, MD            [] -111.983758    AZ    3.5   \n",
              "1         Pine Cone Restaurant            []  -89.335844    WI    4.0   \n",
              "2   Deforest Family Restaurant            []  -89.353437    WI    4.0   \n",
              "3                     Culver's            []  -89.374983    WI    4.5   \n",
              "4  Chang Jiang Chinese Kitchen            []  -89.343722    WI    4.0   \n",
              "\n",
              "    latitude                                         attributes      type  \n",
              "0  33.499313                      {'By Appointment Only': True}  business  \n",
              "1  43.238893  {'Take-out': True, 'Good For': {'dessert': Fal...  business  \n",
              "2  43.252267  {'Take-out': True, 'Good For': {'dessert': Fal...  business  \n",
              "3  43.251045  {'Take-out': True, 'Wi-Fi': 'free', 'Takes Res...  business  \n",
              "4  43.240875  {'Take-out': True, 'Has TV': False, 'Outdoor S...  business  "
            ],
            "text/html": [
              "\n",
              "  <div id=\"df-5017dc93-175d-458f-8a7a-73978c15a76b\">\n",
              "    <div class=\"colab-df-container\">\n",
              "      <div>\n",
              "<style scoped>\n",
              "    .dataframe tbody tr th:only-of-type {\n",
              "        vertical-align: middle;\n",
              "    }\n",
              "\n",
              "    .dataframe tbody tr th {\n",
              "        vertical-align: top;\n",
              "    }\n",
              "\n",
              "    .dataframe thead th {\n",
              "        text-align: right;\n",
              "    }\n",
              "</style>\n",
              "<table border=\"1\" class=\"dataframe\">\n",
              "  <thead>\n",
              "    <tr style=\"text-align: right;\">\n",
              "      <th></th>\n",
              "      <th>business_id</th>\n",
              "      <th>full_address</th>\n",
              "      <th>hours</th>\n",
              "      <th>open</th>\n",
              "      <th>categories</th>\n",
              "      <th>city</th>\n",
              "      <th>review_count</th>\n",
              "      <th>name</th>\n",
              "      <th>neighborhoods</th>\n",
              "      <th>longitude</th>\n",
              "      <th>state</th>\n",
              "      <th>stars</th>\n",
              "      <th>latitude</th>\n",
              "      <th>attributes</th>\n",
              "      <th>type</th>\n",
              "    </tr>\n",
              "  </thead>\n",
              "  <tbody>\n",
              "    <tr>\n",
              "      <th>0</th>\n",
              "      <td>vcNAWiLM4dR7D2nwwJ7nCA</td>\n",
              "      <td>4840 E Indian School Rd\\nSte 101\\nPhoenix, AZ ...</td>\n",
              "      <td>{'Tuesday': {'close': '17:00', 'open': '08:00'...</td>\n",
              "      <td>True</td>\n",
              "      <td>[Doctors, Health &amp; Medical]</td>\n",
              "      <td>Phoenix</td>\n",
              "      <td>7</td>\n",
              "      <td>Eric Goldberg, MD</td>\n",
              "      <td>[]</td>\n",
              "      <td>-111.983758</td>\n",
              "      <td>AZ</td>\n",
              "      <td>3.5</td>\n",
              "      <td>33.499313</td>\n",
              "      <td>{'By Appointment Only': True}</td>\n",
              "      <td>business</td>\n",
              "    </tr>\n",
              "    <tr>\n",
              "      <th>1</th>\n",
              "      <td>JwUE5GmEO-sH1FuwJgKBlQ</td>\n",
              "      <td>6162 US Highway 51\\nDe Forest, WI 53532</td>\n",
              "      <td>{}</td>\n",
              "      <td>True</td>\n",
              "      <td>[Restaurants]</td>\n",
              "      <td>De Forest</td>\n",
              "      <td>26</td>\n",
              "      <td>Pine Cone Restaurant</td>\n",
              "      <td>[]</td>\n",
              "      <td>-89.335844</td>\n",
              "      <td>WI</td>\n",
              "      <td>4.0</td>\n",
              "      <td>43.238893</td>\n",
              "      <td>{'Take-out': True, 'Good For': {'dessert': Fal...</td>\n",
              "      <td>business</td>\n",
              "    </tr>\n",
              "    <tr>\n",
              "      <th>2</th>\n",
              "      <td>uGykseHzyS5xAMWoN6YUqA</td>\n",
              "      <td>505 W North St\\nDe Forest, WI 53532</td>\n",
              "      <td>{'Monday': {'close': '22:00', 'open': '06:00'}...</td>\n",
              "      <td>True</td>\n",
              "      <td>[American (Traditional), Restaurants]</td>\n",
              "      <td>De Forest</td>\n",
              "      <td>16</td>\n",
              "      <td>Deforest Family Restaurant</td>\n",
              "      <td>[]</td>\n",
              "      <td>-89.353437</td>\n",
              "      <td>WI</td>\n",
              "      <td>4.0</td>\n",
              "      <td>43.252267</td>\n",
              "      <td>{'Take-out': True, 'Good For': {'dessert': Fal...</td>\n",
              "      <td>business</td>\n",
              "    </tr>\n",
              "    <tr>\n",
              "      <th>3</th>\n",
              "      <td>LRKJF43s9-3jG9Lgx4zODg</td>\n",
              "      <td>4910 County Rd V\\nDe Forest, WI 53532</td>\n",
              "      <td>{'Monday': {'close': '22:00', 'open': '10:30'}...</td>\n",
              "      <td>True</td>\n",
              "      <td>[Food, Ice Cream &amp; Frozen Yogurt, Fast Food, R...</td>\n",
              "      <td>De Forest</td>\n",
              "      <td>7</td>\n",
              "      <td>Culver's</td>\n",
              "      <td>[]</td>\n",
              "      <td>-89.374983</td>\n",
              "      <td>WI</td>\n",
              "      <td>4.5</td>\n",
              "      <td>43.251045</td>\n",
              "      <td>{'Take-out': True, 'Wi-Fi': 'free', 'Takes Res...</td>\n",
              "      <td>business</td>\n",
              "    </tr>\n",
              "    <tr>\n",
              "      <th>4</th>\n",
              "      <td>RgDg-k9S5YD_BaxMckifkg</td>\n",
              "      <td>631 S Main St\\nDe Forest, WI 53532</td>\n",
              "      <td>{'Monday': {'close': '22:00', 'open': '11:00'}...</td>\n",
              "      <td>True</td>\n",
              "      <td>[Chinese, Restaurants]</td>\n",
              "      <td>De Forest</td>\n",
              "      <td>3</td>\n",
              "      <td>Chang Jiang Chinese Kitchen</td>\n",
              "      <td>[]</td>\n",
              "      <td>-89.343722</td>\n",
              "      <td>WI</td>\n",
              "      <td>4.0</td>\n",
              "      <td>43.240875</td>\n",
              "      <td>{'Take-out': True, 'Has TV': False, 'Outdoor S...</td>\n",
              "      <td>business</td>\n",
              "    </tr>\n",
              "  </tbody>\n",
              "</table>\n",
              "</div>\n",
              "      <button class=\"colab-df-convert\" onclick=\"convertToInteractive('df-5017dc93-175d-458f-8a7a-73978c15a76b')\"\n",
              "              title=\"Convert this dataframe to an interactive table.\"\n",
              "              style=\"display:none;\">\n",
              "        \n",
              "  <svg xmlns=\"http://www.w3.org/2000/svg\" height=\"24px\"viewBox=\"0 0 24 24\"\n",
              "       width=\"24px\">\n",
              "    <path d=\"M0 0h24v24H0V0z\" fill=\"none\"/>\n",
              "    <path d=\"M18.56 5.44l.94 2.06.94-2.06 2.06-.94-2.06-.94-.94-2.06-.94 2.06-2.06.94zm-11 1L8.5 8.5l.94-2.06 2.06-.94-2.06-.94L8.5 2.5l-.94 2.06-2.06.94zm10 10l.94 2.06.94-2.06 2.06-.94-2.06-.94-.94-2.06-.94 2.06-2.06.94z\"/><path d=\"M17.41 7.96l-1.37-1.37c-.4-.4-.92-.59-1.43-.59-.52 0-1.04.2-1.43.59L10.3 9.45l-7.72 7.72c-.78.78-.78 2.05 0 2.83L4 21.41c.39.39.9.59 1.41.59.51 0 1.02-.2 1.41-.59l7.78-7.78 2.81-2.81c.8-.78.8-2.07 0-2.86zM5.41 20L4 18.59l7.72-7.72 1.47 1.35L5.41 20z\"/>\n",
              "  </svg>\n",
              "      </button>\n",
              "      \n",
              "  <style>\n",
              "    .colab-df-container {\n",
              "      display:flex;\n",
              "      flex-wrap:wrap;\n",
              "      gap: 12px;\n",
              "    }\n",
              "\n",
              "    .colab-df-convert {\n",
              "      background-color: #E8F0FE;\n",
              "      border: none;\n",
              "      border-radius: 50%;\n",
              "      cursor: pointer;\n",
              "      display: none;\n",
              "      fill: #1967D2;\n",
              "      height: 32px;\n",
              "      padding: 0 0 0 0;\n",
              "      width: 32px;\n",
              "    }\n",
              "\n",
              "    .colab-df-convert:hover {\n",
              "      background-color: #E2EBFA;\n",
              "      box-shadow: 0px 1px 2px rgba(60, 64, 67, 0.3), 0px 1px 3px 1px rgba(60, 64, 67, 0.15);\n",
              "      fill: #174EA6;\n",
              "    }\n",
              "\n",
              "    [theme=dark] .colab-df-convert {\n",
              "      background-color: #3B4455;\n",
              "      fill: #D2E3FC;\n",
              "    }\n",
              "\n",
              "    [theme=dark] .colab-df-convert:hover {\n",
              "      background-color: #434B5C;\n",
              "      box-shadow: 0px 1px 3px 1px rgba(0, 0, 0, 0.15);\n",
              "      filter: drop-shadow(0px 1px 2px rgba(0, 0, 0, 0.3));\n",
              "      fill: #FFFFFF;\n",
              "    }\n",
              "  </style>\n",
              "\n",
              "      <script>\n",
              "        const buttonEl =\n",
              "          document.querySelector('#df-5017dc93-175d-458f-8a7a-73978c15a76b button.colab-df-convert');\n",
              "        buttonEl.style.display =\n",
              "          google.colab.kernel.accessAllowed ? 'block' : 'none';\n",
              "\n",
              "        async function convertToInteractive(key) {\n",
              "          const element = document.querySelector('#df-5017dc93-175d-458f-8a7a-73978c15a76b');\n",
              "          const dataTable =\n",
              "            await google.colab.kernel.invokeFunction('convertToInteractive',\n",
              "                                                     [key], {});\n",
              "          if (!dataTable) return;\n",
              "\n",
              "          const docLinkHtml = 'Like what you see? Visit the ' +\n",
              "            '<a target=\"_blank\" href=https://colab.research.google.com/notebooks/data_table.ipynb>data table notebook</a>'\n",
              "            + ' to learn more about interactive tables.';\n",
              "          element.innerHTML = '';\n",
              "          dataTable['output_type'] = 'display_data';\n",
              "          await google.colab.output.renderOutput(dataTable, element);\n",
              "          const docLink = document.createElement('div');\n",
              "          docLink.innerHTML = docLinkHtml;\n",
              "          element.appendChild(docLink);\n",
              "        }\n",
              "      </script>\n",
              "    </div>\n",
              "  </div>\n",
              "  "
            ]
          },
          "metadata": {},
          "execution_count": 125
        }
      ]
    },
    {
      "cell_type": "markdown",
      "id": "4e94663f-7c4e-4b11-9f40-0359179ea837",
      "metadata": {
        "id": "4e94663f-7c4e-4b11-9f40-0359179ea837"
      },
      "source": [
        "## Pandas DataFrame and Series"
      ]
    },
    {
      "cell_type": "code",
      "execution_count": 126,
      "id": "a4909de2-e66f-4be8-b26f-45e27b23ef92",
      "metadata": {
        "colab": {
          "base_uri": "https://localhost:8080/"
        },
        "id": "a4909de2-e66f-4be8-b26f-45e27b23ef92",
        "outputId": "9e54aa54-abf8-4051-e66c-c8c2ef24bd72"
      },
      "outputs": [
        {
          "output_type": "execute_result",
          "data": {
            "text/plain": [
              "business_id       object\n",
              "full_address      object\n",
              "hours             object\n",
              "open                bool\n",
              "categories        object\n",
              "city              object\n",
              "review_count       int64\n",
              "name              object\n",
              "neighborhoods     object\n",
              "longitude        float64\n",
              "state             object\n",
              "stars            float64\n",
              "latitude         float64\n",
              "attributes        object\n",
              "type              object\n",
              "dtype: object"
            ]
          },
          "metadata": {},
          "execution_count": 126
        }
      ],
      "source": [
        "data.dtypes"
      ]
    },
    {
      "cell_type": "code",
      "execution_count": 127,
      "id": "f2acbff9-ccd5-4195-aa79-31302f8e4ac6",
      "metadata": {
        "colab": {
          "base_uri": "https://localhost:8080/"
        },
        "id": "f2acbff9-ccd5-4195-aa79-31302f8e4ac6",
        "outputId": "8a447c95-26a5-4a43-dc26-d1283e826669"
      },
      "outputs": [
        {
          "output_type": "stream",
          "name": "stdout",
          "text": [
            "<class 'pandas.core.frame.DataFrame'>\n",
            "RangeIndex: 37938 entries, 0 to 37937\n",
            "Data columns (total 15 columns):\n",
            " #   Column         Non-Null Count  Dtype  \n",
            "---  ------         --------------  -----  \n",
            " 0   business_id    37938 non-null  object \n",
            " 1   full_address   37938 non-null  object \n",
            " 2   hours          37938 non-null  object \n",
            " 3   open           37938 non-null  bool   \n",
            " 4   categories     37938 non-null  object \n",
            " 5   city           37938 non-null  object \n",
            " 6   review_count   37938 non-null  int64  \n",
            " 7   name           37938 non-null  object \n",
            " 8   neighborhoods  37938 non-null  object \n",
            " 9   longitude      37938 non-null  float64\n",
            " 10  state          37938 non-null  object \n",
            " 11  stars          37938 non-null  float64\n",
            " 12  latitude       37938 non-null  float64\n",
            " 13  attributes     37938 non-null  object \n",
            " 14  type           37938 non-null  object \n",
            "dtypes: bool(1), float64(3), int64(1), object(10)\n",
            "memory usage: 4.1+ MB\n"
          ]
        }
      ],
      "source": [
        "data.info()"
      ]
    },
    {
      "cell_type": "code",
      "execution_count": 128,
      "id": "c970214f-2a79-4691-8294-a33a74c14702",
      "metadata": {
        "colab": {
          "base_uri": "https://localhost:8080/"
        },
        "id": "c970214f-2a79-4691-8294-a33a74c14702",
        "outputId": "f4670ee3-d15f-402f-d998-85b8aa64a1b6"
      },
      "outputs": [
        {
          "output_type": "execute_result",
          "data": {
            "text/plain": [
              "0          Phoenix\n",
              "1        De Forest\n",
              "2        De Forest\n",
              "3        De Forest\n",
              "4        De Forest\n",
              "           ...    \n",
              "37933     Glendale\n",
              "37934      Madison\n",
              "37935      Phoenix\n",
              "37936      Phoenix\n",
              "37937    Edinburgh\n",
              "Name: city, Length: 37938, dtype: object"
            ]
          },
          "metadata": {},
          "execution_count": 128
        }
      ],
      "source": [
        "data['city']"
      ]
    },
    {
      "cell_type": "code",
      "execution_count": 129,
      "id": "c84bab9e-e498-4a5a-a08c-c1ed3a97d295",
      "metadata": {
        "colab": {
          "base_uri": "https://localhost:8080/"
        },
        "id": "c84bab9e-e498-4a5a-a08c-c1ed3a97d295",
        "outputId": "a5c88e48-734b-4bdd-e6a7-4590129cafd7"
      },
      "outputs": [
        {
          "output_type": "execute_result",
          "data": {
            "text/plain": [
              "pandas.core.series.Series"
            ]
          },
          "metadata": {},
          "execution_count": 129
        }
      ],
      "source": [
        "type(data['city'])"
      ]
    },
    {
      "cell_type": "code",
      "execution_count": 130,
      "id": "471b03d9-28c1-4748-9443-2f44d0ba65b8",
      "metadata": {
        "colab": {
          "base_uri": "https://localhost:8080/"
        },
        "id": "471b03d9-28c1-4748-9443-2f44d0ba65b8",
        "outputId": "16111d54-5fe8-498e-c11c-8b9493797791"
      },
      "outputs": [
        {
          "output_type": "execute_result",
          "data": {
            "text/plain": [
              "RangeIndex(start=0, stop=37938, step=1)"
            ]
          },
          "metadata": {},
          "execution_count": 130
        }
      ],
      "source": [
        "data['city'].index"
      ]
    },
    {
      "cell_type": "code",
      "execution_count": 131,
      "id": "d549624b-b4de-46e2-b48b-d484837aa268",
      "metadata": {
        "colab": {
          "base_uri": "https://localhost:8080/",
          "height": 423
        },
        "id": "d549624b-b4de-46e2-b48b-d484837aa268",
        "outputId": "7f072df9-5171-4d57-e2c9-8e33812919ab"
      },
      "outputs": [
        {
          "output_type": "execute_result",
          "data": {
            "text/plain": [
              "       business_id  full_address  hours   open  categories   city  \\\n",
              "0            False         False  False  False       False  False   \n",
              "1            False         False  False  False       False  False   \n",
              "2            False         False  False  False       False  False   \n",
              "3            False         False  False  False       False  False   \n",
              "4            False         False  False  False       False  False   \n",
              "...            ...           ...    ...    ...         ...    ...   \n",
              "37933        False         False  False  False       False  False   \n",
              "37934        False         False  False  False       False  False   \n",
              "37935        False         False  False  False       False  False   \n",
              "37936        False         False  False  False       False  False   \n",
              "37937        False         False  False  False       False  False   \n",
              "\n",
              "       review_count   name  neighborhoods  longitude  state  stars  latitude  \\\n",
              "0             False  False          False      False  False  False     False   \n",
              "1             False  False          False      False  False  False     False   \n",
              "2             False  False          False      False  False  False     False   \n",
              "3             False  False          False      False  False  False     False   \n",
              "4             False  False          False      False  False  False     False   \n",
              "...             ...    ...            ...        ...    ...    ...       ...   \n",
              "37933         False  False          False      False  False  False     False   \n",
              "37934         False  False          False      False  False  False     False   \n",
              "37935         False  False          False      False  False  False     False   \n",
              "37936         False  False          False      False  False  False     False   \n",
              "37937         False  False          False      False  False  False     False   \n",
              "\n",
              "       attributes   type  \n",
              "0           False  False  \n",
              "1           False  False  \n",
              "2           False  False  \n",
              "3           False  False  \n",
              "4           False  False  \n",
              "...           ...    ...  \n",
              "37933       False  False  \n",
              "37934       False  False  \n",
              "37935       False  False  \n",
              "37936       False  False  \n",
              "37937       False  False  \n",
              "\n",
              "[37938 rows x 15 columns]"
            ],
            "text/html": [
              "\n",
              "  <div id=\"df-017c06b5-82b8-4feb-b5d5-aa166eea604b\">\n",
              "    <div class=\"colab-df-container\">\n",
              "      <div>\n",
              "<style scoped>\n",
              "    .dataframe tbody tr th:only-of-type {\n",
              "        vertical-align: middle;\n",
              "    }\n",
              "\n",
              "    .dataframe tbody tr th {\n",
              "        vertical-align: top;\n",
              "    }\n",
              "\n",
              "    .dataframe thead th {\n",
              "        text-align: right;\n",
              "    }\n",
              "</style>\n",
              "<table border=\"1\" class=\"dataframe\">\n",
              "  <thead>\n",
              "    <tr style=\"text-align: right;\">\n",
              "      <th></th>\n",
              "      <th>business_id</th>\n",
              "      <th>full_address</th>\n",
              "      <th>hours</th>\n",
              "      <th>open</th>\n",
              "      <th>categories</th>\n",
              "      <th>city</th>\n",
              "      <th>review_count</th>\n",
              "      <th>name</th>\n",
              "      <th>neighborhoods</th>\n",
              "      <th>longitude</th>\n",
              "      <th>state</th>\n",
              "      <th>stars</th>\n",
              "      <th>latitude</th>\n",
              "      <th>attributes</th>\n",
              "      <th>type</th>\n",
              "    </tr>\n",
              "  </thead>\n",
              "  <tbody>\n",
              "    <tr>\n",
              "      <th>0</th>\n",
              "      <td>False</td>\n",
              "      <td>False</td>\n",
              "      <td>False</td>\n",
              "      <td>False</td>\n",
              "      <td>False</td>\n",
              "      <td>False</td>\n",
              "      <td>False</td>\n",
              "      <td>False</td>\n",
              "      <td>False</td>\n",
              "      <td>False</td>\n",
              "      <td>False</td>\n",
              "      <td>False</td>\n",
              "      <td>False</td>\n",
              "      <td>False</td>\n",
              "      <td>False</td>\n",
              "    </tr>\n",
              "    <tr>\n",
              "      <th>1</th>\n",
              "      <td>False</td>\n",
              "      <td>False</td>\n",
              "      <td>False</td>\n",
              "      <td>False</td>\n",
              "      <td>False</td>\n",
              "      <td>False</td>\n",
              "      <td>False</td>\n",
              "      <td>False</td>\n",
              "      <td>False</td>\n",
              "      <td>False</td>\n",
              "      <td>False</td>\n",
              "      <td>False</td>\n",
              "      <td>False</td>\n",
              "      <td>False</td>\n",
              "      <td>False</td>\n",
              "    </tr>\n",
              "    <tr>\n",
              "      <th>2</th>\n",
              "      <td>False</td>\n",
              "      <td>False</td>\n",
              "      <td>False</td>\n",
              "      <td>False</td>\n",
              "      <td>False</td>\n",
              "      <td>False</td>\n",
              "      <td>False</td>\n",
              "      <td>False</td>\n",
              "      <td>False</td>\n",
              "      <td>False</td>\n",
              "      <td>False</td>\n",
              "      <td>False</td>\n",
              "      <td>False</td>\n",
              "      <td>False</td>\n",
              "      <td>False</td>\n",
              "    </tr>\n",
              "    <tr>\n",
              "      <th>3</th>\n",
              "      <td>False</td>\n",
              "      <td>False</td>\n",
              "      <td>False</td>\n",
              "      <td>False</td>\n",
              "      <td>False</td>\n",
              "      <td>False</td>\n",
              "      <td>False</td>\n",
              "      <td>False</td>\n",
              "      <td>False</td>\n",
              "      <td>False</td>\n",
              "      <td>False</td>\n",
              "      <td>False</td>\n",
              "      <td>False</td>\n",
              "      <td>False</td>\n",
              "      <td>False</td>\n",
              "    </tr>\n",
              "    <tr>\n",
              "      <th>4</th>\n",
              "      <td>False</td>\n",
              "      <td>False</td>\n",
              "      <td>False</td>\n",
              "      <td>False</td>\n",
              "      <td>False</td>\n",
              "      <td>False</td>\n",
              "      <td>False</td>\n",
              "      <td>False</td>\n",
              "      <td>False</td>\n",
              "      <td>False</td>\n",
              "      <td>False</td>\n",
              "      <td>False</td>\n",
              "      <td>False</td>\n",
              "      <td>False</td>\n",
              "      <td>False</td>\n",
              "    </tr>\n",
              "    <tr>\n",
              "      <th>...</th>\n",
              "      <td>...</td>\n",
              "      <td>...</td>\n",
              "      <td>...</td>\n",
              "      <td>...</td>\n",
              "      <td>...</td>\n",
              "      <td>...</td>\n",
              "      <td>...</td>\n",
              "      <td>...</td>\n",
              "      <td>...</td>\n",
              "      <td>...</td>\n",
              "      <td>...</td>\n",
              "      <td>...</td>\n",
              "      <td>...</td>\n",
              "      <td>...</td>\n",
              "      <td>...</td>\n",
              "    </tr>\n",
              "    <tr>\n",
              "      <th>37933</th>\n",
              "      <td>False</td>\n",
              "      <td>False</td>\n",
              "      <td>False</td>\n",
              "      <td>False</td>\n",
              "      <td>False</td>\n",
              "      <td>False</td>\n",
              "      <td>False</td>\n",
              "      <td>False</td>\n",
              "      <td>False</td>\n",
              "      <td>False</td>\n",
              "      <td>False</td>\n",
              "      <td>False</td>\n",
              "      <td>False</td>\n",
              "      <td>False</td>\n",
              "      <td>False</td>\n",
              "    </tr>\n",
              "    <tr>\n",
              "      <th>37934</th>\n",
              "      <td>False</td>\n",
              "      <td>False</td>\n",
              "      <td>False</td>\n",
              "      <td>False</td>\n",
              "      <td>False</td>\n",
              "      <td>False</td>\n",
              "      <td>False</td>\n",
              "      <td>False</td>\n",
              "      <td>False</td>\n",
              "      <td>False</td>\n",
              "      <td>False</td>\n",
              "      <td>False</td>\n",
              "      <td>False</td>\n",
              "      <td>False</td>\n",
              "      <td>False</td>\n",
              "    </tr>\n",
              "    <tr>\n",
              "      <th>37935</th>\n",
              "      <td>False</td>\n",
              "      <td>False</td>\n",
              "      <td>False</td>\n",
              "      <td>False</td>\n",
              "      <td>False</td>\n",
              "      <td>False</td>\n",
              "      <td>False</td>\n",
              "      <td>False</td>\n",
              "      <td>False</td>\n",
              "      <td>False</td>\n",
              "      <td>False</td>\n",
              "      <td>False</td>\n",
              "      <td>False</td>\n",
              "      <td>False</td>\n",
              "      <td>False</td>\n",
              "    </tr>\n",
              "    <tr>\n",
              "      <th>37936</th>\n",
              "      <td>False</td>\n",
              "      <td>False</td>\n",
              "      <td>False</td>\n",
              "      <td>False</td>\n",
              "      <td>False</td>\n",
              "      <td>False</td>\n",
              "      <td>False</td>\n",
              "      <td>False</td>\n",
              "      <td>False</td>\n",
              "      <td>False</td>\n",
              "      <td>False</td>\n",
              "      <td>False</td>\n",
              "      <td>False</td>\n",
              "      <td>False</td>\n",
              "      <td>False</td>\n",
              "    </tr>\n",
              "    <tr>\n",
              "      <th>37937</th>\n",
              "      <td>False</td>\n",
              "      <td>False</td>\n",
              "      <td>False</td>\n",
              "      <td>False</td>\n",
              "      <td>False</td>\n",
              "      <td>False</td>\n",
              "      <td>False</td>\n",
              "      <td>False</td>\n",
              "      <td>False</td>\n",
              "      <td>False</td>\n",
              "      <td>False</td>\n",
              "      <td>False</td>\n",
              "      <td>False</td>\n",
              "      <td>False</td>\n",
              "      <td>False</td>\n",
              "    </tr>\n",
              "  </tbody>\n",
              "</table>\n",
              "<p>37938 rows × 15 columns</p>\n",
              "</div>\n",
              "      <button class=\"colab-df-convert\" onclick=\"convertToInteractive('df-017c06b5-82b8-4feb-b5d5-aa166eea604b')\"\n",
              "              title=\"Convert this dataframe to an interactive table.\"\n",
              "              style=\"display:none;\">\n",
              "        \n",
              "  <svg xmlns=\"http://www.w3.org/2000/svg\" height=\"24px\"viewBox=\"0 0 24 24\"\n",
              "       width=\"24px\">\n",
              "    <path d=\"M0 0h24v24H0V0z\" fill=\"none\"/>\n",
              "    <path d=\"M18.56 5.44l.94 2.06.94-2.06 2.06-.94-2.06-.94-.94-2.06-.94 2.06-2.06.94zm-11 1L8.5 8.5l.94-2.06 2.06-.94-2.06-.94L8.5 2.5l-.94 2.06-2.06.94zm10 10l.94 2.06.94-2.06 2.06-.94-2.06-.94-.94-2.06-.94 2.06-2.06.94z\"/><path d=\"M17.41 7.96l-1.37-1.37c-.4-.4-.92-.59-1.43-.59-.52 0-1.04.2-1.43.59L10.3 9.45l-7.72 7.72c-.78.78-.78 2.05 0 2.83L4 21.41c.39.39.9.59 1.41.59.51 0 1.02-.2 1.41-.59l7.78-7.78 2.81-2.81c.8-.78.8-2.07 0-2.86zM5.41 20L4 18.59l7.72-7.72 1.47 1.35L5.41 20z\"/>\n",
              "  </svg>\n",
              "      </button>\n",
              "      \n",
              "  <style>\n",
              "    .colab-df-container {\n",
              "      display:flex;\n",
              "      flex-wrap:wrap;\n",
              "      gap: 12px;\n",
              "    }\n",
              "\n",
              "    .colab-df-convert {\n",
              "      background-color: #E8F0FE;\n",
              "      border: none;\n",
              "      border-radius: 50%;\n",
              "      cursor: pointer;\n",
              "      display: none;\n",
              "      fill: #1967D2;\n",
              "      height: 32px;\n",
              "      padding: 0 0 0 0;\n",
              "      width: 32px;\n",
              "    }\n",
              "\n",
              "    .colab-df-convert:hover {\n",
              "      background-color: #E2EBFA;\n",
              "      box-shadow: 0px 1px 2px rgba(60, 64, 67, 0.3), 0px 1px 3px 1px rgba(60, 64, 67, 0.15);\n",
              "      fill: #174EA6;\n",
              "    }\n",
              "\n",
              "    [theme=dark] .colab-df-convert {\n",
              "      background-color: #3B4455;\n",
              "      fill: #D2E3FC;\n",
              "    }\n",
              "\n",
              "    [theme=dark] .colab-df-convert:hover {\n",
              "      background-color: #434B5C;\n",
              "      box-shadow: 0px 1px 3px 1px rgba(0, 0, 0, 0.15);\n",
              "      filter: drop-shadow(0px 1px 2px rgba(0, 0, 0, 0.3));\n",
              "      fill: #FFFFFF;\n",
              "    }\n",
              "  </style>\n",
              "\n",
              "      <script>\n",
              "        const buttonEl =\n",
              "          document.querySelector('#df-017c06b5-82b8-4feb-b5d5-aa166eea604b button.colab-df-convert');\n",
              "        buttonEl.style.display =\n",
              "          google.colab.kernel.accessAllowed ? 'block' : 'none';\n",
              "\n",
              "        async function convertToInteractive(key) {\n",
              "          const element = document.querySelector('#df-017c06b5-82b8-4feb-b5d5-aa166eea604b');\n",
              "          const dataTable =\n",
              "            await google.colab.kernel.invokeFunction('convertToInteractive',\n",
              "                                                     [key], {});\n",
              "          if (!dataTable) return;\n",
              "\n",
              "          const docLinkHtml = 'Like what you see? Visit the ' +\n",
              "            '<a target=\"_blank\" href=https://colab.research.google.com/notebooks/data_table.ipynb>data table notebook</a>'\n",
              "            + ' to learn more about interactive tables.';\n",
              "          element.innerHTML = '';\n",
              "          dataTable['output_type'] = 'display_data';\n",
              "          await google.colab.output.renderOutput(dataTable, element);\n",
              "          const docLink = document.createElement('div');\n",
              "          docLink.innerHTML = docLinkHtml;\n",
              "          element.appendChild(docLink);\n",
              "        }\n",
              "      </script>\n",
              "    </div>\n",
              "  </div>\n",
              "  "
            ]
          },
          "metadata": {},
          "execution_count": 131
        }
      ],
      "source": [
        "data.isnull() ## True=1, False = 0"
      ]
    },
    {
      "cell_type": "code",
      "execution_count": 132,
      "id": "3c796bbc-8539-48f9-a31b-750ebc485d7a",
      "metadata": {
        "colab": {
          "base_uri": "https://localhost:8080/"
        },
        "id": "3c796bbc-8539-48f9-a31b-750ebc485d7a",
        "outputId": "698e4555-cdb4-453c-f7ea-3aa9af82a7bf"
      },
      "outputs": [
        {
          "output_type": "execute_result",
          "data": {
            "text/plain": [
              "business_id      0\n",
              "full_address     0\n",
              "hours            0\n",
              "open             0\n",
              "categories       0\n",
              "city             0\n",
              "review_count     0\n",
              "name             0\n",
              "neighborhoods    0\n",
              "longitude        0\n",
              "state            0\n",
              "stars            0\n",
              "latitude         0\n",
              "attributes       0\n",
              "type             0\n",
              "dtype: int64"
            ]
          },
          "metadata": {},
          "execution_count": 132
        }
      ],
      "source": [
        "data.isnull().sum(axis=0)"
      ]
    },
    {
      "cell_type": "code",
      "execution_count": 133,
      "id": "e9599431-5fad-433f-ae66-23989cc1f304",
      "metadata": {
        "colab": {
          "base_uri": "https://localhost:8080/",
          "height": 300
        },
        "id": "e9599431-5fad-433f-ae66-23989cc1f304",
        "outputId": "f4bf6d0e-1560-4c4f-e0b7-9466b6d8489a"
      },
      "outputs": [
        {
          "output_type": "execute_result",
          "data": {
            "text/plain": [
              "       review_count     longitude         stars      latitude\n",
              "count  37938.000000  37938.000000  37938.000000  37938.000000\n",
              "mean      29.300648   -104.097172      3.672914     36.530288\n",
              "std       92.893064     28.365375      0.888730      5.822588\n",
              "min        3.000000   -115.369725      1.000000     32.876638\n",
              "25%        4.000000   -115.136389      3.000000     33.476739\n",
              "50%        8.000000   -112.068820      3.500000     33.680247\n",
              "75%       21.000000   -111.883274      4.500000     36.141875\n",
              "max     4084.000000     -3.050088      5.000000     56.033777"
            ],
            "text/html": [
              "\n",
              "  <div id=\"df-84ec6781-7bb4-4f6b-a65f-ca16d55432a2\">\n",
              "    <div class=\"colab-df-container\">\n",
              "      <div>\n",
              "<style scoped>\n",
              "    .dataframe tbody tr th:only-of-type {\n",
              "        vertical-align: middle;\n",
              "    }\n",
              "\n",
              "    .dataframe tbody tr th {\n",
              "        vertical-align: top;\n",
              "    }\n",
              "\n",
              "    .dataframe thead th {\n",
              "        text-align: right;\n",
              "    }\n",
              "</style>\n",
              "<table border=\"1\" class=\"dataframe\">\n",
              "  <thead>\n",
              "    <tr style=\"text-align: right;\">\n",
              "      <th></th>\n",
              "      <th>review_count</th>\n",
              "      <th>longitude</th>\n",
              "      <th>stars</th>\n",
              "      <th>latitude</th>\n",
              "    </tr>\n",
              "  </thead>\n",
              "  <tbody>\n",
              "    <tr>\n",
              "      <th>count</th>\n",
              "      <td>37938.000000</td>\n",
              "      <td>37938.000000</td>\n",
              "      <td>37938.000000</td>\n",
              "      <td>37938.000000</td>\n",
              "    </tr>\n",
              "    <tr>\n",
              "      <th>mean</th>\n",
              "      <td>29.300648</td>\n",
              "      <td>-104.097172</td>\n",
              "      <td>3.672914</td>\n",
              "      <td>36.530288</td>\n",
              "    </tr>\n",
              "    <tr>\n",
              "      <th>std</th>\n",
              "      <td>92.893064</td>\n",
              "      <td>28.365375</td>\n",
              "      <td>0.888730</td>\n",
              "      <td>5.822588</td>\n",
              "    </tr>\n",
              "    <tr>\n",
              "      <th>min</th>\n",
              "      <td>3.000000</td>\n",
              "      <td>-115.369725</td>\n",
              "      <td>1.000000</td>\n",
              "      <td>32.876638</td>\n",
              "    </tr>\n",
              "    <tr>\n",
              "      <th>25%</th>\n",
              "      <td>4.000000</td>\n",
              "      <td>-115.136389</td>\n",
              "      <td>3.000000</td>\n",
              "      <td>33.476739</td>\n",
              "    </tr>\n",
              "    <tr>\n",
              "      <th>50%</th>\n",
              "      <td>8.000000</td>\n",
              "      <td>-112.068820</td>\n",
              "      <td>3.500000</td>\n",
              "      <td>33.680247</td>\n",
              "    </tr>\n",
              "    <tr>\n",
              "      <th>75%</th>\n",
              "      <td>21.000000</td>\n",
              "      <td>-111.883274</td>\n",
              "      <td>4.500000</td>\n",
              "      <td>36.141875</td>\n",
              "    </tr>\n",
              "    <tr>\n",
              "      <th>max</th>\n",
              "      <td>4084.000000</td>\n",
              "      <td>-3.050088</td>\n",
              "      <td>5.000000</td>\n",
              "      <td>56.033777</td>\n",
              "    </tr>\n",
              "  </tbody>\n",
              "</table>\n",
              "</div>\n",
              "      <button class=\"colab-df-convert\" onclick=\"convertToInteractive('df-84ec6781-7bb4-4f6b-a65f-ca16d55432a2')\"\n",
              "              title=\"Convert this dataframe to an interactive table.\"\n",
              "              style=\"display:none;\">\n",
              "        \n",
              "  <svg xmlns=\"http://www.w3.org/2000/svg\" height=\"24px\"viewBox=\"0 0 24 24\"\n",
              "       width=\"24px\">\n",
              "    <path d=\"M0 0h24v24H0V0z\" fill=\"none\"/>\n",
              "    <path d=\"M18.56 5.44l.94 2.06.94-2.06 2.06-.94-2.06-.94-.94-2.06-.94 2.06-2.06.94zm-11 1L8.5 8.5l.94-2.06 2.06-.94-2.06-.94L8.5 2.5l-.94 2.06-2.06.94zm10 10l.94 2.06.94-2.06 2.06-.94-2.06-.94-.94-2.06-.94 2.06-2.06.94z\"/><path d=\"M17.41 7.96l-1.37-1.37c-.4-.4-.92-.59-1.43-.59-.52 0-1.04.2-1.43.59L10.3 9.45l-7.72 7.72c-.78.78-.78 2.05 0 2.83L4 21.41c.39.39.9.59 1.41.59.51 0 1.02-.2 1.41-.59l7.78-7.78 2.81-2.81c.8-.78.8-2.07 0-2.86zM5.41 20L4 18.59l7.72-7.72 1.47 1.35L5.41 20z\"/>\n",
              "  </svg>\n",
              "      </button>\n",
              "      \n",
              "  <style>\n",
              "    .colab-df-container {\n",
              "      display:flex;\n",
              "      flex-wrap:wrap;\n",
              "      gap: 12px;\n",
              "    }\n",
              "\n",
              "    .colab-df-convert {\n",
              "      background-color: #E8F0FE;\n",
              "      border: none;\n",
              "      border-radius: 50%;\n",
              "      cursor: pointer;\n",
              "      display: none;\n",
              "      fill: #1967D2;\n",
              "      height: 32px;\n",
              "      padding: 0 0 0 0;\n",
              "      width: 32px;\n",
              "    }\n",
              "\n",
              "    .colab-df-convert:hover {\n",
              "      background-color: #E2EBFA;\n",
              "      box-shadow: 0px 1px 2px rgba(60, 64, 67, 0.3), 0px 1px 3px 1px rgba(60, 64, 67, 0.15);\n",
              "      fill: #174EA6;\n",
              "    }\n",
              "\n",
              "    [theme=dark] .colab-df-convert {\n",
              "      background-color: #3B4455;\n",
              "      fill: #D2E3FC;\n",
              "    }\n",
              "\n",
              "    [theme=dark] .colab-df-convert:hover {\n",
              "      background-color: #434B5C;\n",
              "      box-shadow: 0px 1px 3px 1px rgba(0, 0, 0, 0.15);\n",
              "      filter: drop-shadow(0px 1px 2px rgba(0, 0, 0, 0.3));\n",
              "      fill: #FFFFFF;\n",
              "    }\n",
              "  </style>\n",
              "\n",
              "      <script>\n",
              "        const buttonEl =\n",
              "          document.querySelector('#df-84ec6781-7bb4-4f6b-a65f-ca16d55432a2 button.colab-df-convert');\n",
              "        buttonEl.style.display =\n",
              "          google.colab.kernel.accessAllowed ? 'block' : 'none';\n",
              "\n",
              "        async function convertToInteractive(key) {\n",
              "          const element = document.querySelector('#df-84ec6781-7bb4-4f6b-a65f-ca16d55432a2');\n",
              "          const dataTable =\n",
              "            await google.colab.kernel.invokeFunction('convertToInteractive',\n",
              "                                                     [key], {});\n",
              "          if (!dataTable) return;\n",
              "\n",
              "          const docLinkHtml = 'Like what you see? Visit the ' +\n",
              "            '<a target=\"_blank\" href=https://colab.research.google.com/notebooks/data_table.ipynb>data table notebook</a>'\n",
              "            + ' to learn more about interactive tables.';\n",
              "          element.innerHTML = '';\n",
              "          dataTable['output_type'] = 'display_data';\n",
              "          await google.colab.output.renderOutput(dataTable, element);\n",
              "          const docLink = document.createElement('div');\n",
              "          docLink.innerHTML = docLinkHtml;\n",
              "          element.appendChild(docLink);\n",
              "        }\n",
              "      </script>\n",
              "    </div>\n",
              "  </div>\n",
              "  "
            ]
          },
          "metadata": {},
          "execution_count": 133
        }
      ],
      "source": [
        "data.describe()"
      ]
    },
    {
      "cell_type": "code",
      "source": [
        "data"
      ],
      "metadata": {
        "colab": {
          "base_uri": "https://localhost:8080/",
          "height": 641
        },
        "id": "pIHOuOUxpgcg",
        "outputId": "70a06deb-d295-4288-cba1-c2d9f3defdc2"
      },
      "id": "pIHOuOUxpgcg",
      "execution_count": 134,
      "outputs": [
        {
          "output_type": "execute_result",
          "data": {
            "text/plain": [
              "                  business_id  \\\n",
              "0      vcNAWiLM4dR7D2nwwJ7nCA   \n",
              "1      JwUE5GmEO-sH1FuwJgKBlQ   \n",
              "2      uGykseHzyS5xAMWoN6YUqA   \n",
              "3      LRKJF43s9-3jG9Lgx4zODg   \n",
              "4      RgDg-k9S5YD_BaxMckifkg   \n",
              "...                       ...   \n",
              "37933  iyKyJoDcbkGrMCgvyfMHxw   \n",
              "37934  tsvWY4o64xiv7K0VA89R8A   \n",
              "37935  nYer89hXYAoddMEKTxw7kA   \n",
              "37936  BMjggIgOghBMEXPo8q7q3w   \n",
              "37937  BVxlrYWgmi-8TPGMe6CTpg   \n",
              "\n",
              "                                            full_address  \\\n",
              "0      4840 E Indian School Rd\\nSte 101\\nPhoenix, AZ ...   \n",
              "1                6162 US Highway 51\\nDe Forest, WI 53532   \n",
              "2                    505 W North St\\nDe Forest, WI 53532   \n",
              "3                  4910 County Rd V\\nDe Forest, WI 53532   \n",
              "4                     631 S Main St\\nDe Forest, WI 53532   \n",
              "...                                                  ...   \n",
              "37933          4340 W Thunderbird Rd\\nGlendale, AZ 85306   \n",
              "37934  1 E Main St\\nLower Level Suite 5\\nCapitol\\nMad...   \n",
              "37935           FilmBar\\n815 N 2nd St\\nPhoenix, AZ 85004   \n",
              "37936                   6505 N 7th St\\nPhoenix, AZ 85014   \n",
              "37937     125 Lauriston Pl\\nTollcross\\nEdinburgh EH3 9JN   \n",
              "\n",
              "                                                   hours  open  \\\n",
              "0      {'Tuesday': {'close': '17:00', 'open': '08:00'...  True   \n",
              "1                                                     {}  True   \n",
              "2      {'Monday': {'close': '22:00', 'open': '06:00'}...  True   \n",
              "3      {'Monday': {'close': '22:00', 'open': '10:30'}...  True   \n",
              "4      {'Monday': {'close': '22:00', 'open': '11:00'}...  True   \n",
              "...                                                  ...   ...   \n",
              "37933  {'Monday': {'close': '02:00', 'open': '18:00'}...  True   \n",
              "37934                                                 {}  True   \n",
              "37935                                                 {}  True   \n",
              "37936  {'Monday': {'close': '21:00', 'open': '11:00'}...  True   \n",
              "37937                                                 {}  True   \n",
              "\n",
              "                                              categories       city  \\\n",
              "0                            [Doctors, Health & Medical]    Phoenix   \n",
              "1                                          [Restaurants]  De Forest   \n",
              "2                  [American (Traditional), Restaurants]  De Forest   \n",
              "3      [Food, Ice Cream & Frozen Yogurt, Fast Food, R...  De Forest   \n",
              "4                                 [Chinese, Restaurants]  De Forest   \n",
              "...                                                  ...        ...   \n",
              "37933            [Bars, Hookah Bars, Nightlife, Lounges]   Glendale   \n",
              "37934  [Active Life, Barre Classes, Pilates, Fitness ...    Madison   \n",
              "37935                        [Yelp Events, Local Flavor]    Phoenix   \n",
              "37936              [Kosher, Italian, Pizza, Restaurants]    Phoenix   \n",
              "37937       [Food, Ethnic Food, Grocery, Specialty Food]  Edinburgh   \n",
              "\n",
              "       review_count                                   name  \\\n",
              "0                 7                      Eric Goldberg, MD   \n",
              "1                26                   Pine Cone Restaurant   \n",
              "2                16             Deforest Family Restaurant   \n",
              "3                 7                               Culver's   \n",
              "4                 3            Chang Jiang Chinese Kitchen   \n",
              "...             ...                                    ...   \n",
              "37933             4                           The V Lounge   \n",
              "37934             3                        Pilates Central   \n",
              "37935            17  Yelp's Secret Cinema: Made In Arizona   \n",
              "37936             5        LaBella Pizzeria and Restaurant   \n",
              "37937             7                   Oriental Supermarket   \n",
              "\n",
              "               neighborhoods   longitude state  stars   latitude  \\\n",
              "0                         [] -111.983758    AZ    3.5  33.499313   \n",
              "1                         []  -89.335844    WI    4.0  43.238893   \n",
              "2                         []  -89.353437    WI    4.0  43.252267   \n",
              "3                         []  -89.374983    WI    4.5  43.251045   \n",
              "4                         []  -89.343722    WI    4.0  43.240875   \n",
              "...                      ...         ...   ...    ...        ...   \n",
              "37933                     [] -112.152529    AZ    5.0  33.610822   \n",
              "37934              [Capitol]  -89.382842    WI    5.0  43.073871   \n",
              "37935                     [] -112.071074    AZ    5.0  33.457106   \n",
              "37936                     [] -112.064508    AZ    5.0  33.531310   \n",
              "37937  [Tollcross, Old Town]   -3.202529   EDH    3.5  55.944170   \n",
              "\n",
              "                                              attributes      type  \n",
              "0                          {'By Appointment Only': True}  business  \n",
              "1      {'Take-out': True, 'Good For': {'dessert': Fal...  business  \n",
              "2      {'Take-out': True, 'Good For': {'dessert': Fal...  business  \n",
              "3      {'Take-out': True, 'Wi-Fi': 'free', 'Takes Res...  business  \n",
              "4      {'Take-out': True, 'Has TV': False, 'Outdoor S...  business  \n",
              "...                                                  ...       ...  \n",
              "37933  {'Alcohol': 'none', 'Good For Dancing': True, ...  business  \n",
              "37934                                                 {}  business  \n",
              "37935                           {'Good for Kids': False}  business  \n",
              "37936  {'Take-out': True, 'Wi-Fi': 'no', 'Good For': ...  business  \n",
              "37937  {'Parking': {'garage': False, 'street': False,...  business  \n",
              "\n",
              "[37938 rows x 15 columns]"
            ],
            "text/html": [
              "\n",
              "  <div id=\"df-81d86b4e-93ee-4b6c-a871-f536b2af26ae\">\n",
              "    <div class=\"colab-df-container\">\n",
              "      <div>\n",
              "<style scoped>\n",
              "    .dataframe tbody tr th:only-of-type {\n",
              "        vertical-align: middle;\n",
              "    }\n",
              "\n",
              "    .dataframe tbody tr th {\n",
              "        vertical-align: top;\n",
              "    }\n",
              "\n",
              "    .dataframe thead th {\n",
              "        text-align: right;\n",
              "    }\n",
              "</style>\n",
              "<table border=\"1\" class=\"dataframe\">\n",
              "  <thead>\n",
              "    <tr style=\"text-align: right;\">\n",
              "      <th></th>\n",
              "      <th>business_id</th>\n",
              "      <th>full_address</th>\n",
              "      <th>hours</th>\n",
              "      <th>open</th>\n",
              "      <th>categories</th>\n",
              "      <th>city</th>\n",
              "      <th>review_count</th>\n",
              "      <th>name</th>\n",
              "      <th>neighborhoods</th>\n",
              "      <th>longitude</th>\n",
              "      <th>state</th>\n",
              "      <th>stars</th>\n",
              "      <th>latitude</th>\n",
              "      <th>attributes</th>\n",
              "      <th>type</th>\n",
              "    </tr>\n",
              "  </thead>\n",
              "  <tbody>\n",
              "    <tr>\n",
              "      <th>0</th>\n",
              "      <td>vcNAWiLM4dR7D2nwwJ7nCA</td>\n",
              "      <td>4840 E Indian School Rd\\nSte 101\\nPhoenix, AZ ...</td>\n",
              "      <td>{'Tuesday': {'close': '17:00', 'open': '08:00'...</td>\n",
              "      <td>True</td>\n",
              "      <td>[Doctors, Health &amp; Medical]</td>\n",
              "      <td>Phoenix</td>\n",
              "      <td>7</td>\n",
              "      <td>Eric Goldberg, MD</td>\n",
              "      <td>[]</td>\n",
              "      <td>-111.983758</td>\n",
              "      <td>AZ</td>\n",
              "      <td>3.5</td>\n",
              "      <td>33.499313</td>\n",
              "      <td>{'By Appointment Only': True}</td>\n",
              "      <td>business</td>\n",
              "    </tr>\n",
              "    <tr>\n",
              "      <th>1</th>\n",
              "      <td>JwUE5GmEO-sH1FuwJgKBlQ</td>\n",
              "      <td>6162 US Highway 51\\nDe Forest, WI 53532</td>\n",
              "      <td>{}</td>\n",
              "      <td>True</td>\n",
              "      <td>[Restaurants]</td>\n",
              "      <td>De Forest</td>\n",
              "      <td>26</td>\n",
              "      <td>Pine Cone Restaurant</td>\n",
              "      <td>[]</td>\n",
              "      <td>-89.335844</td>\n",
              "      <td>WI</td>\n",
              "      <td>4.0</td>\n",
              "      <td>43.238893</td>\n",
              "      <td>{'Take-out': True, 'Good For': {'dessert': Fal...</td>\n",
              "      <td>business</td>\n",
              "    </tr>\n",
              "    <tr>\n",
              "      <th>2</th>\n",
              "      <td>uGykseHzyS5xAMWoN6YUqA</td>\n",
              "      <td>505 W North St\\nDe Forest, WI 53532</td>\n",
              "      <td>{'Monday': {'close': '22:00', 'open': '06:00'}...</td>\n",
              "      <td>True</td>\n",
              "      <td>[American (Traditional), Restaurants]</td>\n",
              "      <td>De Forest</td>\n",
              "      <td>16</td>\n",
              "      <td>Deforest Family Restaurant</td>\n",
              "      <td>[]</td>\n",
              "      <td>-89.353437</td>\n",
              "      <td>WI</td>\n",
              "      <td>4.0</td>\n",
              "      <td>43.252267</td>\n",
              "      <td>{'Take-out': True, 'Good For': {'dessert': Fal...</td>\n",
              "      <td>business</td>\n",
              "    </tr>\n",
              "    <tr>\n",
              "      <th>3</th>\n",
              "      <td>LRKJF43s9-3jG9Lgx4zODg</td>\n",
              "      <td>4910 County Rd V\\nDe Forest, WI 53532</td>\n",
              "      <td>{'Monday': {'close': '22:00', 'open': '10:30'}...</td>\n",
              "      <td>True</td>\n",
              "      <td>[Food, Ice Cream &amp; Frozen Yogurt, Fast Food, R...</td>\n",
              "      <td>De Forest</td>\n",
              "      <td>7</td>\n",
              "      <td>Culver's</td>\n",
              "      <td>[]</td>\n",
              "      <td>-89.374983</td>\n",
              "      <td>WI</td>\n",
              "      <td>4.5</td>\n",
              "      <td>43.251045</td>\n",
              "      <td>{'Take-out': True, 'Wi-Fi': 'free', 'Takes Res...</td>\n",
              "      <td>business</td>\n",
              "    </tr>\n",
              "    <tr>\n",
              "      <th>4</th>\n",
              "      <td>RgDg-k9S5YD_BaxMckifkg</td>\n",
              "      <td>631 S Main St\\nDe Forest, WI 53532</td>\n",
              "      <td>{'Monday': {'close': '22:00', 'open': '11:00'}...</td>\n",
              "      <td>True</td>\n",
              "      <td>[Chinese, Restaurants]</td>\n",
              "      <td>De Forest</td>\n",
              "      <td>3</td>\n",
              "      <td>Chang Jiang Chinese Kitchen</td>\n",
              "      <td>[]</td>\n",
              "      <td>-89.343722</td>\n",
              "      <td>WI</td>\n",
              "      <td>4.0</td>\n",
              "      <td>43.240875</td>\n",
              "      <td>{'Take-out': True, 'Has TV': False, 'Outdoor S...</td>\n",
              "      <td>business</td>\n",
              "    </tr>\n",
              "    <tr>\n",
              "      <th>...</th>\n",
              "      <td>...</td>\n",
              "      <td>...</td>\n",
              "      <td>...</td>\n",
              "      <td>...</td>\n",
              "      <td>...</td>\n",
              "      <td>...</td>\n",
              "      <td>...</td>\n",
              "      <td>...</td>\n",
              "      <td>...</td>\n",
              "      <td>...</td>\n",
              "      <td>...</td>\n",
              "      <td>...</td>\n",
              "      <td>...</td>\n",
              "      <td>...</td>\n",
              "      <td>...</td>\n",
              "    </tr>\n",
              "    <tr>\n",
              "      <th>37933</th>\n",
              "      <td>iyKyJoDcbkGrMCgvyfMHxw</td>\n",
              "      <td>4340 W Thunderbird Rd\\nGlendale, AZ 85306</td>\n",
              "      <td>{'Monday': {'close': '02:00', 'open': '18:00'}...</td>\n",
              "      <td>True</td>\n",
              "      <td>[Bars, Hookah Bars, Nightlife, Lounges]</td>\n",
              "      <td>Glendale</td>\n",
              "      <td>4</td>\n",
              "      <td>The V Lounge</td>\n",
              "      <td>[]</td>\n",
              "      <td>-112.152529</td>\n",
              "      <td>AZ</td>\n",
              "      <td>5.0</td>\n",
              "      <td>33.610822</td>\n",
              "      <td>{'Alcohol': 'none', 'Good For Dancing': True, ...</td>\n",
              "      <td>business</td>\n",
              "    </tr>\n",
              "    <tr>\n",
              "      <th>37934</th>\n",
              "      <td>tsvWY4o64xiv7K0VA89R8A</td>\n",
              "      <td>1 E Main St\\nLower Level Suite 5\\nCapitol\\nMad...</td>\n",
              "      <td>{}</td>\n",
              "      <td>True</td>\n",
              "      <td>[Active Life, Barre Classes, Pilates, Fitness ...</td>\n",
              "      <td>Madison</td>\n",
              "      <td>3</td>\n",
              "      <td>Pilates Central</td>\n",
              "      <td>[Capitol]</td>\n",
              "      <td>-89.382842</td>\n",
              "      <td>WI</td>\n",
              "      <td>5.0</td>\n",
              "      <td>43.073871</td>\n",
              "      <td>{}</td>\n",
              "      <td>business</td>\n",
              "    </tr>\n",
              "    <tr>\n",
              "      <th>37935</th>\n",
              "      <td>nYer89hXYAoddMEKTxw7kA</td>\n",
              "      <td>FilmBar\\n815 N 2nd St\\nPhoenix, AZ 85004</td>\n",
              "      <td>{}</td>\n",
              "      <td>True</td>\n",
              "      <td>[Yelp Events, Local Flavor]</td>\n",
              "      <td>Phoenix</td>\n",
              "      <td>17</td>\n",
              "      <td>Yelp's Secret Cinema: Made In Arizona</td>\n",
              "      <td>[]</td>\n",
              "      <td>-112.071074</td>\n",
              "      <td>AZ</td>\n",
              "      <td>5.0</td>\n",
              "      <td>33.457106</td>\n",
              "      <td>{'Good for Kids': False}</td>\n",
              "      <td>business</td>\n",
              "    </tr>\n",
              "    <tr>\n",
              "      <th>37936</th>\n",
              "      <td>BMjggIgOghBMEXPo8q7q3w</td>\n",
              "      <td>6505 N 7th St\\nPhoenix, AZ 85014</td>\n",
              "      <td>{'Monday': {'close': '21:00', 'open': '11:00'}...</td>\n",
              "      <td>True</td>\n",
              "      <td>[Kosher, Italian, Pizza, Restaurants]</td>\n",
              "      <td>Phoenix</td>\n",
              "      <td>5</td>\n",
              "      <td>LaBella Pizzeria and Restaurant</td>\n",
              "      <td>[]</td>\n",
              "      <td>-112.064508</td>\n",
              "      <td>AZ</td>\n",
              "      <td>5.0</td>\n",
              "      <td>33.531310</td>\n",
              "      <td>{'Take-out': True, 'Wi-Fi': 'no', 'Good For': ...</td>\n",
              "      <td>business</td>\n",
              "    </tr>\n",
              "    <tr>\n",
              "      <th>37937</th>\n",
              "      <td>BVxlrYWgmi-8TPGMe6CTpg</td>\n",
              "      <td>125 Lauriston Pl\\nTollcross\\nEdinburgh EH3 9JN</td>\n",
              "      <td>{}</td>\n",
              "      <td>True</td>\n",
              "      <td>[Food, Ethnic Food, Grocery, Specialty Food]</td>\n",
              "      <td>Edinburgh</td>\n",
              "      <td>7</td>\n",
              "      <td>Oriental Supermarket</td>\n",
              "      <td>[Tollcross, Old Town]</td>\n",
              "      <td>-3.202529</td>\n",
              "      <td>EDH</td>\n",
              "      <td>3.5</td>\n",
              "      <td>55.944170</td>\n",
              "      <td>{'Parking': {'garage': False, 'street': False,...</td>\n",
              "      <td>business</td>\n",
              "    </tr>\n",
              "  </tbody>\n",
              "</table>\n",
              "<p>37938 rows × 15 columns</p>\n",
              "</div>\n",
              "      <button class=\"colab-df-convert\" onclick=\"convertToInteractive('df-81d86b4e-93ee-4b6c-a871-f536b2af26ae')\"\n",
              "              title=\"Convert this dataframe to an interactive table.\"\n",
              "              style=\"display:none;\">\n",
              "        \n",
              "  <svg xmlns=\"http://www.w3.org/2000/svg\" height=\"24px\"viewBox=\"0 0 24 24\"\n",
              "       width=\"24px\">\n",
              "    <path d=\"M0 0h24v24H0V0z\" fill=\"none\"/>\n",
              "    <path d=\"M18.56 5.44l.94 2.06.94-2.06 2.06-.94-2.06-.94-.94-2.06-.94 2.06-2.06.94zm-11 1L8.5 8.5l.94-2.06 2.06-.94-2.06-.94L8.5 2.5l-.94 2.06-2.06.94zm10 10l.94 2.06.94-2.06 2.06-.94-2.06-.94-.94-2.06-.94 2.06-2.06.94z\"/><path d=\"M17.41 7.96l-1.37-1.37c-.4-.4-.92-.59-1.43-.59-.52 0-1.04.2-1.43.59L10.3 9.45l-7.72 7.72c-.78.78-.78 2.05 0 2.83L4 21.41c.39.39.9.59 1.41.59.51 0 1.02-.2 1.41-.59l7.78-7.78 2.81-2.81c.8-.78.8-2.07 0-2.86zM5.41 20L4 18.59l7.72-7.72 1.47 1.35L5.41 20z\"/>\n",
              "  </svg>\n",
              "      </button>\n",
              "      \n",
              "  <style>\n",
              "    .colab-df-container {\n",
              "      display:flex;\n",
              "      flex-wrap:wrap;\n",
              "      gap: 12px;\n",
              "    }\n",
              "\n",
              "    .colab-df-convert {\n",
              "      background-color: #E8F0FE;\n",
              "      border: none;\n",
              "      border-radius: 50%;\n",
              "      cursor: pointer;\n",
              "      display: none;\n",
              "      fill: #1967D2;\n",
              "      height: 32px;\n",
              "      padding: 0 0 0 0;\n",
              "      width: 32px;\n",
              "    }\n",
              "\n",
              "    .colab-df-convert:hover {\n",
              "      background-color: #E2EBFA;\n",
              "      box-shadow: 0px 1px 2px rgba(60, 64, 67, 0.3), 0px 1px 3px 1px rgba(60, 64, 67, 0.15);\n",
              "      fill: #174EA6;\n",
              "    }\n",
              "\n",
              "    [theme=dark] .colab-df-convert {\n",
              "      background-color: #3B4455;\n",
              "      fill: #D2E3FC;\n",
              "    }\n",
              "\n",
              "    [theme=dark] .colab-df-convert:hover {\n",
              "      background-color: #434B5C;\n",
              "      box-shadow: 0px 1px 3px 1px rgba(0, 0, 0, 0.15);\n",
              "      filter: drop-shadow(0px 1px 2px rgba(0, 0, 0, 0.3));\n",
              "      fill: #FFFFFF;\n",
              "    }\n",
              "  </style>\n",
              "\n",
              "      <script>\n",
              "        const buttonEl =\n",
              "          document.querySelector('#df-81d86b4e-93ee-4b6c-a871-f536b2af26ae button.colab-df-convert');\n",
              "        buttonEl.style.display =\n",
              "          google.colab.kernel.accessAllowed ? 'block' : 'none';\n",
              "\n",
              "        async function convertToInteractive(key) {\n",
              "          const element = document.querySelector('#df-81d86b4e-93ee-4b6c-a871-f536b2af26ae');\n",
              "          const dataTable =\n",
              "            await google.colab.kernel.invokeFunction('convertToInteractive',\n",
              "                                                     [key], {});\n",
              "          if (!dataTable) return;\n",
              "\n",
              "          const docLinkHtml = 'Like what you see? Visit the ' +\n",
              "            '<a target=\"_blank\" href=https://colab.research.google.com/notebooks/data_table.ipynb>data table notebook</a>'\n",
              "            + ' to learn more about interactive tables.';\n",
              "          element.innerHTML = '';\n",
              "          dataTable['output_type'] = 'display_data';\n",
              "          await google.colab.output.renderOutput(dataTable, element);\n",
              "          const docLink = document.createElement('div');\n",
              "          docLink.innerHTML = docLinkHtml;\n",
              "          element.appendChild(docLink);\n",
              "        }\n",
              "      </script>\n",
              "    </div>\n",
              "  </div>\n",
              "  "
            ]
          },
          "metadata": {},
          "execution_count": 134
        }
      ]
    },
    {
      "cell_type": "code",
      "execution_count": 135,
      "id": "98c22354-91db-4200-8de1-a8141eabecf2",
      "metadata": {
        "id": "98c22354-91db-4200-8de1-a8141eabecf2"
      },
      "outputs": [],
      "source": [
        "#data.dropna()"
      ]
    },
    {
      "cell_type": "markdown",
      "id": "f2999d56-d9fc-4abd-8908-f8d9889dbc34",
      "metadata": {
        "id": "f2999d56-d9fc-4abd-8908-f8d9889dbc34"
      },
      "source": [
        "## Homework\n",
        "\n",
        "1. Select review_count, longitude, stars, and latitude from the yelp dataset.\n",
        "2. For each column, plot a boxplot and compare the values with the describe method above\n",
        "3. For each column, compute the five number summaries and the values with the ones in the table above"
      ]
    },
    {
      "cell_type": "code",
      "source": [
        "import matplotlib as pyplot\n",
        "from pandas import read_json\n",
        "data"
      ],
      "metadata": {
        "colab": {
          "base_uri": "https://localhost:8080/",
          "height": 641
        },
        "id": "bzkIdmpompk1",
        "outputId": "29748360-07d3-43f2-c54b-6895297dd965"
      },
      "id": "bzkIdmpompk1",
      "execution_count": 136,
      "outputs": [
        {
          "output_type": "execute_result",
          "data": {
            "text/plain": [
              "                  business_id  \\\n",
              "0      vcNAWiLM4dR7D2nwwJ7nCA   \n",
              "1      JwUE5GmEO-sH1FuwJgKBlQ   \n",
              "2      uGykseHzyS5xAMWoN6YUqA   \n",
              "3      LRKJF43s9-3jG9Lgx4zODg   \n",
              "4      RgDg-k9S5YD_BaxMckifkg   \n",
              "...                       ...   \n",
              "37933  iyKyJoDcbkGrMCgvyfMHxw   \n",
              "37934  tsvWY4o64xiv7K0VA89R8A   \n",
              "37935  nYer89hXYAoddMEKTxw7kA   \n",
              "37936  BMjggIgOghBMEXPo8q7q3w   \n",
              "37937  BVxlrYWgmi-8TPGMe6CTpg   \n",
              "\n",
              "                                            full_address  \\\n",
              "0      4840 E Indian School Rd\\nSte 101\\nPhoenix, AZ ...   \n",
              "1                6162 US Highway 51\\nDe Forest, WI 53532   \n",
              "2                    505 W North St\\nDe Forest, WI 53532   \n",
              "3                  4910 County Rd V\\nDe Forest, WI 53532   \n",
              "4                     631 S Main St\\nDe Forest, WI 53532   \n",
              "...                                                  ...   \n",
              "37933          4340 W Thunderbird Rd\\nGlendale, AZ 85306   \n",
              "37934  1 E Main St\\nLower Level Suite 5\\nCapitol\\nMad...   \n",
              "37935           FilmBar\\n815 N 2nd St\\nPhoenix, AZ 85004   \n",
              "37936                   6505 N 7th St\\nPhoenix, AZ 85014   \n",
              "37937     125 Lauriston Pl\\nTollcross\\nEdinburgh EH3 9JN   \n",
              "\n",
              "                                                   hours  open  \\\n",
              "0      {'Tuesday': {'close': '17:00', 'open': '08:00'...  True   \n",
              "1                                                     {}  True   \n",
              "2      {'Monday': {'close': '22:00', 'open': '06:00'}...  True   \n",
              "3      {'Monday': {'close': '22:00', 'open': '10:30'}...  True   \n",
              "4      {'Monday': {'close': '22:00', 'open': '11:00'}...  True   \n",
              "...                                                  ...   ...   \n",
              "37933  {'Monday': {'close': '02:00', 'open': '18:00'}...  True   \n",
              "37934                                                 {}  True   \n",
              "37935                                                 {}  True   \n",
              "37936  {'Monday': {'close': '21:00', 'open': '11:00'}...  True   \n",
              "37937                                                 {}  True   \n",
              "\n",
              "                                              categories       city  \\\n",
              "0                            [Doctors, Health & Medical]    Phoenix   \n",
              "1                                          [Restaurants]  De Forest   \n",
              "2                  [American (Traditional), Restaurants]  De Forest   \n",
              "3      [Food, Ice Cream & Frozen Yogurt, Fast Food, R...  De Forest   \n",
              "4                                 [Chinese, Restaurants]  De Forest   \n",
              "...                                                  ...        ...   \n",
              "37933            [Bars, Hookah Bars, Nightlife, Lounges]   Glendale   \n",
              "37934  [Active Life, Barre Classes, Pilates, Fitness ...    Madison   \n",
              "37935                        [Yelp Events, Local Flavor]    Phoenix   \n",
              "37936              [Kosher, Italian, Pizza, Restaurants]    Phoenix   \n",
              "37937       [Food, Ethnic Food, Grocery, Specialty Food]  Edinburgh   \n",
              "\n",
              "       review_count                                   name  \\\n",
              "0                 7                      Eric Goldberg, MD   \n",
              "1                26                   Pine Cone Restaurant   \n",
              "2                16             Deforest Family Restaurant   \n",
              "3                 7                               Culver's   \n",
              "4                 3            Chang Jiang Chinese Kitchen   \n",
              "...             ...                                    ...   \n",
              "37933             4                           The V Lounge   \n",
              "37934             3                        Pilates Central   \n",
              "37935            17  Yelp's Secret Cinema: Made In Arizona   \n",
              "37936             5        LaBella Pizzeria and Restaurant   \n",
              "37937             7                   Oriental Supermarket   \n",
              "\n",
              "               neighborhoods   longitude state  stars   latitude  \\\n",
              "0                         [] -111.983758    AZ    3.5  33.499313   \n",
              "1                         []  -89.335844    WI    4.0  43.238893   \n",
              "2                         []  -89.353437    WI    4.0  43.252267   \n",
              "3                         []  -89.374983    WI    4.5  43.251045   \n",
              "4                         []  -89.343722    WI    4.0  43.240875   \n",
              "...                      ...         ...   ...    ...        ...   \n",
              "37933                     [] -112.152529    AZ    5.0  33.610822   \n",
              "37934              [Capitol]  -89.382842    WI    5.0  43.073871   \n",
              "37935                     [] -112.071074    AZ    5.0  33.457106   \n",
              "37936                     [] -112.064508    AZ    5.0  33.531310   \n",
              "37937  [Tollcross, Old Town]   -3.202529   EDH    3.5  55.944170   \n",
              "\n",
              "                                              attributes      type  \n",
              "0                          {'By Appointment Only': True}  business  \n",
              "1      {'Take-out': True, 'Good For': {'dessert': Fal...  business  \n",
              "2      {'Take-out': True, 'Good For': {'dessert': Fal...  business  \n",
              "3      {'Take-out': True, 'Wi-Fi': 'free', 'Takes Res...  business  \n",
              "4      {'Take-out': True, 'Has TV': False, 'Outdoor S...  business  \n",
              "...                                                  ...       ...  \n",
              "37933  {'Alcohol': 'none', 'Good For Dancing': True, ...  business  \n",
              "37934                                                 {}  business  \n",
              "37935                           {'Good for Kids': False}  business  \n",
              "37936  {'Take-out': True, 'Wi-Fi': 'no', 'Good For': ...  business  \n",
              "37937  {'Parking': {'garage': False, 'street': False,...  business  \n",
              "\n",
              "[37938 rows x 15 columns]"
            ],
            "text/html": [
              "\n",
              "  <div id=\"df-40d7a57b-40e1-4808-ac58-4271ea799f7f\">\n",
              "    <div class=\"colab-df-container\">\n",
              "      <div>\n",
              "<style scoped>\n",
              "    .dataframe tbody tr th:only-of-type {\n",
              "        vertical-align: middle;\n",
              "    }\n",
              "\n",
              "    .dataframe tbody tr th {\n",
              "        vertical-align: top;\n",
              "    }\n",
              "\n",
              "    .dataframe thead th {\n",
              "        text-align: right;\n",
              "    }\n",
              "</style>\n",
              "<table border=\"1\" class=\"dataframe\">\n",
              "  <thead>\n",
              "    <tr style=\"text-align: right;\">\n",
              "      <th></th>\n",
              "      <th>business_id</th>\n",
              "      <th>full_address</th>\n",
              "      <th>hours</th>\n",
              "      <th>open</th>\n",
              "      <th>categories</th>\n",
              "      <th>city</th>\n",
              "      <th>review_count</th>\n",
              "      <th>name</th>\n",
              "      <th>neighborhoods</th>\n",
              "      <th>longitude</th>\n",
              "      <th>state</th>\n",
              "      <th>stars</th>\n",
              "      <th>latitude</th>\n",
              "      <th>attributes</th>\n",
              "      <th>type</th>\n",
              "    </tr>\n",
              "  </thead>\n",
              "  <tbody>\n",
              "    <tr>\n",
              "      <th>0</th>\n",
              "      <td>vcNAWiLM4dR7D2nwwJ7nCA</td>\n",
              "      <td>4840 E Indian School Rd\\nSte 101\\nPhoenix, AZ ...</td>\n",
              "      <td>{'Tuesday': {'close': '17:00', 'open': '08:00'...</td>\n",
              "      <td>True</td>\n",
              "      <td>[Doctors, Health &amp; Medical]</td>\n",
              "      <td>Phoenix</td>\n",
              "      <td>7</td>\n",
              "      <td>Eric Goldberg, MD</td>\n",
              "      <td>[]</td>\n",
              "      <td>-111.983758</td>\n",
              "      <td>AZ</td>\n",
              "      <td>3.5</td>\n",
              "      <td>33.499313</td>\n",
              "      <td>{'By Appointment Only': True}</td>\n",
              "      <td>business</td>\n",
              "    </tr>\n",
              "    <tr>\n",
              "      <th>1</th>\n",
              "      <td>JwUE5GmEO-sH1FuwJgKBlQ</td>\n",
              "      <td>6162 US Highway 51\\nDe Forest, WI 53532</td>\n",
              "      <td>{}</td>\n",
              "      <td>True</td>\n",
              "      <td>[Restaurants]</td>\n",
              "      <td>De Forest</td>\n",
              "      <td>26</td>\n",
              "      <td>Pine Cone Restaurant</td>\n",
              "      <td>[]</td>\n",
              "      <td>-89.335844</td>\n",
              "      <td>WI</td>\n",
              "      <td>4.0</td>\n",
              "      <td>43.238893</td>\n",
              "      <td>{'Take-out': True, 'Good For': {'dessert': Fal...</td>\n",
              "      <td>business</td>\n",
              "    </tr>\n",
              "    <tr>\n",
              "      <th>2</th>\n",
              "      <td>uGykseHzyS5xAMWoN6YUqA</td>\n",
              "      <td>505 W North St\\nDe Forest, WI 53532</td>\n",
              "      <td>{'Monday': {'close': '22:00', 'open': '06:00'}...</td>\n",
              "      <td>True</td>\n",
              "      <td>[American (Traditional), Restaurants]</td>\n",
              "      <td>De Forest</td>\n",
              "      <td>16</td>\n",
              "      <td>Deforest Family Restaurant</td>\n",
              "      <td>[]</td>\n",
              "      <td>-89.353437</td>\n",
              "      <td>WI</td>\n",
              "      <td>4.0</td>\n",
              "      <td>43.252267</td>\n",
              "      <td>{'Take-out': True, 'Good For': {'dessert': Fal...</td>\n",
              "      <td>business</td>\n",
              "    </tr>\n",
              "    <tr>\n",
              "      <th>3</th>\n",
              "      <td>LRKJF43s9-3jG9Lgx4zODg</td>\n",
              "      <td>4910 County Rd V\\nDe Forest, WI 53532</td>\n",
              "      <td>{'Monday': {'close': '22:00', 'open': '10:30'}...</td>\n",
              "      <td>True</td>\n",
              "      <td>[Food, Ice Cream &amp; Frozen Yogurt, Fast Food, R...</td>\n",
              "      <td>De Forest</td>\n",
              "      <td>7</td>\n",
              "      <td>Culver's</td>\n",
              "      <td>[]</td>\n",
              "      <td>-89.374983</td>\n",
              "      <td>WI</td>\n",
              "      <td>4.5</td>\n",
              "      <td>43.251045</td>\n",
              "      <td>{'Take-out': True, 'Wi-Fi': 'free', 'Takes Res...</td>\n",
              "      <td>business</td>\n",
              "    </tr>\n",
              "    <tr>\n",
              "      <th>4</th>\n",
              "      <td>RgDg-k9S5YD_BaxMckifkg</td>\n",
              "      <td>631 S Main St\\nDe Forest, WI 53532</td>\n",
              "      <td>{'Monday': {'close': '22:00', 'open': '11:00'}...</td>\n",
              "      <td>True</td>\n",
              "      <td>[Chinese, Restaurants]</td>\n",
              "      <td>De Forest</td>\n",
              "      <td>3</td>\n",
              "      <td>Chang Jiang Chinese Kitchen</td>\n",
              "      <td>[]</td>\n",
              "      <td>-89.343722</td>\n",
              "      <td>WI</td>\n",
              "      <td>4.0</td>\n",
              "      <td>43.240875</td>\n",
              "      <td>{'Take-out': True, 'Has TV': False, 'Outdoor S...</td>\n",
              "      <td>business</td>\n",
              "    </tr>\n",
              "    <tr>\n",
              "      <th>...</th>\n",
              "      <td>...</td>\n",
              "      <td>...</td>\n",
              "      <td>...</td>\n",
              "      <td>...</td>\n",
              "      <td>...</td>\n",
              "      <td>...</td>\n",
              "      <td>...</td>\n",
              "      <td>...</td>\n",
              "      <td>...</td>\n",
              "      <td>...</td>\n",
              "      <td>...</td>\n",
              "      <td>...</td>\n",
              "      <td>...</td>\n",
              "      <td>...</td>\n",
              "      <td>...</td>\n",
              "    </tr>\n",
              "    <tr>\n",
              "      <th>37933</th>\n",
              "      <td>iyKyJoDcbkGrMCgvyfMHxw</td>\n",
              "      <td>4340 W Thunderbird Rd\\nGlendale, AZ 85306</td>\n",
              "      <td>{'Monday': {'close': '02:00', 'open': '18:00'}...</td>\n",
              "      <td>True</td>\n",
              "      <td>[Bars, Hookah Bars, Nightlife, Lounges]</td>\n",
              "      <td>Glendale</td>\n",
              "      <td>4</td>\n",
              "      <td>The V Lounge</td>\n",
              "      <td>[]</td>\n",
              "      <td>-112.152529</td>\n",
              "      <td>AZ</td>\n",
              "      <td>5.0</td>\n",
              "      <td>33.610822</td>\n",
              "      <td>{'Alcohol': 'none', 'Good For Dancing': True, ...</td>\n",
              "      <td>business</td>\n",
              "    </tr>\n",
              "    <tr>\n",
              "      <th>37934</th>\n",
              "      <td>tsvWY4o64xiv7K0VA89R8A</td>\n",
              "      <td>1 E Main St\\nLower Level Suite 5\\nCapitol\\nMad...</td>\n",
              "      <td>{}</td>\n",
              "      <td>True</td>\n",
              "      <td>[Active Life, Barre Classes, Pilates, Fitness ...</td>\n",
              "      <td>Madison</td>\n",
              "      <td>3</td>\n",
              "      <td>Pilates Central</td>\n",
              "      <td>[Capitol]</td>\n",
              "      <td>-89.382842</td>\n",
              "      <td>WI</td>\n",
              "      <td>5.0</td>\n",
              "      <td>43.073871</td>\n",
              "      <td>{}</td>\n",
              "      <td>business</td>\n",
              "    </tr>\n",
              "    <tr>\n",
              "      <th>37935</th>\n",
              "      <td>nYer89hXYAoddMEKTxw7kA</td>\n",
              "      <td>FilmBar\\n815 N 2nd St\\nPhoenix, AZ 85004</td>\n",
              "      <td>{}</td>\n",
              "      <td>True</td>\n",
              "      <td>[Yelp Events, Local Flavor]</td>\n",
              "      <td>Phoenix</td>\n",
              "      <td>17</td>\n",
              "      <td>Yelp's Secret Cinema: Made In Arizona</td>\n",
              "      <td>[]</td>\n",
              "      <td>-112.071074</td>\n",
              "      <td>AZ</td>\n",
              "      <td>5.0</td>\n",
              "      <td>33.457106</td>\n",
              "      <td>{'Good for Kids': False}</td>\n",
              "      <td>business</td>\n",
              "    </tr>\n",
              "    <tr>\n",
              "      <th>37936</th>\n",
              "      <td>BMjggIgOghBMEXPo8q7q3w</td>\n",
              "      <td>6505 N 7th St\\nPhoenix, AZ 85014</td>\n",
              "      <td>{'Monday': {'close': '21:00', 'open': '11:00'}...</td>\n",
              "      <td>True</td>\n",
              "      <td>[Kosher, Italian, Pizza, Restaurants]</td>\n",
              "      <td>Phoenix</td>\n",
              "      <td>5</td>\n",
              "      <td>LaBella Pizzeria and Restaurant</td>\n",
              "      <td>[]</td>\n",
              "      <td>-112.064508</td>\n",
              "      <td>AZ</td>\n",
              "      <td>5.0</td>\n",
              "      <td>33.531310</td>\n",
              "      <td>{'Take-out': True, 'Wi-Fi': 'no', 'Good For': ...</td>\n",
              "      <td>business</td>\n",
              "    </tr>\n",
              "    <tr>\n",
              "      <th>37937</th>\n",
              "      <td>BVxlrYWgmi-8TPGMe6CTpg</td>\n",
              "      <td>125 Lauriston Pl\\nTollcross\\nEdinburgh EH3 9JN</td>\n",
              "      <td>{}</td>\n",
              "      <td>True</td>\n",
              "      <td>[Food, Ethnic Food, Grocery, Specialty Food]</td>\n",
              "      <td>Edinburgh</td>\n",
              "      <td>7</td>\n",
              "      <td>Oriental Supermarket</td>\n",
              "      <td>[Tollcross, Old Town]</td>\n",
              "      <td>-3.202529</td>\n",
              "      <td>EDH</td>\n",
              "      <td>3.5</td>\n",
              "      <td>55.944170</td>\n",
              "      <td>{'Parking': {'garage': False, 'street': False,...</td>\n",
              "      <td>business</td>\n",
              "    </tr>\n",
              "  </tbody>\n",
              "</table>\n",
              "<p>37938 rows × 15 columns</p>\n",
              "</div>\n",
              "      <button class=\"colab-df-convert\" onclick=\"convertToInteractive('df-40d7a57b-40e1-4808-ac58-4271ea799f7f')\"\n",
              "              title=\"Convert this dataframe to an interactive table.\"\n",
              "              style=\"display:none;\">\n",
              "        \n",
              "  <svg xmlns=\"http://www.w3.org/2000/svg\" height=\"24px\"viewBox=\"0 0 24 24\"\n",
              "       width=\"24px\">\n",
              "    <path d=\"M0 0h24v24H0V0z\" fill=\"none\"/>\n",
              "    <path d=\"M18.56 5.44l.94 2.06.94-2.06 2.06-.94-2.06-.94-.94-2.06-.94 2.06-2.06.94zm-11 1L8.5 8.5l.94-2.06 2.06-.94-2.06-.94L8.5 2.5l-.94 2.06-2.06.94zm10 10l.94 2.06.94-2.06 2.06-.94-2.06-.94-.94-2.06-.94 2.06-2.06.94z\"/><path d=\"M17.41 7.96l-1.37-1.37c-.4-.4-.92-.59-1.43-.59-.52 0-1.04.2-1.43.59L10.3 9.45l-7.72 7.72c-.78.78-.78 2.05 0 2.83L4 21.41c.39.39.9.59 1.41.59.51 0 1.02-.2 1.41-.59l7.78-7.78 2.81-2.81c.8-.78.8-2.07 0-2.86zM5.41 20L4 18.59l7.72-7.72 1.47 1.35L5.41 20z\"/>\n",
              "  </svg>\n",
              "      </button>\n",
              "      \n",
              "  <style>\n",
              "    .colab-df-container {\n",
              "      display:flex;\n",
              "      flex-wrap:wrap;\n",
              "      gap: 12px;\n",
              "    }\n",
              "\n",
              "    .colab-df-convert {\n",
              "      background-color: #E8F0FE;\n",
              "      border: none;\n",
              "      border-radius: 50%;\n",
              "      cursor: pointer;\n",
              "      display: none;\n",
              "      fill: #1967D2;\n",
              "      height: 32px;\n",
              "      padding: 0 0 0 0;\n",
              "      width: 32px;\n",
              "    }\n",
              "\n",
              "    .colab-df-convert:hover {\n",
              "      background-color: #E2EBFA;\n",
              "      box-shadow: 0px 1px 2px rgba(60, 64, 67, 0.3), 0px 1px 3px 1px rgba(60, 64, 67, 0.15);\n",
              "      fill: #174EA6;\n",
              "    }\n",
              "\n",
              "    [theme=dark] .colab-df-convert {\n",
              "      background-color: #3B4455;\n",
              "      fill: #D2E3FC;\n",
              "    }\n",
              "\n",
              "    [theme=dark] .colab-df-convert:hover {\n",
              "      background-color: #434B5C;\n",
              "      box-shadow: 0px 1px 3px 1px rgba(0, 0, 0, 0.15);\n",
              "      filter: drop-shadow(0px 1px 2px rgba(0, 0, 0, 0.3));\n",
              "      fill: #FFFFFF;\n",
              "    }\n",
              "  </style>\n",
              "\n",
              "      <script>\n",
              "        const buttonEl =\n",
              "          document.querySelector('#df-40d7a57b-40e1-4808-ac58-4271ea799f7f button.colab-df-convert');\n",
              "        buttonEl.style.display =\n",
              "          google.colab.kernel.accessAllowed ? 'block' : 'none';\n",
              "\n",
              "        async function convertToInteractive(key) {\n",
              "          const element = document.querySelector('#df-40d7a57b-40e1-4808-ac58-4271ea799f7f');\n",
              "          const dataTable =\n",
              "            await google.colab.kernel.invokeFunction('convertToInteractive',\n",
              "                                                     [key], {});\n",
              "          if (!dataTable) return;\n",
              "\n",
              "          const docLinkHtml = 'Like what you see? Visit the ' +\n",
              "            '<a target=\"_blank\" href=https://colab.research.google.com/notebooks/data_table.ipynb>data table notebook</a>'\n",
              "            + ' to learn more about interactive tables.';\n",
              "          element.innerHTML = '';\n",
              "          dataTable['output_type'] = 'display_data';\n",
              "          await google.colab.output.renderOutput(dataTable, element);\n",
              "          const docLink = document.createElement('div');\n",
              "          docLink.innerHTML = docLinkHtml;\n",
              "          element.appendChild(docLink);\n",
              "        }\n",
              "      </script>\n",
              "    </div>\n",
              "  </div>\n",
              "  "
            ]
          },
          "metadata": {},
          "execution_count": 136
        }
      ]
    },
    {
      "cell_type": "code",
      "source": [
        "# data.plot(kind='box', subplots = True, layout(3,5), sharex = False, sharey=False)\n",
        "# plt.gcf().set_size_inches(20,20)\n",
        "# plt.show()"
      ],
      "metadata": {
        "id": "QALhlqVLnEhK"
      },
      "id": "QALhlqVLnEhK",
      "execution_count": 137,
      "outputs": []
    },
    {
      "cell_type": "code",
      "execution_count": 138,
      "id": "02af70a7-41f8-461e-b16f-40f6c311634e",
      "metadata": {
        "id": "02af70a7-41f8-461e-b16f-40f6c311634e"
      },
      "outputs": [],
      "source": [
        "# data['longitude'].plot(kind='box', subplots = True, layout(3,5), sharex = False, sharey=False);"
      ]
    },
    {
      "cell_type": "code",
      "source": [
        "data['longitude'].plot(kind='box');"
      ],
      "metadata": {
        "colab": {
          "base_uri": "https://localhost:8080/",
          "height": 265
        },
        "id": "VGUJi27qqFHt",
        "outputId": "4af2e35f-7d78-4505-fca9-6fffe8e450cf"
      },
      "id": "VGUJi27qqFHt",
      "execution_count": 139,
      "outputs": [
        {
          "output_type": "display_data",
          "data": {
            "text/plain": [
              "<Figure size 432x288 with 1 Axes>"
            ],
            "image/png": "[encoded data removed]"
          },
          "metadata": {
            "needs_background": "light"
          }
        }
      ]
    },
    {
      "cell_type": "code",
      "source": [
        "data['review_count'].plot(kind='box');"
      ],
      "metadata": {
        "colab": {
          "base_uri": "https://localhost:8080/",
          "height": 266
        },
        "id": "GZx6xcXu6kuj",
        "outputId": "3e03ae57-06b3-4631-9749-453a55d0f566"
      },
      "id": "GZx6xcXu6kuj",
      "execution_count": 140,
      "outputs": [
        {
          "output_type": "display_data",
          "data": {
            "text/plain": [
              "<Figure size 432x288 with 1 Axes>"
            ],
            "image/png": "[encoded data removed]"
          },
          "metadata": {
            "needs_background": "light"
          }
        }
      ]
    },
    {
      "cell_type": "code",
      "source": [
        "data['stars'].plot(kind='box');"
      ],
      "metadata": {
        "colab": {
          "base_uri": "https://localhost:8080/",
          "height": 265
        },
        "id": "RYjwEOkM6rW1",
        "outputId": "b594efeb-3d6f-4405-e4e7-50132ec4c37f"
      },
      "id": "RYjwEOkM6rW1",
      "execution_count": 141,
      "outputs": [
        {
          "output_type": "display_data",
          "data": {
            "text/plain": [
              "<Figure size 432x288 with 1 Axes>"
            ],
            "image/png": "[encoded data removed]"
          },
          "metadata": {
            "needs_background": "light"
          }
        }
      ]
    },
    {
      "cell_type": "code",
      "source": [
        "data['latitude'].plot(kind='box');"
      ],
      "metadata": {
        "colab": {
          "base_uri": "https://localhost:8080/",
          "height": 265
        },
        "id": "gmlwLr3Y-ums",
        "outputId": "a9865385-ed60-4c01-a0cd-b587e367932a"
      },
      "id": "gmlwLr3Y-ums",
      "execution_count": 142,
      "outputs": [
        {
          "output_type": "display_data",
          "data": {
            "text/plain": [
              "<Figure size 432x288 with 1 Axes>"
            ],
            "image/png": "[encoded data removed]"
          },
          "metadata": {
            "needs_background": "light"
          }
        }
      ]
    },
    {
      "cell_type": "markdown",
      "source": [
        ""
      ],
      "metadata": {
        "id": "J4u4hb1Q_1wi"
      },
      "id": "J4u4hb1Q_1wi"
    },
    {
      "cell_type": "code",
      "source": [
        ""
      ],
      "metadata": {
        "id": "xK7wCfuS-1tQ"
      },
      "id": "xK7wCfuS-1tQ",
      "execution_count": 142,
      "outputs": []
    },
    {
      "cell_type": "markdown",
      "source": [
        "## **Dataframe Construction**"
      ],
      "metadata": {
        "id": "VYaHedq-_30u"
      },
      "id": "VYaHedq-_30u"
    },
    {
      "cell_type": "code",
      "source": [
        "from string import ascii_letters, digits\n",
        "import numpy as np\n",
        "import datetime\n"
      ],
      "metadata": {
        "id": "S1A0A083_KCp"
      },
      "id": "S1A0A083_KCp",
      "execution_count": 143,
      "outputs": []
    },
    {
      "cell_type": "code",
      "source": [
        "datetime.datetime.now().date()"
      ],
      "metadata": {
        "colab": {
          "base_uri": "https://localhost:8080/"
        },
        "id": "ZWpYMP7-COop",
        "outputId": "647b1cb1-85e7-4492-b822-ea8bcd497034"
      },
      "id": "ZWpYMP7-COop",
      "execution_count": 144,
      "outputs": [
        {
          "output_type": "execute_result",
          "data": {
            "text/plain": [
              "datetime.date(2022, 8, 3)"
            ]
          },
          "metadata": {},
          "execution_count": 144
        }
      ]
    },
    {
      "cell_type": "code",
      "source": [
        "#usernames = ['Manchester', 'Madrid', 'Napoli', 'Paris']\n",
        "#passwords = [ ''. join(np.random.choice(list(ascii_letters + digits), 8))for x in range(len(usernames))]\n",
        "#creation_date = [datetime.datetime.now().date()-datetime.timedelta(int(x)) for x in np.random.randint(0, 1500, 3)]"
      ],
      "metadata": {
        "id": "iBwkQSRf_SjN"
      },
      "id": "iBwkQSRf_SjN",
      "execution_count": 145,
      "outputs": []
    },
    {
      "cell_type": "code",
      "source": [
        "usernames = ['Manchester', 'Madrid', 'Napoli']\n",
        "passwords = [ ''. join(np.random.choice(list(ascii_letters + digits), 8))for x in range(len(usernames))]\n",
        "creation_date = [datetime.datetime.now().date()-datetime.timedelta(int(x)) for x in np.random.randint(0, 1500, 3)]"
      ],
      "metadata": {
        "id": "PzmIERdFI05a"
      },
      "id": "PzmIERdFI05a",
      "execution_count": 146,
      "outputs": []
    },
    {
      "cell_type": "code",
      "source": [
        "passwords"
      ],
      "metadata": {
        "colab": {
          "base_uri": "https://localhost:8080/"
        },
        "id": "WHAH9La2Bmp5",
        "outputId": "7295015e-7f2d-4bdb-b35f-7dd6c92e688b"
      },
      "id": "WHAH9La2Bmp5",
      "execution_count": 147,
      "outputs": [
        {
          "output_type": "execute_result",
          "data": {
            "text/plain": [
              "['YSFyuby4', 'ZDblJjeE', 'nSRShxLx']"
            ]
          },
          "metadata": {},
          "execution_count": 147
        }
      ]
    },
    {
      "cell_type": "code",
      "source": [
        "creation_date"
      ],
      "metadata": {
        "colab": {
          "base_uri": "https://localhost:8080/"
        },
        "id": "DlkKppxQBuaG",
        "outputId": "da0e4ea3-6d86-4ba8-e95b-0757c8a185d7"
      },
      "id": "DlkKppxQBuaG",
      "execution_count": 148,
      "outputs": [
        {
          "output_type": "execute_result",
          "data": {
            "text/plain": [
              "[datetime.date(2018, 8, 19),\n",
              " datetime.date(2021, 1, 19),\n",
              " datetime.date(2020, 4, 15)]"
            ]
          },
          "metadata": {},
          "execution_count": 148
        }
      ]
    },
    {
      "cell_type": "code",
      "source": [
        "#create a dataFrame\n",
        "\n",
        "df =pd.DataFrame ({'username': usernames,\n",
        "       'password': passwords,\n",
        "       'date_created': pd.to_datetime(creation_date)\n",
        "    \n",
        "})"
      ],
      "metadata": {
        "id": "kt7MkD6eDnxb"
      },
      "id": "kt7MkD6eDnxb",
      "execution_count": 149,
      "outputs": []
    },
    {
      "cell_type": "code",
      "source": [
        "df"
      ],
      "metadata": {
        "colab": {
          "base_uri": "https://localhost:8080/",
          "height": 143
        },
        "id": "wjeY7ONkHMDc",
        "outputId": "a2740fd0-ec64-4c31-ea87-3eb9d9564484"
      },
      "id": "wjeY7ONkHMDc",
      "execution_count": 150,
      "outputs": [
        {
          "output_type": "execute_result",
          "data": {
            "text/plain": [
              "     username  password date_created\n",
              "0  Manchester  YSFyuby4   2018-08-19\n",
              "1      Madrid  ZDblJjeE   2021-01-19\n",
              "2      Napoli  nSRShxLx   2020-04-15"
            ],
            "text/html": [
              "\n",
              "  <div id=\"df-0dc885aa-c6fc-436f-b76e-068b018282fe\">\n",
              "    <div class=\"colab-df-container\">\n",
              "      <div>\n",
              "<style scoped>\n",
              "    .dataframe tbody tr th:only-of-type {\n",
              "        vertical-align: middle;\n",
              "    }\n",
              "\n",
              "    .dataframe tbody tr th {\n",
              "        vertical-align: top;\n",
              "    }\n",
              "\n",
              "    .dataframe thead th {\n",
              "        text-align: right;\n",
              "    }\n",
              "</style>\n",
              "<table border=\"1\" class=\"dataframe\">\n",
              "  <thead>\n",
              "    <tr style=\"text-align: right;\">\n",
              "      <th></th>\n",
              "      <th>username</th>\n",
              "      <th>password</th>\n",
              "      <th>date_created</th>\n",
              "    </tr>\n",
              "  </thead>\n",
              "  <tbody>\n",
              "    <tr>\n",
              "      <th>0</th>\n",
              "      <td>Manchester</td>\n",
              "      <td>YSFyuby4</td>\n",
              "      <td>2018-08-19</td>\n",
              "    </tr>\n",
              "    <tr>\n",
              "      <th>1</th>\n",
              "      <td>Madrid</td>\n",
              "      <td>ZDblJjeE</td>\n",
              "      <td>2021-01-19</td>\n",
              "    </tr>\n",
              "    <tr>\n",
              "      <th>2</th>\n",
              "      <td>Napoli</td>\n",
              "      <td>nSRShxLx</td>\n",
              "      <td>2020-04-15</td>\n",
              "    </tr>\n",
              "  </tbody>\n",
              "</table>\n",
              "</div>\n",
              "      <button class=\"colab-df-convert\" onclick=\"convertToInteractive('df-0dc885aa-c6fc-436f-b76e-068b018282fe')\"\n",
              "              title=\"Convert this dataframe to an interactive table.\"\n",
              "              style=\"display:none;\">\n",
              "        \n",
              "  <svg xmlns=\"http://www.w3.org/2000/svg\" height=\"24px\"viewBox=\"0 0 24 24\"\n",
              "       width=\"24px\">\n",
              "    <path d=\"M0 0h24v24H0V0z\" fill=\"none\"/>\n",
              "    <path d=\"M18.56 5.44l.94 2.06.94-2.06 2.06-.94-2.06-.94-.94-2.06-.94 2.06-2.06.94zm-11 1L8.5 8.5l.94-2.06 2.06-.94-2.06-.94L8.5 2.5l-.94 2.06-2.06.94zm10 10l.94 2.06.94-2.06 2.06-.94-2.06-.94-.94-2.06-.94 2.06-2.06.94z\"/><path d=\"M17.41 7.96l-1.37-1.37c-.4-.4-.92-.59-1.43-.59-.52 0-1.04.2-1.43.59L10.3 9.45l-7.72 7.72c-.78.78-.78 2.05 0 2.83L4 21.41c.39.39.9.59 1.41.59.51 0 1.02-.2 1.41-.59l7.78-7.78 2.81-2.81c.8-.78.8-2.07 0-2.86zM5.41 20L4 18.59l7.72-7.72 1.47 1.35L5.41 20z\"/>\n",
              "  </svg>\n",
              "      </button>\n",
              "      \n",
              "  <style>\n",
              "    .colab-df-container {\n",
              "      display:flex;\n",
              "      flex-wrap:wrap;\n",
              "      gap: 12px;\n",
              "    }\n",
              "\n",
              "    .colab-df-convert {\n",
              "      background-color: #E8F0FE;\n",
              "      border: none;\n",
              "      border-radius: 50%;\n",
              "      cursor: pointer;\n",
              "      display: none;\n",
              "      fill: #1967D2;\n",
              "      height: 32px;\n",
              "      padding: 0 0 0 0;\n",
              "      width: 32px;\n",
              "    }\n",
              "\n",
              "    .colab-df-convert:hover {\n",
              "      background-color: #E2EBFA;\n",
              "      box-shadow: 0px 1px 2px rgba(60, 64, 67, 0.3), 0px 1px 3px 1px rgba(60, 64, 67, 0.15);\n",
              "      fill: #174EA6;\n",
              "    }\n",
              "\n",
              "    [theme=dark] .colab-df-convert {\n",
              "      background-color: #3B4455;\n",
              "      fill: #D2E3FC;\n",
              "    }\n",
              "\n",
              "    [theme=dark] .colab-df-convert:hover {\n",
              "      background-color: #434B5C;\n",
              "      box-shadow: 0px 1px 3px 1px rgba(0, 0, 0, 0.15);\n",
              "      filter: drop-shadow(0px 1px 2px rgba(0, 0, 0, 0.3));\n",
              "      fill: #FFFFFF;\n",
              "    }\n",
              "  </style>\n",
              "\n",
              "      <script>\n",
              "        const buttonEl =\n",
              "          document.querySelector('#df-0dc885aa-c6fc-436f-b76e-068b018282fe button.colab-df-convert');\n",
              "        buttonEl.style.display =\n",
              "          google.colab.kernel.accessAllowed ? 'block' : 'none';\n",
              "\n",
              "        async function convertToInteractive(key) {\n",
              "          const element = document.querySelector('#df-0dc885aa-c6fc-436f-b76e-068b018282fe');\n",
              "          const dataTable =\n",
              "            await google.colab.kernel.invokeFunction('convertToInteractive',\n",
              "                                                     [key], {});\n",
              "          if (!dataTable) return;\n",
              "\n",
              "          const docLinkHtml = 'Like what you see? Visit the ' +\n",
              "            '<a target=\"_blank\" href=https://colab.research.google.com/notebooks/data_table.ipynb>data table notebook</a>'\n",
              "            + ' to learn more about interactive tables.';\n",
              "          element.innerHTML = '';\n",
              "          dataTable['output_type'] = 'display_data';\n",
              "          await google.colab.output.renderOutput(dataTable, element);\n",
              "          const docLink = document.createElement('div');\n",
              "          docLink.innerHTML = docLinkHtml;\n",
              "          element.appendChild(docLink);\n",
              "        }\n",
              "      </script>\n",
              "    </div>\n",
              "  </div>\n",
              "  "
            ]
          },
          "metadata": {},
          "execution_count": 150
        }
      ]
    },
    {
      "cell_type": "code",
      "source": [
        "df.dtypes"
      ],
      "metadata": {
        "colab": {
          "base_uri": "https://localhost:8080/"
        },
        "id": "1MZhqQozHpKK",
        "outputId": "6f8cda1d-05de-4800-9dc6-fc48bbbe41f0"
      },
      "id": "1MZhqQozHpKK",
      "execution_count": 151,
      "outputs": [
        {
          "output_type": "execute_result",
          "data": {
            "text/plain": [
              "username                object\n",
              "password                object\n",
              "date_created    datetime64[ns]\n",
              "dtype: object"
            ]
          },
          "metadata": {},
          "execution_count": 151
        }
      ]
    },
    {
      "cell_type": "code",
      "source": [
        "# create a column contaning an email\n",
        "website = ['www.manchester.com', 'www,madrid.com', 'www.napoli.com']\n",
        "\n",
        "\n",
        "df['website']=website\n",
        "df"
      ],
      "metadata": {
        "colab": {
          "base_uri": "https://localhost:8080/",
          "height": 143
        },
        "id": "tMirgWFFJW_0",
        "outputId": "cbe91051-4897-4ca1-9532-6c4b55f487ee"
      },
      "id": "tMirgWFFJW_0",
      "execution_count": 152,
      "outputs": [
        {
          "output_type": "execute_result",
          "data": {
            "text/plain": [
              "     username  password date_created             website\n",
              "0  Manchester  YSFyuby4   2018-08-19  www.manchester.com\n",
              "1      Madrid  ZDblJjeE   2021-01-19      www,madrid.com\n",
              "2      Napoli  nSRShxLx   2020-04-15      www.napoli.com"
            ],
            "text/html": [
              "\n",
              "  <div id=\"df-021a90d3-bb07-4202-be99-3616a4f4fca4\">\n",
              "    <div class=\"colab-df-container\">\n",
              "      <div>\n",
              "<style scoped>\n",
              "    .dataframe tbody tr th:only-of-type {\n",
              "        vertical-align: middle;\n",
              "    }\n",
              "\n",
              "    .dataframe tbody tr th {\n",
              "        vertical-align: top;\n",
              "    }\n",
              "\n",
              "    .dataframe thead th {\n",
              "        text-align: right;\n",
              "    }\n",
              "</style>\n",
              "<table border=\"1\" class=\"dataframe\">\n",
              "  <thead>\n",
              "    <tr style=\"text-align: right;\">\n",
              "      <th></th>\n",
              "      <th>username</th>\n",
              "      <th>password</th>\n",
              "      <th>date_created</th>\n",
              "      <th>website</th>\n",
              "    </tr>\n",
              "  </thead>\n",
              "  <tbody>\n",
              "    <tr>\n",
              "      <th>0</th>\n",
              "      <td>Manchester</td>\n",
              "      <td>YSFyuby4</td>\n",
              "      <td>2018-08-19</td>\n",
              "      <td>www.manchester.com</td>\n",
              "    </tr>\n",
              "    <tr>\n",
              "      <th>1</th>\n",
              "      <td>Madrid</td>\n",
              "      <td>ZDblJjeE</td>\n",
              "      <td>2021-01-19</td>\n",
              "      <td>www,madrid.com</td>\n",
              "    </tr>\n",
              "    <tr>\n",
              "      <th>2</th>\n",
              "      <td>Napoli</td>\n",
              "      <td>nSRShxLx</td>\n",
              "      <td>2020-04-15</td>\n",
              "      <td>www.napoli.com</td>\n",
              "    </tr>\n",
              "  </tbody>\n",
              "</table>\n",
              "</div>\n",
              "      <button class=\"colab-df-convert\" onclick=\"convertToInteractive('df-021a90d3-bb07-4202-be99-3616a4f4fca4')\"\n",
              "              title=\"Convert this dataframe to an interactive table.\"\n",
              "              style=\"display:none;\">\n",
              "        \n",
              "  <svg xmlns=\"http://www.w3.org/2000/svg\" height=\"24px\"viewBox=\"0 0 24 24\"\n",
              "       width=\"24px\">\n",
              "    <path d=\"M0 0h24v24H0V0z\" fill=\"none\"/>\n",
              "    <path d=\"M18.56 5.44l.94 2.06.94-2.06 2.06-.94-2.06-.94-.94-2.06-.94 2.06-2.06.94zm-11 1L8.5 8.5l.94-2.06 2.06-.94-2.06-.94L8.5 2.5l-.94 2.06-2.06.94zm10 10l.94 2.06.94-2.06 2.06-.94-2.06-.94-.94-2.06-.94 2.06-2.06.94z\"/><path d=\"M17.41 7.96l-1.37-1.37c-.4-.4-.92-.59-1.43-.59-.52 0-1.04.2-1.43.59L10.3 9.45l-7.72 7.72c-.78.78-.78 2.05 0 2.83L4 21.41c.39.39.9.59 1.41.59.51 0 1.02-.2 1.41-.59l7.78-7.78 2.81-2.81c.8-.78.8-2.07 0-2.86zM5.41 20L4 18.59l7.72-7.72 1.47 1.35L5.41 20z\"/>\n",
              "  </svg>\n",
              "      </button>\n",
              "      \n",
              "  <style>\n",
              "    .colab-df-container {\n",
              "      display:flex;\n",
              "      flex-wrap:wrap;\n",
              "      gap: 12px;\n",
              "    }\n",
              "\n",
              "    .colab-df-convert {\n",
              "      background-color: #E8F0FE;\n",
              "      border: none;\n",
              "      border-radius: 50%;\n",
              "      cursor: pointer;\n",
              "      display: none;\n",
              "      fill: #1967D2;\n",
              "      height: 32px;\n",
              "      padding: 0 0 0 0;\n",
              "      width: 32px;\n",
              "    }\n",
              "\n",
              "    .colab-df-convert:hover {\n",
              "      background-color: #E2EBFA;\n",
              "      box-shadow: 0px 1px 2px rgba(60, 64, 67, 0.3), 0px 1px 3px 1px rgba(60, 64, 67, 0.15);\n",
              "      fill: #174EA6;\n",
              "    }\n",
              "\n",
              "    [theme=dark] .colab-df-convert {\n",
              "      background-color: #3B4455;\n",
              "      fill: #D2E3FC;\n",
              "    }\n",
              "\n",
              "    [theme=dark] .colab-df-convert:hover {\n",
              "      background-color: #434B5C;\n",
              "      box-shadow: 0px 1px 3px 1px rgba(0, 0, 0, 0.15);\n",
              "      filter: drop-shadow(0px 1px 2px rgba(0, 0, 0, 0.3));\n",
              "      fill: #FFFFFF;\n",
              "    }\n",
              "  </style>\n",
              "\n",
              "      <script>\n",
              "        const buttonEl =\n",
              "          document.querySelector('#df-021a90d3-bb07-4202-be99-3616a4f4fca4 button.colab-df-convert');\n",
              "        buttonEl.style.display =\n",
              "          google.colab.kernel.accessAllowed ? 'block' : 'none';\n",
              "\n",
              "        async function convertToInteractive(key) {\n",
              "          const element = document.querySelector('#df-021a90d3-bb07-4202-be99-3616a4f4fca4');\n",
              "          const dataTable =\n",
              "            await google.colab.kernel.invokeFunction('convertToInteractive',\n",
              "                                                     [key], {});\n",
              "          if (!dataTable) return;\n",
              "\n",
              "          const docLinkHtml = 'Like what you see? Visit the ' +\n",
              "            '<a target=\"_blank\" href=https://colab.research.google.com/notebooks/data_table.ipynb>data table notebook</a>'\n",
              "            + ' to learn more about interactive tables.';\n",
              "          element.innerHTML = '';\n",
              "          dataTable['output_type'] = 'display_data';\n",
              "          await google.colab.output.renderOutput(dataTable, element);\n",
              "          const docLink = document.createElement('div');\n",
              "          docLink.innerHTML = docLinkHtml;\n",
              "          element.appendChild(docLink);\n",
              "        }\n",
              "      </script>\n",
              "    </div>\n",
              "  </div>\n",
              "  "
            ]
          },
          "metadata": {},
          "execution_count": 152
        }
      ]
    },
    {
      "cell_type": "code",
      "source": [
        "df['players']=['ronaldo', 'zidane', 'osimhen']\n",
        "df"
      ],
      "metadata": {
        "colab": {
          "base_uri": "https://localhost:8080/",
          "height": 143
        },
        "id": "16WEE3P5x41u",
        "outputId": "edb68e89-c746-4594-9f43-9adf125e8322"
      },
      "id": "16WEE3P5x41u",
      "execution_count": 153,
      "outputs": [
        {
          "output_type": "execute_result",
          "data": {
            "text/plain": [
              "     username  password date_created             website  players\n",
              "0  Manchester  YSFyuby4   2018-08-19  www.manchester.com  ronaldo\n",
              "1      Madrid  ZDblJjeE   2021-01-19      www,madrid.com   zidane\n",
              "2      Napoli  nSRShxLx   2020-04-15      www.napoli.com  osimhen"
            ],
            "text/html": [
              "\n",
              "  <div id=\"df-44c32451-d25e-4509-8d78-fbc0162c0d05\">\n",
              "    <div class=\"colab-df-container\">\n",
              "      <div>\n",
              "<style scoped>\n",
              "    .dataframe tbody tr th:only-of-type {\n",
              "        vertical-align: middle;\n",
              "    }\n",
              "\n",
              "    .dataframe tbody tr th {\n",
              "        vertical-align: top;\n",
              "    }\n",
              "\n",
              "    .dataframe thead th {\n",
              "        text-align: right;\n",
              "    }\n",
              "</style>\n",
              "<table border=\"1\" class=\"dataframe\">\n",
              "  <thead>\n",
              "    <tr style=\"text-align: right;\">\n",
              "      <th></th>\n",
              "      <th>username</th>\n",
              "      <th>password</th>\n",
              "      <th>date_created</th>\n",
              "      <th>website</th>\n",
              "      <th>players</th>\n",
              "    </tr>\n",
              "  </thead>\n",
              "  <tbody>\n",
              "    <tr>\n",
              "      <th>0</th>\n",
              "      <td>Manchester</td>\n",
              "      <td>YSFyuby4</td>\n",
              "      <td>2018-08-19</td>\n",
              "      <td>www.manchester.com</td>\n",
              "      <td>ronaldo</td>\n",
              "    </tr>\n",
              "    <tr>\n",
              "      <th>1</th>\n",
              "      <td>Madrid</td>\n",
              "      <td>ZDblJjeE</td>\n",
              "      <td>2021-01-19</td>\n",
              "      <td>www,madrid.com</td>\n",
              "      <td>zidane</td>\n",
              "    </tr>\n",
              "    <tr>\n",
              "      <th>2</th>\n",
              "      <td>Napoli</td>\n",
              "      <td>nSRShxLx</td>\n",
              "      <td>2020-04-15</td>\n",
              "      <td>www.napoli.com</td>\n",
              "      <td>osimhen</td>\n",
              "    </tr>\n",
              "  </tbody>\n",
              "</table>\n",
              "</div>\n",
              "      <button class=\"colab-df-convert\" onclick=\"convertToInteractive('df-44c32451-d25e-4509-8d78-fbc0162c0d05')\"\n",
              "              title=\"Convert this dataframe to an interactive table.\"\n",
              "              style=\"display:none;\">\n",
              "        \n",
              "  <svg xmlns=\"http://www.w3.org/2000/svg\" height=\"24px\"viewBox=\"0 0 24 24\"\n",
              "       width=\"24px\">\n",
              "    <path d=\"M0 0h24v24H0V0z\" fill=\"none\"/>\n",
              "    <path d=\"M18.56 5.44l.94 2.06.94-2.06 2.06-.94-2.06-.94-.94-2.06-.94 2.06-2.06.94zm-11 1L8.5 8.5l.94-2.06 2.06-.94-2.06-.94L8.5 2.5l-.94 2.06-2.06.94zm10 10l.94 2.06.94-2.06 2.06-.94-2.06-.94-.94-2.06-.94 2.06-2.06.94z\"/><path d=\"M17.41 7.96l-1.37-1.37c-.4-.4-.92-.59-1.43-.59-.52 0-1.04.2-1.43.59L10.3 9.45l-7.72 7.72c-.78.78-.78 2.05 0 2.83L4 21.41c.39.39.9.59 1.41.59.51 0 1.02-.2 1.41-.59l7.78-7.78 2.81-2.81c.8-.78.8-2.07 0-2.86zM5.41 20L4 18.59l7.72-7.72 1.47 1.35L5.41 20z\"/>\n",
              "  </svg>\n",
              "      </button>\n",
              "      \n",
              "  <style>\n",
              "    .colab-df-container {\n",
              "      display:flex;\n",
              "      flex-wrap:wrap;\n",
              "      gap: 12px;\n",
              "    }\n",
              "\n",
              "    .colab-df-convert {\n",
              "      background-color: #E8F0FE;\n",
              "      border: none;\n",
              "      border-radius: 50%;\n",
              "      cursor: pointer;\n",
              "      display: none;\n",
              "      fill: #1967D2;\n",
              "      height: 32px;\n",
              "      padding: 0 0 0 0;\n",
              "      width: 32px;\n",
              "    }\n",
              "\n",
              "    .colab-df-convert:hover {\n",
              "      background-color: #E2EBFA;\n",
              "      box-shadow: 0px 1px 2px rgba(60, 64, 67, 0.3), 0px 1px 3px 1px rgba(60, 64, 67, 0.15);\n",
              "      fill: #174EA6;\n",
              "    }\n",
              "\n",
              "    [theme=dark] .colab-df-convert {\n",
              "      background-color: #3B4455;\n",
              "      fill: #D2E3FC;\n",
              "    }\n",
              "\n",
              "    [theme=dark] .colab-df-convert:hover {\n",
              "      background-color: #434B5C;\n",
              "      box-shadow: 0px 1px 3px 1px rgba(0, 0, 0, 0.15);\n",
              "      filter: drop-shadow(0px 1px 2px rgba(0, 0, 0, 0.3));\n",
              "      fill: #FFFFFF;\n",
              "    }\n",
              "  </style>\n",
              "\n",
              "      <script>\n",
              "        const buttonEl =\n",
              "          document.querySelector('#df-44c32451-d25e-4509-8d78-fbc0162c0d05 button.colab-df-convert');\n",
              "        buttonEl.style.display =\n",
              "          google.colab.kernel.accessAllowed ? 'block' : 'none';\n",
              "\n",
              "        async function convertToInteractive(key) {\n",
              "          const element = document.querySelector('#df-44c32451-d25e-4509-8d78-fbc0162c0d05');\n",
              "          const dataTable =\n",
              "            await google.colab.kernel.invokeFunction('convertToInteractive',\n",
              "                                                     [key], {});\n",
              "          if (!dataTable) return;\n",
              "\n",
              "          const docLinkHtml = 'Like what you see? Visit the ' +\n",
              "            '<a target=\"_blank\" href=https://colab.research.google.com/notebooks/data_table.ipynb>data table notebook</a>'\n",
              "            + ' to learn more about interactive tables.';\n",
              "          element.innerHTML = '';\n",
              "          dataTable['output_type'] = 'display_data';\n",
              "          await google.colab.output.renderOutput(dataTable, element);\n",
              "          const docLink = document.createElement('div');\n",
              "          docLink.innerHTML = docLinkHtml;\n",
              "          element.appendChild(docLink);\n",
              "        }\n",
              "      </script>\n",
              "    </div>\n",
              "  </div>\n",
              "  "
            ]
          },
          "metadata": {},
          "execution_count": 153
        }
      ]
    },
    {
      "cell_type": "code",
      "source": [
        "#df = df.assign(column_new_1=np.nan, column_new_2='dogs', column_new_3=3)\n",
        "#df['column_new_1'], df['column_new_2'], df['column_new_3'] = [np.nan, 'dogs', 3]\n",
        "\n",
        "\n"
      ],
      "metadata": {
        "id": "Uj9CV2VmyTiV"
      },
      "id": "Uj9CV2VmyTiV",
      "execution_count": 154,
      "outputs": []
    },
    {
      "cell_type": "code",
      "source": [
        "#adding multiple columns to a dataframe\n",
        "df['Sponsor'], df['country'], df['age'] = (['Addidas', 'Umbro', 'puma'], ['portugal', 'france', 'Nigeria'], [37, 45, 24])\n",
        "df\n"
      ],
      "metadata": {
        "colab": {
          "base_uri": "https://localhost:8080/",
          "height": 143
        },
        "id": "E4UMbAb_0k56",
        "outputId": "58cf2956-69fe-4202-9eb2-7938aa59bc2a"
      },
      "id": "E4UMbAb_0k56",
      "execution_count": 155,
      "outputs": [
        {
          "output_type": "execute_result",
          "data": {
            "text/plain": [
              "     username  password date_created             website  players  Sponsor  \\\n",
              "0  Manchester  YSFyuby4   2018-08-19  www.manchester.com  ronaldo  Addidas   \n",
              "1      Madrid  ZDblJjeE   2021-01-19      www,madrid.com   zidane    Umbro   \n",
              "2      Napoli  nSRShxLx   2020-04-15      www.napoli.com  osimhen     puma   \n",
              "\n",
              "    country  age  \n",
              "0  portugal   37  \n",
              "1    france   45  \n",
              "2   Nigeria   24  "
            ],
            "text/html": [
              "\n",
              "  <div id=\"df-81d16be5-b6fe-4da5-ac1f-625b34fc69f7\">\n",
              "    <div class=\"colab-df-container\">\n",
              "      <div>\n",
              "<style scoped>\n",
              "    .dataframe tbody tr th:only-of-type {\n",
              "        vertical-align: middle;\n",
              "    }\n",
              "\n",
              "    .dataframe tbody tr th {\n",
              "        vertical-align: top;\n",
              "    }\n",
              "\n",
              "    .dataframe thead th {\n",
              "        text-align: right;\n",
              "    }\n",
              "</style>\n",
              "<table border=\"1\" class=\"dataframe\">\n",
              "  <thead>\n",
              "    <tr style=\"text-align: right;\">\n",
              "      <th></th>\n",
              "      <th>username</th>\n",
              "      <th>password</th>\n",
              "      <th>date_created</th>\n",
              "      <th>website</th>\n",
              "      <th>players</th>\n",
              "      <th>Sponsor</th>\n",
              "      <th>country</th>\n",
              "      <th>age</th>\n",
              "    </tr>\n",
              "  </thead>\n",
              "  <tbody>\n",
              "    <tr>\n",
              "      <th>0</th>\n",
              "      <td>Manchester</td>\n",
              "      <td>YSFyuby4</td>\n",
              "      <td>2018-08-19</td>\n",
              "      <td>www.manchester.com</td>\n",
              "      <td>ronaldo</td>\n",
              "      <td>Addidas</td>\n",
              "      <td>portugal</td>\n",
              "      <td>37</td>\n",
              "    </tr>\n",
              "    <tr>\n",
              "      <th>1</th>\n",
              "      <td>Madrid</td>\n",
              "      <td>ZDblJjeE</td>\n",
              "      <td>2021-01-19</td>\n",
              "      <td>www,madrid.com</td>\n",
              "      <td>zidane</td>\n",
              "      <td>Umbro</td>\n",
              "      <td>france</td>\n",
              "      <td>45</td>\n",
              "    </tr>\n",
              "    <tr>\n",
              "      <th>2</th>\n",
              "      <td>Napoli</td>\n",
              "      <td>nSRShxLx</td>\n",
              "      <td>2020-04-15</td>\n",
              "      <td>www.napoli.com</td>\n",
              "      <td>osimhen</td>\n",
              "      <td>puma</td>\n",
              "      <td>Nigeria</td>\n",
              "      <td>24</td>\n",
              "    </tr>\n",
              "  </tbody>\n",
              "</table>\n",
              "</div>\n",
              "      <button class=\"colab-df-convert\" onclick=\"convertToInteractive('df-81d16be5-b6fe-4da5-ac1f-625b34fc69f7')\"\n",
              "              title=\"Convert this dataframe to an interactive table.\"\n",
              "              style=\"display:none;\">\n",
              "        \n",
              "  <svg xmlns=\"http://www.w3.org/2000/svg\" height=\"24px\"viewBox=\"0 0 24 24\"\n",
              "       width=\"24px\">\n",
              "    <path d=\"M0 0h24v24H0V0z\" fill=\"none\"/>\n",
              "    <path d=\"M18.56 5.44l.94 2.06.94-2.06 2.06-.94-2.06-.94-.94-2.06-.94 2.06-2.06.94zm-11 1L8.5 8.5l.94-2.06 2.06-.94-2.06-.94L8.5 2.5l-.94 2.06-2.06.94zm10 10l.94 2.06.94-2.06 2.06-.94-2.06-.94-.94-2.06-.94 2.06-2.06.94z\"/><path d=\"M17.41 7.96l-1.37-1.37c-.4-.4-.92-.59-1.43-.59-.52 0-1.04.2-1.43.59L10.3 9.45l-7.72 7.72c-.78.78-.78 2.05 0 2.83L4 21.41c.39.39.9.59 1.41.59.51 0 1.02-.2 1.41-.59l7.78-7.78 2.81-2.81c.8-.78.8-2.07 0-2.86zM5.41 20L4 18.59l7.72-7.72 1.47 1.35L5.41 20z\"/>\n",
              "  </svg>\n",
              "      </button>\n",
              "      \n",
              "  <style>\n",
              "    .colab-df-container {\n",
              "      display:flex;\n",
              "      flex-wrap:wrap;\n",
              "      gap: 12px;\n",
              "    }\n",
              "\n",
              "    .colab-df-convert {\n",
              "      background-color: #E8F0FE;\n",
              "      border: none;\n",
              "      border-radius: 50%;\n",
              "      cursor: pointer;\n",
              "      display: none;\n",
              "      fill: #1967D2;\n",
              "      height: 32px;\n",
              "      padding: 0 0 0 0;\n",
              "      width: 32px;\n",
              "    }\n",
              "\n",
              "    .colab-df-convert:hover {\n",
              "      background-color: #E2EBFA;\n",
              "      box-shadow: 0px 1px 2px rgba(60, 64, 67, 0.3), 0px 1px 3px 1px rgba(60, 64, 67, 0.15);\n",
              "      fill: #174EA6;\n",
              "    }\n",
              "\n",
              "    [theme=dark] .colab-df-convert {\n",
              "      background-color: #3B4455;\n",
              "      fill: #D2E3FC;\n",
              "    }\n",
              "\n",
              "    [theme=dark] .colab-df-convert:hover {\n",
              "      background-color: #434B5C;\n",
              "      box-shadow: 0px 1px 3px 1px rgba(0, 0, 0, 0.15);\n",
              "      filter: drop-shadow(0px 1px 2px rgba(0, 0, 0, 0.3));\n",
              "      fill: #FFFFFF;\n",
              "    }\n",
              "  </style>\n",
              "\n",
              "      <script>\n",
              "        const buttonEl =\n",
              "          document.querySelector('#df-81d16be5-b6fe-4da5-ac1f-625b34fc69f7 button.colab-df-convert');\n",
              "        buttonEl.style.display =\n",
              "          google.colab.kernel.accessAllowed ? 'block' : 'none';\n",
              "\n",
              "        async function convertToInteractive(key) {\n",
              "          const element = document.querySelector('#df-81d16be5-b6fe-4da5-ac1f-625b34fc69f7');\n",
              "          const dataTable =\n",
              "            await google.colab.kernel.invokeFunction('convertToInteractive',\n",
              "                                                     [key], {});\n",
              "          if (!dataTable) return;\n",
              "\n",
              "          const docLinkHtml = 'Like what you see? Visit the ' +\n",
              "            '<a target=\"_blank\" href=https://colab.research.google.com/notebooks/data_table.ipynb>data table notebook</a>'\n",
              "            + ' to learn more about interactive tables.';\n",
              "          element.innerHTML = '';\n",
              "          dataTable['output_type'] = 'display_data';\n",
              "          await google.colab.output.renderOutput(dataTable, element);\n",
              "          const docLink = document.createElement('div');\n",
              "          docLink.innerHTML = docLinkHtml;\n",
              "          element.appendChild(docLink);\n",
              "        }\n",
              "      </script>\n",
              "    </div>\n",
              "  </div>\n",
              "  "
            ]
          },
          "metadata": {},
          "execution_count": 155
        }
      ]
    },
    {
      "cell_type": "code",
      "source": [
        "#Q1\n",
        "#new_row = {'name':'Geo', 'physics':87, 'chemistry':92}\n",
        "new_row = {'username': 'Arsenal', 'password': 'ABCdEF67', 'date_created':'2022-07-13', 'website':'www.arsenal.com', 'players':'kanu', 'sponsor':'nike', 'country': 'Nigeria', 'age':40}\n",
        "\n"
      ],
      "metadata": {
        "id": "07E8Lx_82PEh"
      },
      "id": "07E8Lx_82PEh",
      "execution_count": 156,
      "outputs": []
    },
    {
      "cell_type": "code",
      "source": [
        "df = df.append(new_row, ignore_index=True)\n",
        "df\n",
        "#why is the sponsor column duplicated and the datetime also changed ?"
      ],
      "metadata": {
        "colab": {
          "base_uri": "https://localhost:8080/",
          "height": 175
        },
        "id": "nGVVmV-7_vga",
        "outputId": "4acdd045-fb8c-4a31-8bb1-85d1964145d3"
      },
      "id": "nGVVmV-7_vga",
      "execution_count": 157,
      "outputs": [
        {
          "output_type": "execute_result",
          "data": {
            "text/plain": [
              "     username  password         date_created             website  players  \\\n",
              "0  Manchester  YSFyuby4  2018-08-19 00:00:00  www.manchester.com  ronaldo   \n",
              "1      Madrid  ZDblJjeE  2021-01-19 00:00:00      www,madrid.com   zidane   \n",
              "2      Napoli  nSRShxLx  2020-04-15 00:00:00      www.napoli.com  osimhen   \n",
              "3     Arsenal  ABCdEF67           2022-07-13     www.arsenal.com     kanu   \n",
              "\n",
              "   Sponsor   country  age sponsor  \n",
              "0  Addidas  portugal   37     NaN  \n",
              "1    Umbro    france   45     NaN  \n",
              "2     puma   Nigeria   24     NaN  \n",
              "3      NaN   Nigeria   40    nike  "
            ],
            "text/html": [
              "\n",
              "  <div id=\"df-5e6c0c9d-d0dc-41ec-94a8-36a739a9f641\">\n",
              "    <div class=\"colab-df-container\">\n",
              "      <div>\n",
              "<style scoped>\n",
              "    .dataframe tbody tr th:only-of-type {\n",
              "        vertical-align: middle;\n",
              "    }\n",
              "\n",
              "    .dataframe tbody tr th {\n",
              "        vertical-align: top;\n",
              "    }\n",
              "\n",
              "    .dataframe thead th {\n",
              "        text-align: right;\n",
              "    }\n",
              "</style>\n",
              "<table border=\"1\" class=\"dataframe\">\n",
              "  <thead>\n",
              "    <tr style=\"text-align: right;\">\n",
              "      <th></th>\n",
              "      <th>username</th>\n",
              "      <th>password</th>\n",
              "      <th>date_created</th>\n",
              "      <th>website</th>\n",
              "      <th>players</th>\n",
              "      <th>Sponsor</th>\n",
              "      <th>country</th>\n",
              "      <th>age</th>\n",
              "      <th>sponsor</th>\n",
              "    </tr>\n",
              "  </thead>\n",
              "  <tbody>\n",
              "    <tr>\n",
              "      <th>0</th>\n",
              "      <td>Manchester</td>\n",
              "      <td>YSFyuby4</td>\n",
              "      <td>2018-08-19 00:00:00</td>\n",
              "      <td>www.manchester.com</td>\n",
              "      <td>ronaldo</td>\n",
              "      <td>Addidas</td>\n",
              "      <td>portugal</td>\n",
              "      <td>37</td>\n",
              "      <td>NaN</td>\n",
              "    </tr>\n",
              "    <tr>\n",
              "      <th>1</th>\n",
              "      <td>Madrid</td>\n",
              "      <td>ZDblJjeE</td>\n",
              "      <td>2021-01-19 00:00:00</td>\n",
              "      <td>www,madrid.com</td>\n",
              "      <td>zidane</td>\n",
              "      <td>Umbro</td>\n",
              "      <td>france</td>\n",
              "      <td>45</td>\n",
              "      <td>NaN</td>\n",
              "    </tr>\n",
              "    <tr>\n",
              "      <th>2</th>\n",
              "      <td>Napoli</td>\n",
              "      <td>nSRShxLx</td>\n",
              "      <td>2020-04-15 00:00:00</td>\n",
              "      <td>www.napoli.com</td>\n",
              "      <td>osimhen</td>\n",
              "      <td>puma</td>\n",
              "      <td>Nigeria</td>\n",
              "      <td>24</td>\n",
              "      <td>NaN</td>\n",
              "    </tr>\n",
              "    <tr>\n",
              "      <th>3</th>\n",
              "      <td>Arsenal</td>\n",
              "      <td>ABCdEF67</td>\n",
              "      <td>2022-07-13</td>\n",
              "      <td>www.arsenal.com</td>\n",
              "      <td>kanu</td>\n",
              "      <td>NaN</td>\n",
              "      <td>Nigeria</td>\n",
              "      <td>40</td>\n",
              "      <td>nike</td>\n",
              "    </tr>\n",
              "  </tbody>\n",
              "</table>\n",
              "</div>\n",
              "      <button class=\"colab-df-convert\" onclick=\"convertToInteractive('df-5e6c0c9d-d0dc-41ec-94a8-36a739a9f641')\"\n",
              "              title=\"Convert this dataframe to an interactive table.\"\n",
              "              style=\"display:none;\">\n",
              "        \n",
              "  <svg xmlns=\"http://www.w3.org/2000/svg\" height=\"24px\"viewBox=\"0 0 24 24\"\n",
              "       width=\"24px\">\n",
              "    <path d=\"M0 0h24v24H0V0z\" fill=\"none\"/>\n",
              "    <path d=\"M18.56 5.44l.94 2.06.94-2.06 2.06-.94-2.06-.94-.94-2.06-.94 2.06-2.06.94zm-11 1L8.5 8.5l.94-2.06 2.06-.94-2.06-.94L8.5 2.5l-.94 2.06-2.06.94zm10 10l.94 2.06.94-2.06 2.06-.94-2.06-.94-.94-2.06-.94 2.06-2.06.94z\"/><path d=\"M17.41 7.96l-1.37-1.37c-.4-.4-.92-.59-1.43-.59-.52 0-1.04.2-1.43.59L10.3 9.45l-7.72 7.72c-.78.78-.78 2.05 0 2.83L4 21.41c.39.39.9.59 1.41.59.51 0 1.02-.2 1.41-.59l7.78-7.78 2.81-2.81c.8-.78.8-2.07 0-2.86zM5.41 20L4 18.59l7.72-7.72 1.47 1.35L5.41 20z\"/>\n",
              "  </svg>\n",
              "      </button>\n",
              "      \n",
              "  <style>\n",
              "    .colab-df-container {\n",
              "      display:flex;\n",
              "      flex-wrap:wrap;\n",
              "      gap: 12px;\n",
              "    }\n",
              "\n",
              "    .colab-df-convert {\n",
              "      background-color: #E8F0FE;\n",
              "      border: none;\n",
              "      border-radius: 50%;\n",
              "      cursor: pointer;\n",
              "      display: none;\n",
              "      fill: #1967D2;\n",
              "      height: 32px;\n",
              "      padding: 0 0 0 0;\n",
              "      width: 32px;\n",
              "    }\n",
              "\n",
              "    .colab-df-convert:hover {\n",
              "      background-color: #E2EBFA;\n",
              "      box-shadow: 0px 1px 2px rgba(60, 64, 67, 0.3), 0px 1px 3px 1px rgba(60, 64, 67, 0.15);\n",
              "      fill: #174EA6;\n",
              "    }\n",
              "\n",
              "    [theme=dark] .colab-df-convert {\n",
              "      background-color: #3B4455;\n",
              "      fill: #D2E3FC;\n",
              "    }\n",
              "\n",
              "    [theme=dark] .colab-df-convert:hover {\n",
              "      background-color: #434B5C;\n",
              "      box-shadow: 0px 1px 3px 1px rgba(0, 0, 0, 0.15);\n",
              "      filter: drop-shadow(0px 1px 2px rgba(0, 0, 0, 0.3));\n",
              "      fill: #FFFFFF;\n",
              "    }\n",
              "  </style>\n",
              "\n",
              "      <script>\n",
              "        const buttonEl =\n",
              "          document.querySelector('#df-5e6c0c9d-d0dc-41ec-94a8-36a739a9f641 button.colab-df-convert');\n",
              "        buttonEl.style.display =\n",
              "          google.colab.kernel.accessAllowed ? 'block' : 'none';\n",
              "\n",
              "        async function convertToInteractive(key) {\n",
              "          const element = document.querySelector('#df-5e6c0c9d-d0dc-41ec-94a8-36a739a9f641');\n",
              "          const dataTable =\n",
              "            await google.colab.kernel.invokeFunction('convertToInteractive',\n",
              "                                                     [key], {});\n",
              "          if (!dataTable) return;\n",
              "\n",
              "          const docLinkHtml = 'Like what you see? Visit the ' +\n",
              "            '<a target=\"_blank\" href=https://colab.research.google.com/notebooks/data_table.ipynb>data table notebook</a>'\n",
              "            + ' to learn more about interactive tables.';\n",
              "          element.innerHTML = '';\n",
              "          dataTable['output_type'] = 'display_data';\n",
              "          await google.colab.output.renderOutput(dataTable, element);\n",
              "          const docLink = document.createElement('div');\n",
              "          docLink.innerHTML = docLinkHtml;\n",
              "          element.appendChild(docLink);\n",
              "        }\n",
              "      </script>\n",
              "    </div>\n",
              "  </div>\n",
              "  "
            ]
          },
          "metadata": {},
          "execution_count": 157
        }
      ]
    },
    {
      "cell_type": "code",
      "source": [
        "df = df.sort_index()\n",
        "df"
      ],
      "metadata": {
        "colab": {
          "base_uri": "https://localhost:8080/",
          "height": 175
        },
        "id": "EqTDlZgYEbp_",
        "outputId": "6641d9cf-7b96-4650-9050-a6601e088902"
      },
      "id": "EqTDlZgYEbp_",
      "execution_count": 158,
      "outputs": [
        {
          "output_type": "execute_result",
          "data": {
            "text/plain": [
              "     username  password         date_created             website  players  \\\n",
              "0  Manchester  YSFyuby4  2018-08-19 00:00:00  www.manchester.com  ronaldo   \n",
              "1      Madrid  ZDblJjeE  2021-01-19 00:00:00      www,madrid.com   zidane   \n",
              "2      Napoli  nSRShxLx  2020-04-15 00:00:00      www.napoli.com  osimhen   \n",
              "3     Arsenal  ABCdEF67           2022-07-13     www.arsenal.com     kanu   \n",
              "\n",
              "   Sponsor   country  age sponsor  \n",
              "0  Addidas  portugal   37     NaN  \n",
              "1    Umbro    france   45     NaN  \n",
              "2     puma   Nigeria   24     NaN  \n",
              "3      NaN   Nigeria   40    nike  "
            ],
            "text/html": [
              "\n",
              "  <div id=\"df-ded49dea-39d8-4a8f-a333-f94fdf228149\">\n",
              "    <div class=\"colab-df-container\">\n",
              "      <div>\n",
              "<style scoped>\n",
              "    .dataframe tbody tr th:only-of-type {\n",
              "        vertical-align: middle;\n",
              "    }\n",
              "\n",
              "    .dataframe tbody tr th {\n",
              "        vertical-align: top;\n",
              "    }\n",
              "\n",
              "    .dataframe thead th {\n",
              "        text-align: right;\n",
              "    }\n",
              "</style>\n",
              "<table border=\"1\" class=\"dataframe\">\n",
              "  <thead>\n",
              "    <tr style=\"text-align: right;\">\n",
              "      <th></th>\n",
              "      <th>username</th>\n",
              "      <th>password</th>\n",
              "      <th>date_created</th>\n",
              "      <th>website</th>\n",
              "      <th>players</th>\n",
              "      <th>Sponsor</th>\n",
              "      <th>country</th>\n",
              "      <th>age</th>\n",
              "      <th>sponsor</th>\n",
              "    </tr>\n",
              "  </thead>\n",
              "  <tbody>\n",
              "    <tr>\n",
              "      <th>0</th>\n",
              "      <td>Manchester</td>\n",
              "      <td>YSFyuby4</td>\n",
              "      <td>2018-08-19 00:00:00</td>\n",
              "      <td>www.manchester.com</td>\n",
              "      <td>ronaldo</td>\n",
              "      <td>Addidas</td>\n",
              "      <td>portugal</td>\n",
              "      <td>37</td>\n",
              "      <td>NaN</td>\n",
              "    </tr>\n",
              "    <tr>\n",
              "      <th>1</th>\n",
              "      <td>Madrid</td>\n",
              "      <td>ZDblJjeE</td>\n",
              "      <td>2021-01-19 00:00:00</td>\n",
              "      <td>www,madrid.com</td>\n",
              "      <td>zidane</td>\n",
              "      <td>Umbro</td>\n",
              "      <td>france</td>\n",
              "      <td>45</td>\n",
              "      <td>NaN</td>\n",
              "    </tr>\n",
              "    <tr>\n",
              "      <th>2</th>\n",
              "      <td>Napoli</td>\n",
              "      <td>nSRShxLx</td>\n",
              "      <td>2020-04-15 00:00:00</td>\n",
              "      <td>www.napoli.com</td>\n",
              "      <td>osimhen</td>\n",
              "      <td>puma</td>\n",
              "      <td>Nigeria</td>\n",
              "      <td>24</td>\n",
              "      <td>NaN</td>\n",
              "    </tr>\n",
              "    <tr>\n",
              "      <th>3</th>\n",
              "      <td>Arsenal</td>\n",
              "      <td>ABCdEF67</td>\n",
              "      <td>2022-07-13</td>\n",
              "      <td>www.arsenal.com</td>\n",
              "      <td>kanu</td>\n",
              "      <td>NaN</td>\n",
              "      <td>Nigeria</td>\n",
              "      <td>40</td>\n",
              "      <td>nike</td>\n",
              "    </tr>\n",
              "  </tbody>\n",
              "</table>\n",
              "</div>\n",
              "      <button class=\"colab-df-convert\" onclick=\"convertToInteractive('df-ded49dea-39d8-4a8f-a333-f94fdf228149')\"\n",
              "              title=\"Convert this dataframe to an interactive table.\"\n",
              "              style=\"display:none;\">\n",
              "        \n",
              "  <svg xmlns=\"http://www.w3.org/2000/svg\" height=\"24px\"viewBox=\"0 0 24 24\"\n",
              "       width=\"24px\">\n",
              "    <path d=\"M0 0h24v24H0V0z\" fill=\"none\"/>\n",
              "    <path d=\"M18.56 5.44l.94 2.06.94-2.06 2.06-.94-2.06-.94-.94-2.06-.94 2.06-2.06.94zm-11 1L8.5 8.5l.94-2.06 2.06-.94-2.06-.94L8.5 2.5l-.94 2.06-2.06.94zm10 10l.94 2.06.94-2.06 2.06-.94-2.06-.94-.94-2.06-.94 2.06-2.06.94z\"/><path d=\"M17.41 7.96l-1.37-1.37c-.4-.4-.92-.59-1.43-.59-.52 0-1.04.2-1.43.59L10.3 9.45l-7.72 7.72c-.78.78-.78 2.05 0 2.83L4 21.41c.39.39.9.59 1.41.59.51 0 1.02-.2 1.41-.59l7.78-7.78 2.81-2.81c.8-.78.8-2.07 0-2.86zM5.41 20L4 18.59l7.72-7.72 1.47 1.35L5.41 20z\"/>\n",
              "  </svg>\n",
              "      </button>\n",
              "      \n",
              "  <style>\n",
              "    .colab-df-container {\n",
              "      display:flex;\n",
              "      flex-wrap:wrap;\n",
              "      gap: 12px;\n",
              "    }\n",
              "\n",
              "    .colab-df-convert {\n",
              "      background-color: #E8F0FE;\n",
              "      border: none;\n",
              "      border-radius: 50%;\n",
              "      cursor: pointer;\n",
              "      display: none;\n",
              "      fill: #1967D2;\n",
              "      height: 32px;\n",
              "      padding: 0 0 0 0;\n",
              "      width: 32px;\n",
              "    }\n",
              "\n",
              "    .colab-df-convert:hover {\n",
              "      background-color: #E2EBFA;\n",
              "      box-shadow: 0px 1px 2px rgba(60, 64, 67, 0.3), 0px 1px 3px 1px rgba(60, 64, 67, 0.15);\n",
              "      fill: #174EA6;\n",
              "    }\n",
              "\n",
              "    [theme=dark] .colab-df-convert {\n",
              "      background-color: #3B4455;\n",
              "      fill: #D2E3FC;\n",
              "    }\n",
              "\n",
              "    [theme=dark] .colab-df-convert:hover {\n",
              "      background-color: #434B5C;\n",
              "      box-shadow: 0px 1px 3px 1px rgba(0, 0, 0, 0.15);\n",
              "      filter: drop-shadow(0px 1px 2px rgba(0, 0, 0, 0.3));\n",
              "      fill: #FFFFFF;\n",
              "    }\n",
              "  </style>\n",
              "\n",
              "      <script>\n",
              "        const buttonEl =\n",
              "          document.querySelector('#df-ded49dea-39d8-4a8f-a333-f94fdf228149 button.colab-df-convert');\n",
              "        buttonEl.style.display =\n",
              "          google.colab.kernel.accessAllowed ? 'block' : 'none';\n",
              "\n",
              "        async function convertToInteractive(key) {\n",
              "          const element = document.querySelector('#df-ded49dea-39d8-4a8f-a333-f94fdf228149');\n",
              "          const dataTable =\n",
              "            await google.colab.kernel.invokeFunction('convertToInteractive',\n",
              "                                                     [key], {});\n",
              "          if (!dataTable) return;\n",
              "\n",
              "          const docLinkHtml = 'Like what you see? Visit the ' +\n",
              "            '<a target=\"_blank\" href=https://colab.research.google.com/notebooks/data_table.ipynb>data table notebook</a>'\n",
              "            + ' to learn more about interactive tables.';\n",
              "          element.innerHTML = '';\n",
              "          dataTable['output_type'] = 'display_data';\n",
              "          await google.colab.output.renderOutput(dataTable, element);\n",
              "          const docLink = document.createElement('div');\n",
              "          docLink.innerHTML = docLinkHtml;\n",
              "          element.appendChild(docLink);\n",
              "        }\n",
              "      </script>\n",
              "    </div>\n",
              "  </div>\n",
              "  "
            ]
          },
          "metadata": {},
          "execution_count": 158
        }
      ]
    },
    {
      "cell_type": "code",
      "source": [
        "# Q2-drop a row\n",
        "#df.drop([5,6], axis=0, inplace=True)\n",
        "\n",
        "df.drop([3], axis=0, inplace=True)\n",
        "df"
      ],
      "metadata": {
        "colab": {
          "base_uri": "https://localhost:8080/",
          "height": 143
        },
        "id": "mqCuucTSGNJR",
        "outputId": "8f973723-1f93-4143-b05e-063cf462967e"
      },
      "id": "mqCuucTSGNJR",
      "execution_count": 159,
      "outputs": [
        {
          "output_type": "execute_result",
          "data": {
            "text/plain": [
              "     username  password         date_created             website  players  \\\n",
              "0  Manchester  YSFyuby4  2018-08-19 00:00:00  www.manchester.com  ronaldo   \n",
              "1      Madrid  ZDblJjeE  2021-01-19 00:00:00      www,madrid.com   zidane   \n",
              "2      Napoli  nSRShxLx  2020-04-15 00:00:00      www.napoli.com  osimhen   \n",
              "\n",
              "   Sponsor   country  age sponsor  \n",
              "0  Addidas  portugal   37     NaN  \n",
              "1    Umbro    france   45     NaN  \n",
              "2     puma   Nigeria   24     NaN  "
            ],
            "text/html": [
              "\n",
              "  <div id=\"df-83f46f09-0d45-43b7-9e1d-08c725bdc9cd\">\n",
              "    <div class=\"colab-df-container\">\n",
              "      <div>\n",
              "<style scoped>\n",
              "    .dataframe tbody tr th:only-of-type {\n",
              "        vertical-align: middle;\n",
              "    }\n",
              "\n",
              "    .dataframe tbody tr th {\n",
              "        vertical-align: top;\n",
              "    }\n",
              "\n",
              "    .dataframe thead th {\n",
              "        text-align: right;\n",
              "    }\n",
              "</style>\n",
              "<table border=\"1\" class=\"dataframe\">\n",
              "  <thead>\n",
              "    <tr style=\"text-align: right;\">\n",
              "      <th></th>\n",
              "      <th>username</th>\n",
              "      <th>password</th>\n",
              "      <th>date_created</th>\n",
              "      <th>website</th>\n",
              "      <th>players</th>\n",
              "      <th>Sponsor</th>\n",
              "      <th>country</th>\n",
              "      <th>age</th>\n",
              "      <th>sponsor</th>\n",
              "    </tr>\n",
              "  </thead>\n",
              "  <tbody>\n",
              "    <tr>\n",
              "      <th>0</th>\n",
              "      <td>Manchester</td>\n",
              "      <td>YSFyuby4</td>\n",
              "      <td>2018-08-19 00:00:00</td>\n",
              "      <td>www.manchester.com</td>\n",
              "      <td>ronaldo</td>\n",
              "      <td>Addidas</td>\n",
              "      <td>portugal</td>\n",
              "      <td>37</td>\n",
              "      <td>NaN</td>\n",
              "    </tr>\n",
              "    <tr>\n",
              "      <th>1</th>\n",
              "      <td>Madrid</td>\n",
              "      <td>ZDblJjeE</td>\n",
              "      <td>2021-01-19 00:00:00</td>\n",
              "      <td>www,madrid.com</td>\n",
              "      <td>zidane</td>\n",
              "      <td>Umbro</td>\n",
              "      <td>france</td>\n",
              "      <td>45</td>\n",
              "      <td>NaN</td>\n",
              "    </tr>\n",
              "    <tr>\n",
              "      <th>2</th>\n",
              "      <td>Napoli</td>\n",
              "      <td>nSRShxLx</td>\n",
              "      <td>2020-04-15 00:00:00</td>\n",
              "      <td>www.napoli.com</td>\n",
              "      <td>osimhen</td>\n",
              "      <td>puma</td>\n",
              "      <td>Nigeria</td>\n",
              "      <td>24</td>\n",
              "      <td>NaN</td>\n",
              "    </tr>\n",
              "  </tbody>\n",
              "</table>\n",
              "</div>\n",
              "      <button class=\"colab-df-convert\" onclick=\"convertToInteractive('df-83f46f09-0d45-43b7-9e1d-08c725bdc9cd')\"\n",
              "              title=\"Convert this dataframe to an interactive table.\"\n",
              "              style=\"display:none;\">\n",
              "        \n",
              "  <svg xmlns=\"http://www.w3.org/2000/svg\" height=\"24px\"viewBox=\"0 0 24 24\"\n",
              "       width=\"24px\">\n",
              "    <path d=\"M0 0h24v24H0V0z\" fill=\"none\"/>\n",
              "    <path d=\"M18.56 5.44l.94 2.06.94-2.06 2.06-.94-2.06-.94-.94-2.06-.94 2.06-2.06.94zm-11 1L8.5 8.5l.94-2.06 2.06-.94-2.06-.94L8.5 2.5l-.94 2.06-2.06.94zm10 10l.94 2.06.94-2.06 2.06-.94-2.06-.94-.94-2.06-.94 2.06-2.06.94z\"/><path d=\"M17.41 7.96l-1.37-1.37c-.4-.4-.92-.59-1.43-.59-.52 0-1.04.2-1.43.59L10.3 9.45l-7.72 7.72c-.78.78-.78 2.05 0 2.83L4 21.41c.39.39.9.59 1.41.59.51 0 1.02-.2 1.41-.59l7.78-7.78 2.81-2.81c.8-.78.8-2.07 0-2.86zM5.41 20L4 18.59l7.72-7.72 1.47 1.35L5.41 20z\"/>\n",
              "  </svg>\n",
              "      </button>\n",
              "      \n",
              "  <style>\n",
              "    .colab-df-container {\n",
              "      display:flex;\n",
              "      flex-wrap:wrap;\n",
              "      gap: 12px;\n",
              "    }\n",
              "\n",
              "    .colab-df-convert {\n",
              "      background-color: #E8F0FE;\n",
              "      border: none;\n",
              "      border-radius: 50%;\n",
              "      cursor: pointer;\n",
              "      display: none;\n",
              "      fill: #1967D2;\n",
              "      height: 32px;\n",
              "      padding: 0 0 0 0;\n",
              "      width: 32px;\n",
              "    }\n",
              "\n",
              "    .colab-df-convert:hover {\n",
              "      background-color: #E2EBFA;\n",
              "      box-shadow: 0px 1px 2px rgba(60, 64, 67, 0.3), 0px 1px 3px 1px rgba(60, 64, 67, 0.15);\n",
              "      fill: #174EA6;\n",
              "    }\n",
              "\n",
              "    [theme=dark] .colab-df-convert {\n",
              "      background-color: #3B4455;\n",
              "      fill: #D2E3FC;\n",
              "    }\n",
              "\n",
              "    [theme=dark] .colab-df-convert:hover {\n",
              "      background-color: #434B5C;\n",
              "      box-shadow: 0px 1px 3px 1px rgba(0, 0, 0, 0.15);\n",
              "      filter: drop-shadow(0px 1px 2px rgba(0, 0, 0, 0.3));\n",
              "      fill: #FFFFFF;\n",
              "    }\n",
              "  </style>\n",
              "\n",
              "      <script>\n",
              "        const buttonEl =\n",
              "          document.querySelector('#df-83f46f09-0d45-43b7-9e1d-08c725bdc9cd button.colab-df-convert');\n",
              "        buttonEl.style.display =\n",
              "          google.colab.kernel.accessAllowed ? 'block' : 'none';\n",
              "\n",
              "        async function convertToInteractive(key) {\n",
              "          const element = document.querySelector('#df-83f46f09-0d45-43b7-9e1d-08c725bdc9cd');\n",
              "          const dataTable =\n",
              "            await google.colab.kernel.invokeFunction('convertToInteractive',\n",
              "                                                     [key], {});\n",
              "          if (!dataTable) return;\n",
              "\n",
              "          const docLinkHtml = 'Like what you see? Visit the ' +\n",
              "            '<a target=\"_blank\" href=https://colab.research.google.com/notebooks/data_table.ipynb>data table notebook</a>'\n",
              "            + ' to learn more about interactive tables.';\n",
              "          element.innerHTML = '';\n",
              "          dataTable['output_type'] = 'display_data';\n",
              "          await google.colab.output.renderOutput(dataTable, element);\n",
              "          const docLink = document.createElement('div');\n",
              "          docLink.innerHTML = docLinkHtml;\n",
              "          element.appendChild(docLink);\n",
              "        }\n",
              "      </script>\n",
              "    </div>\n",
              "  </div>\n",
              "  "
            ]
          },
          "metadata": {},
          "execution_count": 159
        }
      ]
    },
    {
      "cell_type": "code",
      "source": [
        "# Q3-drop a column,\n",
        "\n",
        "df.drop('website', axis=1, inplace=True)\n",
        "df\n",
        "\n"
      ],
      "metadata": {
        "colab": {
          "base_uri": "https://localhost:8080/",
          "height": 143
        },
        "id": "WcoC2jjgLLoT",
        "outputId": "efa1f25e-073d-4670-fe9e-b6ed9ebf1be9"
      },
      "id": "WcoC2jjgLLoT",
      "execution_count": 160,
      "outputs": [
        {
          "output_type": "execute_result",
          "data": {
            "text/plain": [
              "     username  password         date_created  players  Sponsor   country  age  \\\n",
              "0  Manchester  YSFyuby4  2018-08-19 00:00:00  ronaldo  Addidas  portugal   37   \n",
              "1      Madrid  ZDblJjeE  2021-01-19 00:00:00   zidane    Umbro    france   45   \n",
              "2      Napoli  nSRShxLx  2020-04-15 00:00:00  osimhen     puma   Nigeria   24   \n",
              "\n",
              "  sponsor  \n",
              "0     NaN  \n",
              "1     NaN  \n",
              "2     NaN  "
            ],
            "text/html": [
              "\n",
              "  <div id=\"df-6d80881c-0505-4423-8ff2-8257cbd7aaca\">\n",
              "    <div class=\"colab-df-container\">\n",
              "      <div>\n",
              "<style scoped>\n",
              "    .dataframe tbody tr th:only-of-type {\n",
              "        vertical-align: middle;\n",
              "    }\n",
              "\n",
              "    .dataframe tbody tr th {\n",
              "        vertical-align: top;\n",
              "    }\n",
              "\n",
              "    .dataframe thead th {\n",
              "        text-align: right;\n",
              "    }\n",
              "</style>\n",
              "<table border=\"1\" class=\"dataframe\">\n",
              "  <thead>\n",
              "    <tr style=\"text-align: right;\">\n",
              "      <th></th>\n",
              "      <th>username</th>\n",
              "      <th>password</th>\n",
              "      <th>date_created</th>\n",
              "      <th>players</th>\n",
              "      <th>Sponsor</th>\n",
              "      <th>country</th>\n",
              "      <th>age</th>\n",
              "      <th>sponsor</th>\n",
              "    </tr>\n",
              "  </thead>\n",
              "  <tbody>\n",
              "    <tr>\n",
              "      <th>0</th>\n",
              "      <td>Manchester</td>\n",
              "      <td>YSFyuby4</td>\n",
              "      <td>2018-08-19 00:00:00</td>\n",
              "      <td>ronaldo</td>\n",
              "      <td>Addidas</td>\n",
              "      <td>portugal</td>\n",
              "      <td>37</td>\n",
              "      <td>NaN</td>\n",
              "    </tr>\n",
              "    <tr>\n",
              "      <th>1</th>\n",
              "      <td>Madrid</td>\n",
              "      <td>ZDblJjeE</td>\n",
              "      <td>2021-01-19 00:00:00</td>\n",
              "      <td>zidane</td>\n",
              "      <td>Umbro</td>\n",
              "      <td>france</td>\n",
              "      <td>45</td>\n",
              "      <td>NaN</td>\n",
              "    </tr>\n",
              "    <tr>\n",
              "      <th>2</th>\n",
              "      <td>Napoli</td>\n",
              "      <td>nSRShxLx</td>\n",
              "      <td>2020-04-15 00:00:00</td>\n",
              "      <td>osimhen</td>\n",
              "      <td>puma</td>\n",
              "      <td>Nigeria</td>\n",
              "      <td>24</td>\n",
              "      <td>NaN</td>\n",
              "    </tr>\n",
              "  </tbody>\n",
              "</table>\n",
              "</div>\n",
              "      <button class=\"colab-df-convert\" onclick=\"convertToInteractive('df-6d80881c-0505-4423-8ff2-8257cbd7aaca')\"\n",
              "              title=\"Convert this dataframe to an interactive table.\"\n",
              "              style=\"display:none;\">\n",
              "        \n",
              "  <svg xmlns=\"http://www.w3.org/2000/svg\" height=\"24px\"viewBox=\"0 0 24 24\"\n",
              "       width=\"24px\">\n",
              "    <path d=\"M0 0h24v24H0V0z\" fill=\"none\"/>\n",
              "    <path d=\"M18.56 5.44l.94 2.06.94-2.06 2.06-.94-2.06-.94-.94-2.06-.94 2.06-2.06.94zm-11 1L8.5 8.5l.94-2.06 2.06-.94-2.06-.94L8.5 2.5l-.94 2.06-2.06.94zm10 10l.94 2.06.94-2.06 2.06-.94-2.06-.94-.94-2.06-.94 2.06-2.06.94z\"/><path d=\"M17.41 7.96l-1.37-1.37c-.4-.4-.92-.59-1.43-.59-.52 0-1.04.2-1.43.59L10.3 9.45l-7.72 7.72c-.78.78-.78 2.05 0 2.83L4 21.41c.39.39.9.59 1.41.59.51 0 1.02-.2 1.41-.59l7.78-7.78 2.81-2.81c.8-.78.8-2.07 0-2.86zM5.41 20L4 18.59l7.72-7.72 1.47 1.35L5.41 20z\"/>\n",
              "  </svg>\n",
              "      </button>\n",
              "      \n",
              "  <style>\n",
              "    .colab-df-container {\n",
              "      display:flex;\n",
              "      flex-wrap:wrap;\n",
              "      gap: 12px;\n",
              "    }\n",
              "\n",
              "    .colab-df-convert {\n",
              "      background-color: #E8F0FE;\n",
              "      border: none;\n",
              "      border-radius: 50%;\n",
              "      cursor: pointer;\n",
              "      display: none;\n",
              "      fill: #1967D2;\n",
              "      height: 32px;\n",
              "      padding: 0 0 0 0;\n",
              "      width: 32px;\n",
              "    }\n",
              "\n",
              "    .colab-df-convert:hover {\n",
              "      background-color: #E2EBFA;\n",
              "      box-shadow: 0px 1px 2px rgba(60, 64, 67, 0.3), 0px 1px 3px 1px rgba(60, 64, 67, 0.15);\n",
              "      fill: #174EA6;\n",
              "    }\n",
              "\n",
              "    [theme=dark] .colab-df-convert {\n",
              "      background-color: #3B4455;\n",
              "      fill: #D2E3FC;\n",
              "    }\n",
              "\n",
              "    [theme=dark] .colab-df-convert:hover {\n",
              "      background-color: #434B5C;\n",
              "      box-shadow: 0px 1px 3px 1px rgba(0, 0, 0, 0.15);\n",
              "      filter: drop-shadow(0px 1px 2px rgba(0, 0, 0, 0.3));\n",
              "      fill: #FFFFFF;\n",
              "    }\n",
              "  </style>\n",
              "\n",
              "      <script>\n",
              "        const buttonEl =\n",
              "          document.querySelector('#df-6d80881c-0505-4423-8ff2-8257cbd7aaca button.colab-df-convert');\n",
              "        buttonEl.style.display =\n",
              "          google.colab.kernel.accessAllowed ? 'block' : 'none';\n",
              "\n",
              "        async function convertToInteractive(key) {\n",
              "          const element = document.querySelector('#df-6d80881c-0505-4423-8ff2-8257cbd7aaca');\n",
              "          const dataTable =\n",
              "            await google.colab.kernel.invokeFunction('convertToInteractive',\n",
              "                                                     [key], {});\n",
              "          if (!dataTable) return;\n",
              "\n",
              "          const docLinkHtml = 'Like what you see? Visit the ' +\n",
              "            '<a target=\"_blank\" href=https://colab.research.google.com/notebooks/data_table.ipynb>data table notebook</a>'\n",
              "            + ' to learn more about interactive tables.';\n",
              "          element.innerHTML = '';\n",
              "          dataTable['output_type'] = 'display_data';\n",
              "          await google.colab.output.renderOutput(dataTable, element);\n",
              "          const docLink = document.createElement('div');\n",
              "          docLink.innerHTML = docLinkHtml;\n",
              "          element.appendChild(docLink);\n",
              "        }\n",
              "      </script>\n",
              "    </div>\n",
              "  </div>\n",
              "  "
            ]
          },
          "metadata": {},
          "execution_count": 160
        }
      ]
    },
    {
      "cell_type": "code",
      "source": [
        "df"
      ],
      "metadata": {
        "colab": {
          "base_uri": "https://localhost:8080/",
          "height": 143
        },
        "id": "oddURC7zSFBU",
        "outputId": "162374f9-338b-4888-eccc-a07d11f6fb6c"
      },
      "id": "oddURC7zSFBU",
      "execution_count": 161,
      "outputs": [
        {
          "output_type": "execute_result",
          "data": {
            "text/plain": [
              "     username  password         date_created  players  Sponsor   country  age  \\\n",
              "0  Manchester  YSFyuby4  2018-08-19 00:00:00  ronaldo  Addidas  portugal   37   \n",
              "1      Madrid  ZDblJjeE  2021-01-19 00:00:00   zidane    Umbro    france   45   \n",
              "2      Napoli  nSRShxLx  2020-04-15 00:00:00  osimhen     puma   Nigeria   24   \n",
              "\n",
              "  sponsor  \n",
              "0     NaN  \n",
              "1     NaN  \n",
              "2     NaN  "
            ],
            "text/html": [
              "\n",
              "  <div id=\"df-b9a39359-6e2e-429d-ba6a-de6552688018\">\n",
              "    <div class=\"colab-df-container\">\n",
              "      <div>\n",
              "<style scoped>\n",
              "    .dataframe tbody tr th:only-of-type {\n",
              "        vertical-align: middle;\n",
              "    }\n",
              "\n",
              "    .dataframe tbody tr th {\n",
              "        vertical-align: top;\n",
              "    }\n",
              "\n",
              "    .dataframe thead th {\n",
              "        text-align: right;\n",
              "    }\n",
              "</style>\n",
              "<table border=\"1\" class=\"dataframe\">\n",
              "  <thead>\n",
              "    <tr style=\"text-align: right;\">\n",
              "      <th></th>\n",
              "      <th>username</th>\n",
              "      <th>password</th>\n",
              "      <th>date_created</th>\n",
              "      <th>players</th>\n",
              "      <th>Sponsor</th>\n",
              "      <th>country</th>\n",
              "      <th>age</th>\n",
              "      <th>sponsor</th>\n",
              "    </tr>\n",
              "  </thead>\n",
              "  <tbody>\n",
              "    <tr>\n",
              "      <th>0</th>\n",
              "      <td>Manchester</td>\n",
              "      <td>YSFyuby4</td>\n",
              "      <td>2018-08-19 00:00:00</td>\n",
              "      <td>ronaldo</td>\n",
              "      <td>Addidas</td>\n",
              "      <td>portugal</td>\n",
              "      <td>37</td>\n",
              "      <td>NaN</td>\n",
              "    </tr>\n",
              "    <tr>\n",
              "      <th>1</th>\n",
              "      <td>Madrid</td>\n",
              "      <td>ZDblJjeE</td>\n",
              "      <td>2021-01-19 00:00:00</td>\n",
              "      <td>zidane</td>\n",
              "      <td>Umbro</td>\n",
              "      <td>france</td>\n",
              "      <td>45</td>\n",
              "      <td>NaN</td>\n",
              "    </tr>\n",
              "    <tr>\n",
              "      <th>2</th>\n",
              "      <td>Napoli</td>\n",
              "      <td>nSRShxLx</td>\n",
              "      <td>2020-04-15 00:00:00</td>\n",
              "      <td>osimhen</td>\n",
              "      <td>puma</td>\n",
              "      <td>Nigeria</td>\n",
              "      <td>24</td>\n",
              "      <td>NaN</td>\n",
              "    </tr>\n",
              "  </tbody>\n",
              "</table>\n",
              "</div>\n",
              "      <button class=\"colab-df-convert\" onclick=\"convertToInteractive('df-b9a39359-6e2e-429d-ba6a-de6552688018')\"\n",
              "              title=\"Convert this dataframe to an interactive table.\"\n",
              "              style=\"display:none;\">\n",
              "        \n",
              "  <svg xmlns=\"http://www.w3.org/2000/svg\" height=\"24px\"viewBox=\"0 0 24 24\"\n",
              "       width=\"24px\">\n",
              "    <path d=\"M0 0h24v24H0V0z\" fill=\"none\"/>\n",
              "    <path d=\"M18.56 5.44l.94 2.06.94-2.06 2.06-.94-2.06-.94-.94-2.06-.94 2.06-2.06.94zm-11 1L8.5 8.5l.94-2.06 2.06-.94-2.06-.94L8.5 2.5l-.94 2.06-2.06.94zm10 10l.94 2.06.94-2.06 2.06-.94-2.06-.94-.94-2.06-.94 2.06-2.06.94z\"/><path d=\"M17.41 7.96l-1.37-1.37c-.4-.4-.92-.59-1.43-.59-.52 0-1.04.2-1.43.59L10.3 9.45l-7.72 7.72c-.78.78-.78 2.05 0 2.83L4 21.41c.39.39.9.59 1.41.59.51 0 1.02-.2 1.41-.59l7.78-7.78 2.81-2.81c.8-.78.8-2.07 0-2.86zM5.41 20L4 18.59l7.72-7.72 1.47 1.35L5.41 20z\"/>\n",
              "  </svg>\n",
              "      </button>\n",
              "      \n",
              "  <style>\n",
              "    .colab-df-container {\n",
              "      display:flex;\n",
              "      flex-wrap:wrap;\n",
              "      gap: 12px;\n",
              "    }\n",
              "\n",
              "    .colab-df-convert {\n",
              "      background-color: #E8F0FE;\n",
              "      border: none;\n",
              "      border-radius: 50%;\n",
              "      cursor: pointer;\n",
              "      display: none;\n",
              "      fill: #1967D2;\n",
              "      height: 32px;\n",
              "      padding: 0 0 0 0;\n",
              "      width: 32px;\n",
              "    }\n",
              "\n",
              "    .colab-df-convert:hover {\n",
              "      background-color: #E2EBFA;\n",
              "      box-shadow: 0px 1px 2px rgba(60, 64, 67, 0.3), 0px 1px 3px 1px rgba(60, 64, 67, 0.15);\n",
              "      fill: #174EA6;\n",
              "    }\n",
              "\n",
              "    [theme=dark] .colab-df-convert {\n",
              "      background-color: #3B4455;\n",
              "      fill: #D2E3FC;\n",
              "    }\n",
              "\n",
              "    [theme=dark] .colab-df-convert:hover {\n",
              "      background-color: #434B5C;\n",
              "      box-shadow: 0px 1px 3px 1px rgba(0, 0, 0, 0.15);\n",
              "      filter: drop-shadow(0px 1px 2px rgba(0, 0, 0, 0.3));\n",
              "      fill: #FFFFFF;\n",
              "    }\n",
              "  </style>\n",
              "\n",
              "      <script>\n",
              "        const buttonEl =\n",
              "          document.querySelector('#df-b9a39359-6e2e-429d-ba6a-de6552688018 button.colab-df-convert');\n",
              "        buttonEl.style.display =\n",
              "          google.colab.kernel.accessAllowed ? 'block' : 'none';\n",
              "\n",
              "        async function convertToInteractive(key) {\n",
              "          const element = document.querySelector('#df-b9a39359-6e2e-429d-ba6a-de6552688018');\n",
              "          const dataTable =\n",
              "            await google.colab.kernel.invokeFunction('convertToInteractive',\n",
              "                                                     [key], {});\n",
              "          if (!dataTable) return;\n",
              "\n",
              "          const docLinkHtml = 'Like what you see? Visit the ' +\n",
              "            '<a target=\"_blank\" href=https://colab.research.google.com/notebooks/data_table.ipynb>data table notebook</a>'\n",
              "            + ' to learn more about interactive tables.';\n",
              "          element.innerHTML = '';\n",
              "          dataTable['output_type'] = 'display_data';\n",
              "          await google.colab.output.renderOutput(dataTable, element);\n",
              "          const docLink = document.createElement('div');\n",
              "          docLink.innerHTML = docLinkHtml;\n",
              "          element.appendChild(docLink);\n",
              "        }\n",
              "      </script>\n",
              "    </div>\n",
              "  </div>\n",
              "  "
            ]
          },
          "metadata": {},
          "execution_count": 161
        }
      ]
    },
    {
      "cell_type": "code",
      "source": [
        "#no 4\n",
        "\n",
        "df.insert(0, 'website', ['www.manchester.com', 'www,madrid.com', 'www.napoli.com'])\n",
        "df"
      ],
      "metadata": {
        "colab": {
          "base_uri": "https://localhost:8080/",
          "height": 143
        },
        "id": "VTwrVk8TPl2w",
        "outputId": "47b09dbd-823f-4542-eb9d-91190395eea1"
      },
      "id": "VTwrVk8TPl2w",
      "execution_count": 162,
      "outputs": [
        {
          "output_type": "execute_result",
          "data": {
            "text/plain": [
              "              website    username  password         date_created  players  \\\n",
              "0  www.manchester.com  Manchester  YSFyuby4  2018-08-19 00:00:00  ronaldo   \n",
              "1      www,madrid.com      Madrid  ZDblJjeE  2021-01-19 00:00:00   zidane   \n",
              "2      www.napoli.com      Napoli  nSRShxLx  2020-04-15 00:00:00  osimhen   \n",
              "\n",
              "   Sponsor   country  age sponsor  \n",
              "0  Addidas  portugal   37     NaN  \n",
              "1    Umbro    france   45     NaN  \n",
              "2     puma   Nigeria   24     NaN  "
            ],
            "text/html": [
              "\n",
              "  <div id=\"df-0040d8d5-a3fa-4eee-b560-26ebec99404d\">\n",
              "    <div class=\"colab-df-container\">\n",
              "      <div>\n",
              "<style scoped>\n",
              "    .dataframe tbody tr th:only-of-type {\n",
              "        vertical-align: middle;\n",
              "    }\n",
              "\n",
              "    .dataframe tbody tr th {\n",
              "        vertical-align: top;\n",
              "    }\n",
              "\n",
              "    .dataframe thead th {\n",
              "        text-align: right;\n",
              "    }\n",
              "</style>\n",
              "<table border=\"1\" class=\"dataframe\">\n",
              "  <thead>\n",
              "    <tr style=\"text-align: right;\">\n",
              "      <th></th>\n",
              "      <th>website</th>\n",
              "      <th>username</th>\n",
              "      <th>password</th>\n",
              "      <th>date_created</th>\n",
              "      <th>players</th>\n",
              "      <th>Sponsor</th>\n",
              "      <th>country</th>\n",
              "      <th>age</th>\n",
              "      <th>sponsor</th>\n",
              "    </tr>\n",
              "  </thead>\n",
              "  <tbody>\n",
              "    <tr>\n",
              "      <th>0</th>\n",
              "      <td>www.manchester.com</td>\n",
              "      <td>Manchester</td>\n",
              "      <td>YSFyuby4</td>\n",
              "      <td>2018-08-19 00:00:00</td>\n",
              "      <td>ronaldo</td>\n",
              "      <td>Addidas</td>\n",
              "      <td>portugal</td>\n",
              "      <td>37</td>\n",
              "      <td>NaN</td>\n",
              "    </tr>\n",
              "    <tr>\n",
              "      <th>1</th>\n",
              "      <td>www,madrid.com</td>\n",
              "      <td>Madrid</td>\n",
              "      <td>ZDblJjeE</td>\n",
              "      <td>2021-01-19 00:00:00</td>\n",
              "      <td>zidane</td>\n",
              "      <td>Umbro</td>\n",
              "      <td>france</td>\n",
              "      <td>45</td>\n",
              "      <td>NaN</td>\n",
              "    </tr>\n",
              "    <tr>\n",
              "      <th>2</th>\n",
              "      <td>www.napoli.com</td>\n",
              "      <td>Napoli</td>\n",
              "      <td>nSRShxLx</td>\n",
              "      <td>2020-04-15 00:00:00</td>\n",
              "      <td>osimhen</td>\n",
              "      <td>puma</td>\n",
              "      <td>Nigeria</td>\n",
              "      <td>24</td>\n",
              "      <td>NaN</td>\n",
              "    </tr>\n",
              "  </tbody>\n",
              "</table>\n",
              "</div>\n",
              "      <button class=\"colab-df-convert\" onclick=\"convertToInteractive('df-0040d8d5-a3fa-4eee-b560-26ebec99404d')\"\n",
              "              title=\"Convert this dataframe to an interactive table.\"\n",
              "              style=\"display:none;\">\n",
              "        \n",
              "  <svg xmlns=\"http://www.w3.org/2000/svg\" height=\"24px\"viewBox=\"0 0 24 24\"\n",
              "       width=\"24px\">\n",
              "    <path d=\"M0 0h24v24H0V0z\" fill=\"none\"/>\n",
              "    <path d=\"M18.56 5.44l.94 2.06.94-2.06 2.06-.94-2.06-.94-.94-2.06-.94 2.06-2.06.94zm-11 1L8.5 8.5l.94-2.06 2.06-.94-2.06-.94L8.5 2.5l-.94 2.06-2.06.94zm10 10l.94 2.06.94-2.06 2.06-.94-2.06-.94-.94-2.06-.94 2.06-2.06.94z\"/><path d=\"M17.41 7.96l-1.37-1.37c-.4-.4-.92-.59-1.43-.59-.52 0-1.04.2-1.43.59L10.3 9.45l-7.72 7.72c-.78.78-.78 2.05 0 2.83L4 21.41c.39.39.9.59 1.41.59.51 0 1.02-.2 1.41-.59l7.78-7.78 2.81-2.81c.8-.78.8-2.07 0-2.86zM5.41 20L4 18.59l7.72-7.72 1.47 1.35L5.41 20z\"/>\n",
              "  </svg>\n",
              "      </button>\n",
              "      \n",
              "  <style>\n",
              "    .colab-df-container {\n",
              "      display:flex;\n",
              "      flex-wrap:wrap;\n",
              "      gap: 12px;\n",
              "    }\n",
              "\n",
              "    .colab-df-convert {\n",
              "      background-color: #E8F0FE;\n",
              "      border: none;\n",
              "      border-radius: 50%;\n",
              "      cursor: pointer;\n",
              "      display: none;\n",
              "      fill: #1967D2;\n",
              "      height: 32px;\n",
              "      padding: 0 0 0 0;\n",
              "      width: 32px;\n",
              "    }\n",
              "\n",
              "    .colab-df-convert:hover {\n",
              "      background-color: #E2EBFA;\n",
              "      box-shadow: 0px 1px 2px rgba(60, 64, 67, 0.3), 0px 1px 3px 1px rgba(60, 64, 67, 0.15);\n",
              "      fill: #174EA6;\n",
              "    }\n",
              "\n",
              "    [theme=dark] .colab-df-convert {\n",
              "      background-color: #3B4455;\n",
              "      fill: #D2E3FC;\n",
              "    }\n",
              "\n",
              "    [theme=dark] .colab-df-convert:hover {\n",
              "      background-color: #434B5C;\n",
              "      box-shadow: 0px 1px 3px 1px rgba(0, 0, 0, 0.15);\n",
              "      filter: drop-shadow(0px 1px 2px rgba(0, 0, 0, 0.3));\n",
              "      fill: #FFFFFF;\n",
              "    }\n",
              "  </style>\n",
              "\n",
              "      <script>\n",
              "        const buttonEl =\n",
              "          document.querySelector('#df-0040d8d5-a3fa-4eee-b560-26ebec99404d button.colab-df-convert');\n",
              "        buttonEl.style.display =\n",
              "          google.colab.kernel.accessAllowed ? 'block' : 'none';\n",
              "\n",
              "        async function convertToInteractive(key) {\n",
              "          const element = document.querySelector('#df-0040d8d5-a3fa-4eee-b560-26ebec99404d');\n",
              "          const dataTable =\n",
              "            await google.colab.kernel.invokeFunction('convertToInteractive',\n",
              "                                                     [key], {});\n",
              "          if (!dataTable) return;\n",
              "\n",
              "          const docLinkHtml = 'Like what you see? Visit the ' +\n",
              "            '<a target=\"_blank\" href=https://colab.research.google.com/notebooks/data_table.ipynb>data table notebook</a>'\n",
              "            + ' to learn more about interactive tables.';\n",
              "          element.innerHTML = '';\n",
              "          dataTable['output_type'] = 'display_data';\n",
              "          await google.colab.output.renderOutput(dataTable, element);\n",
              "          const docLink = document.createElement('div');\n",
              "          docLink.innerHTML = docLinkHtml;\n",
              "          element.appendChild(docLink);\n",
              "        }\n",
              "      </script>\n",
              "    </div>\n",
              "  </div>\n",
              "  "
            ]
          },
          "metadata": {},
          "execution_count": 162
        }
      ]
    },
    {
      "cell_type": "markdown",
      "source": [
        "##  How to filter Dataframe"
      ],
      "metadata": {
        "id": "Dxw_3D3eUdiy"
      },
      "id": "Dxw_3D3eUdiy"
    },
    {
      "cell_type": "code",
      "source": [
        "data.head()"
      ],
      "metadata": {
        "colab": {
          "base_uri": "https://localhost:8080/",
          "height": 337
        },
        "id": "JD-b6OAtReHL",
        "outputId": "338b49f9-98d3-49cc-ac58-377b358cda36"
      },
      "id": "JD-b6OAtReHL",
      "execution_count": 163,
      "outputs": [
        {
          "output_type": "execute_result",
          "data": {
            "text/plain": [
              "              business_id                                       full_address  \\\n",
              "0  vcNAWiLM4dR7D2nwwJ7nCA  4840 E Indian School Rd\\nSte 101\\nPhoenix, AZ ...   \n",
              "1  JwUE5GmEO-sH1FuwJgKBlQ            6162 US Highway 51\\nDe Forest, WI 53532   \n",
              "2  uGykseHzyS5xAMWoN6YUqA                505 W North St\\nDe Forest, WI 53532   \n",
              "3  LRKJF43s9-3jG9Lgx4zODg              4910 County Rd V\\nDe Forest, WI 53532   \n",
              "4  RgDg-k9S5YD_BaxMckifkg                 631 S Main St\\nDe Forest, WI 53532   \n",
              "\n",
              "                                               hours  open  \\\n",
              "0  {'Tuesday': {'close': '17:00', 'open': '08:00'...  True   \n",
              "1                                                 {}  True   \n",
              "2  {'Monday': {'close': '22:00', 'open': '06:00'}...  True   \n",
              "3  {'Monday': {'close': '22:00', 'open': '10:30'}...  True   \n",
              "4  {'Monday': {'close': '22:00', 'open': '11:00'}...  True   \n",
              "\n",
              "                                          categories       city  review_count  \\\n",
              "0                        [Doctors, Health & Medical]    Phoenix             7   \n",
              "1                                      [Restaurants]  De Forest            26   \n",
              "2              [American (Traditional), Restaurants]  De Forest            16   \n",
              "3  [Food, Ice Cream & Frozen Yogurt, Fast Food, R...  De Forest             7   \n",
              "4                             [Chinese, Restaurants]  De Forest             3   \n",
              "\n",
              "                          name neighborhoods   longitude state  stars  \\\n",
              "0            Eric Goldberg, MD            [] -111.983758    AZ    3.5   \n",
              "1         Pine Cone Restaurant            []  -89.335844    WI    4.0   \n",
              "2   Deforest Family Restaurant            []  -89.353437    WI    4.0   \n",
              "3                     Culver's            []  -89.374983    WI    4.5   \n",
              "4  Chang Jiang Chinese Kitchen            []  -89.343722    WI    4.0   \n",
              "\n",
              "    latitude                                         attributes      type  \n",
              "0  33.499313                      {'By Appointment Only': True}  business  \n",
              "1  43.238893  {'Take-out': True, 'Good For': {'dessert': Fal...  business  \n",
              "2  43.252267  {'Take-out': True, 'Good For': {'dessert': Fal...  business  \n",
              "3  43.251045  {'Take-out': True, 'Wi-Fi': 'free', 'Takes Res...  business  \n",
              "4  43.240875  {'Take-out': True, 'Has TV': False, 'Outdoor S...  business  "
            ],
            "text/html": [
              "\n",
              "  <div id=\"df-3bc0610f-be78-4d3a-b05d-bf308639a9a1\">\n",
              "    <div class=\"colab-df-container\">\n",
              "      <div>\n",
              "<style scoped>\n",
              "    .dataframe tbody tr th:only-of-type {\n",
              "        vertical-align: middle;\n",
              "    }\n",
              "\n",
              "    .dataframe tbody tr th {\n",
              "        vertical-align: top;\n",
              "    }\n",
              "\n",
              "    .dataframe thead th {\n",
              "        text-align: right;\n",
              "    }\n",
              "</style>\n",
              "<table border=\"1\" class=\"dataframe\">\n",
              "  <thead>\n",
              "    <tr style=\"text-align: right;\">\n",
              "      <th></th>\n",
              "      <th>business_id</th>\n",
              "      <th>full_address</th>\n",
              "      <th>hours</th>\n",
              "      <th>open</th>\n",
              "      <th>categories</th>\n",
              "      <th>city</th>\n",
              "      <th>review_count</th>\n",
              "      <th>name</th>\n",
              "      <th>neighborhoods</th>\n",
              "      <th>longitude</th>\n",
              "      <th>state</th>\n",
              "      <th>stars</th>\n",
              "      <th>latitude</th>\n",
              "      <th>attributes</th>\n",
              "      <th>type</th>\n",
              "    </tr>\n",
              "  </thead>\n",
              "  <tbody>\n",
              "    <tr>\n",
              "      <th>0</th>\n",
              "      <td>vcNAWiLM4dR7D2nwwJ7nCA</td>\n",
              "      <td>4840 E Indian School Rd\\nSte 101\\nPhoenix, AZ ...</td>\n",
              "      <td>{'Tuesday': {'close': '17:00', 'open': '08:00'...</td>\n",
              "      <td>True</td>\n",
              "      <td>[Doctors, Health &amp; Medical]</td>\n",
              "      <td>Phoenix</td>\n",
              "      <td>7</td>\n",
              "      <td>Eric Goldberg, MD</td>\n",
              "      <td>[]</td>\n",
              "      <td>-111.983758</td>\n",
              "      <td>AZ</td>\n",
              "      <td>3.5</td>\n",
              "      <td>33.499313</td>\n",
              "      <td>{'By Appointment Only': True}</td>\n",
              "      <td>business</td>\n",
              "    </tr>\n",
              "    <tr>\n",
              "      <th>1</th>\n",
              "      <td>JwUE5GmEO-sH1FuwJgKBlQ</td>\n",
              "      <td>6162 US Highway 51\\nDe Forest, WI 53532</td>\n",
              "      <td>{}</td>\n",
              "      <td>True</td>\n",
              "      <td>[Restaurants]</td>\n",
              "      <td>De Forest</td>\n",
              "      <td>26</td>\n",
              "      <td>Pine Cone Restaurant</td>\n",
              "      <td>[]</td>\n",
              "      <td>-89.335844</td>\n",
              "      <td>WI</td>\n",
              "      <td>4.0</td>\n",
              "      <td>43.238893</td>\n",
              "      <td>{'Take-out': True, 'Good For': {'dessert': Fal...</td>\n",
              "      <td>business</td>\n",
              "    </tr>\n",
              "    <tr>\n",
              "      <th>2</th>\n",
              "      <td>uGykseHzyS5xAMWoN6YUqA</td>\n",
              "      <td>505 W North St\\nDe Forest, WI 53532</td>\n",
              "      <td>{'Monday': {'close': '22:00', 'open': '06:00'}...</td>\n",
              "      <td>True</td>\n",
              "      <td>[American (Traditional), Restaurants]</td>\n",
              "      <td>De Forest</td>\n",
              "      <td>16</td>\n",
              "      <td>Deforest Family Restaurant</td>\n",
              "      <td>[]</td>\n",
              "      <td>-89.353437</td>\n",
              "      <td>WI</td>\n",
              "      <td>4.0</td>\n",
              "      <td>43.252267</td>\n",
              "      <td>{'Take-out': True, 'Good For': {'dessert': Fal...</td>\n",
              "      <td>business</td>\n",
              "    </tr>\n",
              "    <tr>\n",
              "      <th>3</th>\n",
              "      <td>LRKJF43s9-3jG9Lgx4zODg</td>\n",
              "      <td>4910 County Rd V\\nDe Forest, WI 53532</td>\n",
              "      <td>{'Monday': {'close': '22:00', 'open': '10:30'}...</td>\n",
              "      <td>True</td>\n",
              "      <td>[Food, Ice Cream &amp; Frozen Yogurt, Fast Food, R...</td>\n",
              "      <td>De Forest</td>\n",
              "      <td>7</td>\n",
              "      <td>Culver's</td>\n",
              "      <td>[]</td>\n",
              "      <td>-89.374983</td>\n",
              "      <td>WI</td>\n",
              "      <td>4.5</td>\n",
              "      <td>43.251045</td>\n",
              "      <td>{'Take-out': True, 'Wi-Fi': 'free', 'Takes Res...</td>\n",
              "      <td>business</td>\n",
              "    </tr>\n",
              "    <tr>\n",
              "      <th>4</th>\n",
              "      <td>RgDg-k9S5YD_BaxMckifkg</td>\n",
              "      <td>631 S Main St\\nDe Forest, WI 53532</td>\n",
              "      <td>{'Monday': {'close': '22:00', 'open': '11:00'}...</td>\n",
              "      <td>True</td>\n",
              "      <td>[Chinese, Restaurants]</td>\n",
              "      <td>De Forest</td>\n",
              "      <td>3</td>\n",
              "      <td>Chang Jiang Chinese Kitchen</td>\n",
              "      <td>[]</td>\n",
              "      <td>-89.343722</td>\n",
              "      <td>WI</td>\n",
              "      <td>4.0</td>\n",
              "      <td>43.240875</td>\n",
              "      <td>{'Take-out': True, 'Has TV': False, 'Outdoor S...</td>\n",
              "      <td>business</td>\n",
              "    </tr>\n",
              "  </tbody>\n",
              "</table>\n",
              "</div>\n",
              "      <button class=\"colab-df-convert\" onclick=\"convertToInteractive('df-3bc0610f-be78-4d3a-b05d-bf308639a9a1')\"\n",
              "              title=\"Convert this dataframe to an interactive table.\"\n",
              "              style=\"display:none;\">\n",
              "        \n",
              "  <svg xmlns=\"http://www.w3.org/2000/svg\" height=\"24px\"viewBox=\"0 0 24 24\"\n",
              "       width=\"24px\">\n",
              "    <path d=\"M0 0h24v24H0V0z\" fill=\"none\"/>\n",
              "    <path d=\"M18.56 5.44l.94 2.06.94-2.06 2.06-.94-2.06-.94-.94-2.06-.94 2.06-2.06.94zm-11 1L8.5 8.5l.94-2.06 2.06-.94-2.06-.94L8.5 2.5l-.94 2.06-2.06.94zm10 10l.94 2.06.94-2.06 2.06-.94-2.06-.94-.94-2.06-.94 2.06-2.06.94z\"/><path d=\"M17.41 7.96l-1.37-1.37c-.4-.4-.92-.59-1.43-.59-.52 0-1.04.2-1.43.59L10.3 9.45l-7.72 7.72c-.78.78-.78 2.05 0 2.83L4 21.41c.39.39.9.59 1.41.59.51 0 1.02-.2 1.41-.59l7.78-7.78 2.81-2.81c.8-.78.8-2.07 0-2.86zM5.41 20L4 18.59l7.72-7.72 1.47 1.35L5.41 20z\"/>\n",
              "  </svg>\n",
              "      </button>\n",
              "      \n",
              "  <style>\n",
              "    .colab-df-container {\n",
              "      display:flex;\n",
              "      flex-wrap:wrap;\n",
              "      gap: 12px;\n",
              "    }\n",
              "\n",
              "    .colab-df-convert {\n",
              "      background-color: #E8F0FE;\n",
              "      border: none;\n",
              "      border-radius: 50%;\n",
              "      cursor: pointer;\n",
              "      display: none;\n",
              "      fill: #1967D2;\n",
              "      height: 32px;\n",
              "      padding: 0 0 0 0;\n",
              "      width: 32px;\n",
              "    }\n",
              "\n",
              "    .colab-df-convert:hover {\n",
              "      background-color: #E2EBFA;\n",
              "      box-shadow: 0px 1px 2px rgba(60, 64, 67, 0.3), 0px 1px 3px 1px rgba(60, 64, 67, 0.15);\n",
              "      fill: #174EA6;\n",
              "    }\n",
              "\n",
              "    [theme=dark] .colab-df-convert {\n",
              "      background-color: #3B4455;\n",
              "      fill: #D2E3FC;\n",
              "    }\n",
              "\n",
              "    [theme=dark] .colab-df-convert:hover {\n",
              "      background-color: #434B5C;\n",
              "      box-shadow: 0px 1px 3px 1px rgba(0, 0, 0, 0.15);\n",
              "      filter: drop-shadow(0px 1px 2px rgba(0, 0, 0, 0.3));\n",
              "      fill: #FFFFFF;\n",
              "    }\n",
              "  </style>\n",
              "\n",
              "      <script>\n",
              "        const buttonEl =\n",
              "          document.querySelector('#df-3bc0610f-be78-4d3a-b05d-bf308639a9a1 button.colab-df-convert');\n",
              "        buttonEl.style.display =\n",
              "          google.colab.kernel.accessAllowed ? 'block' : 'none';\n",
              "\n",
              "        async function convertToInteractive(key) {\n",
              "          const element = document.querySelector('#df-3bc0610f-be78-4d3a-b05d-bf308639a9a1');\n",
              "          const dataTable =\n",
              "            await google.colab.kernel.invokeFunction('convertToInteractive',\n",
              "                                                     [key], {});\n",
              "          if (!dataTable) return;\n",
              "\n",
              "          const docLinkHtml = 'Like what you see? Visit the ' +\n",
              "            '<a target=\"_blank\" href=https://colab.research.google.com/notebooks/data_table.ipynb>data table notebook</a>'\n",
              "            + ' to learn more about interactive tables.';\n",
              "          element.innerHTML = '';\n",
              "          dataTable['output_type'] = 'display_data';\n",
              "          await google.colab.output.renderOutput(dataTable, element);\n",
              "          const docLink = document.createElement('div');\n",
              "          docLink.innerHTML = docLinkHtml;\n",
              "          element.appendChild(docLink);\n",
              "        }\n",
              "      </script>\n",
              "    </div>\n",
              "  </div>\n",
              "  "
            ]
          },
          "metadata": {},
          "execution_count": 163
        }
      ]
    },
    {
      "cell_type": "code",
      "source": [
        "#select business in arizona  [df['col1'] == value]\n",
        "\n",
        "Arizona =[data['state'] =='AZ']\n",
        "Arizona"
      ],
      "metadata": {
        "colab": {
          "base_uri": "https://localhost:8080/"
        },
        "id": "Yfn7EiUvVXzQ",
        "outputId": "63ea1e95-19ea-4cc3-ca7f-bd9f30961dc4"
      },
      "id": "Yfn7EiUvVXzQ",
      "execution_count": 164,
      "outputs": [
        {
          "output_type": "execute_result",
          "data": {
            "text/plain": [
              "[0         True\n",
              " 1        False\n",
              " 2        False\n",
              " 3        False\n",
              " 4        False\n",
              "          ...  \n",
              " 37933     True\n",
              " 37934    False\n",
              " 37935     True\n",
              " 37936     True\n",
              " 37937    False\n",
              " Name: state, Length: 37938, dtype: bool]"
            ]
          },
          "metadata": {},
          "execution_count": 164
        }
      ]
    },
    {
      "cell_type": "code",
      "source": [
        "\n",
        "Arizona =(data[data['state'] =='AZ'])\n",
        "Arizona.head()"
      ],
      "metadata": {
        "colab": {
          "base_uri": "https://localhost:8080/",
          "height": 337
        },
        "id": "BEkH_kFNW2BO",
        "outputId": "c59e6a58-25dc-4dc3-994c-ffcf0faa6fe5"
      },
      "id": "BEkH_kFNW2BO",
      "execution_count": 165,
      "outputs": [
        {
          "output_type": "execute_result",
          "data": {
            "text/plain": [
              "                business_id  \\\n",
              "0    vcNAWiLM4dR7D2nwwJ7nCA   \n",
              "297  x5Mv61CnZLohZWxfCVCPTQ   \n",
              "298  2ZnCITVa0abGce4gZ6RhIw   \n",
              "299  EmzaQR5hQlF0WIl24NxAZA   \n",
              "300  SiwN7f0N4bs4ZtPc4yPgiA   \n",
              "\n",
              "                                          full_address  \\\n",
              "0    4840 E Indian School Rd\\nSte 101\\nPhoenix, AZ ...   \n",
              "297              2819 N Central Ave\\nPhoenix, AZ 85004   \n",
              "298              1850 N Central Ave\\nPhoenix, AZ 85004   \n",
              "299             132 E Washington St\\nPhoenix, AZ 85004   \n",
              "300               710 N Central Ave\\nPhoenix, AZ 85004   \n",
              "\n",
              "                                                 hours  open  \\\n",
              "0    {'Tuesday': {'close': '17:00', 'open': '08:00'...  True   \n",
              "297                                                 {}  True   \n",
              "298                                                 {}  True   \n",
              "299  {'Sunday': {'close': '02:00', 'open': '21:00'}...  True   \n",
              "300                                                 {}  True   \n",
              "\n",
              "                                            categories     city  review_count  \\\n",
              "0                          [Doctors, Health & Medical]  Phoenix             7   \n",
              "297    [Sandwiches, Pizza, Chicken Wings, Restaurants]  Phoenix            12   \n",
              "298          [American (New), Sandwiches, Restaurants]  Phoenix             5   \n",
              "299  [American (New), Nightlife, Dance Clubs, Resta...  Phoenix            20   \n",
              "300                           [Nightlife, Dance Clubs]  Phoenix            15   \n",
              "\n",
              "                       name neighborhoods   longitude state  stars   latitude  \\\n",
              "0         Eric Goldberg, MD            [] -111.983758    AZ    3.5  33.499313   \n",
              "297          Domino's Pizza            [] -112.073418    AZ    2.5  33.479542   \n",
              "298  Viad Tower Restaurants            [] -112.074315    AZ    3.5  33.468988   \n",
              "299              Sky Lounge            [] -112.071702    AZ    2.5  33.448399   \n",
              "300                 Palazzo            [] -112.074225    AZ    2.5  33.456068   \n",
              "\n",
              "                                            attributes      type  \n",
              "0                        {'By Appointment Only': True}  business  \n",
              "297  {'Take-out': True, 'Wi-Fi': 'no', 'Alcohol': '...  business  \n",
              "298  {'Take-out': True, 'Noise Level': 'quiet', 'De...  business  \n",
              "299  {'Alcohol': 'full_bar', 'Price Range': 1, 'Noi...  business  \n",
              "300  {'Price Range': 2, 'Alcohol': 'full_bar', 'Goo...  business  "
            ],
            "text/html": [
              "\n",
              "  <div id=\"df-0b8bacf0-751f-4bce-b650-d55fe8b64ca8\">\n",
              "    <div class=\"colab-df-container\">\n",
              "      <div>\n",
              "<style scoped>\n",
              "    .dataframe tbody tr th:only-of-type {\n",
              "        vertical-align: middle;\n",
              "    }\n",
              "\n",
              "    .dataframe tbody tr th {\n",
              "        vertical-align: top;\n",
              "    }\n",
              "\n",
              "    .dataframe thead th {\n",
              "        text-align: right;\n",
              "    }\n",
              "</style>\n",
              "<table border=\"1\" class=\"dataframe\">\n",
              "  <thead>\n",
              "    <tr style=\"text-align: right;\">\n",
              "      <th></th>\n",
              "      <th>business_id</th>\n",
              "      <th>full_address</th>\n",
              "      <th>hours</th>\n",
              "      <th>open</th>\n",
              "      <th>categories</th>\n",
              "      <th>city</th>\n",
              "      <th>review_count</th>\n",
              "      <th>name</th>\n",
              "      <th>neighborhoods</th>\n",
              "      <th>longitude</th>\n",
              "      <th>state</th>\n",
              "      <th>stars</th>\n",
              "      <th>latitude</th>\n",
              "      <th>attributes</th>\n",
              "      <th>type</th>\n",
              "    </tr>\n",
              "  </thead>\n",
              "  <tbody>\n",
              "    <tr>\n",
              "      <th>0</th>\n",
              "      <td>vcNAWiLM4dR7D2nwwJ7nCA</td>\n",
              "      <td>4840 E Indian School Rd\\nSte 101\\nPhoenix, AZ ...</td>\n",
              "      <td>{'Tuesday': {'close': '17:00', 'open': '08:00'...</td>\n",
              "      <td>True</td>\n",
              "      <td>[Doctors, Health &amp; Medical]</td>\n",
              "      <td>Phoenix</td>\n",
              "      <td>7</td>\n",
              "      <td>Eric Goldberg, MD</td>\n",
              "      <td>[]</td>\n",
              "      <td>-111.983758</td>\n",
              "      <td>AZ</td>\n",
              "      <td>3.5</td>\n",
              "      <td>33.499313</td>\n",
              "      <td>{'By Appointment Only': True}</td>\n",
              "      <td>business</td>\n",
              "    </tr>\n",
              "    <tr>\n",
              "      <th>297</th>\n",
              "      <td>x5Mv61CnZLohZWxfCVCPTQ</td>\n",
              "      <td>2819 N Central Ave\\nPhoenix, AZ 85004</td>\n",
              "      <td>{}</td>\n",
              "      <td>True</td>\n",
              "      <td>[Sandwiches, Pizza, Chicken Wings, Restaurants]</td>\n",
              "      <td>Phoenix</td>\n",
              "      <td>12</td>\n",
              "      <td>Domino's Pizza</td>\n",
              "      <td>[]</td>\n",
              "      <td>-112.073418</td>\n",
              "      <td>AZ</td>\n",
              "      <td>2.5</td>\n",
              "      <td>33.479542</td>\n",
              "      <td>{'Take-out': True, 'Wi-Fi': 'no', 'Alcohol': '...</td>\n",
              "      <td>business</td>\n",
              "    </tr>\n",
              "    <tr>\n",
              "      <th>298</th>\n",
              "      <td>2ZnCITVa0abGce4gZ6RhIw</td>\n",
              "      <td>1850 N Central Ave\\nPhoenix, AZ 85004</td>\n",
              "      <td>{}</td>\n",
              "      <td>True</td>\n",
              "      <td>[American (New), Sandwiches, Restaurants]</td>\n",
              "      <td>Phoenix</td>\n",
              "      <td>5</td>\n",
              "      <td>Viad Tower Restaurants</td>\n",
              "      <td>[]</td>\n",
              "      <td>-112.074315</td>\n",
              "      <td>AZ</td>\n",
              "      <td>3.5</td>\n",
              "      <td>33.468988</td>\n",
              "      <td>{'Take-out': True, 'Noise Level': 'quiet', 'De...</td>\n",
              "      <td>business</td>\n",
              "    </tr>\n",
              "    <tr>\n",
              "      <th>299</th>\n",
              "      <td>EmzaQR5hQlF0WIl24NxAZA</td>\n",
              "      <td>132 E Washington St\\nPhoenix, AZ 85004</td>\n",
              "      <td>{'Sunday': {'close': '02:00', 'open': '21:00'}...</td>\n",
              "      <td>True</td>\n",
              "      <td>[American (New), Nightlife, Dance Clubs, Resta...</td>\n",
              "      <td>Phoenix</td>\n",
              "      <td>20</td>\n",
              "      <td>Sky Lounge</td>\n",
              "      <td>[]</td>\n",
              "      <td>-112.071702</td>\n",
              "      <td>AZ</td>\n",
              "      <td>2.5</td>\n",
              "      <td>33.448399</td>\n",
              "      <td>{'Alcohol': 'full_bar', 'Price Range': 1, 'Noi...</td>\n",
              "      <td>business</td>\n",
              "    </tr>\n",
              "    <tr>\n",
              "      <th>300</th>\n",
              "      <td>SiwN7f0N4bs4ZtPc4yPgiA</td>\n",
              "      <td>710 N Central Ave\\nPhoenix, AZ 85004</td>\n",
              "      <td>{}</td>\n",
              "      <td>True</td>\n",
              "      <td>[Nightlife, Dance Clubs]</td>\n",
              "      <td>Phoenix</td>\n",
              "      <td>15</td>\n",
              "      <td>Palazzo</td>\n",
              "      <td>[]</td>\n",
              "      <td>-112.074225</td>\n",
              "      <td>AZ</td>\n",
              "      <td>2.5</td>\n",
              "      <td>33.456068</td>\n",
              "      <td>{'Price Range': 2, 'Alcohol': 'full_bar', 'Goo...</td>\n",
              "      <td>business</td>\n",
              "    </tr>\n",
              "  </tbody>\n",
              "</table>\n",
              "</div>\n",
              "      <button class=\"colab-df-convert\" onclick=\"convertToInteractive('df-0b8bacf0-751f-4bce-b650-d55fe8b64ca8')\"\n",
              "              title=\"Convert this dataframe to an interactive table.\"\n",
              "              style=\"display:none;\">\n",
              "        \n",
              "  <svg xmlns=\"http://www.w3.org/2000/svg\" height=\"24px\"viewBox=\"0 0 24 24\"\n",
              "       width=\"24px\">\n",
              "    <path d=\"M0 0h24v24H0V0z\" fill=\"none\"/>\n",
              "    <path d=\"M18.56 5.44l.94 2.06.94-2.06 2.06-.94-2.06-.94-.94-2.06-.94 2.06-2.06.94zm-11 1L8.5 8.5l.94-2.06 2.06-.94-2.06-.94L8.5 2.5l-.94 2.06-2.06.94zm10 10l.94 2.06.94-2.06 2.06-.94-2.06-.94-.94-2.06-.94 2.06-2.06.94z\"/><path d=\"M17.41 7.96l-1.37-1.37c-.4-.4-.92-.59-1.43-.59-.52 0-1.04.2-1.43.59L10.3 9.45l-7.72 7.72c-.78.78-.78 2.05 0 2.83L4 21.41c.39.39.9.59 1.41.59.51 0 1.02-.2 1.41-.59l7.78-7.78 2.81-2.81c.8-.78.8-2.07 0-2.86zM5.41 20L4 18.59l7.72-7.72 1.47 1.35L5.41 20z\"/>\n",
              "  </svg>\n",
              "      </button>\n",
              "      \n",
              "  <style>\n",
              "    .colab-df-container {\n",
              "      display:flex;\n",
              "      flex-wrap:wrap;\n",
              "      gap: 12px;\n",
              "    }\n",
              "\n",
              "    .colab-df-convert {\n",
              "      background-color: #E8F0FE;\n",
              "      border: none;\n",
              "      border-radius: 50%;\n",
              "      cursor: pointer;\n",
              "      display: none;\n",
              "      fill: #1967D2;\n",
              "      height: 32px;\n",
              "      padding: 0 0 0 0;\n",
              "      width: 32px;\n",
              "    }\n",
              "\n",
              "    .colab-df-convert:hover {\n",
              "      background-color: #E2EBFA;\n",
              "      box-shadow: 0px 1px 2px rgba(60, 64, 67, 0.3), 0px 1px 3px 1px rgba(60, 64, 67, 0.15);\n",
              "      fill: #174EA6;\n",
              "    }\n",
              "\n",
              "    [theme=dark] .colab-df-convert {\n",
              "      background-color: #3B4455;\n",
              "      fill: #D2E3FC;\n",
              "    }\n",
              "\n",
              "    [theme=dark] .colab-df-convert:hover {\n",
              "      background-color: #434B5C;\n",
              "      box-shadow: 0px 1px 3px 1px rgba(0, 0, 0, 0.15);\n",
              "      filter: drop-shadow(0px 1px 2px rgba(0, 0, 0, 0.3));\n",
              "      fill: #FFFFFF;\n",
              "    }\n",
              "  </style>\n",
              "\n",
              "      <script>\n",
              "        const buttonEl =\n",
              "          document.querySelector('#df-0b8bacf0-751f-4bce-b650-d55fe8b64ca8 button.colab-df-convert');\n",
              "        buttonEl.style.display =\n",
              "          google.colab.kernel.accessAllowed ? 'block' : 'none';\n",
              "\n",
              "        async function convertToInteractive(key) {\n",
              "          const element = document.querySelector('#df-0b8bacf0-751f-4bce-b650-d55fe8b64ca8');\n",
              "          const dataTable =\n",
              "            await google.colab.kernel.invokeFunction('convertToInteractive',\n",
              "                                                     [key], {});\n",
              "          if (!dataTable) return;\n",
              "\n",
              "          const docLinkHtml = 'Like what you see? Visit the ' +\n",
              "            '<a target=\"_blank\" href=https://colab.research.google.com/notebooks/data_table.ipynb>data table notebook</a>'\n",
              "            + ' to learn more about interactive tables.';\n",
              "          element.innerHTML = '';\n",
              "          dataTable['output_type'] = 'display_data';\n",
              "          await google.colab.output.renderOutput(dataTable, element);\n",
              "          const docLink = document.createElement('div');\n",
              "          docLink.innerHTML = docLinkHtml;\n",
              "          element.appendChild(docLink);\n",
              "        }\n",
              "      </script>\n",
              "    </div>\n",
              "  </div>\n",
              "  "
            ]
          },
          "metadata": {},
          "execution_count": 165
        }
      ]
    },
    {
      "cell_type": "code",
      "source": [
        "Arizona['state'].unique()"
      ],
      "metadata": {
        "colab": {
          "base_uri": "https://localhost:8080/"
        },
        "id": "6hVxFnDHYNOg",
        "outputId": "95e6d58e-407b-46e7-a689-d90e7534d955"
      },
      "id": "6hVxFnDHYNOg",
      "execution_count": 166,
      "outputs": [
        {
          "output_type": "execute_result",
          "data": {
            "text/plain": [
              "array(['AZ'], dtype=object)"
            ]
          },
          "metadata": {},
          "execution_count": 166
        }
      ]
    },
    {
      "cell_type": "code",
      "source": [
        "(data['state'] =='AZ') & (data['review_count'] >10) & (data['stars'] > 3.5)"
      ],
      "metadata": {
        "colab": {
          "base_uri": "https://localhost:8080/"
        },
        "id": "1X1j1vP-Y8RV",
        "outputId": "0fac3ea3-a5e0-4e29-baf3-fad3e2644fd9"
      },
      "id": "1X1j1vP-Y8RV",
      "execution_count": 167,
      "outputs": [
        {
          "output_type": "execute_result",
          "data": {
            "text/plain": [
              "0        False\n",
              "1        False\n",
              "2        False\n",
              "3        False\n",
              "4        False\n",
              "         ...  \n",
              "37933    False\n",
              "37934    False\n",
              "37935     True\n",
              "37936    False\n",
              "37937    False\n",
              "Length: 37938, dtype: bool"
            ]
          },
          "metadata": {},
          "execution_count": 167
        }
      ]
    },
    {
      "cell_type": "code",
      "source": [
        "data[(data['state'] =='AZ') & (data['review_count'] >10) & (data['stars'] > 3.5)].head()"
      ],
      "metadata": {
        "colab": {
          "base_uri": "https://localhost:8080/",
          "height": 337
        },
        "id": "lKm7JFSebzk-",
        "outputId": "1ed1be2f-ad65-4694-eff9-6a95b66b7fc9"
      },
      "id": "lKm7JFSebzk-",
      "execution_count": 168,
      "outputs": [
        {
          "output_type": "execute_result",
          "data": {
            "text/plain": [
              "                business_id                                full_address  \\\n",
              "301  M-MFa0YErVBbFW2IJhGJmw       386 E Virginia Ave\\nPhoenix, AZ 85004   \n",
              "302  KPoTixdjoJxSqRSEApSAGg       2631 N Central Ave\\nPhoenix, AZ 85004   \n",
              "303  OtDcALEX6-LfEOQE0QgHYw  940 N 54th St\\nSte 104\\nChandler, AZ 85226   \n",
              "313  545sP7uSdCcKDZ-reeVOgQ             231 N 3rd St\\nPhoenix, AZ 85004   \n",
              "314  RA2EuX04SHqmayKpLhpNvA          222 E Monroe St\\nPhoenix, AZ 85004   \n",
              "\n",
              "                                                 hours  open  \\\n",
              "301  {'Tuesday': {'close': '18:00', 'open': '07:30'...  True   \n",
              "302  {'Monday': {'close': '21:00', 'open': '11:00'}...  True   \n",
              "303  {'Monday': {'close': '18:00', 'open': '08:00'}...  True   \n",
              "313                                                 {}  True   \n",
              "314  {'Monday': {'close': '17:00', 'open': '10:00'}...  True   \n",
              "\n",
              "                                            categories      city  \\\n",
              "301  [Auto Repair, Automotive, Tires, Oil Change St...   Phoenix   \n",
              "302                                [Thai, Restaurants]   Phoenix   \n",
              "303                           [Barbers, Beauty & Spas]  Chandler   \n",
              "313                [Churches, Religious Organizations]   Phoenix   \n",
              "314            [Arts & Entertainment, Performing Arts]   Phoenix   \n",
              "\n",
              "     review_count                                name neighborhoods  \\\n",
              "301            28               Virginia Auto Service            []   \n",
              "302           281                        Wild Thaiger            []   \n",
              "303            12                      V's Barbershop            []   \n",
              "313            13  St Mary's Basilica Catholic Church            []   \n",
              "314            54            Herberger Theater Center            []   \n",
              "\n",
              "      longitude state  stars   latitude  \\\n",
              "301 -112.065806    AZ    4.0  33.476784   \n",
              "302 -112.073524    AZ    4.0  33.477934   \n",
              "303 -111.970480    AZ    4.0  33.319011   \n",
              "313 -112.069947    AZ    5.0  33.450684   \n",
              "314 -112.070585    AZ    4.0  33.450707   \n",
              "\n",
              "                                            attributes      type  \n",
              "301                                                 {}  business  \n",
              "302  {'Take-out': True, 'Wi-Fi': 'no', 'Good For': ...  business  \n",
              "303  {'By Appointment Only': False, 'Parking': {'ga...  business  \n",
              "313                                                 {}  business  \n",
              "314  {'Dogs Allowed': False, 'Good for Kids': True,...  business  "
            ],
            "text/html": [
              "\n",
              "  <div id=\"df-032823ce-a872-405f-a2c9-75b86d976e2f\">\n",
              "    <div class=\"colab-df-container\">\n",
              "      <div>\n",
              "<style scoped>\n",
              "    .dataframe tbody tr th:only-of-type {\n",
              "        vertical-align: middle;\n",
              "    }\n",
              "\n",
              "    .dataframe tbody tr th {\n",
              "        vertical-align: top;\n",
              "    }\n",
              "\n",
              "    .dataframe thead th {\n",
              "        text-align: right;\n",
              "    }\n",
              "</style>\n",
              "<table border=\"1\" class=\"dataframe\">\n",
              "  <thead>\n",
              "    <tr style=\"text-align: right;\">\n",
              "      <th></th>\n",
              "      <th>business_id</th>\n",
              "      <th>full_address</th>\n",
              "      <th>hours</th>\n",
              "      <th>open</th>\n",
              "      <th>categories</th>\n",
              "      <th>city</th>\n",
              "      <th>review_count</th>\n",
              "      <th>name</th>\n",
              "      <th>neighborhoods</th>\n",
              "      <th>longitude</th>\n",
              "      <th>state</th>\n",
              "      <th>stars</th>\n",
              "      <th>latitude</th>\n",
              "      <th>attributes</th>\n",
              "      <th>type</th>\n",
              "    </tr>\n",
              "  </thead>\n",
              "  <tbody>\n",
              "    <tr>\n",
              "      <th>301</th>\n",
              "      <td>M-MFa0YErVBbFW2IJhGJmw</td>\n",
              "      <td>386 E Virginia Ave\\nPhoenix, AZ 85004</td>\n",
              "      <td>{'Tuesday': {'close': '18:00', 'open': '07:30'...</td>\n",
              "      <td>True</td>\n",
              "      <td>[Auto Repair, Automotive, Tires, Oil Change St...</td>\n",
              "      <td>Phoenix</td>\n",
              "      <td>28</td>\n",
              "      <td>Virginia Auto Service</td>\n",
              "      <td>[]</td>\n",
              "      <td>-112.065806</td>\n",
              "      <td>AZ</td>\n",
              "      <td>4.0</td>\n",
              "      <td>33.476784</td>\n",
              "      <td>{}</td>\n",
              "      <td>business</td>\n",
              "    </tr>\n",
              "    <tr>\n",
              "      <th>302</th>\n",
              "      <td>KPoTixdjoJxSqRSEApSAGg</td>\n",
              "      <td>2631 N Central Ave\\nPhoenix, AZ 85004</td>\n",
              "      <td>{'Monday': {'close': '21:00', 'open': '11:00'}...</td>\n",
              "      <td>True</td>\n",
              "      <td>[Thai, Restaurants]</td>\n",
              "      <td>Phoenix</td>\n",
              "      <td>281</td>\n",
              "      <td>Wild Thaiger</td>\n",
              "      <td>[]</td>\n",
              "      <td>-112.073524</td>\n",
              "      <td>AZ</td>\n",
              "      <td>4.0</td>\n",
              "      <td>33.477934</td>\n",
              "      <td>{'Take-out': True, 'Wi-Fi': 'no', 'Good For': ...</td>\n",
              "      <td>business</td>\n",
              "    </tr>\n",
              "    <tr>\n",
              "      <th>303</th>\n",
              "      <td>OtDcALEX6-LfEOQE0QgHYw</td>\n",
              "      <td>940 N 54th St\\nSte 104\\nChandler, AZ 85226</td>\n",
              "      <td>{'Monday': {'close': '18:00', 'open': '08:00'}...</td>\n",
              "      <td>True</td>\n",
              "      <td>[Barbers, Beauty &amp; Spas]</td>\n",
              "      <td>Chandler</td>\n",
              "      <td>12</td>\n",
              "      <td>V's Barbershop</td>\n",
              "      <td>[]</td>\n",
              "      <td>-111.970480</td>\n",
              "      <td>AZ</td>\n",
              "      <td>4.0</td>\n",
              "      <td>33.319011</td>\n",
              "      <td>{'By Appointment Only': False, 'Parking': {'ga...</td>\n",
              "      <td>business</td>\n",
              "    </tr>\n",
              "    <tr>\n",
              "      <th>313</th>\n",
              "      <td>545sP7uSdCcKDZ-reeVOgQ</td>\n",
              "      <td>231 N 3rd St\\nPhoenix, AZ 85004</td>\n",
              "      <td>{}</td>\n",
              "      <td>True</td>\n",
              "      <td>[Churches, Religious Organizations]</td>\n",
              "      <td>Phoenix</td>\n",
              "      <td>13</td>\n",
              "      <td>St Mary's Basilica Catholic Church</td>\n",
              "      <td>[]</td>\n",
              "      <td>-112.069947</td>\n",
              "      <td>AZ</td>\n",
              "      <td>5.0</td>\n",
              "      <td>33.450684</td>\n",
              "      <td>{}</td>\n",
              "      <td>business</td>\n",
              "    </tr>\n",
              "    <tr>\n",
              "      <th>314</th>\n",
              "      <td>RA2EuX04SHqmayKpLhpNvA</td>\n",
              "      <td>222 E Monroe St\\nPhoenix, AZ 85004</td>\n",
              "      <td>{'Monday': {'close': '17:00', 'open': '10:00'}...</td>\n",
              "      <td>True</td>\n",
              "      <td>[Arts &amp; Entertainment, Performing Arts]</td>\n",
              "      <td>Phoenix</td>\n",
              "      <td>54</td>\n",
              "      <td>Herberger Theater Center</td>\n",
              "      <td>[]</td>\n",
              "      <td>-112.070585</td>\n",
              "      <td>AZ</td>\n",
              "      <td>4.0</td>\n",
              "      <td>33.450707</td>\n",
              "      <td>{'Dogs Allowed': False, 'Good for Kids': True,...</td>\n",
              "      <td>business</td>\n",
              "    </tr>\n",
              "  </tbody>\n",
              "</table>\n",
              "</div>\n",
              "      <button class=\"colab-df-convert\" onclick=\"convertToInteractive('df-032823ce-a872-405f-a2c9-75b86d976e2f')\"\n",
              "              title=\"Convert this dataframe to an interactive table.\"\n",
              "              style=\"display:none;\">\n",
              "        \n",
              "  <svg xmlns=\"http://www.w3.org/2000/svg\" height=\"24px\"viewBox=\"0 0 24 24\"\n",
              "       width=\"24px\">\n",
              "    <path d=\"M0 0h24v24H0V0z\" fill=\"none\"/>\n",
              "    <path d=\"M18.56 5.44l.94 2.06.94-2.06 2.06-.94-2.06-.94-.94-2.06-.94 2.06-2.06.94zm-11 1L8.5 8.5l.94-2.06 2.06-.94-2.06-.94L8.5 2.5l-.94 2.06-2.06.94zm10 10l.94 2.06.94-2.06 2.06-.94-2.06-.94-.94-2.06-.94 2.06-2.06.94z\"/><path d=\"M17.41 7.96l-1.37-1.37c-.4-.4-.92-.59-1.43-.59-.52 0-1.04.2-1.43.59L10.3 9.45l-7.72 7.72c-.78.78-.78 2.05 0 2.83L4 21.41c.39.39.9.59 1.41.59.51 0 1.02-.2 1.41-.59l7.78-7.78 2.81-2.81c.8-.78.8-2.07 0-2.86zM5.41 20L4 18.59l7.72-7.72 1.47 1.35L5.41 20z\"/>\n",
              "  </svg>\n",
              "      </button>\n",
              "      \n",
              "  <style>\n",
              "    .colab-df-container {\n",
              "      display:flex;\n",
              "      flex-wrap:wrap;\n",
              "      gap: 12px;\n",
              "    }\n",
              "\n",
              "    .colab-df-convert {\n",
              "      background-color: #E8F0FE;\n",
              "      border: none;\n",
              "      border-radius: 50%;\n",
              "      cursor: pointer;\n",
              "      display: none;\n",
              "      fill: #1967D2;\n",
              "      height: 32px;\n",
              "      padding: 0 0 0 0;\n",
              "      width: 32px;\n",
              "    }\n",
              "\n",
              "    .colab-df-convert:hover {\n",
              "      background-color: #E2EBFA;\n",
              "      box-shadow: 0px 1px 2px rgba(60, 64, 67, 0.3), 0px 1px 3px 1px rgba(60, 64, 67, 0.15);\n",
              "      fill: #174EA6;\n",
              "    }\n",
              "\n",
              "    [theme=dark] .colab-df-convert {\n",
              "      background-color: #3B4455;\n",
              "      fill: #D2E3FC;\n",
              "    }\n",
              "\n",
              "    [theme=dark] .colab-df-convert:hover {\n",
              "      background-color: #434B5C;\n",
              "      box-shadow: 0px 1px 3px 1px rgba(0, 0, 0, 0.15);\n",
              "      filter: drop-shadow(0px 1px 2px rgba(0, 0, 0, 0.3));\n",
              "      fill: #FFFFFF;\n",
              "    }\n",
              "  </style>\n",
              "\n",
              "      <script>\n",
              "        const buttonEl =\n",
              "          document.querySelector('#df-032823ce-a872-405f-a2c9-75b86d976e2f button.colab-df-convert');\n",
              "        buttonEl.style.display =\n",
              "          google.colab.kernel.accessAllowed ? 'block' : 'none';\n",
              "\n",
              "        async function convertToInteractive(key) {\n",
              "          const element = document.querySelector('#df-032823ce-a872-405f-a2c9-75b86d976e2f');\n",
              "          const dataTable =\n",
              "            await google.colab.kernel.invokeFunction('convertToInteractive',\n",
              "                                                     [key], {});\n",
              "          if (!dataTable) return;\n",
              "\n",
              "          const docLinkHtml = 'Like what you see? Visit the ' +\n",
              "            '<a target=\"_blank\" href=https://colab.research.google.com/notebooks/data_table.ipynb>data table notebook</a>'\n",
              "            + ' to learn more about interactive tables.';\n",
              "          element.innerHTML = '';\n",
              "          dataTable['output_type'] = 'display_data';\n",
              "          await google.colab.output.renderOutput(dataTable, element);\n",
              "          const docLink = document.createElement('div');\n",
              "          docLink.innerHTML = docLinkHtml;\n",
              "          element.appendChild(docLink);\n",
              "        }\n",
              "      </script>\n",
              "    </div>\n",
              "  </div>\n",
              "  "
            ]
          },
          "metadata": {},
          "execution_count": 168
        }
      ]
    },
    {
      "cell_type": "code",
      "source": [
        "data[data['open']].head()"
      ],
      "metadata": {
        "colab": {
          "base_uri": "https://localhost:8080/",
          "height": 337
        },
        "id": "1GXgyfbVbCYV",
        "outputId": "dcb39106-2f19-4fe1-a938-b91200099363"
      },
      "id": "1GXgyfbVbCYV",
      "execution_count": 169,
      "outputs": [
        {
          "output_type": "execute_result",
          "data": {
            "text/plain": [
              "              business_id                                       full_address  \\\n",
              "0  vcNAWiLM4dR7D2nwwJ7nCA  4840 E Indian School Rd\\nSte 101\\nPhoenix, AZ ...   \n",
              "1  JwUE5GmEO-sH1FuwJgKBlQ            6162 US Highway 51\\nDe Forest, WI 53532   \n",
              "2  uGykseHzyS5xAMWoN6YUqA                505 W North St\\nDe Forest, WI 53532   \n",
              "3  LRKJF43s9-3jG9Lgx4zODg              4910 County Rd V\\nDe Forest, WI 53532   \n",
              "4  RgDg-k9S5YD_BaxMckifkg                 631 S Main St\\nDe Forest, WI 53532   \n",
              "\n",
              "                                               hours  open  \\\n",
              "0  {'Tuesday': {'close': '17:00', 'open': '08:00'...  True   \n",
              "1                                                 {}  True   \n",
              "2  {'Monday': {'close': '22:00', 'open': '06:00'}...  True   \n",
              "3  {'Monday': {'close': '22:00', 'open': '10:30'}...  True   \n",
              "4  {'Monday': {'close': '22:00', 'open': '11:00'}...  True   \n",
              "\n",
              "                                          categories       city  review_count  \\\n",
              "0                        [Doctors, Health & Medical]    Phoenix             7   \n",
              "1                                      [Restaurants]  De Forest            26   \n",
              "2              [American (Traditional), Restaurants]  De Forest            16   \n",
              "3  [Food, Ice Cream & Frozen Yogurt, Fast Food, R...  De Forest             7   \n",
              "4                             [Chinese, Restaurants]  De Forest             3   \n",
              "\n",
              "                          name neighborhoods   longitude state  stars  \\\n",
              "0            Eric Goldberg, MD            [] -111.983758    AZ    3.5   \n",
              "1         Pine Cone Restaurant            []  -89.335844    WI    4.0   \n",
              "2   Deforest Family Restaurant            []  -89.353437    WI    4.0   \n",
              "3                     Culver's            []  -89.374983    WI    4.5   \n",
              "4  Chang Jiang Chinese Kitchen            []  -89.343722    WI    4.0   \n",
              "\n",
              "    latitude                                         attributes      type  \n",
              "0  33.499313                      {'By Appointment Only': True}  business  \n",
              "1  43.238893  {'Take-out': True, 'Good For': {'dessert': Fal...  business  \n",
              "2  43.252267  {'Take-out': True, 'Good For': {'dessert': Fal...  business  \n",
              "3  43.251045  {'Take-out': True, 'Wi-Fi': 'free', 'Takes Res...  business  \n",
              "4  43.240875  {'Take-out': True, 'Has TV': False, 'Outdoor S...  business  "
            ],
            "text/html": [
              "\n",
              "  <div id=\"df-74f80db9-097c-46fe-8f24-96be52ee0b3a\">\n",
              "    <div class=\"colab-df-container\">\n",
              "      <div>\n",
              "<style scoped>\n",
              "    .dataframe tbody tr th:only-of-type {\n",
              "        vertical-align: middle;\n",
              "    }\n",
              "\n",
              "    .dataframe tbody tr th {\n",
              "        vertical-align: top;\n",
              "    }\n",
              "\n",
              "    .dataframe thead th {\n",
              "        text-align: right;\n",
              "    }\n",
              "</style>\n",
              "<table border=\"1\" class=\"dataframe\">\n",
              "  <thead>\n",
              "    <tr style=\"text-align: right;\">\n",
              "      <th></th>\n",
              "      <th>business_id</th>\n",
              "      <th>full_address</th>\n",
              "      <th>hours</th>\n",
              "      <th>open</th>\n",
              "      <th>categories</th>\n",
              "      <th>city</th>\n",
              "      <th>review_count</th>\n",
              "      <th>name</th>\n",
              "      <th>neighborhoods</th>\n",
              "      <th>longitude</th>\n",
              "      <th>state</th>\n",
              "      <th>stars</th>\n",
              "      <th>latitude</th>\n",
              "      <th>attributes</th>\n",
              "      <th>type</th>\n",
              "    </tr>\n",
              "  </thead>\n",
              "  <tbody>\n",
              "    <tr>\n",
              "      <th>0</th>\n",
              "      <td>vcNAWiLM4dR7D2nwwJ7nCA</td>\n",
              "      <td>4840 E Indian School Rd\\nSte 101\\nPhoenix, AZ ...</td>\n",
              "      <td>{'Tuesday': {'close': '17:00', 'open': '08:00'...</td>\n",
              "      <td>True</td>\n",
              "      <td>[Doctors, Health &amp; Medical]</td>\n",
              "      <td>Phoenix</td>\n",
              "      <td>7</td>\n",
              "      <td>Eric Goldberg, MD</td>\n",
              "      <td>[]</td>\n",
              "      <td>-111.983758</td>\n",
              "      <td>AZ</td>\n",
              "      <td>3.5</td>\n",
              "      <td>33.499313</td>\n",
              "      <td>{'By Appointment Only': True}</td>\n",
              "      <td>business</td>\n",
              "    </tr>\n",
              "    <tr>\n",
              "      <th>1</th>\n",
              "      <td>JwUE5GmEO-sH1FuwJgKBlQ</td>\n",
              "      <td>6162 US Highway 51\\nDe Forest, WI 53532</td>\n",
              "      <td>{}</td>\n",
              "      <td>True</td>\n",
              "      <td>[Restaurants]</td>\n",
              "      <td>De Forest</td>\n",
              "      <td>26</td>\n",
              "      <td>Pine Cone Restaurant</td>\n",
              "      <td>[]</td>\n",
              "      <td>-89.335844</td>\n",
              "      <td>WI</td>\n",
              "      <td>4.0</td>\n",
              "      <td>43.238893</td>\n",
              "      <td>{'Take-out': True, 'Good For': {'dessert': Fal...</td>\n",
              "      <td>business</td>\n",
              "    </tr>\n",
              "    <tr>\n",
              "      <th>2</th>\n",
              "      <td>uGykseHzyS5xAMWoN6YUqA</td>\n",
              "      <td>505 W North St\\nDe Forest, WI 53532</td>\n",
              "      <td>{'Monday': {'close': '22:00', 'open': '06:00'}...</td>\n",
              "      <td>True</td>\n",
              "      <td>[American (Traditional), Restaurants]</td>\n",
              "      <td>De Forest</td>\n",
              "      <td>16</td>\n",
              "      <td>Deforest Family Restaurant</td>\n",
              "      <td>[]</td>\n",
              "      <td>-89.353437</td>\n",
              "      <td>WI</td>\n",
              "      <td>4.0</td>\n",
              "      <td>43.252267</td>\n",
              "      <td>{'Take-out': True, 'Good For': {'dessert': Fal...</td>\n",
              "      <td>business</td>\n",
              "    </tr>\n",
              "    <tr>\n",
              "      <th>3</th>\n",
              "      <td>LRKJF43s9-3jG9Lgx4zODg</td>\n",
              "      <td>4910 County Rd V\\nDe Forest, WI 53532</td>\n",
              "      <td>{'Monday': {'close': '22:00', 'open': '10:30'}...</td>\n",
              "      <td>True</td>\n",
              "      <td>[Food, Ice Cream &amp; Frozen Yogurt, Fast Food, R...</td>\n",
              "      <td>De Forest</td>\n",
              "      <td>7</td>\n",
              "      <td>Culver's</td>\n",
              "      <td>[]</td>\n",
              "      <td>-89.374983</td>\n",
              "      <td>WI</td>\n",
              "      <td>4.5</td>\n",
              "      <td>43.251045</td>\n",
              "      <td>{'Take-out': True, 'Wi-Fi': 'free', 'Takes Res...</td>\n",
              "      <td>business</td>\n",
              "    </tr>\n",
              "    <tr>\n",
              "      <th>4</th>\n",
              "      <td>RgDg-k9S5YD_BaxMckifkg</td>\n",
              "      <td>631 S Main St\\nDe Forest, WI 53532</td>\n",
              "      <td>{'Monday': {'close': '22:00', 'open': '11:00'}...</td>\n",
              "      <td>True</td>\n",
              "      <td>[Chinese, Restaurants]</td>\n",
              "      <td>De Forest</td>\n",
              "      <td>3</td>\n",
              "      <td>Chang Jiang Chinese Kitchen</td>\n",
              "      <td>[]</td>\n",
              "      <td>-89.343722</td>\n",
              "      <td>WI</td>\n",
              "      <td>4.0</td>\n",
              "      <td>43.240875</td>\n",
              "      <td>{'Take-out': True, 'Has TV': False, 'Outdoor S...</td>\n",
              "      <td>business</td>\n",
              "    </tr>\n",
              "  </tbody>\n",
              "</table>\n",
              "</div>\n",
              "      <button class=\"colab-df-convert\" onclick=\"convertToInteractive('df-74f80db9-097c-46fe-8f24-96be52ee0b3a')\"\n",
              "              title=\"Convert this dataframe to an interactive table.\"\n",
              "              style=\"display:none;\">\n",
              "        \n",
              "  <svg xmlns=\"http://www.w3.org/2000/svg\" height=\"24px\"viewBox=\"0 0 24 24\"\n",
              "       width=\"24px\">\n",
              "    <path d=\"M0 0h24v24H0V0z\" fill=\"none\"/>\n",
              "    <path d=\"M18.56 5.44l.94 2.06.94-2.06 2.06-.94-2.06-.94-.94-2.06-.94 2.06-2.06.94zm-11 1L8.5 8.5l.94-2.06 2.06-.94-2.06-.94L8.5 2.5l-.94 2.06-2.06.94zm10 10l.94 2.06.94-2.06 2.06-.94-2.06-.94-.94-2.06-.94 2.06-2.06.94z\"/><path d=\"M17.41 7.96l-1.37-1.37c-.4-.4-.92-.59-1.43-.59-.52 0-1.04.2-1.43.59L10.3 9.45l-7.72 7.72c-.78.78-.78 2.05 0 2.83L4 21.41c.39.39.9.59 1.41.59.51 0 1.02-.2 1.41-.59l7.78-7.78 2.81-2.81c.8-.78.8-2.07 0-2.86zM5.41 20L4 18.59l7.72-7.72 1.47 1.35L5.41 20z\"/>\n",
              "  </svg>\n",
              "      </button>\n",
              "      \n",
              "  <style>\n",
              "    .colab-df-container {\n",
              "      display:flex;\n",
              "      flex-wrap:wrap;\n",
              "      gap: 12px;\n",
              "    }\n",
              "\n",
              "    .colab-df-convert {\n",
              "      background-color: #E8F0FE;\n",
              "      border: none;\n",
              "      border-radius: 50%;\n",
              "      cursor: pointer;\n",
              "      display: none;\n",
              "      fill: #1967D2;\n",
              "      height: 32px;\n",
              "      padding: 0 0 0 0;\n",
              "      width: 32px;\n",
              "    }\n",
              "\n",
              "    .colab-df-convert:hover {\n",
              "      background-color: #E2EBFA;\n",
              "      box-shadow: 0px 1px 2px rgba(60, 64, 67, 0.3), 0px 1px 3px 1px rgba(60, 64, 67, 0.15);\n",
              "      fill: #174EA6;\n",
              "    }\n",
              "\n",
              "    [theme=dark] .colab-df-convert {\n",
              "      background-color: #3B4455;\n",
              "      fill: #D2E3FC;\n",
              "    }\n",
              "\n",
              "    [theme=dark] .colab-df-convert:hover {\n",
              "      background-color: #434B5C;\n",
              "      box-shadow: 0px 1px 3px 1px rgba(0, 0, 0, 0.15);\n",
              "      filter: drop-shadow(0px 1px 2px rgba(0, 0, 0, 0.3));\n",
              "      fill: #FFFFFF;\n",
              "    }\n",
              "  </style>\n",
              "\n",
              "      <script>\n",
              "        const buttonEl =\n",
              "          document.querySelector('#df-74f80db9-097c-46fe-8f24-96be52ee0b3a button.colab-df-convert');\n",
              "        buttonEl.style.display =\n",
              "          google.colab.kernel.accessAllowed ? 'block' : 'none';\n",
              "\n",
              "        async function convertToInteractive(key) {\n",
              "          const element = document.querySelector('#df-74f80db9-097c-46fe-8f24-96be52ee0b3a');\n",
              "          const dataTable =\n",
              "            await google.colab.kernel.invokeFunction('convertToInteractive',\n",
              "                                                     [key], {});\n",
              "          if (!dataTable) return;\n",
              "\n",
              "          const docLinkHtml = 'Like what you see? Visit the ' +\n",
              "            '<a target=\"_blank\" href=https://colab.research.google.com/notebooks/data_table.ipynb>data table notebook</a>'\n",
              "            + ' to learn more about interactive tables.';\n",
              "          element.innerHTML = '';\n",
              "          dataTable['output_type'] = 'display_data';\n",
              "          await google.colab.output.renderOutput(dataTable, element);\n",
              "          const docLink = document.createElement('div');\n",
              "          docLink.innerHTML = docLinkHtml;\n",
              "          element.appendChild(docLink);\n",
              "        }\n",
              "      </script>\n",
              "    </div>\n",
              "  </div>\n",
              "  "
            ]
          },
          "metadata": {},
          "execution_count": 169
        }
      ]
    },
    {
      "cell_type": "code",
      "source": [
        "#negation\n",
        "\n",
        "data[-data['open']].head()"
      ],
      "metadata": {
        "colab": {
          "base_uri": "https://localhost:8080/",
          "height": 337
        },
        "id": "lvBvADcVeYfF",
        "outputId": "bcaa566f-001d-4dc5-a603-d62d1af99f4b"
      },
      "id": "lvBvADcVeYfF",
      "execution_count": 170,
      "outputs": [
        {
          "output_type": "execute_result",
          "data": {
            "text/plain": [
              "               business_id                                       full_address  \\\n",
              "5   oLctHIA1AxmsgOuu4dM6Vw             4156 County Rd B\\nMc Farland, WI 53558   \n",
              "14  HxPpZSY6Q1eARuiahhra6A           6401 University Ave\\nMiddleton, WI 53562   \n",
              "16  77ESrCo7hQ96VpCWWdvoxg           6230 University Ave\\nMiddleton, WI 53562   \n",
              "50  IEmqrFe96NOhU07TA0rZdw              6625 Century Ave\\nMiddleton, WI 53562   \n",
              "62  mbtGl2I2A2To-8jiggN99g  6661 University Ave\\nSte 103\\nMiddleton, WI 53562   \n",
              "\n",
              "                                                hours   open  \\\n",
              "5                                                  {}  False   \n",
              "14                                                 {}  False   \n",
              "16  {'Monday': {'close': '21:00', 'open': '06:00'}...  False   \n",
              "50                                                 {}  False   \n",
              "62  {'Tuesday': {'close': '20:00', 'open': '10:00'...  False   \n",
              "\n",
              "                                           categories        city  \\\n",
              "5                   [Television Stations, Mass Media]  Mc Farland   \n",
              "14  [Event Planning & Services, Party & Event Plan...   Middleton   \n",
              "16                             [Mexican, Restaurants]   Middleton   \n",
              "50              [American (Traditional), Restaurants]   Middleton   \n",
              "62            [Skin Care, Hair Salons, Beauty & Spas]   Middleton   \n",
              "\n",
              "    review_count                            name neighborhoods  longitude  \\\n",
              "5             10          Charter Communications            [] -89.322920   \n",
              "14             5   Crandalls Carryout & Catering            [] -89.491800   \n",
              "16            17                       Mi Cocina            [] -89.487487   \n",
              "50             7  Stamm House At Pheasant Branch            [] -89.494422   \n",
              "62             7                         Tangles            [] -89.497265   \n",
              "\n",
              "   state  stars   latitude                                         attributes  \\\n",
              "5     WI    1.5  42.968507                                                 {}   \n",
              "14    WI    4.0  43.093265  {'Take-out': True, 'Caters': True, 'Attire': '...   \n",
              "16    WI    3.0  43.091061  {'Take-out': True, 'Wi-Fi': 'no', 'Good For': ...   \n",
              "50    WI    2.0  43.104535  {'Alcohol': 'full_bar', 'Attire': 'casual', 'P...   \n",
              "62    WI    2.0  43.096650  {'By Appointment Only': True, 'Parking': {'gar...   \n",
              "\n",
              "        type  \n",
              "5   business  \n",
              "14  business  \n",
              "16  business  \n",
              "50  business  \n",
              "62  business  "
            ],
            "text/html": [
              "\n",
              "  <div id=\"df-d139e929-d89f-40a2-a5b6-5e52b3389d07\">\n",
              "    <div class=\"colab-df-container\">\n",
              "      <div>\n",
              "<style scoped>\n",
              "    .dataframe tbody tr th:only-of-type {\n",
              "        vertical-align: middle;\n",
              "    }\n",
              "\n",
              "    .dataframe tbody tr th {\n",
              "        vertical-align: top;\n",
              "    }\n",
              "\n",
              "    .dataframe thead th {\n",
              "        text-align: right;\n",
              "    }\n",
              "</style>\n",
              "<table border=\"1\" class=\"dataframe\">\n",
              "  <thead>\n",
              "    <tr style=\"text-align: right;\">\n",
              "      <th></th>\n",
              "      <th>business_id</th>\n",
              "      <th>full_address</th>\n",
              "      <th>hours</th>\n",
              "      <th>open</th>\n",
              "      <th>categories</th>\n",
              "      <th>city</th>\n",
              "      <th>review_count</th>\n",
              "      <th>name</th>\n",
              "      <th>neighborhoods</th>\n",
              "      <th>longitude</th>\n",
              "      <th>state</th>\n",
              "      <th>stars</th>\n",
              "      <th>latitude</th>\n",
              "      <th>attributes</th>\n",
              "      <th>type</th>\n",
              "    </tr>\n",
              "  </thead>\n",
              "  <tbody>\n",
              "    <tr>\n",
              "      <th>5</th>\n",
              "      <td>oLctHIA1AxmsgOuu4dM6Vw</td>\n",
              "      <td>4156 County Rd B\\nMc Farland, WI 53558</td>\n",
              "      <td>{}</td>\n",
              "      <td>False</td>\n",
              "      <td>[Television Stations, Mass Media]</td>\n",
              "      <td>Mc Farland</td>\n",
              "      <td>10</td>\n",
              "      <td>Charter Communications</td>\n",
              "      <td>[]</td>\n",
              "      <td>-89.322920</td>\n",
              "      <td>WI</td>\n",
              "      <td>1.5</td>\n",
              "      <td>42.968507</td>\n",
              "      <td>{}</td>\n",
              "      <td>business</td>\n",
              "    </tr>\n",
              "    <tr>\n",
              "      <th>14</th>\n",
              "      <td>HxPpZSY6Q1eARuiahhra6A</td>\n",
              "      <td>6401 University Ave\\nMiddleton, WI 53562</td>\n",
              "      <td>{}</td>\n",
              "      <td>False</td>\n",
              "      <td>[Event Planning &amp; Services, Party &amp; Event Plan...</td>\n",
              "      <td>Middleton</td>\n",
              "      <td>5</td>\n",
              "      <td>Crandalls Carryout &amp; Catering</td>\n",
              "      <td>[]</td>\n",
              "      <td>-89.491800</td>\n",
              "      <td>WI</td>\n",
              "      <td>4.0</td>\n",
              "      <td>43.093265</td>\n",
              "      <td>{'Take-out': True, 'Caters': True, 'Attire': '...</td>\n",
              "      <td>business</td>\n",
              "    </tr>\n",
              "    <tr>\n",
              "      <th>16</th>\n",
              "      <td>77ESrCo7hQ96VpCWWdvoxg</td>\n",
              "      <td>6230 University Ave\\nMiddleton, WI 53562</td>\n",
              "      <td>{'Monday': {'close': '21:00', 'open': '06:00'}...</td>\n",
              "      <td>False</td>\n",
              "      <td>[Mexican, Restaurants]</td>\n",
              "      <td>Middleton</td>\n",
              "      <td>17</td>\n",
              "      <td>Mi Cocina</td>\n",
              "      <td>[]</td>\n",
              "      <td>-89.487487</td>\n",
              "      <td>WI</td>\n",
              "      <td>3.0</td>\n",
              "      <td>43.091061</td>\n",
              "      <td>{'Take-out': True, 'Wi-Fi': 'no', 'Good For': ...</td>\n",
              "      <td>business</td>\n",
              "    </tr>\n",
              "    <tr>\n",
              "      <th>50</th>\n",
              "      <td>IEmqrFe96NOhU07TA0rZdw</td>\n",
              "      <td>6625 Century Ave\\nMiddleton, WI 53562</td>\n",
              "      <td>{}</td>\n",
              "      <td>False</td>\n",
              "      <td>[American (Traditional), Restaurants]</td>\n",
              "      <td>Middleton</td>\n",
              "      <td>7</td>\n",
              "      <td>Stamm House At Pheasant Branch</td>\n",
              "      <td>[]</td>\n",
              "      <td>-89.494422</td>\n",
              "      <td>WI</td>\n",
              "      <td>2.0</td>\n",
              "      <td>43.104535</td>\n",
              "      <td>{'Alcohol': 'full_bar', 'Attire': 'casual', 'P...</td>\n",
              "      <td>business</td>\n",
              "    </tr>\n",
              "    <tr>\n",
              "      <th>62</th>\n",
              "      <td>mbtGl2I2A2To-8jiggN99g</td>\n",
              "      <td>6661 University Ave\\nSte 103\\nMiddleton, WI 53562</td>\n",
              "      <td>{'Tuesday': {'close': '20:00', 'open': '10:00'...</td>\n",
              "      <td>False</td>\n",
              "      <td>[Skin Care, Hair Salons, Beauty &amp; Spas]</td>\n",
              "      <td>Middleton</td>\n",
              "      <td>7</td>\n",
              "      <td>Tangles</td>\n",
              "      <td>[]</td>\n",
              "      <td>-89.497265</td>\n",
              "      <td>WI</td>\n",
              "      <td>2.0</td>\n",
              "      <td>43.096650</td>\n",
              "      <td>{'By Appointment Only': True, 'Parking': {'gar...</td>\n",
              "      <td>business</td>\n",
              "    </tr>\n",
              "  </tbody>\n",
              "</table>\n",
              "</div>\n",
              "      <button class=\"colab-df-convert\" onclick=\"convertToInteractive('df-d139e929-d89f-40a2-a5b6-5e52b3389d07')\"\n",
              "              title=\"Convert this dataframe to an interactive table.\"\n",
              "              style=\"display:none;\">\n",
              "        \n",
              "  <svg xmlns=\"http://www.w3.org/2000/svg\" height=\"24px\"viewBox=\"0 0 24 24\"\n",
              "       width=\"24px\">\n",
              "    <path d=\"M0 0h24v24H0V0z\" fill=\"none\"/>\n",
              "    <path d=\"M18.56 5.44l.94 2.06.94-2.06 2.06-.94-2.06-.94-.94-2.06-.94 2.06-2.06.94zm-11 1L8.5 8.5l.94-2.06 2.06-.94-2.06-.94L8.5 2.5l-.94 2.06-2.06.94zm10 10l.94 2.06.94-2.06 2.06-.94-2.06-.94-.94-2.06-.94 2.06-2.06.94z\"/><path d=\"M17.41 7.96l-1.37-1.37c-.4-.4-.92-.59-1.43-.59-.52 0-1.04.2-1.43.59L10.3 9.45l-7.72 7.72c-.78.78-.78 2.05 0 2.83L4 21.41c.39.39.9.59 1.41.59.51 0 1.02-.2 1.41-.59l7.78-7.78 2.81-2.81c.8-.78.8-2.07 0-2.86zM5.41 20L4 18.59l7.72-7.72 1.47 1.35L5.41 20z\"/>\n",
              "  </svg>\n",
              "      </button>\n",
              "      \n",
              "  <style>\n",
              "    .colab-df-container {\n",
              "      display:flex;\n",
              "      flex-wrap:wrap;\n",
              "      gap: 12px;\n",
              "    }\n",
              "\n",
              "    .colab-df-convert {\n",
              "      background-color: #E8F0FE;\n",
              "      border: none;\n",
              "      border-radius: 50%;\n",
              "      cursor: pointer;\n",
              "      display: none;\n",
              "      fill: #1967D2;\n",
              "      height: 32px;\n",
              "      padding: 0 0 0 0;\n",
              "      width: 32px;\n",
              "    }\n",
              "\n",
              "    .colab-df-convert:hover {\n",
              "      background-color: #E2EBFA;\n",
              "      box-shadow: 0px 1px 2px rgba(60, 64, 67, 0.3), 0px 1px 3px 1px rgba(60, 64, 67, 0.15);\n",
              "      fill: #174EA6;\n",
              "    }\n",
              "\n",
              "    [theme=dark] .colab-df-convert {\n",
              "      background-color: #3B4455;\n",
              "      fill: #D2E3FC;\n",
              "    }\n",
              "\n",
              "    [theme=dark] .colab-df-convert:hover {\n",
              "      background-color: #434B5C;\n",
              "      box-shadow: 0px 1px 3px 1px rgba(0, 0, 0, 0.15);\n",
              "      filter: drop-shadow(0px 1px 2px rgba(0, 0, 0, 0.3));\n",
              "      fill: #FFFFFF;\n",
              "    }\n",
              "  </style>\n",
              "\n",
              "      <script>\n",
              "        const buttonEl =\n",
              "          document.querySelector('#df-d139e929-d89f-40a2-a5b6-5e52b3389d07 button.colab-df-convert');\n",
              "        buttonEl.style.display =\n",
              "          google.colab.kernel.accessAllowed ? 'block' : 'none';\n",
              "\n",
              "        async function convertToInteractive(key) {\n",
              "          const element = document.querySelector('#df-d139e929-d89f-40a2-a5b6-5e52b3389d07');\n",
              "          const dataTable =\n",
              "            await google.colab.kernel.invokeFunction('convertToInteractive',\n",
              "                                                     [key], {});\n",
              "          if (!dataTable) return;\n",
              "\n",
              "          const docLinkHtml = 'Like what you see? Visit the ' +\n",
              "            '<a target=\"_blank\" href=https://colab.research.google.com/notebooks/data_table.ipynb>data table notebook</a>'\n",
              "            + ' to learn more about interactive tables.';\n",
              "          element.innerHTML = '';\n",
              "          dataTable['output_type'] = 'display_data';\n",
              "          await google.colab.output.renderOutput(dataTable, element);\n",
              "          const docLink = document.createElement('div');\n",
              "          docLink.innerHTML = docLinkHtml;\n",
              "          element.appendChild(docLink);\n",
              "        }\n",
              "      </script>\n",
              "    </div>\n",
              "  </div>\n",
              "  "
            ]
          },
          "metadata": {},
          "execution_count": 170
        }
      ]
    },
    {
      "cell_type": "markdown",
      "source": [
        "## Using a string matching"
      ],
      "metadata": {
        "id": "ORECrD3Ai0zz"
      },
      "id": "ORECrD3Ai0zz"
    },
    {
      "cell_type": "code",
      "source": [
        "vegas_business=data[data['city'].str.contains('Vegas')]\n",
        "vegas_business.head()"
      ],
      "metadata": {
        "colab": {
          "base_uri": "https://localhost:8080/",
          "height": 337
        },
        "id": "1Gr0crUme6KH",
        "outputId": "a2bbbd2d-6594-42c0-cc57-0604f070fe53"
      },
      "id": "1Gr0crUme6KH",
      "execution_count": 171,
      "outputs": [
        {
          "output_type": "execute_result",
          "data": {
            "text/plain": [
              "                 business_id  \\\n",
              "4348  uzztTCsg3XAKlYqmLO40aw   \n",
              "4360  IspFZDcpu9W5NvvJ7QgJZg   \n",
              "4364  Dvulg9cc3XHkt5DkBUekhw   \n",
              "4441  _SM8UKIwBNbmj1r629ipoQ   \n",
              "4489  Zaw0IAXwopKX4MV23MHQRw   \n",
              "\n",
              "                                           full_address  \\\n",
              "4348  5835 S Eastern Ave\\nSoutheast\\nLas Vegas, NV 8...   \n",
              "4360  The Forum Shops At Caesars\\n3500 Las Vegas Blv...   \n",
              "4364  467 E Silverado Ranch Blvd\\nSte 175\\nSoutheast...   \n",
              "4441  1916 Village Center Cir\\nSummerlin\\nLas Vegas,...   \n",
              "4489  2718 E Tropicana Avenue\\nEastside\\nLas Vegas, ...   \n",
              "\n",
              "                                                  hours   open  \\\n",
              "4348  {'Monday': {'close': '21:00', 'open': '10:00'}...   True   \n",
              "4360  {'Monday': {'close': '21:00', 'open': '10:00'}...   True   \n",
              "4364                                                 {}   True   \n",
              "4441  {'Monday': {'close': '23:00', 'open': '11:00'}...  False   \n",
              "4489                                                 {}   True   \n",
              "\n",
              "                                             categories       city  \\\n",
              "4348  [Arts & Entertainment, Shopping, Books, Mags, ...  Las Vegas   \n",
              "4360  [Women's Clothing, Men's Clothing, Fashion, Sh...  Las Vegas   \n",
              "4364                       [Hair Salons, Beauty & Spas]  Las Vegas   \n",
              "4441  [Wine Bars, Bars, Restaurants, Nightlife, Ital...  Las Vegas   \n",
              "4489                             [Car Wash, Automotive]  Las Vegas   \n",
              "\n",
              "      review_count                    name          neighborhoods   longitude  \\\n",
              "4348             7  Psychic Eye Book Shops            [Southeast] -115.119422   \n",
              "4360             6                     Gap             [Eastside] -115.146372   \n",
              "4364            10             Great Clips            [Southeast] -115.153303   \n",
              "4441             9            Chianti Cafe            [Summerlin] -115.304396   \n",
              "4489             3         Terrible Herbst  [Eastside, Southeast] -115.113492   \n",
              "\n",
              "     state  stars   latitude  \\\n",
              "4348    NV    4.5  36.083936   \n",
              "4360    NV    4.5  36.124423   \n",
              "4364    NV    2.5  36.012150   \n",
              "4441    NV    3.5  36.192414   \n",
              "4489    NV    1.5  36.100507   \n",
              "\n",
              "                                             attributes      type  \n",
              "4348  {'Parking': {'garage': False, 'street': False,...  business  \n",
              "4360  {'Parking': {'garage': True, 'street': False, ...  business  \n",
              "4364  {'By Appointment Only': False, 'Parking': {'ga...  business  \n",
              "4441  {'Alcohol': 'full_bar', 'Music': {'video': Fal...  business  \n",
              "4489                                                 {}  business  "
            ],
            "text/html": [
              "\n",
              "  <div id=\"df-892bcfd7-5f55-4ea6-964a-d13ea0efdde3\">\n",
              "    <div class=\"colab-df-container\">\n",
              "      <div>\n",
              "<style scoped>\n",
              "    .dataframe tbody tr th:only-of-type {\n",
              "        vertical-align: middle;\n",
              "    }\n",
              "\n",
              "    .dataframe tbody tr th {\n",
              "        vertical-align: top;\n",
              "    }\n",
              "\n",
              "    .dataframe thead th {\n",
              "        text-align: right;\n",
              "    }\n",
              "</style>\n",
              "<table border=\"1\" class=\"dataframe\">\n",
              "  <thead>\n",
              "    <tr style=\"text-align: right;\">\n",
              "      <th></th>\n",
              "      <th>business_id</th>\n",
              "      <th>full_address</th>\n",
              "      <th>hours</th>\n",
              "      <th>open</th>\n",
              "      <th>categories</th>\n",
              "      <th>city</th>\n",
              "      <th>review_count</th>\n",
              "      <th>name</th>\n",
              "      <th>neighborhoods</th>\n",
              "      <th>longitude</th>\n",
              "      <th>state</th>\n",
              "      <th>stars</th>\n",
              "      <th>latitude</th>\n",
              "      <th>attributes</th>\n",
              "      <th>type</th>\n",
              "    </tr>\n",
              "  </thead>\n",
              "  <tbody>\n",
              "    <tr>\n",
              "      <th>4348</th>\n",
              "      <td>uzztTCsg3XAKlYqmLO40aw</td>\n",
              "      <td>5835 S Eastern Ave\\nSoutheast\\nLas Vegas, NV 8...</td>\n",
              "      <td>{'Monday': {'close': '21:00', 'open': '10:00'}...</td>\n",
              "      <td>True</td>\n",
              "      <td>[Arts &amp; Entertainment, Shopping, Books, Mags, ...</td>\n",
              "      <td>Las Vegas</td>\n",
              "      <td>7</td>\n",
              "      <td>Psychic Eye Book Shops</td>\n",
              "      <td>[Southeast]</td>\n",
              "      <td>-115.119422</td>\n",
              "      <td>NV</td>\n",
              "      <td>4.5</td>\n",
              "      <td>36.083936</td>\n",
              "      <td>{'Parking': {'garage': False, 'street': False,...</td>\n",
              "      <td>business</td>\n",
              "    </tr>\n",
              "    <tr>\n",
              "      <th>4360</th>\n",
              "      <td>IspFZDcpu9W5NvvJ7QgJZg</td>\n",
              "      <td>The Forum Shops At Caesars\\n3500 Las Vegas Blv...</td>\n",
              "      <td>{'Monday': {'close': '21:00', 'open': '10:00'}...</td>\n",
              "      <td>True</td>\n",
              "      <td>[Women's Clothing, Men's Clothing, Fashion, Sh...</td>\n",
              "      <td>Las Vegas</td>\n",
              "      <td>6</td>\n",
              "      <td>Gap</td>\n",
              "      <td>[Eastside]</td>\n",
              "      <td>-115.146372</td>\n",
              "      <td>NV</td>\n",
              "      <td>4.5</td>\n",
              "      <td>36.124423</td>\n",
              "      <td>{'Parking': {'garage': True, 'street': False, ...</td>\n",
              "      <td>business</td>\n",
              "    </tr>\n",
              "    <tr>\n",
              "      <th>4364</th>\n",
              "      <td>Dvulg9cc3XHkt5DkBUekhw</td>\n",
              "      <td>467 E Silverado Ranch Blvd\\nSte 175\\nSoutheast...</td>\n",
              "      <td>{}</td>\n",
              "      <td>True</td>\n",
              "      <td>[Hair Salons, Beauty &amp; Spas]</td>\n",
              "      <td>Las Vegas</td>\n",
              "      <td>10</td>\n",
              "      <td>Great Clips</td>\n",
              "      <td>[Southeast]</td>\n",
              "      <td>-115.153303</td>\n",
              "      <td>NV</td>\n",
              "      <td>2.5</td>\n",
              "      <td>36.012150</td>\n",
              "      <td>{'By Appointment Only': False, 'Parking': {'ga...</td>\n",
              "      <td>business</td>\n",
              "    </tr>\n",
              "    <tr>\n",
              "      <th>4441</th>\n",
              "      <td>_SM8UKIwBNbmj1r629ipoQ</td>\n",
              "      <td>1916 Village Center Cir\\nSummerlin\\nLas Vegas,...</td>\n",
              "      <td>{'Monday': {'close': '23:00', 'open': '11:00'}...</td>\n",
              "      <td>False</td>\n",
              "      <td>[Wine Bars, Bars, Restaurants, Nightlife, Ital...</td>\n",
              "      <td>Las Vegas</td>\n",
              "      <td>9</td>\n",
              "      <td>Chianti Cafe</td>\n",
              "      <td>[Summerlin]</td>\n",
              "      <td>-115.304396</td>\n",
              "      <td>NV</td>\n",
              "      <td>3.5</td>\n",
              "      <td>36.192414</td>\n",
              "      <td>{'Alcohol': 'full_bar', 'Music': {'video': Fal...</td>\n",
              "      <td>business</td>\n",
              "    </tr>\n",
              "    <tr>\n",
              "      <th>4489</th>\n",
              "      <td>Zaw0IAXwopKX4MV23MHQRw</td>\n",
              "      <td>2718 E Tropicana Avenue\\nEastside\\nLas Vegas, ...</td>\n",
              "      <td>{}</td>\n",
              "      <td>True</td>\n",
              "      <td>[Car Wash, Automotive]</td>\n",
              "      <td>Las Vegas</td>\n",
              "      <td>3</td>\n",
              "      <td>Terrible Herbst</td>\n",
              "      <td>[Eastside, Southeast]</td>\n",
              "      <td>-115.113492</td>\n",
              "      <td>NV</td>\n",
              "      <td>1.5</td>\n",
              "      <td>36.100507</td>\n",
              "      <td>{}</td>\n",
              "      <td>business</td>\n",
              "    </tr>\n",
              "  </tbody>\n",
              "</table>\n",
              "</div>\n",
              "      <button class=\"colab-df-convert\" onclick=\"convertToInteractive('df-892bcfd7-5f55-4ea6-964a-d13ea0efdde3')\"\n",
              "              title=\"Convert this dataframe to an interactive table.\"\n",
              "              style=\"display:none;\">\n",
              "        \n",
              "  <svg xmlns=\"http://www.w3.org/2000/svg\" height=\"24px\"viewBox=\"0 0 24 24\"\n",
              "       width=\"24px\">\n",
              "    <path d=\"M0 0h24v24H0V0z\" fill=\"none\"/>\n",
              "    <path d=\"M18.56 5.44l.94 2.06.94-2.06 2.06-.94-2.06-.94-.94-2.06-.94 2.06-2.06.94zm-11 1L8.5 8.5l.94-2.06 2.06-.94-2.06-.94L8.5 2.5l-.94 2.06-2.06.94zm10 10l.94 2.06.94-2.06 2.06-.94-2.06-.94-.94-2.06-.94 2.06-2.06.94z\"/><path d=\"M17.41 7.96l-1.37-1.37c-.4-.4-.92-.59-1.43-.59-.52 0-1.04.2-1.43.59L10.3 9.45l-7.72 7.72c-.78.78-.78 2.05 0 2.83L4 21.41c.39.39.9.59 1.41.59.51 0 1.02-.2 1.41-.59l7.78-7.78 2.81-2.81c.8-.78.8-2.07 0-2.86zM5.41 20L4 18.59l7.72-7.72 1.47 1.35L5.41 20z\"/>\n",
              "  </svg>\n",
              "      </button>\n",
              "      \n",
              "  <style>\n",
              "    .colab-df-container {\n",
              "      display:flex;\n",
              "      flex-wrap:wrap;\n",
              "      gap: 12px;\n",
              "    }\n",
              "\n",
              "    .colab-df-convert {\n",
              "      background-color: #E8F0FE;\n",
              "      border: none;\n",
              "      border-radius: 50%;\n",
              "      cursor: pointer;\n",
              "      display: none;\n",
              "      fill: #1967D2;\n",
              "      height: 32px;\n",
              "      padding: 0 0 0 0;\n",
              "      width: 32px;\n",
              "    }\n",
              "\n",
              "    .colab-df-convert:hover {\n",
              "      background-color: #E2EBFA;\n",
              "      box-shadow: 0px 1px 2px rgba(60, 64, 67, 0.3), 0px 1px 3px 1px rgba(60, 64, 67, 0.15);\n",
              "      fill: #174EA6;\n",
              "    }\n",
              "\n",
              "    [theme=dark] .colab-df-convert {\n",
              "      background-color: #3B4455;\n",
              "      fill: #D2E3FC;\n",
              "    }\n",
              "\n",
              "    [theme=dark] .colab-df-convert:hover {\n",
              "      background-color: #434B5C;\n",
              "      box-shadow: 0px 1px 3px 1px rgba(0, 0, 0, 0.15);\n",
              "      filter: drop-shadow(0px 1px 2px rgba(0, 0, 0, 0.3));\n",
              "      fill: #FFFFFF;\n",
              "    }\n",
              "  </style>\n",
              "\n",
              "      <script>\n",
              "        const buttonEl =\n",
              "          document.querySelector('#df-892bcfd7-5f55-4ea6-964a-d13ea0efdde3 button.colab-df-convert');\n",
              "        buttonEl.style.display =\n",
              "          google.colab.kernel.accessAllowed ? 'block' : 'none';\n",
              "\n",
              "        async function convertToInteractive(key) {\n",
              "          const element = document.querySelector('#df-892bcfd7-5f55-4ea6-964a-d13ea0efdde3');\n",
              "          const dataTable =\n",
              "            await google.colab.kernel.invokeFunction('convertToInteractive',\n",
              "                                                     [key], {});\n",
              "          if (!dataTable) return;\n",
              "\n",
              "          const docLinkHtml = 'Like what you see? Visit the ' +\n",
              "            '<a target=\"_blank\" href=https://colab.research.google.com/notebooks/data_table.ipynb>data table notebook</a>'\n",
              "            + ' to learn more about interactive tables.';\n",
              "          element.innerHTML = '';\n",
              "          dataTable['output_type'] = 'display_data';\n",
              "          await google.colab.output.renderOutput(dataTable, element);\n",
              "          const docLink = document.createElement('div');\n",
              "          docLink.innerHTML = docLinkHtml;\n",
              "          element.appendChild(docLink);\n",
              "        }\n",
              "      </script>\n",
              "    </div>\n",
              "  </div>\n",
              "  "
            ]
          },
          "metadata": {},
          "execution_count": 171
        }
      ]
    },
    {
      "cell_type": "code",
      "source": [
        "vegas_business['city'].unique()"
      ],
      "metadata": {
        "colab": {
          "base_uri": "https://localhost:8080/"
        },
        "id": "CVYjVxVhhqbZ",
        "outputId": "8b6868f1-5015-4522-f751-ff4b94283de6"
      },
      "id": "CVYjVxVhhqbZ",
      "execution_count": 172,
      "outputs": [
        {
          "output_type": "execute_result",
          "data": {
            "text/plain": [
              "array(['Las Vegas', 'North Las Vegas', 'N Las Vegas', 'N. Las Vegas',\n",
              "       'C Las Vegas', 'Las Vegas ', 'Las Vegas, NV 89147',\n",
              "       'Las Vegas East', 'North Las Vegas ', 'N E Las Vegas',\n",
              "       'N W Las Vegas', 'Lake Las Vegas', 'South Las Vegas'], dtype=object)"
            ]
          },
          "metadata": {},
          "execution_count": 172
        }
      ]
    },
    {
      "cell_type": "markdown",
      "source": [
        "Appplying functions and data aggregation"
      ],
      "metadata": {
        "id": "DfyzYZOQi9ge"
      },
      "id": "DfyzYZOQi9ge"
    },
    {
      "cell_type": "code",
      "source": [
        " log_review =np.log(data['review_count'])\n",
        " log_review.head()"
      ],
      "metadata": {
        "colab": {
          "base_uri": "https://localhost:8080/"
        },
        "id": "fxKmhrEGiYoA",
        "outputId": "95fd9f8f-f746-46f3-a139-0b6999dac91d"
      },
      "id": "fxKmhrEGiYoA",
      "execution_count": 173,
      "outputs": [
        {
          "output_type": "execute_result",
          "data": {
            "text/plain": [
              "0    1.945910\n",
              "1    3.258097\n",
              "2    2.772589\n",
              "3    1.945910\n",
              "4    1.098612\n",
              "Name: review_count, dtype: float64"
            ]
          },
          "metadata": {},
          "execution_count": 173
        }
      ]
    },
    {
      "cell_type": "code",
      "source": [
        "data['review_count'].head()"
      ],
      "metadata": {
        "colab": {
          "base_uri": "https://localhost:8080/"
        },
        "id": "OUa7LOXRjpKz",
        "outputId": "8ccead91-20f1-4add-f7dd-f999627d13af"
      },
      "id": "OUa7LOXRjpKz",
      "execution_count": 174,
      "outputs": [
        {
          "output_type": "execute_result",
          "data": {
            "text/plain": [
              "0     7\n",
              "1    26\n",
              "2    16\n",
              "3     7\n",
              "4     3\n",
              "Name: review_count, dtype: int64"
            ]
          },
          "metadata": {},
          "execution_count": 174
        }
      ]
    },
    {
      "cell_type": "code",
      "source": [
        "# using the appply function to creat a new column where 5 is added to the review count\n",
        "\n",
        "data['sample_column'] = data['review_count'].apply(lambda x : x+5)\n",
        "data.head(5)"
      ],
      "metadata": {
        "colab": {
          "base_uri": "https://localhost:8080/",
          "height": 337
        },
        "id": "UCbn25gYkCbx",
        "outputId": "a388cacd-31e0-4123-ed37-1e9e95975898"
      },
      "id": "UCbn25gYkCbx",
      "execution_count": 175,
      "outputs": [
        {
          "output_type": "execute_result",
          "data": {
            "text/plain": [
              "              business_id                                       full_address  \\\n",
              "0  vcNAWiLM4dR7D2nwwJ7nCA  4840 E Indian School Rd\\nSte 101\\nPhoenix, AZ ...   \n",
              "1  JwUE5GmEO-sH1FuwJgKBlQ            6162 US Highway 51\\nDe Forest, WI 53532   \n",
              "2  uGykseHzyS5xAMWoN6YUqA                505 W North St\\nDe Forest, WI 53532   \n",
              "3  LRKJF43s9-3jG9Lgx4zODg              4910 County Rd V\\nDe Forest, WI 53532   \n",
              "4  RgDg-k9S5YD_BaxMckifkg                 631 S Main St\\nDe Forest, WI 53532   \n",
              "\n",
              "                                               hours  open  \\\n",
              "0  {'Tuesday': {'close': '17:00', 'open': '08:00'...  True   \n",
              "1                                                 {}  True   \n",
              "2  {'Monday': {'close': '22:00', 'open': '06:00'}...  True   \n",
              "3  {'Monday': {'close': '22:00', 'open': '10:30'}...  True   \n",
              "4  {'Monday': {'close': '22:00', 'open': '11:00'}...  True   \n",
              "\n",
              "                                          categories       city  review_count  \\\n",
              "0                        [Doctors, Health & Medical]    Phoenix             7   \n",
              "1                                      [Restaurants]  De Forest            26   \n",
              "2              [American (Traditional), Restaurants]  De Forest            16   \n",
              "3  [Food, Ice Cream & Frozen Yogurt, Fast Food, R...  De Forest             7   \n",
              "4                             [Chinese, Restaurants]  De Forest             3   \n",
              "\n",
              "                          name neighborhoods   longitude state  stars  \\\n",
              "0            Eric Goldberg, MD            [] -111.983758    AZ    3.5   \n",
              "1         Pine Cone Restaurant            []  -89.335844    WI    4.0   \n",
              "2   Deforest Family Restaurant            []  -89.353437    WI    4.0   \n",
              "3                     Culver's            []  -89.374983    WI    4.5   \n",
              "4  Chang Jiang Chinese Kitchen            []  -89.343722    WI    4.0   \n",
              "\n",
              "    latitude                                         attributes      type  \\\n",
              "0  33.499313                      {'By Appointment Only': True}  business   \n",
              "1  43.238893  {'Take-out': True, 'Good For': {'dessert': Fal...  business   \n",
              "2  43.252267  {'Take-out': True, 'Good For': {'dessert': Fal...  business   \n",
              "3  43.251045  {'Take-out': True, 'Wi-Fi': 'free', 'Takes Res...  business   \n",
              "4  43.240875  {'Take-out': True, 'Has TV': False, 'Outdoor S...  business   \n",
              "\n",
              "   sample_column  \n",
              "0             12  \n",
              "1             31  \n",
              "2             21  \n",
              "3             12  \n",
              "4              8  "
            ],
            "text/html": [
              "\n",
              "  <div id=\"df-68e5a0e3-8ab2-4551-9e95-6832b6d84481\">\n",
              "    <div class=\"colab-df-container\">\n",
              "      <div>\n",
              "<style scoped>\n",
              "    .dataframe tbody tr th:only-of-type {\n",
              "        vertical-align: middle;\n",
              "    }\n",
              "\n",
              "    .dataframe tbody tr th {\n",
              "        vertical-align: top;\n",
              "    }\n",
              "\n",
              "    .dataframe thead th {\n",
              "        text-align: right;\n",
              "    }\n",
              "</style>\n",
              "<table border=\"1\" class=\"dataframe\">\n",
              "  <thead>\n",
              "    <tr style=\"text-align: right;\">\n",
              "      <th></th>\n",
              "      <th>business_id</th>\n",
              "      <th>full_address</th>\n",
              "      <th>hours</th>\n",
              "      <th>open</th>\n",
              "      <th>categories</th>\n",
              "      <th>city</th>\n",
              "      <th>review_count</th>\n",
              "      <th>name</th>\n",
              "      <th>neighborhoods</th>\n",
              "      <th>longitude</th>\n",
              "      <th>state</th>\n",
              "      <th>stars</th>\n",
              "      <th>latitude</th>\n",
              "      <th>attributes</th>\n",
              "      <th>type</th>\n",
              "      <th>sample_column</th>\n",
              "    </tr>\n",
              "  </thead>\n",
              "  <tbody>\n",
              "    <tr>\n",
              "      <th>0</th>\n",
              "      <td>vcNAWiLM4dR7D2nwwJ7nCA</td>\n",
              "      <td>4840 E Indian School Rd\\nSte 101\\nPhoenix, AZ ...</td>\n",
              "      <td>{'Tuesday': {'close': '17:00', 'open': '08:00'...</td>\n",
              "      <td>True</td>\n",
              "      <td>[Doctors, Health &amp; Medical]</td>\n",
              "      <td>Phoenix</td>\n",
              "      <td>7</td>\n",
              "      <td>Eric Goldberg, MD</td>\n",
              "      <td>[]</td>\n",
              "      <td>-111.983758</td>\n",
              "      <td>AZ</td>\n",
              "      <td>3.5</td>\n",
              "      <td>33.499313</td>\n",
              "      <td>{'By Appointment Only': True}</td>\n",
              "      <td>business</td>\n",
              "      <td>12</td>\n",
              "    </tr>\n",
              "    <tr>\n",
              "      <th>1</th>\n",
              "      <td>JwUE5GmEO-sH1FuwJgKBlQ</td>\n",
              "      <td>6162 US Highway 51\\nDe Forest, WI 53532</td>\n",
              "      <td>{}</td>\n",
              "      <td>True</td>\n",
              "      <td>[Restaurants]</td>\n",
              "      <td>De Forest</td>\n",
              "      <td>26</td>\n",
              "      <td>Pine Cone Restaurant</td>\n",
              "      <td>[]</td>\n",
              "      <td>-89.335844</td>\n",
              "      <td>WI</td>\n",
              "      <td>4.0</td>\n",
              "      <td>43.238893</td>\n",
              "      <td>{'Take-out': True, 'Good For': {'dessert': Fal...</td>\n",
              "      <td>business</td>\n",
              "      <td>31</td>\n",
              "    </tr>\n",
              "    <tr>\n",
              "      <th>2</th>\n",
              "      <td>uGykseHzyS5xAMWoN6YUqA</td>\n",
              "      <td>505 W North St\\nDe Forest, WI 53532</td>\n",
              "      <td>{'Monday': {'close': '22:00', 'open': '06:00'}...</td>\n",
              "      <td>True</td>\n",
              "      <td>[American (Traditional), Restaurants]</td>\n",
              "      <td>De Forest</td>\n",
              "      <td>16</td>\n",
              "      <td>Deforest Family Restaurant</td>\n",
              "      <td>[]</td>\n",
              "      <td>-89.353437</td>\n",
              "      <td>WI</td>\n",
              "      <td>4.0</td>\n",
              "      <td>43.252267</td>\n",
              "      <td>{'Take-out': True, 'Good For': {'dessert': Fal...</td>\n",
              "      <td>business</td>\n",
              "      <td>21</td>\n",
              "    </tr>\n",
              "    <tr>\n",
              "      <th>3</th>\n",
              "      <td>LRKJF43s9-3jG9Lgx4zODg</td>\n",
              "      <td>4910 County Rd V\\nDe Forest, WI 53532</td>\n",
              "      <td>{'Monday': {'close': '22:00', 'open': '10:30'}...</td>\n",
              "      <td>True</td>\n",
              "      <td>[Food, Ice Cream &amp; Frozen Yogurt, Fast Food, R...</td>\n",
              "      <td>De Forest</td>\n",
              "      <td>7</td>\n",
              "      <td>Culver's</td>\n",
              "      <td>[]</td>\n",
              "      <td>-89.374983</td>\n",
              "      <td>WI</td>\n",
              "      <td>4.5</td>\n",
              "      <td>43.251045</td>\n",
              "      <td>{'Take-out': True, 'Wi-Fi': 'free', 'Takes Res...</td>\n",
              "      <td>business</td>\n",
              "      <td>12</td>\n",
              "    </tr>\n",
              "    <tr>\n",
              "      <th>4</th>\n",
              "      <td>RgDg-k9S5YD_BaxMckifkg</td>\n",
              "      <td>631 S Main St\\nDe Forest, WI 53532</td>\n",
              "      <td>{'Monday': {'close': '22:00', 'open': '11:00'}...</td>\n",
              "      <td>True</td>\n",
              "      <td>[Chinese, Restaurants]</td>\n",
              "      <td>De Forest</td>\n",
              "      <td>3</td>\n",
              "      <td>Chang Jiang Chinese Kitchen</td>\n",
              "      <td>[]</td>\n",
              "      <td>-89.343722</td>\n",
              "      <td>WI</td>\n",
              "      <td>4.0</td>\n",
              "      <td>43.240875</td>\n",
              "      <td>{'Take-out': True, 'Has TV': False, 'Outdoor S...</td>\n",
              "      <td>business</td>\n",
              "      <td>8</td>\n",
              "    </tr>\n",
              "  </tbody>\n",
              "</table>\n",
              "</div>\n",
              "      <button class=\"colab-df-convert\" onclick=\"convertToInteractive('df-68e5a0e3-8ab2-4551-9e95-6832b6d84481')\"\n",
              "              title=\"Convert this dataframe to an interactive table.\"\n",
              "              style=\"display:none;\">\n",
              "        \n",
              "  <svg xmlns=\"http://www.w3.org/2000/svg\" height=\"24px\"viewBox=\"0 0 24 24\"\n",
              "       width=\"24px\">\n",
              "    <path d=\"M0 0h24v24H0V0z\" fill=\"none\"/>\n",
              "    <path d=\"M18.56 5.44l.94 2.06.94-2.06 2.06-.94-2.06-.94-.94-2.06-.94 2.06-2.06.94zm-11 1L8.5 8.5l.94-2.06 2.06-.94-2.06-.94L8.5 2.5l-.94 2.06-2.06.94zm10 10l.94 2.06.94-2.06 2.06-.94-2.06-.94-.94-2.06-.94 2.06-2.06.94z\"/><path d=\"M17.41 7.96l-1.37-1.37c-.4-.4-.92-.59-1.43-.59-.52 0-1.04.2-1.43.59L10.3 9.45l-7.72 7.72c-.78.78-.78 2.05 0 2.83L4 21.41c.39.39.9.59 1.41.59.51 0 1.02-.2 1.41-.59l7.78-7.78 2.81-2.81c.8-.78.8-2.07 0-2.86zM5.41 20L4 18.59l7.72-7.72 1.47 1.35L5.41 20z\"/>\n",
              "  </svg>\n",
              "      </button>\n",
              "      \n",
              "  <style>\n",
              "    .colab-df-container {\n",
              "      display:flex;\n",
              "      flex-wrap:wrap;\n",
              "      gap: 12px;\n",
              "    }\n",
              "\n",
              "    .colab-df-convert {\n",
              "      background-color: #E8F0FE;\n",
              "      border: none;\n",
              "      border-radius: 50%;\n",
              "      cursor: pointer;\n",
              "      display: none;\n",
              "      fill: #1967D2;\n",
              "      height: 32px;\n",
              "      padding: 0 0 0 0;\n",
              "      width: 32px;\n",
              "    }\n",
              "\n",
              "    .colab-df-convert:hover {\n",
              "      background-color: #E2EBFA;\n",
              "      box-shadow: 0px 1px 2px rgba(60, 64, 67, 0.3), 0px 1px 3px 1px rgba(60, 64, 67, 0.15);\n",
              "      fill: #174EA6;\n",
              "    }\n",
              "\n",
              "    [theme=dark] .colab-df-convert {\n",
              "      background-color: #3B4455;\n",
              "      fill: #D2E3FC;\n",
              "    }\n",
              "\n",
              "    [theme=dark] .colab-df-convert:hover {\n",
              "      background-color: #434B5C;\n",
              "      box-shadow: 0px 1px 3px 1px rgba(0, 0, 0, 0.15);\n",
              "      filter: drop-shadow(0px 1px 2px rgba(0, 0, 0, 0.3));\n",
              "      fill: #FFFFFF;\n",
              "    }\n",
              "  </style>\n",
              "\n",
              "      <script>\n",
              "        const buttonEl =\n",
              "          document.querySelector('#df-68e5a0e3-8ab2-4551-9e95-6832b6d84481 button.colab-df-convert');\n",
              "        buttonEl.style.display =\n",
              "          google.colab.kernel.accessAllowed ? 'block' : 'none';\n",
              "\n",
              "        async function convertToInteractive(key) {\n",
              "          const element = document.querySelector('#df-68e5a0e3-8ab2-4551-9e95-6832b6d84481');\n",
              "          const dataTable =\n",
              "            await google.colab.kernel.invokeFunction('convertToInteractive',\n",
              "                                                     [key], {});\n",
              "          if (!dataTable) return;\n",
              "\n",
              "          const docLinkHtml = 'Like what you see? Visit the ' +\n",
              "            '<a target=\"_blank\" href=https://colab.research.google.com/notebooks/data_table.ipynb>data table notebook</a>'\n",
              "            + ' to learn more about interactive tables.';\n",
              "          element.innerHTML = '';\n",
              "          dataTable['output_type'] = 'display_data';\n",
              "          await google.colab.output.renderOutput(dataTable, element);\n",
              "          const docLink = document.createElement('div');\n",
              "          docLink.innerHTML = docLinkHtml;\n",
              "          element.appendChild(docLink);\n",
              "        }\n",
              "      </script>\n",
              "    </div>\n",
              "  </div>\n",
              "  "
            ]
          },
          "metadata": {},
          "execution_count": 175
        }
      ]
    },
    {
      "cell_type": "markdown",
      "source": [
        "## Data Aggregation using groupby"
      ],
      "metadata": {
        "id": "EN1ceknFm0NR"
      },
      "id": "EN1ceknFm0NR"
    },
    {
      "cell_type": "code",
      "source": [
        "#splitting data set and re-combinning/merging data set\n",
        "stars_by_city=data.groupby('city')['stars'].mean()\n",
        "stars_by_city.head()"
      ],
      "metadata": {
        "colab": {
          "base_uri": "https://localhost:8080/"
        },
        "id": "bjbm_g9Pl4-y",
        "outputId": "4e897cf1-28d1-4e05-b506-69363c97191f"
      },
      "id": "bjbm_g9Pl4-y",
      "execution_count": 176,
      "outputs": [
        {
          "output_type": "execute_result",
          "data": {
            "text/plain": [
              "city\n",
              "Ahwatukee          3.687500\n",
              "Anthem             3.781818\n",
              "Apache Junction    3.637500\n",
              "Arcadia            5.000000\n",
              "Atlanta            3.500000\n",
              "Name: stars, dtype: float64"
            ]
          },
          "metadata": {},
          "execution_count": 176
        }
      ]
    },
    {
      "cell_type": "code",
      "source": [
        "agg_by_city = data.groupby('city').agg({'stars': ['mean', 'std','median']})\n",
        "agg_by_city"
      ],
      "metadata": {
        "colab": {
          "base_uri": "https://localhost:8080/",
          "height": 486
        },
        "id": "oIkZh34qN3yC",
        "outputId": "fdc69d18-af45-439f-e53c-593cae2b7676"
      },
      "id": "oIkZh34qN3yC",
      "execution_count": 177,
      "outputs": [
        {
          "output_type": "execute_result",
          "data": {
            "text/plain": [
              "                    stars                 \n",
              "                     mean       std median\n",
              "city                                      \n",
              "Ahwatukee        3.687500  1.066955   4.00\n",
              "Anthem           3.781818  0.756231   4.00\n",
              "Apache Junction  3.637500  1.028010   4.00\n",
              "Arcadia          5.000000       NaN   5.00\n",
              "Atlanta          3.500000       NaN   3.50\n",
              "...                   ...       ...    ...\n",
              "Wickenburg       3.655556  0.796457   3.50\n",
              "Windsor          3.500000  0.447214   3.50\n",
              "Woolwich         4.250000  1.060660   4.25\n",
              "Youngtown        3.857143  1.378803   4.50\n",
              "chandler         5.000000       NaN   5.00\n",
              "\n",
              "[167 rows x 3 columns]"
            ],
            "text/html": [
              "\n",
              "  <div id=\"df-bd14c93b-d152-475f-a008-52d75fa67511\">\n",
              "    <div class=\"colab-df-container\">\n",
              "      <div>\n",
              "<style scoped>\n",
              "    .dataframe tbody tr th:only-of-type {\n",
              "        vertical-align: middle;\n",
              "    }\n",
              "\n",
              "    .dataframe tbody tr th {\n",
              "        vertical-align: top;\n",
              "    }\n",
              "\n",
              "    .dataframe thead tr th {\n",
              "        text-align: left;\n",
              "    }\n",
              "\n",
              "    .dataframe thead tr:last-of-type th {\n",
              "        text-align: right;\n",
              "    }\n",
              "</style>\n",
              "<table border=\"1\" class=\"dataframe\">\n",
              "  <thead>\n",
              "    <tr>\n",
              "      <th></th>\n",
              "      <th colspan=\"3\" halign=\"left\">stars</th>\n",
              "    </tr>\n",
              "    <tr>\n",
              "      <th></th>\n",
              "      <th>mean</th>\n",
              "      <th>std</th>\n",
              "      <th>median</th>\n",
              "    </tr>\n",
              "    <tr>\n",
              "      <th>city</th>\n",
              "      <th></th>\n",
              "      <th></th>\n",
              "      <th></th>\n",
              "    </tr>\n",
              "  </thead>\n",
              "  <tbody>\n",
              "    <tr>\n",
              "      <th>Ahwatukee</th>\n",
              "      <td>3.687500</td>\n",
              "      <td>1.066955</td>\n",
              "      <td>4.00</td>\n",
              "    </tr>\n",
              "    <tr>\n",
              "      <th>Anthem</th>\n",
              "      <td>3.781818</td>\n",
              "      <td>0.756231</td>\n",
              "      <td>4.00</td>\n",
              "    </tr>\n",
              "    <tr>\n",
              "      <th>Apache Junction</th>\n",
              "      <td>3.637500</td>\n",
              "      <td>1.028010</td>\n",
              "      <td>4.00</td>\n",
              "    </tr>\n",
              "    <tr>\n",
              "      <th>Arcadia</th>\n",
              "      <td>5.000000</td>\n",
              "      <td>NaN</td>\n",
              "      <td>5.00</td>\n",
              "    </tr>\n",
              "    <tr>\n",
              "      <th>Atlanta</th>\n",
              "      <td>3.500000</td>\n",
              "      <td>NaN</td>\n",
              "      <td>3.50</td>\n",
              "    </tr>\n",
              "    <tr>\n",
              "      <th>...</th>\n",
              "      <td>...</td>\n",
              "      <td>...</td>\n",
              "      <td>...</td>\n",
              "    </tr>\n",
              "    <tr>\n",
              "      <th>Wickenburg</th>\n",
              "      <td>3.655556</td>\n",
              "      <td>0.796457</td>\n",
              "      <td>3.50</td>\n",
              "    </tr>\n",
              "    <tr>\n",
              "      <th>Windsor</th>\n",
              "      <td>3.500000</td>\n",
              "      <td>0.447214</td>\n",
              "      <td>3.50</td>\n",
              "    </tr>\n",
              "    <tr>\n",
              "      <th>Woolwich</th>\n",
              "      <td>4.250000</td>\n",
              "      <td>1.060660</td>\n",
              "      <td>4.25</td>\n",
              "    </tr>\n",
              "    <tr>\n",
              "      <th>Youngtown</th>\n",
              "      <td>3.857143</td>\n",
              "      <td>1.378803</td>\n",
              "      <td>4.50</td>\n",
              "    </tr>\n",
              "    <tr>\n",
              "      <th>chandler</th>\n",
              "      <td>5.000000</td>\n",
              "      <td>NaN</td>\n",
              "      <td>5.00</td>\n",
              "    </tr>\n",
              "  </tbody>\n",
              "</table>\n",
              "<p>167 rows × 3 columns</p>\n",
              "</div>\n",
              "      <button class=\"colab-df-convert\" onclick=\"convertToInteractive('df-bd14c93b-d152-475f-a008-52d75fa67511')\"\n",
              "              title=\"Convert this dataframe to an interactive table.\"\n",
              "              style=\"display:none;\">\n",
              "        \n",
              "  <svg xmlns=\"http://www.w3.org/2000/svg\" height=\"24px\"viewBox=\"0 0 24 24\"\n",
              "       width=\"24px\">\n",
              "    <path d=\"M0 0h24v24H0V0z\" fill=\"none\"/>\n",
              "    <path d=\"M18.56 5.44l.94 2.06.94-2.06 2.06-.94-2.06-.94-.94-2.06-.94 2.06-2.06.94zm-11 1L8.5 8.5l.94-2.06 2.06-.94-2.06-.94L8.5 2.5l-.94 2.06-2.06.94zm10 10l.94 2.06.94-2.06 2.06-.94-2.06-.94-.94-2.06-.94 2.06-2.06.94z\"/><path d=\"M17.41 7.96l-1.37-1.37c-.4-.4-.92-.59-1.43-.59-.52 0-1.04.2-1.43.59L10.3 9.45l-7.72 7.72c-.78.78-.78 2.05 0 2.83L4 21.41c.39.39.9.59 1.41.59.51 0 1.02-.2 1.41-.59l7.78-7.78 2.81-2.81c.8-.78.8-2.07 0-2.86zM5.41 20L4 18.59l7.72-7.72 1.47 1.35L5.41 20z\"/>\n",
              "  </svg>\n",
              "      </button>\n",
              "      \n",
              "  <style>\n",
              "    .colab-df-container {\n",
              "      display:flex;\n",
              "      flex-wrap:wrap;\n",
              "      gap: 12px;\n",
              "    }\n",
              "\n",
              "    .colab-df-convert {\n",
              "      background-color: #E8F0FE;\n",
              "      border: none;\n",
              "      border-radius: 50%;\n",
              "      cursor: pointer;\n",
              "      display: none;\n",
              "      fill: #1967D2;\n",
              "      height: 32px;\n",
              "      padding: 0 0 0 0;\n",
              "      width: 32px;\n",
              "    }\n",
              "\n",
              "    .colab-df-convert:hover {\n",
              "      background-color: #E2EBFA;\n",
              "      box-shadow: 0px 1px 2px rgba(60, 64, 67, 0.3), 0px 1px 3px 1px rgba(60, 64, 67, 0.15);\n",
              "      fill: #174EA6;\n",
              "    }\n",
              "\n",
              "    [theme=dark] .colab-df-convert {\n",
              "      background-color: #3B4455;\n",
              "      fill: #D2E3FC;\n",
              "    }\n",
              "\n",
              "    [theme=dark] .colab-df-convert:hover {\n",
              "      background-color: #434B5C;\n",
              "      box-shadow: 0px 1px 3px 1px rgba(0, 0, 0, 0.15);\n",
              "      filter: drop-shadow(0px 1px 2px rgba(0, 0, 0, 0.3));\n",
              "      fill: #FFFFFF;\n",
              "    }\n",
              "  </style>\n",
              "\n",
              "      <script>\n",
              "        const buttonEl =\n",
              "          document.querySelector('#df-bd14c93b-d152-475f-a008-52d75fa67511 button.colab-df-convert');\n",
              "        buttonEl.style.display =\n",
              "          google.colab.kernel.accessAllowed ? 'block' : 'none';\n",
              "\n",
              "        async function convertToInteractive(key) {\n",
              "          const element = document.querySelector('#df-bd14c93b-d152-475f-a008-52d75fa67511');\n",
              "          const dataTable =\n",
              "            await google.colab.kernel.invokeFunction('convertToInteractive',\n",
              "                                                     [key], {});\n",
              "          if (!dataTable) return;\n",
              "\n",
              "          const docLinkHtml = 'Like what you see? Visit the ' +\n",
              "            '<a target=\"_blank\" href=https://colab.research.google.com/notebooks/data_table.ipynb>data table notebook</a>'\n",
              "            + ' to learn more about interactive tables.';\n",
              "          element.innerHTML = '';\n",
              "          dataTable['output_type'] = 'display_data';\n",
              "          await google.colab.output.renderOutput(dataTable, element);\n",
              "          const docLink = document.createElement('div');\n",
              "          docLink.innerHTML = docLinkHtml;\n",
              "          element.appendChild(docLink);\n",
              "        }\n",
              "      </script>\n",
              "    </div>\n",
              "  </div>\n",
              "  "
            ]
          },
          "metadata": {},
          "execution_count": 177
        }
      ]
    },
    {
      "cell_type": "code",
      "source": [
        "#check the review score of chandler atlanta and arcadia\n",
        "\n",
        "data.groupby('city').agg({'review_count': ['mean', 'std','median']})\n"
      ],
      "metadata": {
        "colab": {
          "base_uri": "https://localhost:8080/",
          "height": 486
        },
        "id": "nhioT1xiPNDq",
        "outputId": "079fac88-5020-4580-e8a6-d14d05e01068"
      },
      "id": "nhioT1xiPNDq",
      "execution_count": 178,
      "outputs": [
        {
          "output_type": "execute_result",
          "data": {
            "text/plain": [
              "                review_count                  \n",
              "                        mean        std median\n",
              "city                                          \n",
              "Ahwatukee          32.250000  49.172437    6.0\n",
              "Anthem             13.218182  16.993126    7.0\n",
              "Apache Junction    10.662500  10.948607    6.0\n",
              "Arcadia             4.000000        NaN    4.0\n",
              "Atlanta            16.000000        NaN   16.0\n",
              "...                      ...        ...    ...\n",
              "Wickenburg         10.622222  12.813858    6.0\n",
              "Windsor             9.833333   7.413951    6.5\n",
              "Woolwich            3.500000   0.707107    3.5\n",
              "Youngtown           6.714286   2.493949    6.5\n",
              "chandler            3.000000        NaN    3.0\n",
              "\n",
              "[167 rows x 3 columns]"
            ],
            "text/html": [
              "\n",
              "  <div id=\"df-29be3549-d57f-4f44-9fbe-4c138b4bbe25\">\n",
              "    <div class=\"colab-df-container\">\n",
              "      <div>\n",
              "<style scoped>\n",
              "    .dataframe tbody tr th:only-of-type {\n",
              "        vertical-align: middle;\n",
              "    }\n",
              "\n",
              "    .dataframe tbody tr th {\n",
              "        vertical-align: top;\n",
              "    }\n",
              "\n",
              "    .dataframe thead tr th {\n",
              "        text-align: left;\n",
              "    }\n",
              "\n",
              "    .dataframe thead tr:last-of-type th {\n",
              "        text-align: right;\n",
              "    }\n",
              "</style>\n",
              "<table border=\"1\" class=\"dataframe\">\n",
              "  <thead>\n",
              "    <tr>\n",
              "      <th></th>\n",
              "      <th colspan=\"3\" halign=\"left\">review_count</th>\n",
              "    </tr>\n",
              "    <tr>\n",
              "      <th></th>\n",
              "      <th>mean</th>\n",
              "      <th>std</th>\n",
              "      <th>median</th>\n",
              "    </tr>\n",
              "    <tr>\n",
              "      <th>city</th>\n",
              "      <th></th>\n",
              "      <th></th>\n",
              "      <th></th>\n",
              "    </tr>\n",
              "  </thead>\n",
              "  <tbody>\n",
              "    <tr>\n",
              "      <th>Ahwatukee</th>\n",
              "      <td>32.250000</td>\n",
              "      <td>49.172437</td>\n",
              "      <td>6.0</td>\n",
              "    </tr>\n",
              "    <tr>\n",
              "      <th>Anthem</th>\n",
              "      <td>13.218182</td>\n",
              "      <td>16.993126</td>\n",
              "      <td>7.0</td>\n",
              "    </tr>\n",
              "    <tr>\n",
              "      <th>Apache Junction</th>\n",
              "      <td>10.662500</td>\n",
              "      <td>10.948607</td>\n",
              "      <td>6.0</td>\n",
              "    </tr>\n",
              "    <tr>\n",
              "      <th>Arcadia</th>\n",
              "      <td>4.000000</td>\n",
              "      <td>NaN</td>\n",
              "      <td>4.0</td>\n",
              "    </tr>\n",
              "    <tr>\n",
              "      <th>Atlanta</th>\n",
              "      <td>16.000000</td>\n",
              "      <td>NaN</td>\n",
              "      <td>16.0</td>\n",
              "    </tr>\n",
              "    <tr>\n",
              "      <th>...</th>\n",
              "      <td>...</td>\n",
              "      <td>...</td>\n",
              "      <td>...</td>\n",
              "    </tr>\n",
              "    <tr>\n",
              "      <th>Wickenburg</th>\n",
              "      <td>10.622222</td>\n",
              "      <td>12.813858</td>\n",
              "      <td>6.0</td>\n",
              "    </tr>\n",
              "    <tr>\n",
              "      <th>Windsor</th>\n",
              "      <td>9.833333</td>\n",
              "      <td>7.413951</td>\n",
              "      <td>6.5</td>\n",
              "    </tr>\n",
              "    <tr>\n",
              "      <th>Woolwich</th>\n",
              "      <td>3.500000</td>\n",
              "      <td>0.707107</td>\n",
              "      <td>3.5</td>\n",
              "    </tr>\n",
              "    <tr>\n",
              "      <th>Youngtown</th>\n",
              "      <td>6.714286</td>\n",
              "      <td>2.493949</td>\n",
              "      <td>6.5</td>\n",
              "    </tr>\n",
              "    <tr>\n",
              "      <th>chandler</th>\n",
              "      <td>3.000000</td>\n",
              "      <td>NaN</td>\n",
              "      <td>3.0</td>\n",
              "    </tr>\n",
              "  </tbody>\n",
              "</table>\n",
              "<p>167 rows × 3 columns</p>\n",
              "</div>\n",
              "      <button class=\"colab-df-convert\" onclick=\"convertToInteractive('df-29be3549-d57f-4f44-9fbe-4c138b4bbe25')\"\n",
              "              title=\"Convert this dataframe to an interactive table.\"\n",
              "              style=\"display:none;\">\n",
              "        \n",
              "  <svg xmlns=\"http://www.w3.org/2000/svg\" height=\"24px\"viewBox=\"0 0 24 24\"\n",
              "       width=\"24px\">\n",
              "    <path d=\"M0 0h24v24H0V0z\" fill=\"none\"/>\n",
              "    <path d=\"M18.56 5.44l.94 2.06.94-2.06 2.06-.94-2.06-.94-.94-2.06-.94 2.06-2.06.94zm-11 1L8.5 8.5l.94-2.06 2.06-.94-2.06-.94L8.5 2.5l-.94 2.06-2.06.94zm10 10l.94 2.06.94-2.06 2.06-.94-2.06-.94-.94-2.06-.94 2.06-2.06.94z\"/><path d=\"M17.41 7.96l-1.37-1.37c-.4-.4-.92-.59-1.43-.59-.52 0-1.04.2-1.43.59L10.3 9.45l-7.72 7.72c-.78.78-.78 2.05 0 2.83L4 21.41c.39.39.9.59 1.41.59.51 0 1.02-.2 1.41-.59l7.78-7.78 2.81-2.81c.8-.78.8-2.07 0-2.86zM5.41 20L4 18.59l7.72-7.72 1.47 1.35L5.41 20z\"/>\n",
              "  </svg>\n",
              "      </button>\n",
              "      \n",
              "  <style>\n",
              "    .colab-df-container {\n",
              "      display:flex;\n",
              "      flex-wrap:wrap;\n",
              "      gap: 12px;\n",
              "    }\n",
              "\n",
              "    .colab-df-convert {\n",
              "      background-color: #E8F0FE;\n",
              "      border: none;\n",
              "      border-radius: 50%;\n",
              "      cursor: pointer;\n",
              "      display: none;\n",
              "      fill: #1967D2;\n",
              "      height: 32px;\n",
              "      padding: 0 0 0 0;\n",
              "      width: 32px;\n",
              "    }\n",
              "\n",
              "    .colab-df-convert:hover {\n",
              "      background-color: #E2EBFA;\n",
              "      box-shadow: 0px 1px 2px rgba(60, 64, 67, 0.3), 0px 1px 3px 1px rgba(60, 64, 67, 0.15);\n",
              "      fill: #174EA6;\n",
              "    }\n",
              "\n",
              "    [theme=dark] .colab-df-convert {\n",
              "      background-color: #3B4455;\n",
              "      fill: #D2E3FC;\n",
              "    }\n",
              "\n",
              "    [theme=dark] .colab-df-convert:hover {\n",
              "      background-color: #434B5C;\n",
              "      box-shadow: 0px 1px 3px 1px rgba(0, 0, 0, 0.15);\n",
              "      filter: drop-shadow(0px 1px 2px rgba(0, 0, 0, 0.3));\n",
              "      fill: #FFFFFF;\n",
              "    }\n",
              "  </style>\n",
              "\n",
              "      <script>\n",
              "        const buttonEl =\n",
              "          document.querySelector('#df-29be3549-d57f-4f44-9fbe-4c138b4bbe25 button.colab-df-convert');\n",
              "        buttonEl.style.display =\n",
              "          google.colab.kernel.accessAllowed ? 'block' : 'none';\n",
              "\n",
              "        async function convertToInteractive(key) {\n",
              "          const element = document.querySelector('#df-29be3549-d57f-4f44-9fbe-4c138b4bbe25');\n",
              "          const dataTable =\n",
              "            await google.colab.kernel.invokeFunction('convertToInteractive',\n",
              "                                                     [key], {});\n",
              "          if (!dataTable) return;\n",
              "\n",
              "          const docLinkHtml = 'Like what you see? Visit the ' +\n",
              "            '<a target=\"_blank\" href=https://colab.research.google.com/notebooks/data_table.ipynb>data table notebook</a>'\n",
              "            + ' to learn more about interactive tables.';\n",
              "          element.innerHTML = '';\n",
              "          dataTable['output_type'] = 'display_data';\n",
              "          await google.colab.output.renderOutput(dataTable, element);\n",
              "          const docLink = document.createElement('div');\n",
              "          docLink.innerHTML = docLinkHtml;\n",
              "          element.appendChild(docLink);\n",
              "        }\n",
              "      </script>\n",
              "    </div>\n",
              "  </div>\n",
              "  "
            ]
          },
          "metadata": {},
          "execution_count": 178
        }
      ]
    },
    {
      "cell_type": "code",
      "source": [
        "data.groupby('city').agg({'stars': ['mean', 'median', 'std'],\n",
        "            'review_count':'sum',\n",
        "            'business_id':'count'}).head()"
      ],
      "metadata": {
        "colab": {
          "base_uri": "https://localhost:8080/",
          "height": 269
        },
        "id": "U0mRO5m2S9vy",
        "outputId": "941793d6-92c5-4ece-85b6-803c589c5543"
      },
      "id": "U0mRO5m2S9vy",
      "execution_count": 183,
      "outputs": [
        {
          "output_type": "execute_result",
          "data": {
            "text/plain": [
              "                    stars                  review_count business_id\n",
              "                     mean median       std          sum       count\n",
              "city                                                               \n",
              "Ahwatukee        3.687500    4.0  1.066955          258           8\n",
              "Anthem           3.781818    4.0  0.756231          727          55\n",
              "Apache Junction  3.637500    4.0  1.028010          853          80\n",
              "Arcadia          5.000000    5.0       NaN            4           1\n",
              "Atlanta          3.500000    3.5       NaN           16           1"
            ],
            "text/html": [
              "\n",
              "  <div id=\"df-d10d8224-8961-42ea-a38e-60f5f431adfb\">\n",
              "    <div class=\"colab-df-container\">\n",
              "      <div>\n",
              "<style scoped>\n",
              "    .dataframe tbody tr th:only-of-type {\n",
              "        vertical-align: middle;\n",
              "    }\n",
              "\n",
              "    .dataframe tbody tr th {\n",
              "        vertical-align: top;\n",
              "    }\n",
              "\n",
              "    .dataframe thead tr th {\n",
              "        text-align: left;\n",
              "    }\n",
              "\n",
              "    .dataframe thead tr:last-of-type th {\n",
              "        text-align: right;\n",
              "    }\n",
              "</style>\n",
              "<table border=\"1\" class=\"dataframe\">\n",
              "  <thead>\n",
              "    <tr>\n",
              "      <th></th>\n",
              "      <th colspan=\"3\" halign=\"left\">stars</th>\n",
              "      <th>review_count</th>\n",
              "      <th>business_id</th>\n",
              "    </tr>\n",
              "    <tr>\n",
              "      <th></th>\n",
              "      <th>mean</th>\n",
              "      <th>median</th>\n",
              "      <th>std</th>\n",
              "      <th>sum</th>\n",
              "      <th>count</th>\n",
              "    </tr>\n",
              "    <tr>\n",
              "      <th>city</th>\n",
              "      <th></th>\n",
              "      <th></th>\n",
              "      <th></th>\n",
              "      <th></th>\n",
              "      <th></th>\n",
              "    </tr>\n",
              "  </thead>\n",
              "  <tbody>\n",
              "    <tr>\n",
              "      <th>Ahwatukee</th>\n",
              "      <td>3.687500</td>\n",
              "      <td>4.0</td>\n",
              "      <td>1.066955</td>\n",
              "      <td>258</td>\n",
              "      <td>8</td>\n",
              "    </tr>\n",
              "    <tr>\n",
              "      <th>Anthem</th>\n",
              "      <td>3.781818</td>\n",
              "      <td>4.0</td>\n",
              "      <td>0.756231</td>\n",
              "      <td>727</td>\n",
              "      <td>55</td>\n",
              "    </tr>\n",
              "    <tr>\n",
              "      <th>Apache Junction</th>\n",
              "      <td>3.637500</td>\n",
              "      <td>4.0</td>\n",
              "      <td>1.028010</td>\n",
              "      <td>853</td>\n",
              "      <td>80</td>\n",
              "    </tr>\n",
              "    <tr>\n",
              "      <th>Arcadia</th>\n",
              "      <td>5.000000</td>\n",
              "      <td>5.0</td>\n",
              "      <td>NaN</td>\n",
              "      <td>4</td>\n",
              "      <td>1</td>\n",
              "    </tr>\n",
              "    <tr>\n",
              "      <th>Atlanta</th>\n",
              "      <td>3.500000</td>\n",
              "      <td>3.5</td>\n",
              "      <td>NaN</td>\n",
              "      <td>16</td>\n",
              "      <td>1</td>\n",
              "    </tr>\n",
              "  </tbody>\n",
              "</table>\n",
              "</div>\n",
              "      <button class=\"colab-df-convert\" onclick=\"convertToInteractive('df-d10d8224-8961-42ea-a38e-60f5f431adfb')\"\n",
              "              title=\"Convert this dataframe to an interactive table.\"\n",
              "              style=\"display:none;\">\n",
              "        \n",
              "  <svg xmlns=\"http://www.w3.org/2000/svg\" height=\"24px\"viewBox=\"0 0 24 24\"\n",
              "       width=\"24px\">\n",
              "    <path d=\"M0 0h24v24H0V0z\" fill=\"none\"/>\n",
              "    <path d=\"M18.56 5.44l.94 2.06.94-2.06 2.06-.94-2.06-.94-.94-2.06-.94 2.06-2.06.94zm-11 1L8.5 8.5l.94-2.06 2.06-.94-2.06-.94L8.5 2.5l-.94 2.06-2.06.94zm10 10l.94 2.06.94-2.06 2.06-.94-2.06-.94-.94-2.06-.94 2.06-2.06.94z\"/><path d=\"M17.41 7.96l-1.37-1.37c-.4-.4-.92-.59-1.43-.59-.52 0-1.04.2-1.43.59L10.3 9.45l-7.72 7.72c-.78.78-.78 2.05 0 2.83L4 21.41c.39.39.9.59 1.41.59.51 0 1.02-.2 1.41-.59l7.78-7.78 2.81-2.81c.8-.78.8-2.07 0-2.86zM5.41 20L4 18.59l7.72-7.72 1.47 1.35L5.41 20z\"/>\n",
              "  </svg>\n",
              "      </button>\n",
              "      \n",
              "  <style>\n",
              "    .colab-df-container {\n",
              "      display:flex;\n",
              "      flex-wrap:wrap;\n",
              "      gap: 12px;\n",
              "    }\n",
              "\n",
              "    .colab-df-convert {\n",
              "      background-color: #E8F0FE;\n",
              "      border: none;\n",
              "      border-radius: 50%;\n",
              "      cursor: pointer;\n",
              "      display: none;\n",
              "      fill: #1967D2;\n",
              "      height: 32px;\n",
              "      padding: 0 0 0 0;\n",
              "      width: 32px;\n",
              "    }\n",
              "\n",
              "    .colab-df-convert:hover {\n",
              "      background-color: #E2EBFA;\n",
              "      box-shadow: 0px 1px 2px rgba(60, 64, 67, 0.3), 0px 1px 3px 1px rgba(60, 64, 67, 0.15);\n",
              "      fill: #174EA6;\n",
              "    }\n",
              "\n",
              "    [theme=dark] .colab-df-convert {\n",
              "      background-color: #3B4455;\n",
              "      fill: #D2E3FC;\n",
              "    }\n",
              "\n",
              "    [theme=dark] .colab-df-convert:hover {\n",
              "      background-color: #434B5C;\n",
              "      box-shadow: 0px 1px 3px 1px rgba(0, 0, 0, 0.15);\n",
              "      filter: drop-shadow(0px 1px 2px rgba(0, 0, 0, 0.3));\n",
              "      fill: #FFFFFF;\n",
              "    }\n",
              "  </style>\n",
              "\n",
              "      <script>\n",
              "        const buttonEl =\n",
              "          document.querySelector('#df-d10d8224-8961-42ea-a38e-60f5f431adfb button.colab-df-convert');\n",
              "        buttonEl.style.display =\n",
              "          google.colab.kernel.accessAllowed ? 'block' : 'none';\n",
              "\n",
              "        async function convertToInteractive(key) {\n",
              "          const element = document.querySelector('#df-d10d8224-8961-42ea-a38e-60f5f431adfb');\n",
              "          const dataTable =\n",
              "            await google.colab.kernel.invokeFunction('convertToInteractive',\n",
              "                                                     [key], {});\n",
              "          if (!dataTable) return;\n",
              "\n",
              "          const docLinkHtml = 'Like what you see? Visit the ' +\n",
              "            '<a target=\"_blank\" href=https://colab.research.google.com/notebooks/data_table.ipynb>data table notebook</a>'\n",
              "            + ' to learn more about interactive tables.';\n",
              "          element.innerHTML = '';\n",
              "          dataTable['output_type'] = 'display_data';\n",
              "          await google.colab.output.renderOutput(dataTable, element);\n",
              "          const docLink = document.createElement('div');\n",
              "          docLink.innerHTML = docLinkHtml;\n",
              "          element.appendChild(docLink);\n",
              "        }\n",
              "      </script>\n",
              "    </div>\n",
              "  </div>\n",
              "  "
            ]
          },
          "metadata": {},
          "execution_count": 183
        }
      ]
    },
    {
      "cell_type": "code",
      "source": [
        "#df. loc[df['col1'] == value]\n",
        "\n",
        "data.loc[data['city']=='atlanta'].head()"
      ],
      "metadata": {
        "colab": {
          "base_uri": "https://localhost:8080/",
          "height": 49
        },
        "id": "pYdspAskMq4d",
        "outputId": "db3dfaac-0e8d-43d0-ff3c-bfe098e82597"
      },
      "id": "pYdspAskMq4d",
      "execution_count": 185,
      "outputs": [
        {
          "output_type": "execute_result",
          "data": {
            "text/plain": [
              "Empty DataFrame\n",
              "Columns: [business_id, full_address, hours, open, categories, city, review_count, name, neighborhoods, longitude, state, stars, latitude, attributes, type, sample_column]\n",
              "Index: []"
            ],
            "text/html": [
              "\n",
              "  <div id=\"df-e1e58912-fa1c-4995-8ce4-8dc08b9b806d\">\n",
              "    <div class=\"colab-df-container\">\n",
              "      <div>\n",
              "<style scoped>\n",
              "    .dataframe tbody tr th:only-of-type {\n",
              "        vertical-align: middle;\n",
              "    }\n",
              "\n",
              "    .dataframe tbody tr th {\n",
              "        vertical-align: top;\n",
              "    }\n",
              "\n",
              "    .dataframe thead th {\n",
              "        text-align: right;\n",
              "    }\n",
              "</style>\n",
              "<table border=\"1\" class=\"dataframe\">\n",
              "  <thead>\n",
              "    <tr style=\"text-align: right;\">\n",
              "      <th></th>\n",
              "      <th>business_id</th>\n",
              "      <th>full_address</th>\n",
              "      <th>hours</th>\n",
              "      <th>open</th>\n",
              "      <th>categories</th>\n",
              "      <th>city</th>\n",
              "      <th>review_count</th>\n",
              "      <th>name</th>\n",
              "      <th>neighborhoods</th>\n",
              "      <th>longitude</th>\n",
              "      <th>state</th>\n",
              "      <th>stars</th>\n",
              "      <th>latitude</th>\n",
              "      <th>attributes</th>\n",
              "      <th>type</th>\n",
              "      <th>sample_column</th>\n",
              "    </tr>\n",
              "  </thead>\n",
              "  <tbody>\n",
              "  </tbody>\n",
              "</table>\n",
              "</div>\n",
              "      <button class=\"colab-df-convert\" onclick=\"convertToInteractive('df-e1e58912-fa1c-4995-8ce4-8dc08b9b806d')\"\n",
              "              title=\"Convert this dataframe to an interactive table.\"\n",
              "              style=\"display:none;\">\n",
              "        \n",
              "  <svg xmlns=\"http://www.w3.org/2000/svg\" height=\"24px\"viewBox=\"0 0 24 24\"\n",
              "       width=\"24px\">\n",
              "    <path d=\"M0 0h24v24H0V0z\" fill=\"none\"/>\n",
              "    <path d=\"M18.56 5.44l.94 2.06.94-2.06 2.06-.94-2.06-.94-.94-2.06-.94 2.06-2.06.94zm-11 1L8.5 8.5l.94-2.06 2.06-.94-2.06-.94L8.5 2.5l-.94 2.06-2.06.94zm10 10l.94 2.06.94-2.06 2.06-.94-2.06-.94-.94-2.06-.94 2.06-2.06.94z\"/><path d=\"M17.41 7.96l-1.37-1.37c-.4-.4-.92-.59-1.43-.59-.52 0-1.04.2-1.43.59L10.3 9.45l-7.72 7.72c-.78.78-.78 2.05 0 2.83L4 21.41c.39.39.9.59 1.41.59.51 0 1.02-.2 1.41-.59l7.78-7.78 2.81-2.81c.8-.78.8-2.07 0-2.86zM5.41 20L4 18.59l7.72-7.72 1.47 1.35L5.41 20z\"/>\n",
              "  </svg>\n",
              "      </button>\n",
              "      \n",
              "  <style>\n",
              "    .colab-df-container {\n",
              "      display:flex;\n",
              "      flex-wrap:wrap;\n",
              "      gap: 12px;\n",
              "    }\n",
              "\n",
              "    .colab-df-convert {\n",
              "      background-color: #E8F0FE;\n",
              "      border: none;\n",
              "      border-radius: 50%;\n",
              "      cursor: pointer;\n",
              "      display: none;\n",
              "      fill: #1967D2;\n",
              "      height: 32px;\n",
              "      padding: 0 0 0 0;\n",
              "      width: 32px;\n",
              "    }\n",
              "\n",
              "    .colab-df-convert:hover {\n",
              "      background-color: #E2EBFA;\n",
              "      box-shadow: 0px 1px 2px rgba(60, 64, 67, 0.3), 0px 1px 3px 1px rgba(60, 64, 67, 0.15);\n",
              "      fill: #174EA6;\n",
              "    }\n",
              "\n",
              "    [theme=dark] .colab-df-convert {\n",
              "      background-color: #3B4455;\n",
              "      fill: #D2E3FC;\n",
              "    }\n",
              "\n",
              "    [theme=dark] .colab-df-convert:hover {\n",
              "      background-color: #434B5C;\n",
              "      box-shadow: 0px 1px 3px 1px rgba(0, 0, 0, 0.15);\n",
              "      filter: drop-shadow(0px 1px 2px rgba(0, 0, 0, 0.3));\n",
              "      fill: #FFFFFF;\n",
              "    }\n",
              "  </style>\n",
              "\n",
              "      <script>\n",
              "        const buttonEl =\n",
              "          document.querySelector('#df-e1e58912-fa1c-4995-8ce4-8dc08b9b806d button.colab-df-convert');\n",
              "        buttonEl.style.display =\n",
              "          google.colab.kernel.accessAllowed ? 'block' : 'none';\n",
              "\n",
              "        async function convertToInteractive(key) {\n",
              "          const element = document.querySelector('#df-e1e58912-fa1c-4995-8ce4-8dc08b9b806d');\n",
              "          const dataTable =\n",
              "            await google.colab.kernel.invokeFunction('convertToInteractive',\n",
              "                                                     [key], {});\n",
              "          if (!dataTable) return;\n",
              "\n",
              "          const docLinkHtml = 'Like what you see? Visit the ' +\n",
              "            '<a target=\"_blank\" href=https://colab.research.google.com/notebooks/data_table.ipynb>data table notebook</a>'\n",
              "            + ' to learn more about interactive tables.';\n",
              "          element.innerHTML = '';\n",
              "          dataTable['output_type'] = 'display_data';\n",
              "          await google.colab.output.renderOutput(dataTable, element);\n",
              "          const docLink = document.createElement('div');\n",
              "          docLink.innerHTML = docLinkHtml;\n",
              "          element.appendChild(docLink);\n",
              "        }\n",
              "      </script>\n",
              "    </div>\n",
              "  </div>\n",
              "  "
            ]
          },
          "metadata": {},
          "execution_count": 185
        }
      ]
    },
    {
      "cell_type": "code",
      "source": [
        "#Arizona =(data[data['state'] =='AZ'])\n",
        "#Arizona.head()\n",
        "\n",
        "\n",
        "(data[data['city']=='Atlanta']).head()"
      ],
      "metadata": {
        "colab": {
          "base_uri": "https://localhost:8080/",
          "height": 142
        },
        "id": "IvSxaWjvP99_",
        "outputId": "7c6837c5-b367-4edd-bd00-17609f0e4123"
      },
      "id": "IvSxaWjvP99_",
      "execution_count": 190,
      "outputs": [
        {
          "output_type": "execute_result",
          "data": {
            "text/plain": [
              "                  business_id                                full_address  \\\n",
              "16976  iuXN85hbB2RA05qvIma8wQ  250 Auburn Ave NE\\n#101\\nAtlanta, GA 53562   \n",
              "\n",
              "                                                   hours  open  \\\n",
              "16976  {'Monday': {'close': '22:30', 'open': '11:00'}...  True   \n",
              "\n",
              "                   categories     city  review_count         name  \\\n",
              "16976  [Chinese, Restaurants]  Atlanta            16  Wok N' Roll   \n",
              "\n",
              "      neighborhoods  longitude state  stars  latitude  \\\n",
              "16976            []  -89.52492    GA    3.5  43.11528   \n",
              "\n",
              "                                              attributes      type  \\\n",
              "16976  {'Take-out': True, 'Good For': {'dessert': Fal...  business   \n",
              "\n",
              "       sample_column  \n",
              "16976             21  "
            ],
            "text/html": [
              "\n",
              "  <div id=\"df-719229a3-7bdc-4ec4-942b-8d01411132bd\">\n",
              "    <div class=\"colab-df-container\">\n",
              "      <div>\n",
              "<style scoped>\n",
              "    .dataframe tbody tr th:only-of-type {\n",
              "        vertical-align: middle;\n",
              "    }\n",
              "\n",
              "    .dataframe tbody tr th {\n",
              "        vertical-align: top;\n",
              "    }\n",
              "\n",
              "    .dataframe thead th {\n",
              "        text-align: right;\n",
              "    }\n",
              "</style>\n",
              "<table border=\"1\" class=\"dataframe\">\n",
              "  <thead>\n",
              "    <tr style=\"text-align: right;\">\n",
              "      <th></th>\n",
              "      <th>business_id</th>\n",
              "      <th>full_address</th>\n",
              "      <th>hours</th>\n",
              "      <th>open</th>\n",
              "      <th>categories</th>\n",
              "      <th>city</th>\n",
              "      <th>review_count</th>\n",
              "      <th>name</th>\n",
              "      <th>neighborhoods</th>\n",
              "      <th>longitude</th>\n",
              "      <th>state</th>\n",
              "      <th>stars</th>\n",
              "      <th>latitude</th>\n",
              "      <th>attributes</th>\n",
              "      <th>type</th>\n",
              "      <th>sample_column</th>\n",
              "    </tr>\n",
              "  </thead>\n",
              "  <tbody>\n",
              "    <tr>\n",
              "      <th>16976</th>\n",
              "      <td>iuXN85hbB2RA05qvIma8wQ</td>\n",
              "      <td>250 Auburn Ave NE\\n#101\\nAtlanta, GA 53562</td>\n",
              "      <td>{'Monday': {'close': '22:30', 'open': '11:00'}...</td>\n",
              "      <td>True</td>\n",
              "      <td>[Chinese, Restaurants]</td>\n",
              "      <td>Atlanta</td>\n",
              "      <td>16</td>\n",
              "      <td>Wok N' Roll</td>\n",
              "      <td>[]</td>\n",
              "      <td>-89.52492</td>\n",
              "      <td>GA</td>\n",
              "      <td>3.5</td>\n",
              "      <td>43.11528</td>\n",
              "      <td>{'Take-out': True, 'Good For': {'dessert': Fal...</td>\n",
              "      <td>business</td>\n",
              "      <td>21</td>\n",
              "    </tr>\n",
              "  </tbody>\n",
              "</table>\n",
              "</div>\n",
              "      <button class=\"colab-df-convert\" onclick=\"convertToInteractive('df-719229a3-7bdc-4ec4-942b-8d01411132bd')\"\n",
              "              title=\"Convert this dataframe to an interactive table.\"\n",
              "              style=\"display:none;\">\n",
              "        \n",
              "  <svg xmlns=\"http://www.w3.org/2000/svg\" height=\"24px\"viewBox=\"0 0 24 24\"\n",
              "       width=\"24px\">\n",
              "    <path d=\"M0 0h24v24H0V0z\" fill=\"none\"/>\n",
              "    <path d=\"M18.56 5.44l.94 2.06.94-2.06 2.06-.94-2.06-.94-.94-2.06-.94 2.06-2.06.94zm-11 1L8.5 8.5l.94-2.06 2.06-.94-2.06-.94L8.5 2.5l-.94 2.06-2.06.94zm10 10l.94 2.06.94-2.06 2.06-.94-2.06-.94-.94-2.06-.94 2.06-2.06.94z\"/><path d=\"M17.41 7.96l-1.37-1.37c-.4-.4-.92-.59-1.43-.59-.52 0-1.04.2-1.43.59L10.3 9.45l-7.72 7.72c-.78.78-.78 2.05 0 2.83L4 21.41c.39.39.9.59 1.41.59.51 0 1.02-.2 1.41-.59l7.78-7.78 2.81-2.81c.8-.78.8-2.07 0-2.86zM5.41 20L4 18.59l7.72-7.72 1.47 1.35L5.41 20z\"/>\n",
              "  </svg>\n",
              "      </button>\n",
              "      \n",
              "  <style>\n",
              "    .colab-df-container {\n",
              "      display:flex;\n",
              "      flex-wrap:wrap;\n",
              "      gap: 12px;\n",
              "    }\n",
              "\n",
              "    .colab-df-convert {\n",
              "      background-color: #E8F0FE;\n",
              "      border: none;\n",
              "      border-radius: 50%;\n",
              "      cursor: pointer;\n",
              "      display: none;\n",
              "      fill: #1967D2;\n",
              "      height: 32px;\n",
              "      padding: 0 0 0 0;\n",
              "      width: 32px;\n",
              "    }\n",
              "\n",
              "    .colab-df-convert:hover {\n",
              "      background-color: #E2EBFA;\n",
              "      box-shadow: 0px 1px 2px rgba(60, 64, 67, 0.3), 0px 1px 3px 1px rgba(60, 64, 67, 0.15);\n",
              "      fill: #174EA6;\n",
              "    }\n",
              "\n",
              "    [theme=dark] .colab-df-convert {\n",
              "      background-color: #3B4455;\n",
              "      fill: #D2E3FC;\n",
              "    }\n",
              "\n",
              "    [theme=dark] .colab-df-convert:hover {\n",
              "      background-color: #434B5C;\n",
              "      box-shadow: 0px 1px 3px 1px rgba(0, 0, 0, 0.15);\n",
              "      filter: drop-shadow(0px 1px 2px rgba(0, 0, 0, 0.3));\n",
              "      fill: #FFFFFF;\n",
              "    }\n",
              "  </style>\n",
              "\n",
              "      <script>\n",
              "        const buttonEl =\n",
              "          document.querySelector('#df-719229a3-7bdc-4ec4-942b-8d01411132bd button.colab-df-convert');\n",
              "        buttonEl.style.display =\n",
              "          google.colab.kernel.accessAllowed ? 'block' : 'none';\n",
              "\n",
              "        async function convertToInteractive(key) {\n",
              "          const element = document.querySelector('#df-719229a3-7bdc-4ec4-942b-8d01411132bd');\n",
              "          const dataTable =\n",
              "            await google.colab.kernel.invokeFunction('convertToInteractive',\n",
              "                                                     [key], {});\n",
              "          if (!dataTable) return;\n",
              "\n",
              "          const docLinkHtml = 'Like what you see? Visit the ' +\n",
              "            '<a target=\"_blank\" href=https://colab.research.google.com/notebooks/data_table.ipynb>data table notebook</a>'\n",
              "            + ' to learn more about interactive tables.';\n",
              "          element.innerHTML = '';\n",
              "          dataTable['output_type'] = 'display_data';\n",
              "          await google.colab.output.renderOutput(dataTable, element);\n",
              "          const docLink = document.createElement('div');\n",
              "          docLink.innerHTML = docLinkHtml;\n",
              "          element.appendChild(docLink);\n",
              "        }\n",
              "      </script>\n",
              "    </div>\n",
              "  </div>\n",
              "  "
            ]
          },
          "metadata": {},
          "execution_count": 190
        }
      ]
    },
    {
      "cell_type": "markdown",
      "source": [
        "## Sorting\n",
        "\n",
        "1. sort Values\n",
        "2. sort index"
      ],
      "metadata": {
        "id": "d2p4oSN-SLN3"
      },
      "id": "d2p4oSN-SLN3"
    },
    {
      "cell_type": "code",
      "source": [
        "data.sort_values('stars', ascending = False).head()"
      ],
      "metadata": {
        "colab": {
          "base_uri": "https://localhost:8080/",
          "height": 337
        },
        "id": "7PTE9R4WQdi4",
        "outputId": "7b5fc8e8-1583-41e3-cf2b-05d68587a4f4"
      },
      "id": "7PTE9R4WQdi4",
      "execution_count": 192,
      "outputs": [
        {
          "output_type": "execute_result",
          "data": {
            "text/plain": [
              "                  business_id                                  full_address  \\\n",
              "18969  2UvkU5KWbF3q8jRlGUR8Uw  17 Queen Street\\nNew Town\\nEdinburgh EH2 1JX   \n",
              "6990   k2M7GrnlxqwgJ_UKWsclNw            12416 N 28th Dr\\nPhoenix, AZ 85029   \n",
              "6549   Ql-gKncMaGYEYw4nouW2KQ        2401 W Van Buren St\\nPhoenix, AZ 85009   \n",
              "33247  a38O9SOg267dDgoacKUYag       4276 E Molly Lane\\nCave Creek, AZ 85331   \n",
              "6547   BNRE0c8TlGnW8kAKK2r_dw          1901 W Granada Rd\\nPhoenix, AZ 85009   \n",
              "\n",
              "                                                   hours  open  \\\n",
              "18969                                                 {}  True   \n",
              "6990   {'Tuesday': {'close': '18:00', 'open': '07:00'...  True   \n",
              "6549   {'Monday': {'close': '20:00', 'open': '08:00'}...  True   \n",
              "33247  {'Monday': {'close': '20:00', 'open': '09:00'}...  True   \n",
              "6547                                                  {}  True   \n",
              "\n",
              "                                              categories        city  \\\n",
              "18969  [Optometrists, Health & Medical, Shopping, Eye...   Edinburgh   \n",
              "6990                               [Veterinarians, Pets]     Phoenix   \n",
              "6549                 [Automotive, Auto Parts & Supplies]     Phoenix   \n",
              "33247    [Local Services, IT Services & Computer Repair]  Cave Creek   \n",
              "6547                           [Auto Repair, Automotive]     Phoenix   \n",
              "\n",
              "       review_count                    name neighborhoods   longitude state  \\\n",
              "18969             5                   20 20    [New Town]   -3.199475   EDH   \n",
              "6990              8      Spay Neuter Clinic            [] -112.120286    AZ   \n",
              "6549              7           Penny Pincher            [] -112.111093    AZ   \n",
              "33247             3     A+ Computer Service            [] -111.988061    AZ   \n",
              "6547              4  Affordable Auto Repair            [] -112.100136    AZ   \n",
              "\n",
              "       stars   latitude                                         attributes  \\\n",
              "18969    5.0  55.954510  {'Parking': {'garage': False, 'street': False,...   \n",
              "6990     5.0  33.597847                                                 {}   \n",
              "6549     5.0  33.450994                                                 {}   \n",
              "33247    5.0  33.729233                    {'Accepts Credit Cards': False}   \n",
              "6547     5.0  33.468345                                                 {}   \n",
              "\n",
              "           type  sample_column  \n",
              "18969  business             10  \n",
              "6990   business             13  \n",
              "6549   business             12  \n",
              "33247  business              8  \n",
              "6547   business              9  "
            ],
            "text/html": [
              "\n",
              "  <div id=\"df-5f0b3788-c562-4bc8-aaaa-de8ae40d395f\">\n",
              "    <div class=\"colab-df-container\">\n",
              "      <div>\n",
              "<style scoped>\n",
              "    .dataframe tbody tr th:only-of-type {\n",
              "        vertical-align: middle;\n",
              "    }\n",
              "\n",
              "    .dataframe tbody tr th {\n",
              "        vertical-align: top;\n",
              "    }\n",
              "\n",
              "    .dataframe thead th {\n",
              "        text-align: right;\n",
              "    }\n",
              "</style>\n",
              "<table border=\"1\" class=\"dataframe\">\n",
              "  <thead>\n",
              "    <tr style=\"text-align: right;\">\n",
              "      <th></th>\n",
              "      <th>business_id</th>\n",
              "      <th>full_address</th>\n",
              "      <th>hours</th>\n",
              "      <th>open</th>\n",
              "      <th>categories</th>\n",
              "      <th>city</th>\n",
              "      <th>review_count</th>\n",
              "      <th>name</th>\n",
              "      <th>neighborhoods</th>\n",
              "      <th>longitude</th>\n",
              "      <th>state</th>\n",
              "      <th>stars</th>\n",
              "      <th>latitude</th>\n",
              "      <th>attributes</th>\n",
              "      <th>type</th>\n",
              "      <th>sample_column</th>\n",
              "    </tr>\n",
              "  </thead>\n",
              "  <tbody>\n",
              "    <tr>\n",
              "      <th>18969</th>\n",
              "      <td>2UvkU5KWbF3q8jRlGUR8Uw</td>\n",
              "      <td>17 Queen Street\\nNew Town\\nEdinburgh EH2 1JX</td>\n",
              "      <td>{}</td>\n",
              "      <td>True</td>\n",
              "      <td>[Optometrists, Health &amp; Medical, Shopping, Eye...</td>\n",
              "      <td>Edinburgh</td>\n",
              "      <td>5</td>\n",
              "      <td>20 20</td>\n",
              "      <td>[New Town]</td>\n",
              "      <td>-3.199475</td>\n",
              "      <td>EDH</td>\n",
              "      <td>5.0</td>\n",
              "      <td>55.954510</td>\n",
              "      <td>{'Parking': {'garage': False, 'street': False,...</td>\n",
              "      <td>business</td>\n",
              "      <td>10</td>\n",
              "    </tr>\n",
              "    <tr>\n",
              "      <th>6990</th>\n",
              "      <td>k2M7GrnlxqwgJ_UKWsclNw</td>\n",
              "      <td>12416 N 28th Dr\\nPhoenix, AZ 85029</td>\n",
              "      <td>{'Tuesday': {'close': '18:00', 'open': '07:00'...</td>\n",
              "      <td>True</td>\n",
              "      <td>[Veterinarians, Pets]</td>\n",
              "      <td>Phoenix</td>\n",
              "      <td>8</td>\n",
              "      <td>Spay Neuter Clinic</td>\n",
              "      <td>[]</td>\n",
              "      <td>-112.120286</td>\n",
              "      <td>AZ</td>\n",
              "      <td>5.0</td>\n",
              "      <td>33.597847</td>\n",
              "      <td>{}</td>\n",
              "      <td>business</td>\n",
              "      <td>13</td>\n",
              "    </tr>\n",
              "    <tr>\n",
              "      <th>6549</th>\n",
              "      <td>Ql-gKncMaGYEYw4nouW2KQ</td>\n",
              "      <td>2401 W Van Buren St\\nPhoenix, AZ 85009</td>\n",
              "      <td>{'Monday': {'close': '20:00', 'open': '08:00'}...</td>\n",
              "      <td>True</td>\n",
              "      <td>[Automotive, Auto Parts &amp; Supplies]</td>\n",
              "      <td>Phoenix</td>\n",
              "      <td>7</td>\n",
              "      <td>Penny Pincher</td>\n",
              "      <td>[]</td>\n",
              "      <td>-112.111093</td>\n",
              "      <td>AZ</td>\n",
              "      <td>5.0</td>\n",
              "      <td>33.450994</td>\n",
              "      <td>{}</td>\n",
              "      <td>business</td>\n",
              "      <td>12</td>\n",
              "    </tr>\n",
              "    <tr>\n",
              "      <th>33247</th>\n",
              "      <td>a38O9SOg267dDgoacKUYag</td>\n",
              "      <td>4276 E Molly Lane\\nCave Creek, AZ 85331</td>\n",
              "      <td>{'Monday': {'close': '20:00', 'open': '09:00'}...</td>\n",
              "      <td>True</td>\n",
              "      <td>[Local Services, IT Services &amp; Computer Repair]</td>\n",
              "      <td>Cave Creek</td>\n",
              "      <td>3</td>\n",
              "      <td>A+ Computer Service</td>\n",
              "      <td>[]</td>\n",
              "      <td>-111.988061</td>\n",
              "      <td>AZ</td>\n",
              "      <td>5.0</td>\n",
              "      <td>33.729233</td>\n",
              "      <td>{'Accepts Credit Cards': False}</td>\n",
              "      <td>business</td>\n",
              "      <td>8</td>\n",
              "    </tr>\n",
              "    <tr>\n",
              "      <th>6547</th>\n",
              "      <td>BNRE0c8TlGnW8kAKK2r_dw</td>\n",
              "      <td>1901 W Granada Rd\\nPhoenix, AZ 85009</td>\n",
              "      <td>{}</td>\n",
              "      <td>True</td>\n",
              "      <td>[Auto Repair, Automotive]</td>\n",
              "      <td>Phoenix</td>\n",
              "      <td>4</td>\n",
              "      <td>Affordable Auto Repair</td>\n",
              "      <td>[]</td>\n",
              "      <td>-112.100136</td>\n",
              "      <td>AZ</td>\n",
              "      <td>5.0</td>\n",
              "      <td>33.468345</td>\n",
              "      <td>{}</td>\n",
              "      <td>business</td>\n",
              "      <td>9</td>\n",
              "    </tr>\n",
              "  </tbody>\n",
              "</table>\n",
              "</div>\n",
              "      <button class=\"colab-df-convert\" onclick=\"convertToInteractive('df-5f0b3788-c562-4bc8-aaaa-de8ae40d395f')\"\n",
              "              title=\"Convert this dataframe to an interactive table.\"\n",
              "              style=\"display:none;\">\n",
              "        \n",
              "  <svg xmlns=\"http://www.w3.org/2000/svg\" height=\"24px\"viewBox=\"0 0 24 24\"\n",
              "       width=\"24px\">\n",
              "    <path d=\"M0 0h24v24H0V0z\" fill=\"none\"/>\n",
              "    <path d=\"M18.56 5.44l.94 2.06.94-2.06 2.06-.94-2.06-.94-.94-2.06-.94 2.06-2.06.94zm-11 1L8.5 8.5l.94-2.06 2.06-.94-2.06-.94L8.5 2.5l-.94 2.06-2.06.94zm10 10l.94 2.06.94-2.06 2.06-.94-2.06-.94-.94-2.06-.94 2.06-2.06.94z\"/><path d=\"M17.41 7.96l-1.37-1.37c-.4-.4-.92-.59-1.43-.59-.52 0-1.04.2-1.43.59L10.3 9.45l-7.72 7.72c-.78.78-.78 2.05 0 2.83L4 21.41c.39.39.9.59 1.41.59.51 0 1.02-.2 1.41-.59l7.78-7.78 2.81-2.81c.8-.78.8-2.07 0-2.86zM5.41 20L4 18.59l7.72-7.72 1.47 1.35L5.41 20z\"/>\n",
              "  </svg>\n",
              "      </button>\n",
              "      \n",
              "  <style>\n",
              "    .colab-df-container {\n",
              "      display:flex;\n",
              "      flex-wrap:wrap;\n",
              "      gap: 12px;\n",
              "    }\n",
              "\n",
              "    .colab-df-convert {\n",
              "      background-color: #E8F0FE;\n",
              "      border: none;\n",
              "      border-radius: 50%;\n",
              "      cursor: pointer;\n",
              "      display: none;\n",
              "      fill: #1967D2;\n",
              "      height: 32px;\n",
              "      padding: 0 0 0 0;\n",
              "      width: 32px;\n",
              "    }\n",
              "\n",
              "    .colab-df-convert:hover {\n",
              "      background-color: #E2EBFA;\n",
              "      box-shadow: 0px 1px 2px rgba(60, 64, 67, 0.3), 0px 1px 3px 1px rgba(60, 64, 67, 0.15);\n",
              "      fill: #174EA6;\n",
              "    }\n",
              "\n",
              "    [theme=dark] .colab-df-convert {\n",
              "      background-color: #3B4455;\n",
              "      fill: #D2E3FC;\n",
              "    }\n",
              "\n",
              "    [theme=dark] .colab-df-convert:hover {\n",
              "      background-color: #434B5C;\n",
              "      box-shadow: 0px 1px 3px 1px rgba(0, 0, 0, 0.15);\n",
              "      filter: drop-shadow(0px 1px 2px rgba(0, 0, 0, 0.3));\n",
              "      fill: #FFFFFF;\n",
              "    }\n",
              "  </style>\n",
              "\n",
              "      <script>\n",
              "        const buttonEl =\n",
              "          document.querySelector('#df-5f0b3788-c562-4bc8-aaaa-de8ae40d395f button.colab-df-convert');\n",
              "        buttonEl.style.display =\n",
              "          google.colab.kernel.accessAllowed ? 'block' : 'none';\n",
              "\n",
              "        async function convertToInteractive(key) {\n",
              "          const element = document.querySelector('#df-5f0b3788-c562-4bc8-aaaa-de8ae40d395f');\n",
              "          const dataTable =\n",
              "            await google.colab.kernel.invokeFunction('convertToInteractive',\n",
              "                                                     [key], {});\n",
              "          if (!dataTable) return;\n",
              "\n",
              "          const docLinkHtml = 'Like what you see? Visit the ' +\n",
              "            '<a target=\"_blank\" href=https://colab.research.google.com/notebooks/data_table.ipynb>data table notebook</a>'\n",
              "            + ' to learn more about interactive tables.';\n",
              "          element.innerHTML = '';\n",
              "          dataTable['output_type'] = 'display_data';\n",
              "          await google.colab.output.renderOutput(dataTable, element);\n",
              "          const docLink = document.createElement('div');\n",
              "          docLink.innerHTML = docLinkHtml;\n",
              "          element.appendChild(docLink);\n",
              "        }\n",
              "      </script>\n",
              "    </div>\n",
              "  </div>\n",
              "  "
            ]
          },
          "metadata": {},
          "execution_count": 192
        }
      ]
    },
    {
      "cell_type": "markdown",
      "source": [
        "## Visualization with Pandas"
      ],
      "metadata": {
        "id": "nMFR6yKcUKzO"
      },
      "id": "nMFR6yKcUKzO"
    },
    {
      "cell_type": "code",
      "source": [
        "data['review_count'].apply(np.log).hist();"
      ],
      "metadata": {
        "colab": {
          "base_uri": "https://localhost:8080/",
          "height": 265
        },
        "id": "R7TKpirwTZ3w",
        "outputId": "50e5fbed-5726-46e7-aeb7-e09ff8706d0e"
      },
      "id": "R7TKpirwTZ3w",
      "execution_count": 209,
      "outputs": [
        {
          "output_type": "display_data",
          "data": {
            "text/plain": [
              "<Figure size 432x288 with 1 Axes>"
            ],
            "image/png": "[encoded data removed]"
          },
          "metadata": {
            "needs_background": "light"
          }
        }
      ]
    },
    {
      "cell_type": "code",
      "source": [
        "data['stars'].apply(np.log).hist();"
      ],
      "metadata": {
        "colab": {
          "base_uri": "https://localhost:8080/",
          "height": 265
        },
        "id": "cK6ng6uXUtX4",
        "outputId": "63937eca-b15d-4f68-ce4b-c854154e5db6"
      },
      "id": "cK6ng6uXUtX4",
      "execution_count": 208,
      "outputs": [
        {
          "output_type": "display_data",
          "data": {
            "text/plain": [
              "<Figure size 432x288 with 1 Axes>"
            ],
            "image/png": "[encoded data removed]"
          },
          "metadata": {
            "needs_background": "light"
          }
        }
      ]
    },
    {
      "cell_type": "code",
      "source": [
        "data['stars'].plot(kind = 'bar');"
      ],
      "metadata": {
        "colab": {
          "base_uri": "https://localhost:8080/",
          "height": 287
        },
        "id": "bI89BEBWVS0Z",
        "outputId": "96923bb7-3457-4d39-80eb-f8e5d538e157"
      },
      "id": "bI89BEBWVS0Z",
      "execution_count": 212,
      "outputs": [
        {
          "output_type": "display_data",
          "data": {
            "text/plain": [
              "<Figure size 432x288 with 1 Axes>"
            ],
            "image/png": "[encoded data removed]"
          },
          "metadata": {
            "needs_background": "light"
          }
        }
      ]
    },
    {
      "cell_type": "code",
      "source": [
        "## Joining Dataset\n",
        "## Working with Time series"
      ],
      "metadata": {
        "id": "jsaiJ2m5WxEy"
      },
      "id": "jsaiJ2m5WxEy",
      "execution_count": null,
      "outputs": []
    },
    {
      "cell_type": "markdown",
      "source": [
        "## Working with Time Series"
      ],
      "metadata": {
        "id": "5kpmQlxuZtZD"
      },
      "id": "5kpmQlxuZtZD"
    },
    {
      "cell_type": "code",
      "source": [
        ""
      ],
      "metadata": {
        "id": "EbEo2nm8ZwR4"
      },
      "id": "EbEo2nm8ZwR4",
      "execution_count": null,
      "outputs": []
    }
  ],
  "metadata": {
    "kernelspec": {
      "display_name": "Python 3 (ipykernel)",
      "language": "python",
      "name": "python3"
    },
    "language_info": {
      "codemirror_mode": {
        "name": "ipython",
        "version": 3
      },
      "file_extension": ".py",
      "mimetype": "text/x-python",
      "name": "python",
      "nbconvert_exporter": "python",
      "pygments_lexer": "ipython3",
      "version": "3.9.7"
    },
    "colab": {
      "name": "DS_Basic_Pandas_Modules (2).ipynb",
      "provenance": [],
      "include_colab_link": true
    }
  },
  "nbformat": 4,
  "nbformat_minor": 5
}